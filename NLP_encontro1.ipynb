{
 "cells": [
  {
   "cell_type": "markdown",
   "metadata": {
    "id": "JfPDkSWmdC_b"
   },
   "source": [
    "# Código da apresentação de NLP"
   ]
  },
  {
   "cell_type": "code",
   "execution_count": 93,
   "metadata": {},
   "outputs": [
    {
     "name": "stdout",
     "output_type": "stream",
     "text": [
      "Requirement already satisfied: pip in ./.conda/envs/default/lib/python3.9/site-packages (22.0.4)\n",
      "Requirement already satisfied: setuptools in ./.conda/envs/default/lib/python3.9/site-packages (62.1.0)\n",
      "Requirement already satisfied: wheel in ./.conda/envs/default/lib/python3.9/site-packages (0.37.1)\n",
      "Requirement already satisfied: spacy in ./.conda/envs/default/lib/python3.9/site-packages (3.2.4)\n",
      "Requirement already satisfied: jinja2 in ./.conda/envs/default/lib/python3.9/site-packages (from spacy) (3.0.3)\n",
      "Requirement already satisfied: thinc<8.1.0,>=8.0.12 in ./.conda/envs/default/lib/python3.9/site-packages (from spacy) (8.0.15)\n",
      "Requirement already satisfied: wasabi<1.1.0,>=0.8.1 in ./.conda/envs/default/lib/python3.9/site-packages (from spacy) (0.9.1)\n",
      "Requirement already satisfied: cymem<2.1.0,>=2.0.2 in ./.conda/envs/default/lib/python3.9/site-packages (from spacy) (2.0.6)\n",
      "Requirement already satisfied: setuptools in ./.conda/envs/default/lib/python3.9/site-packages (from spacy) (62.1.0)\n",
      "Requirement already satisfied: numpy>=1.15.0 in ./.conda/envs/default/lib/python3.9/site-packages (from spacy) (1.22.3)\n",
      "Requirement already satisfied: tqdm<5.0.0,>=4.38.0 in ./.conda/envs/default/lib/python3.9/site-packages (from spacy) (4.64.0)\n",
      "Requirement already satisfied: langcodes<4.0.0,>=3.2.0 in ./.conda/envs/default/lib/python3.9/site-packages (from spacy) (3.3.0)\n",
      "Requirement already satisfied: requests<3.0.0,>=2.13.0 in ./.conda/envs/default/lib/python3.9/site-packages (from spacy) (2.27.1)\n",
      "Requirement already satisfied: pathy>=0.3.5 in ./.conda/envs/default/lib/python3.9/site-packages (from spacy) (0.6.1)\n",
      "Requirement already satisfied: click<8.1.0 in ./.conda/envs/default/lib/python3.9/site-packages (from spacy) (8.0.4)\n",
      "Requirement already satisfied: pydantic!=1.8,!=1.8.1,<1.9.0,>=1.7.4 in ./.conda/envs/default/lib/python3.9/site-packages (from spacy) (1.8.2)\n",
      "Requirement already satisfied: srsly<3.0.0,>=2.4.1 in ./.conda/envs/default/lib/python3.9/site-packages (from spacy) (2.4.2)\n",
      "Requirement already satisfied: spacy-legacy<3.1.0,>=3.0.8 in ./.conda/envs/default/lib/python3.9/site-packages (from spacy) (3.0.9)\n",
      "Requirement already satisfied: murmurhash<1.1.0,>=0.28.0 in ./.conda/envs/default/lib/python3.9/site-packages (from spacy) (1.0.6)\n",
      "Requirement already satisfied: packaging>=20.0 in ./.conda/envs/default/lib/python3.9/site-packages (from spacy) (21.3)\n",
      "Requirement already satisfied: spacy-loggers<2.0.0,>=1.0.0 in ./.conda/envs/default/lib/python3.9/site-packages (from spacy) (1.0.2)\n",
      "Requirement already satisfied: preshed<3.1.0,>=3.0.2 in ./.conda/envs/default/lib/python3.9/site-packages (from spacy) (3.0.6)\n",
      "Requirement already satisfied: catalogue<2.1.0,>=2.0.6 in ./.conda/envs/default/lib/python3.9/site-packages (from spacy) (2.0.7)\n",
      "Requirement already satisfied: blis<0.8.0,>=0.4.0 in ./.conda/envs/default/lib/python3.9/site-packages (from spacy) (0.7.7)\n",
      "Requirement already satisfied: typer<0.5.0,>=0.3.0 in ./.conda/envs/default/lib/python3.9/site-packages (from spacy) (0.4.1)\n",
      "Requirement already satisfied: pyparsing!=3.0.5,>=2.0.2 in ./.conda/envs/default/lib/python3.9/site-packages (from packaging>=20.0->spacy) (3.0.7)\n",
      "Requirement already satisfied: smart-open<6.0.0,>=5.0.0 in ./.conda/envs/default/lib/python3.9/site-packages (from pathy>=0.3.5->spacy) (5.2.1)\n",
      "Requirement already satisfied: typing-extensions>=3.7.4.3 in ./.conda/envs/default/lib/python3.9/site-packages (from pydantic!=1.8,!=1.8.1,<1.9.0,>=1.7.4->spacy) (4.1.1)\n",
      "Requirement already satisfied: certifi>=2017.4.17 in ./.conda/envs/default/lib/python3.9/site-packages (from requests<3.0.0,>=2.13.0->spacy) (2021.10.8)\n",
      "Requirement already satisfied: urllib3<1.27,>=1.21.1 in ./.conda/envs/default/lib/python3.9/site-packages (from requests<3.0.0,>=2.13.0->spacy) (1.26.9)\n",
      "Requirement already satisfied: charset-normalizer~=2.0.0 in ./.conda/envs/default/lib/python3.9/site-packages (from requests<3.0.0,>=2.13.0->spacy) (2.0.12)\n",
      "Requirement already satisfied: idna<4,>=2.5 in ./.conda/envs/default/lib/python3.9/site-packages (from requests<3.0.0,>=2.13.0->spacy) (3.3)\n",
      "Requirement already satisfied: MarkupSafe>=2.0 in ./.conda/envs/default/lib/python3.9/site-packages (from jinja2->spacy) (2.1.0)\n",
      "Collecting en-core-web-sm==3.2.0\n",
      "  Downloading https://github.com/explosion/spacy-models/releases/download/en_core_web_sm-3.2.0/en_core_web_sm-3.2.0-py3-none-any.whl (13.9 MB)\n",
      "\u001b[2K     \u001b[90m━━━━━━━━━━━━━━━━━━━━━━━━━━━━━━━━━━━━━━━━\u001b[0m \u001b[32m13.9/13.9 MB\u001b[0m \u001b[31m28.4 MB/s\u001b[0m eta \u001b[36m0:00:00\u001b[0m00:01\u001b[0m00:01\u001b[0m\n",
      "\u001b[?25hRequirement already satisfied: spacy<3.3.0,>=3.2.0 in ./.conda/envs/default/lib/python3.9/site-packages (from en-core-web-sm==3.2.0) (3.2.4)\n",
      "Requirement already satisfied: thinc<8.1.0,>=8.0.12 in ./.conda/envs/default/lib/python3.9/site-packages (from spacy<3.3.0,>=3.2.0->en-core-web-sm==3.2.0) (8.0.15)\n",
      "Requirement already satisfied: spacy-legacy<3.1.0,>=3.0.8 in ./.conda/envs/default/lib/python3.9/site-packages (from spacy<3.3.0,>=3.2.0->en-core-web-sm==3.2.0) (3.0.9)\n",
      "Requirement already satisfied: srsly<3.0.0,>=2.4.1 in ./.conda/envs/default/lib/python3.9/site-packages (from spacy<3.3.0,>=3.2.0->en-core-web-sm==3.2.0) (2.4.2)\n",
      "Requirement already satisfied: catalogue<2.1.0,>=2.0.6 in ./.conda/envs/default/lib/python3.9/site-packages (from spacy<3.3.0,>=3.2.0->en-core-web-sm==3.2.0) (2.0.7)\n",
      "Requirement already satisfied: typer<0.5.0,>=0.3.0 in ./.conda/envs/default/lib/python3.9/site-packages (from spacy<3.3.0,>=3.2.0->en-core-web-sm==3.2.0) (0.4.1)\n",
      "Requirement already satisfied: jinja2 in ./.conda/envs/default/lib/python3.9/site-packages (from spacy<3.3.0,>=3.2.0->en-core-web-sm==3.2.0) (3.0.3)\n",
      "Requirement already satisfied: tqdm<5.0.0,>=4.38.0 in ./.conda/envs/default/lib/python3.9/site-packages (from spacy<3.3.0,>=3.2.0->en-core-web-sm==3.2.0) (4.64.0)\n",
      "Requirement already satisfied: cymem<2.1.0,>=2.0.2 in ./.conda/envs/default/lib/python3.9/site-packages (from spacy<3.3.0,>=3.2.0->en-core-web-sm==3.2.0) (2.0.6)\n",
      "Requirement already satisfied: setuptools in ./.conda/envs/default/lib/python3.9/site-packages (from spacy<3.3.0,>=3.2.0->en-core-web-sm==3.2.0) (62.1.0)\n",
      "Requirement already satisfied: packaging>=20.0 in ./.conda/envs/default/lib/python3.9/site-packages (from spacy<3.3.0,>=3.2.0->en-core-web-sm==3.2.0) (21.3)\n",
      "Requirement already satisfied: wasabi<1.1.0,>=0.8.1 in ./.conda/envs/default/lib/python3.9/site-packages (from spacy<3.3.0,>=3.2.0->en-core-web-sm==3.2.0) (0.9.1)\n",
      "Requirement already satisfied: pydantic!=1.8,!=1.8.1,<1.9.0,>=1.7.4 in ./.conda/envs/default/lib/python3.9/site-packages (from spacy<3.3.0,>=3.2.0->en-core-web-sm==3.2.0) (1.8.2)\n",
      "Requirement already satisfied: click<8.1.0 in ./.conda/envs/default/lib/python3.9/site-packages (from spacy<3.3.0,>=3.2.0->en-core-web-sm==3.2.0) (8.0.4)\n",
      "Requirement already satisfied: murmurhash<1.1.0,>=0.28.0 in ./.conda/envs/default/lib/python3.9/site-packages (from spacy<3.3.0,>=3.2.0->en-core-web-sm==3.2.0) (1.0.6)\n",
      "Requirement already satisfied: requests<3.0.0,>=2.13.0 in ./.conda/envs/default/lib/python3.9/site-packages (from spacy<3.3.0,>=3.2.0->en-core-web-sm==3.2.0) (2.27.1)\n",
      "Requirement already satisfied: preshed<3.1.0,>=3.0.2 in ./.conda/envs/default/lib/python3.9/site-packages (from spacy<3.3.0,>=3.2.0->en-core-web-sm==3.2.0) (3.0.6)\n",
      "Requirement already satisfied: numpy>=1.15.0 in ./.conda/envs/default/lib/python3.9/site-packages (from spacy<3.3.0,>=3.2.0->en-core-web-sm==3.2.0) (1.22.3)\n",
      "Requirement already satisfied: spacy-loggers<2.0.0,>=1.0.0 in ./.conda/envs/default/lib/python3.9/site-packages (from spacy<3.3.0,>=3.2.0->en-core-web-sm==3.2.0) (1.0.2)\n",
      "Requirement already satisfied: pathy>=0.3.5 in ./.conda/envs/default/lib/python3.9/site-packages (from spacy<3.3.0,>=3.2.0->en-core-web-sm==3.2.0) (0.6.1)\n",
      "Requirement already satisfied: langcodes<4.0.0,>=3.2.0 in ./.conda/envs/default/lib/python3.9/site-packages (from spacy<3.3.0,>=3.2.0->en-core-web-sm==3.2.0) (3.3.0)\n",
      "Requirement already satisfied: blis<0.8.0,>=0.4.0 in ./.conda/envs/default/lib/python3.9/site-packages (from spacy<3.3.0,>=3.2.0->en-core-web-sm==3.2.0) (0.7.7)\n",
      "Requirement already satisfied: pyparsing!=3.0.5,>=2.0.2 in ./.conda/envs/default/lib/python3.9/site-packages (from packaging>=20.0->spacy<3.3.0,>=3.2.0->en-core-web-sm==3.2.0) (3.0.7)\n",
      "Requirement already satisfied: smart-open<6.0.0,>=5.0.0 in ./.conda/envs/default/lib/python3.9/site-packages (from pathy>=0.3.5->spacy<3.3.0,>=3.2.0->en-core-web-sm==3.2.0) (5.2.1)\n",
      "Requirement already satisfied: typing-extensions>=3.7.4.3 in ./.conda/envs/default/lib/python3.9/site-packages (from pydantic!=1.8,!=1.8.1,<1.9.0,>=1.7.4->spacy<3.3.0,>=3.2.0->en-core-web-sm==3.2.0) (4.1.1)\n",
      "Requirement already satisfied: urllib3<1.27,>=1.21.1 in ./.conda/envs/default/lib/python3.9/site-packages (from requests<3.0.0,>=2.13.0->spacy<3.3.0,>=3.2.0->en-core-web-sm==3.2.0) (1.26.9)\n",
      "Requirement already satisfied: idna<4,>=2.5 in ./.conda/envs/default/lib/python3.9/site-packages (from requests<3.0.0,>=2.13.0->spacy<3.3.0,>=3.2.0->en-core-web-sm==3.2.0) (3.3)\n",
      "Requirement already satisfied: charset-normalizer~=2.0.0 in ./.conda/envs/default/lib/python3.9/site-packages (from requests<3.0.0,>=2.13.0->spacy<3.3.0,>=3.2.0->en-core-web-sm==3.2.0) (2.0.12)\n",
      "Requirement already satisfied: certifi>=2017.4.17 in ./.conda/envs/default/lib/python3.9/site-packages (from requests<3.0.0,>=2.13.0->spacy<3.3.0,>=3.2.0->en-core-web-sm==3.2.0) (2021.10.8)\n",
      "Requirement already satisfied: MarkupSafe>=2.0 in ./.conda/envs/default/lib/python3.9/site-packages (from jinja2->spacy<3.3.0,>=3.2.0->en-core-web-sm==3.2.0) (2.1.0)\n",
      "\u001b[38;5;2m✔ Download and installation successful\u001b[0m\n",
      "You can now load the package via spacy.load('en_core_web_sm')\n",
      "\u001b[38;5;3m⚠ As of spaCy v3.0, shortcuts like 'en' are deprecated. Please use the\n",
      "full pipeline package name 'en_core_web_sm' instead.\u001b[0m\n",
      "Collecting en-core-web-sm==3.2.0\n",
      "  Using cached https://github.com/explosion/spacy-models/releases/download/en_core_web_sm-3.2.0/en_core_web_sm-3.2.0-py3-none-any.whl (13.9 MB)\n",
      "Requirement already satisfied: spacy<3.3.0,>=3.2.0 in ./.conda/envs/default/lib/python3.9/site-packages (from en-core-web-sm==3.2.0) (3.2.4)\n",
      "Requirement already satisfied: numpy>=1.15.0 in ./.conda/envs/default/lib/python3.9/site-packages (from spacy<3.3.0,>=3.2.0->en-core-web-sm==3.2.0) (1.22.3)\n",
      "Requirement already satisfied: langcodes<4.0.0,>=3.2.0 in ./.conda/envs/default/lib/python3.9/site-packages (from spacy<3.3.0,>=3.2.0->en-core-web-sm==3.2.0) (3.3.0)\n",
      "Requirement already satisfied: catalogue<2.1.0,>=2.0.6 in ./.conda/envs/default/lib/python3.9/site-packages (from spacy<3.3.0,>=3.2.0->en-core-web-sm==3.2.0) (2.0.7)\n",
      "Requirement already satisfied: pathy>=0.3.5 in ./.conda/envs/default/lib/python3.9/site-packages (from spacy<3.3.0,>=3.2.0->en-core-web-sm==3.2.0) (0.6.1)\n",
      "Requirement already satisfied: pydantic!=1.8,!=1.8.1,<1.9.0,>=1.7.4 in ./.conda/envs/default/lib/python3.9/site-packages (from spacy<3.3.0,>=3.2.0->en-core-web-sm==3.2.0) (1.8.2)\n",
      "Requirement already satisfied: cymem<2.1.0,>=2.0.2 in ./.conda/envs/default/lib/python3.9/site-packages (from spacy<3.3.0,>=3.2.0->en-core-web-sm==3.2.0) (2.0.6)\n",
      "Requirement already satisfied: murmurhash<1.1.0,>=0.28.0 in ./.conda/envs/default/lib/python3.9/site-packages (from spacy<3.3.0,>=3.2.0->en-core-web-sm==3.2.0) (1.0.6)\n",
      "Requirement already satisfied: wasabi<1.1.0,>=0.8.1 in ./.conda/envs/default/lib/python3.9/site-packages (from spacy<3.3.0,>=3.2.0->en-core-web-sm==3.2.0) (0.9.1)\n",
      "Requirement already satisfied: preshed<3.1.0,>=3.0.2 in ./.conda/envs/default/lib/python3.9/site-packages (from spacy<3.3.0,>=3.2.0->en-core-web-sm==3.2.0) (3.0.6)\n",
      "Requirement already satisfied: srsly<3.0.0,>=2.4.1 in ./.conda/envs/default/lib/python3.9/site-packages (from spacy<3.3.0,>=3.2.0->en-core-web-sm==3.2.0) (2.4.2)\n",
      "Requirement already satisfied: spacy-loggers<2.0.0,>=1.0.0 in ./.conda/envs/default/lib/python3.9/site-packages (from spacy<3.3.0,>=3.2.0->en-core-web-sm==3.2.0) (1.0.2)\n",
      "Requirement already satisfied: thinc<8.1.0,>=8.0.12 in ./.conda/envs/default/lib/python3.9/site-packages (from spacy<3.3.0,>=3.2.0->en-core-web-sm==3.2.0) (8.0.15)\n",
      "Requirement already satisfied: jinja2 in ./.conda/envs/default/lib/python3.9/site-packages (from spacy<3.3.0,>=3.2.0->en-core-web-sm==3.2.0) (3.0.3)\n",
      "Requirement already satisfied: packaging>=20.0 in ./.conda/envs/default/lib/python3.9/site-packages (from spacy<3.3.0,>=3.2.0->en-core-web-sm==3.2.0) (21.3)\n",
      "Requirement already satisfied: requests<3.0.0,>=2.13.0 in ./.conda/envs/default/lib/python3.9/site-packages (from spacy<3.3.0,>=3.2.0->en-core-web-sm==3.2.0) (2.27.1)\n",
      "Requirement already satisfied: click<8.1.0 in ./.conda/envs/default/lib/python3.9/site-packages (from spacy<3.3.0,>=3.2.0->en-core-web-sm==3.2.0) (8.0.4)\n",
      "Requirement already satisfied: spacy-legacy<3.1.0,>=3.0.8 in ./.conda/envs/default/lib/python3.9/site-packages (from spacy<3.3.0,>=3.2.0->en-core-web-sm==3.2.0) (3.0.9)\n",
      "Requirement already satisfied: blis<0.8.0,>=0.4.0 in ./.conda/envs/default/lib/python3.9/site-packages (from spacy<3.3.0,>=3.2.0->en-core-web-sm==3.2.0) (0.7.7)\n",
      "Requirement already satisfied: setuptools in ./.conda/envs/default/lib/python3.9/site-packages (from spacy<3.3.0,>=3.2.0->en-core-web-sm==3.2.0) (62.1.0)\n",
      "Requirement already satisfied: tqdm<5.0.0,>=4.38.0 in ./.conda/envs/default/lib/python3.9/site-packages (from spacy<3.3.0,>=3.2.0->en-core-web-sm==3.2.0) (4.64.0)\n",
      "Requirement already satisfied: typer<0.5.0,>=0.3.0 in ./.conda/envs/default/lib/python3.9/site-packages (from spacy<3.3.0,>=3.2.0->en-core-web-sm==3.2.0) (0.4.1)\n",
      "Requirement already satisfied: pyparsing!=3.0.5,>=2.0.2 in ./.conda/envs/default/lib/python3.9/site-packages (from packaging>=20.0->spacy<3.3.0,>=3.2.0->en-core-web-sm==3.2.0) (3.0.7)\n",
      "Requirement already satisfied: smart-open<6.0.0,>=5.0.0 in ./.conda/envs/default/lib/python3.9/site-packages (from pathy>=0.3.5->spacy<3.3.0,>=3.2.0->en-core-web-sm==3.2.0) (5.2.1)\n",
      "Requirement already satisfied: typing-extensions>=3.7.4.3 in ./.conda/envs/default/lib/python3.9/site-packages (from pydantic!=1.8,!=1.8.1,<1.9.0,>=1.7.4->spacy<3.3.0,>=3.2.0->en-core-web-sm==3.2.0) (4.1.1)\n",
      "Requirement already satisfied: certifi>=2017.4.17 in ./.conda/envs/default/lib/python3.9/site-packages (from requests<3.0.0,>=2.13.0->spacy<3.3.0,>=3.2.0->en-core-web-sm==3.2.0) (2021.10.8)\n",
      "Requirement already satisfied: urllib3<1.27,>=1.21.1 in ./.conda/envs/default/lib/python3.9/site-packages (from requests<3.0.0,>=2.13.0->spacy<3.3.0,>=3.2.0->en-core-web-sm==3.2.0) (1.26.9)\n",
      "Requirement already satisfied: charset-normalizer~=2.0.0 in ./.conda/envs/default/lib/python3.9/site-packages (from requests<3.0.0,>=2.13.0->spacy<3.3.0,>=3.2.0->en-core-web-sm==3.2.0) (2.0.12)\n",
      "Requirement already satisfied: idna<4,>=2.5 in ./.conda/envs/default/lib/python3.9/site-packages (from requests<3.0.0,>=2.13.0->spacy<3.3.0,>=3.2.0->en-core-web-sm==3.2.0) (3.3)\n",
      "Requirement already satisfied: MarkupSafe>=2.0 in ./.conda/envs/default/lib/python3.9/site-packages (from jinja2->spacy<3.3.0,>=3.2.0->en-core-web-sm==3.2.0) (2.1.0)\n",
      "\u001b[38;5;2m✔ Download and installation successful\u001b[0m\n",
      "You can now load the package via spacy.load('en_core_web_sm')\n",
      "Requirement already satisfied: gensim in ./.conda/envs/default/lib/python3.9/site-packages (4.1.2)\n",
      "Requirement already satisfied: numpy>=1.17.0 in ./.conda/envs/default/lib/python3.9/site-packages (from gensim) (1.22.3)\n",
      "Requirement already satisfied: smart-open>=1.8.1 in ./.conda/envs/default/lib/python3.9/site-packages (from gensim) (5.2.1)\n",
      "Requirement already satisfied: scipy>=0.18.1 in ./.conda/envs/default/lib/python3.9/site-packages (from gensim) (1.8.0)\n",
      "Requirement already satisfied: awswrangler in ./.conda/envs/default/lib/python3.9/site-packages (2.15.1)\n",
      "Requirement already satisfied: pyarrow<7.1.0,>=2.0.0 in ./.conda/envs/default/lib/python3.9/site-packages (from awswrangler) (7.0.0)\n",
      "Requirement already satisfied: progressbar2<5.0.0,>=4.0.0 in ./.conda/envs/default/lib/python3.9/site-packages (from awswrangler) (4.0.0)\n",
      "Requirement already satisfied: botocore<2.0.0,>=1.23.17 in ./.conda/envs/default/lib/python3.9/site-packages (from awswrangler) (1.24.38)\n",
      "Requirement already satisfied: gremlinpython<4.0.0,>=3.5.2 in ./.conda/envs/default/lib/python3.9/site-packages (from awswrangler) (3.6.0)\n",
      "Requirement already satisfied: redshift-connector<2.1.0,>=2.0.889 in ./.conda/envs/default/lib/python3.9/site-packages (from awswrangler) (2.0.905)\n",
      "Requirement already satisfied: pg8000<2.0.0,>=1.20.0 in ./.conda/envs/default/lib/python3.9/site-packages (from awswrangler) (1.24.1)\n",
      "Requirement already satisfied: backoff<2.0.0,>=1.11.1 in ./.conda/envs/default/lib/python3.9/site-packages (from awswrangler) (1.11.1)\n",
      "Requirement already satisfied: pymysql<2.0.0,>=1.0.0 in ./.conda/envs/default/lib/python3.9/site-packages (from awswrangler) (1.0.2)\n",
      "Requirement already satisfied: jsonpath-ng<2.0.0,>=1.5.3 in ./.conda/envs/default/lib/python3.9/site-packages (from awswrangler) (1.5.3)\n",
      "Requirement already satisfied: pandas<2.0.0,>=1.2.0 in ./.conda/envs/default/lib/python3.9/site-packages (from awswrangler) (1.4.2)\n",
      "Requirement already satisfied: boto3<2.0.0,>=1.20.17 in ./.conda/envs/default/lib/python3.9/site-packages (from awswrangler) (1.21.38)\n",
      "Requirement already satisfied: requests-aws4auth<2.0.0,>=1.1.1 in ./.conda/envs/default/lib/python3.9/site-packages (from awswrangler) (1.1.2)\n",
      "Requirement already satisfied: openpyxl<3.1.0,>=3.0.0 in ./.conda/envs/default/lib/python3.9/site-packages (from awswrangler) (3.0.9)\n",
      "Requirement already satisfied: opensearch-py<2.0.0,>=1.0.0 in ./.conda/envs/default/lib/python3.9/site-packages (from awswrangler) (1.1.0)\n",
      "Requirement already satisfied: numpy<2.0.0,>=1.21.0 in ./.conda/envs/default/lib/python3.9/site-packages (from awswrangler) (1.22.3)\n",
      "Requirement already satisfied: jmespath<2.0.0,>=0.7.1 in ./.conda/envs/default/lib/python3.9/site-packages (from boto3<2.0.0,>=1.20.17->awswrangler) (1.0.0)\n",
      "Requirement already satisfied: s3transfer<0.6.0,>=0.5.0 in ./.conda/envs/default/lib/python3.9/site-packages (from boto3<2.0.0,>=1.20.17->awswrangler) (0.5.2)\n",
      "Requirement already satisfied: python-dateutil<3.0.0,>=2.1 in ./.conda/envs/default/lib/python3.9/site-packages (from botocore<2.0.0,>=1.23.17->awswrangler) (2.8.2)\n",
      "Requirement already satisfied: urllib3<1.27,>=1.25.4 in ./.conda/envs/default/lib/python3.9/site-packages (from botocore<2.0.0,>=1.23.17->awswrangler) (1.26.9)\n",
      "Requirement already satisfied: aiohttp<=3.8.1,>=3.8.0 in ./.conda/envs/default/lib/python3.9/site-packages (from gremlinpython<4.0.0,>=3.5.2->awswrangler) (3.8.1)\n",
      "Requirement already satisfied: isodate<1.0.0,>=0.6.0 in ./.conda/envs/default/lib/python3.9/site-packages (from gremlinpython<4.0.0,>=3.5.2->awswrangler) (0.6.1)\n",
      "Requirement already satisfied: aenum<4.0.0,>=1.4.5 in ./.conda/envs/default/lib/python3.9/site-packages (from gremlinpython<4.0.0,>=3.5.2->awswrangler) (3.1.8)\n",
      "Requirement already satisfied: nest-asyncio in ./.conda/envs/default/lib/python3.9/site-packages (from gremlinpython<4.0.0,>=3.5.2->awswrangler) (1.5.4)\n",
      "Requirement already satisfied: six in ./.conda/envs/default/lib/python3.9/site-packages (from jsonpath-ng<2.0.0,>=1.5.3->awswrangler) (1.16.0)\n",
      "Requirement already satisfied: ply in ./.conda/envs/default/lib/python3.9/site-packages (from jsonpath-ng<2.0.0,>=1.5.3->awswrangler) (3.11)\n",
      "Requirement already satisfied: decorator in ./.conda/envs/default/lib/python3.9/site-packages (from jsonpath-ng<2.0.0,>=1.5.3->awswrangler) (5.1.1)\n",
      "Requirement already satisfied: et-xmlfile in ./.conda/envs/default/lib/python3.9/site-packages (from openpyxl<3.1.0,>=3.0.0->awswrangler) (1.1.0)\n",
      "Requirement already satisfied: certifi in ./.conda/envs/default/lib/python3.9/site-packages (from opensearch-py<2.0.0,>=1.0.0->awswrangler) (2021.10.8)\n",
      "Requirement already satisfied: pytz>=2020.1 in ./.conda/envs/default/lib/python3.9/site-packages (from pandas<2.0.0,>=1.2.0->awswrangler) (2021.3)\n",
      "Requirement already satisfied: scramp>=1.4.1 in ./.conda/envs/default/lib/python3.9/site-packages (from pg8000<2.0.0,>=1.20.0->awswrangler) (1.4.1)\n",
      "Requirement already satisfied: python-utils>=3.0.0 in ./.conda/envs/default/lib/python3.9/site-packages (from progressbar2<5.0.0,>=4.0.0->awswrangler) (3.1.0)\n",
      "Requirement already satisfied: packaging in ./.conda/envs/default/lib/python3.9/site-packages (from redshift-connector<2.1.0,>=2.0.889->awswrangler) (21.3)\n",
      "Requirement already satisfied: beautifulsoup4<5.0.0,>=4.7.0 in ./.conda/envs/default/lib/python3.9/site-packages (from redshift-connector<2.1.0,>=2.0.889->awswrangler) (4.11.1)\n",
      "Requirement already satisfied: requests<2.27.2,>=2.23.0 in ./.conda/envs/default/lib/python3.9/site-packages (from redshift-connector<2.1.0,>=2.0.889->awswrangler) (2.27.1)\n",
      "Requirement already satisfied: lxml>=4.6.5 in ./.conda/envs/default/lib/python3.9/site-packages (from redshift-connector<2.1.0,>=2.0.889->awswrangler) (4.8.0)\n",
      "Requirement already satisfied: attrs>=17.3.0 in ./.conda/envs/default/lib/python3.9/site-packages (from aiohttp<=3.8.1,>=3.8.0->gremlinpython<4.0.0,>=3.5.2->awswrangler) (21.4.0)\n",
      "Requirement already satisfied: multidict<7.0,>=4.5 in ./.conda/envs/default/lib/python3.9/site-packages (from aiohttp<=3.8.1,>=3.8.0->gremlinpython<4.0.0,>=3.5.2->awswrangler) (6.0.2)\n",
      "Requirement already satisfied: aiosignal>=1.1.2 in ./.conda/envs/default/lib/python3.9/site-packages (from aiohttp<=3.8.1,>=3.8.0->gremlinpython<4.0.0,>=3.5.2->awswrangler) (1.2.0)\n",
      "Requirement already satisfied: async-timeout<5.0,>=4.0.0a3 in ./.conda/envs/default/lib/python3.9/site-packages (from aiohttp<=3.8.1,>=3.8.0->gremlinpython<4.0.0,>=3.5.2->awswrangler) (4.0.2)\n",
      "Requirement already satisfied: charset-normalizer<3.0,>=2.0 in ./.conda/envs/default/lib/python3.9/site-packages (from aiohttp<=3.8.1,>=3.8.0->gremlinpython<4.0.0,>=3.5.2->awswrangler) (2.0.12)\n",
      "Requirement already satisfied: frozenlist>=1.1.1 in ./.conda/envs/default/lib/python3.9/site-packages (from aiohttp<=3.8.1,>=3.8.0->gremlinpython<4.0.0,>=3.5.2->awswrangler) (1.3.0)\n",
      "Requirement already satisfied: yarl<2.0,>=1.0 in ./.conda/envs/default/lib/python3.9/site-packages (from aiohttp<=3.8.1,>=3.8.0->gremlinpython<4.0.0,>=3.5.2->awswrangler) (1.7.2)\n",
      "Requirement already satisfied: soupsieve>1.2 in ./.conda/envs/default/lib/python3.9/site-packages (from beautifulsoup4<5.0.0,>=4.7.0->redshift-connector<2.1.0,>=2.0.889->awswrangler) (2.3.2)\n",
      "Requirement already satisfied: idna<4,>=2.5 in ./.conda/envs/default/lib/python3.9/site-packages (from requests<2.27.2,>=2.23.0->redshift-connector<2.1.0,>=2.0.889->awswrangler) (3.3)\n",
      "Requirement already satisfied: asn1crypto>=1.4.0 in ./.conda/envs/default/lib/python3.9/site-packages (from scramp>=1.4.1->pg8000<2.0.0,>=1.20.0->awswrangler) (1.5.1)\n",
      "Requirement already satisfied: pyparsing!=3.0.5,>=2.0.2 in ./.conda/envs/default/lib/python3.9/site-packages (from packaging->redshift-connector<2.1.0,>=2.0.889->awswrangler) (3.0.7)\n",
      "Requirement already satisfied: nltk in ./.conda/envs/default/lib/python3.9/site-packages (3.7)\n",
      "Requirement already satisfied: joblib in ./.conda/envs/default/lib/python3.9/site-packages (from nltk) (1.1.0)\n",
      "Requirement already satisfied: regex>=2021.8.3 in ./.conda/envs/default/lib/python3.9/site-packages (from nltk) (2022.3.15)\n",
      "Requirement already satisfied: click in ./.conda/envs/default/lib/python3.9/site-packages (from nltk) (8.0.4)\n",
      "Requirement already satisfied: tqdm in ./.conda/envs/default/lib/python3.9/site-packages (from nltk) (4.64.0)\n",
      "Requirement already satisfied: scikit-learn in ./.conda/envs/default/lib/python3.9/site-packages (1.0.2)\n",
      "Requirement already satisfied: threadpoolctl>=2.0.0 in ./.conda/envs/default/lib/python3.9/site-packages (from scikit-learn) (3.1.0)\n",
      "Requirement already satisfied: scipy>=1.1.0 in ./.conda/envs/default/lib/python3.9/site-packages (from scikit-learn) (1.8.0)\n",
      "Requirement already satisfied: joblib>=0.11 in ./.conda/envs/default/lib/python3.9/site-packages (from scikit-learn) (1.1.0)\n",
      "Requirement already satisfied: numpy>=1.14.6 in ./.conda/envs/default/lib/python3.9/site-packages (from scikit-learn) (1.22.3)\n",
      "Collecting matplotlib\n",
      "  Downloading matplotlib-3.5.1-cp39-cp39-manylinux_2_5_x86_64.manylinux1_x86_64.whl (11.2 MB)\n",
      "\u001b[2K     \u001b[90m━━━━━━━━━━━━━━━━━━━━━━━━━━━━━━━━━━━━━━━━\u001b[0m \u001b[32m11.2/11.2 MB\u001b[0m \u001b[31m20.0 MB/s\u001b[0m eta \u001b[36m0:00:00\u001b[0m00:01\u001b[0m00:01\u001b[0m\n",
      "\u001b[?25hCollecting cycler>=0.10\n",
      "  Downloading cycler-0.11.0-py3-none-any.whl (6.4 kB)\n",
      "Requirement already satisfied: numpy>=1.17 in ./.conda/envs/default/lib/python3.9/site-packages (from matplotlib) (1.22.3)\n",
      "Requirement already satisfied: python-dateutil>=2.7 in ./.conda/envs/default/lib/python3.9/site-packages (from matplotlib) (2.8.2)\n",
      "Collecting fonttools>=4.22.0\n",
      "  Downloading fonttools-4.32.0-py3-none-any.whl (900 kB)\n",
      "\u001b[2K     \u001b[90m━━━━━━━━━━━━━━━━━━━━━━━━━━━━━━━━━━━━━━\u001b[0m \u001b[32m900.8/900.8 KB\u001b[0m \u001b[31m36.4 MB/s\u001b[0m eta \u001b[36m0:00:00\u001b[0m\n",
      "\u001b[?25hCollecting pillow>=6.2.0\n",
      "  Downloading Pillow-9.1.0-cp39-cp39-manylinux_2_17_x86_64.manylinux2014_x86_64.whl (4.3 MB)\n",
      "\u001b[2K     \u001b[90m━━━━━━━━━━━━━━━━━━━━━━━━━━━━━━━━━━━━━━━━\u001b[0m \u001b[32m4.3/4.3 MB\u001b[0m \u001b[31m47.7 MB/s\u001b[0m eta \u001b[36m0:00:00\u001b[0ma \u001b[36m0:00:01\u001b[0m\n",
      "\u001b[?25hCollecting kiwisolver>=1.0.1\n",
      "  Downloading kiwisolver-1.4.2-cp39-cp39-manylinux_2_12_x86_64.manylinux2010_x86_64.whl (1.6 MB)\n",
      "\u001b[2K     \u001b[90m━━━━━━━━━━━━━━━━━━━━━━━━━━━━━━━━━━━━━━━━\u001b[0m \u001b[32m1.6/1.6 MB\u001b[0m \u001b[31m57.5 MB/s\u001b[0m eta \u001b[36m0:00:00\u001b[0m\n",
      "\u001b[?25hRequirement already satisfied: packaging>=20.0 in ./.conda/envs/default/lib/python3.9/site-packages (from matplotlib) (21.3)\n",
      "Requirement already satisfied: pyparsing>=2.2.1 in ./.conda/envs/default/lib/python3.9/site-packages (from matplotlib) (3.0.7)\n",
      "Requirement already satisfied: six>=1.5 in ./.conda/envs/default/lib/python3.9/site-packages (from python-dateutil>=2.7->matplotlib) (1.16.0)\n",
      "Installing collected packages: pillow, kiwisolver, fonttools, cycler, matplotlib\n",
      "Successfully installed cycler-0.11.0 fonttools-4.32.0 kiwisolver-1.4.2 matplotlib-3.5.1 pillow-9.1.0\n",
      "Collecting seaborn\n",
      "  Downloading seaborn-0.11.2-py3-none-any.whl (292 kB)\n",
      "\u001b[2K     \u001b[90m━━━━━━━━━━━━━━━━━━━━━━━━━━━━━━━━━━━━━━━\u001b[0m \u001b[32m292.8/292.8 KB\u001b[0m \u001b[31m4.1 MB/s\u001b[0m eta \u001b[36m0:00:00\u001b[0ma \u001b[36m0:00:01\u001b[0m\n",
      "\u001b[?25hRequirement already satisfied: pandas>=0.23 in ./.conda/envs/default/lib/python3.9/site-packages (from seaborn) (1.4.2)\n",
      "Requirement already satisfied: scipy>=1.0 in ./.conda/envs/default/lib/python3.9/site-packages (from seaborn) (1.8.0)\n",
      "Requirement already satisfied: numpy>=1.15 in ./.conda/envs/default/lib/python3.9/site-packages (from seaborn) (1.22.3)\n",
      "Requirement already satisfied: matplotlib>=2.2 in ./.conda/envs/default/lib/python3.9/site-packages (from seaborn) (3.5.1)\n",
      "Requirement already satisfied: python-dateutil>=2.7 in ./.conda/envs/default/lib/python3.9/site-packages (from matplotlib>=2.2->seaborn) (2.8.2)\n",
      "Requirement already satisfied: cycler>=0.10 in ./.conda/envs/default/lib/python3.9/site-packages (from matplotlib>=2.2->seaborn) (0.11.0)\n",
      "Requirement already satisfied: packaging>=20.0 in ./.conda/envs/default/lib/python3.9/site-packages (from matplotlib>=2.2->seaborn) (21.3)\n",
      "Requirement already satisfied: kiwisolver>=1.0.1 in ./.conda/envs/default/lib/python3.9/site-packages (from matplotlib>=2.2->seaborn) (1.4.2)\n",
      "Requirement already satisfied: fonttools>=4.22.0 in ./.conda/envs/default/lib/python3.9/site-packages (from matplotlib>=2.2->seaborn) (4.32.0)\n",
      "Requirement already satisfied: pyparsing>=2.2.1 in ./.conda/envs/default/lib/python3.9/site-packages (from matplotlib>=2.2->seaborn) (3.0.7)\n",
      "Requirement already satisfied: pillow>=6.2.0 in ./.conda/envs/default/lib/python3.9/site-packages (from matplotlib>=2.2->seaborn) (9.1.0)\n",
      "Requirement already satisfied: pytz>=2020.1 in ./.conda/envs/default/lib/python3.9/site-packages (from pandas>=0.23->seaborn) (2021.3)\n",
      "Requirement already satisfied: six>=1.5 in ./.conda/envs/default/lib/python3.9/site-packages (from python-dateutil>=2.7->matplotlib>=2.2->seaborn) (1.16.0)\n",
      "Installing collected packages: seaborn\n",
      "Successfully installed seaborn-0.11.2\n"
     ]
    }
   ],
   "source": [
    "#%%capture\n",
    "!pip install -U pip setuptools wheel\n",
    "!pip install -U spacy\n",
    "!python -m spacy download en_core_web_sm\n",
    "!python -m spacy download en\n",
    "!pip install gensim\n",
    "!pip install awswrangler\n",
    "!pip install nltk\n",
    "!pip install scikit-learn\n",
    "!pip install matplotlib\n",
    "!pip install seaborn"
   ]
  },
  {
   "cell_type": "markdown",
   "metadata": {},
   "source": [
    "## DCOCUMENTO / CORPUS"
   ]
  },
  {
   "cell_type": "code",
   "execution_count": 32,
   "metadata": {},
   "outputs": [
    {
     "data": {
      "text/html": [
       "<div>\n",
       "<style scoped>\n",
       "    .dataframe tbody tr th:only-of-type {\n",
       "        vertical-align: middle;\n",
       "    }\n",
       "\n",
       "    .dataframe tbody tr th {\n",
       "        vertical-align: top;\n",
       "    }\n",
       "\n",
       "    .dataframe thead th {\n",
       "        text-align: right;\n",
       "    }\n",
       "</style>\n",
       "<table border=\"1\" class=\"dataframe\">\n",
       "  <thead>\n",
       "    <tr style=\"text-align: right;\">\n",
       "      <th></th>\n",
       "      <th>text</th>\n",
       "      <th>class</th>\n",
       "    </tr>\n",
       "  </thead>\n",
       "  <tbody>\n",
       "    <tr>\n",
       "      <th>0</th>\n",
       "      <td>Sobre live de NLP no UGSP? Eu gostei muito</td>\n",
       "      <td>positivo</td>\n",
       "    </tr>\n",
       "    <tr>\n",
       "      <th>1</th>\n",
       "      <td>A live de NLP pode melhorar, não gostei muito</td>\n",
       "      <td>negativo</td>\n",
       "    </tr>\n",
       "  </tbody>\n",
       "</table>\n",
       "</div>"
      ],
      "text/plain": [
       "                                            text     class\n",
       "0     Sobre live de NLP no UGSP? Eu gostei muito  positivo\n",
       "1  A live de NLP pode melhorar, não gostei muito  negativo"
      ]
     },
     "execution_count": 32,
     "metadata": {},
     "output_type": "execute_result"
    }
   ],
   "source": [
    "import pandas as pd\n",
    "\n",
    "# Documento e Corpus\n",
    "df = pd.DataFrame({\n",
    "    'text': [\n",
    "      'Sobre live de NLP no UGSP? Eu gostei muito',\n",
    "      'A live de NLP pode melhorar, não gostei muito'\n",
    "    ],\n",
    "    'class': [\n",
    "        'positivo',\n",
    "        'negativo'\n",
    "    ]})\n",
    "\n",
    "df.head()"
   ]
  },
  {
   "cell_type": "markdown",
   "metadata": {},
   "source": [
    "## TOKENIZAÇÃO"
   ]
  },
  {
   "cell_type": "code",
   "execution_count": 10,
   "metadata": {},
   "outputs": [
    {
     "name": "stderr",
     "output_type": "stream",
     "text": [
      "[nltk_data] Downloading package punkt to /home/studio-lab-\n",
      "[nltk_data]     user/nltk_data...\n",
      "[nltk_data]   Unzipping tokenizers/punkt.zip.\n"
     ]
    },
    {
     "name": "stdout",
     "output_type": "stream",
     "text": [
      "['AWS', 'User', 'Group', 'São', 'Paulo']\n",
      "['AWS', 'User', 'Group', 'São', 'Paulo']\n"
     ]
    }
   ],
   "source": [
    "# aplica em uma string\n",
    "import nltk\n",
    "from nltk.tokenize import word_tokenize\n",
    "nltk.download('punkt')\n",
    "\n",
    "nome = 'AWS User Group São Paulo'\n",
    "\n",
    "print(word_tokenize(nome))\n",
    "print(nome.split(' '))"
   ]
  },
  {
   "cell_type": "code",
   "execution_count": 11,
   "metadata": {},
   "outputs": [
    {
     "name": "stdout",
     "output_type": "stream",
     "text": [
      "['um', 'dois,', 'três']\n"
     ]
    },
    {
     "data": {
      "text/plain": [
       "[['AWS', 'User', 'Group', 'São', 'Paulo'], ['um', 'dois,', 'três']]"
      ]
     },
     "execution_count": 11,
     "metadata": {},
     "output_type": "execute_result"
    }
   ],
   "source": [
    "# Aplica em uma lista\n",
    "texto = ['AWS User Group São Paulo','um dois, três']\n",
    "type(texto)\n",
    "\n",
    "# usando o split\n",
    "print(texto[1].split())\n",
    "[t.split() for t in texto]"
   ]
  },
  {
   "cell_type": "markdown",
   "metadata": {},
   "source": [
    "## UNIGRAMA"
   ]
  },
  {
   "cell_type": "code",
   "execution_count": 14,
   "metadata": {},
   "outputs": [
    {
     "data": {
      "text/plain": [
       "0               Sobre live de NLP? Eu gostei muito\n",
       "1    A live de NLP pode melhorar, não gostei muito\n",
       "Name: text, dtype: object"
      ]
     },
     "execution_count": 14,
     "metadata": {},
     "output_type": "execute_result"
    }
   ],
   "source": [
    "df.text"
   ]
  },
  {
   "cell_type": "code",
   "execution_count": 17,
   "metadata": {},
   "outputs": [
    {
     "name": "stdout",
     "output_type": "stream",
     "text": [
      "   de  eu  gostei  live  melhorar  muito  nlp  não  pode  sobre\n",
      "0   1   1       1     1         0      1    1    0     0      1\n",
      "1   1   0       1     1         1      1    1    1     1      0\n"
     ]
    },
    {
     "name": "stderr",
     "output_type": "stream",
     "text": [
      "/home/studio-lab-user/.conda/envs/default/lib/python3.9/site-packages/sklearn/utils/deprecation.py:87: FutureWarning: Function get_feature_names is deprecated; get_feature_names is deprecated in 1.0 and will be removed in 1.2. Please use get_feature_names_out instead.\n",
      "  warnings.warn(msg, category=FutureWarning)\n"
     ]
    }
   ],
   "source": [
    "from sklearn.feature_extraction.text import CountVectorizer\n",
    "\n",
    "vect = CountVectorizer(ngram_range=(1,1))\n",
    "vect.fit(df.text)\n",
    "text_vect = vect.transform(df.text)\n",
    "\n",
    "print(pd.DataFrame(text_vect.A, columns=vect.get_feature_names()).to_string())"
   ]
  },
  {
   "cell_type": "code",
   "execution_count": 18,
   "metadata": {},
   "outputs": [
    {
     "data": {
      "text/plain": [
       "<2x10 sparse matrix of type '<class 'numpy.int64'>'\n",
       "\twith 15 stored elements in Compressed Sparse Row format>"
      ]
     },
     "execution_count": 18,
     "metadata": {},
     "output_type": "execute_result"
    }
   ],
   "source": [
    "text_vect"
   ]
  },
  {
   "cell_type": "code",
   "execution_count": 19,
   "metadata": {},
   "outputs": [],
   "source": [
    "## BIGRAMA"
   ]
  },
  {
   "cell_type": "code",
   "execution_count": 20,
   "metadata": {},
   "outputs": [
    {
     "name": "stdout",
     "output_type": "stream",
     "text": [
      "   de nlp  eu gostei  gostei muito  live de  melhorar não  nlp eu  nlp pode  não gostei  pode melhorar  sobre live\n",
      "0       1          1             1        1             0       1         0           0              0           1\n",
      "1       1          0             1        1             1       0         1           1              1           0\n"
     ]
    },
    {
     "name": "stderr",
     "output_type": "stream",
     "text": [
      "/home/studio-lab-user/.conda/envs/default/lib/python3.9/site-packages/sklearn/utils/deprecation.py:87: FutureWarning: Function get_feature_names is deprecated; get_feature_names is deprecated in 1.0 and will be removed in 1.2. Please use get_feature_names_out instead.\n",
      "  warnings.warn(msg, category=FutureWarning)\n"
     ]
    }
   ],
   "source": [
    "from sklearn.feature_extraction.text import CountVectorizer\n",
    "\n",
    "vect = CountVectorizer(ngram_range=(2,2))\n",
    "vect.fit(df.text)\n",
    "text_vect = vect.transform(df.text)\n",
    "\n",
    "print(pd.DataFrame(text_vect.A, columns=vect.get_feature_names()).to_string())"
   ]
  },
  {
   "cell_type": "code",
   "execution_count": 25,
   "metadata": {},
   "outputs": [],
   "source": [
    "# REGEX"
   ]
  },
  {
   "cell_type": "code",
   "execution_count": 22,
   "metadata": {},
   "outputs": [],
   "source": [
    "email = \"vfcarida@gmail.com\""
   ]
  },
  {
   "cell_type": "code",
   "execution_count": 23,
   "metadata": {},
   "outputs": [
    {
     "data": {
      "text/plain": [
       "'gmail'"
      ]
     },
     "execution_count": 23,
     "metadata": {},
     "output_type": "execute_result"
    }
   ],
   "source": [
    "# função split do Python\n",
    "email.split(\"@\")[1].split(\".\")[0]"
   ]
  },
  {
   "cell_type": "code",
   "execution_count": 24,
   "metadata": {},
   "outputs": [
    {
     "data": {
      "text/plain": [
       "['gmail']"
      ]
     },
     "execution_count": 24,
     "metadata": {},
     "output_type": "execute_result"
    }
   ],
   "source": [
    "# importa pacote de regular expression\n",
    "import re\n",
    "\n",
    "regex = r\"(?<=@)[^.]+(?=\\.)\"\n",
    "re.findall(regex, email)"
   ]
  },
  {
   "cell_type": "markdown",
   "metadata": {},
   "source": [
    "## STOPWORDS"
   ]
  },
  {
   "cell_type": "code",
   "execution_count": 26,
   "metadata": {},
   "outputs": [
    {
     "name": "stderr",
     "output_type": "stream",
     "text": [
      "[nltk_data] Downloading package stopwords to /home/studio-lab-\n",
      "[nltk_data]     user/nltk_data...\n",
      "[nltk_data]   Unzipping corpora/stopwords.zip.\n"
     ]
    }
   ],
   "source": [
    "import nltk\n",
    "nltk.download('stopwords')\n",
    "\n",
    "stops = nltk.corpus.stopwords.words('english')"
   ]
  },
  {
   "cell_type": "code",
   "execution_count": 28,
   "metadata": {},
   "outputs": [
    {
     "data": {
      "text/plain": [
       "['i',\n",
       " 'me',\n",
       " 'my',\n",
       " 'we',\n",
       " 'our',\n",
       " 'ours',\n",
       " 'ourselves',\n",
       " 'you',\n",
       " \"you're\",\n",
       " \"you've\",\n",
       " \"you'll\",\n",
       " \"you'd\",\n",
       " 'your',\n",
       " 'yours',\n",
       " 'yourself',\n",
       " 'yourselves',\n",
       " 'he',\n",
       " 'him',\n",
       " 'his',\n",
       " 'himself',\n",
       " 'she',\n",
       " \"she's\",\n",
       " 'her',\n",
       " 'hers',\n",
       " 'herself',\n",
       " 'it',\n",
       " \"it's\",\n",
       " 'its',\n",
       " 'itself',\n",
       " 'they',\n",
       " 'them',\n",
       " 'their',\n",
       " 'theirs',\n",
       " 'themselves',\n",
       " 'what',\n",
       " 'which',\n",
       " 'who',\n",
       " 'whom',\n",
       " 'this',\n",
       " 'that',\n",
       " \"that'll\",\n",
       " 'these',\n",
       " 'those',\n",
       " 'am',\n",
       " 'is',\n",
       " 'are',\n",
       " 'was',\n",
       " 'were',\n",
       " 'be',\n",
       " 'been',\n",
       " 'being',\n",
       " 'have',\n",
       " 'has',\n",
       " 'had',\n",
       " 'having',\n",
       " 'do',\n",
       " 'does',\n",
       " 'did',\n",
       " 'doing',\n",
       " 'a',\n",
       " 'an',\n",
       " 'the',\n",
       " 'and',\n",
       " 'but',\n",
       " 'if',\n",
       " 'or',\n",
       " 'because',\n",
       " 'as',\n",
       " 'until',\n",
       " 'while',\n",
       " 'of',\n",
       " 'at',\n",
       " 'by',\n",
       " 'for',\n",
       " 'with',\n",
       " 'about',\n",
       " 'against',\n",
       " 'between',\n",
       " 'into',\n",
       " 'through',\n",
       " 'during',\n",
       " 'before',\n",
       " 'after',\n",
       " 'above',\n",
       " 'below',\n",
       " 'to',\n",
       " 'from',\n",
       " 'up',\n",
       " 'down',\n",
       " 'in',\n",
       " 'out',\n",
       " 'on',\n",
       " 'off',\n",
       " 'over',\n",
       " 'under',\n",
       " 'again',\n",
       " 'further',\n",
       " 'then',\n",
       " 'once',\n",
       " 'here',\n",
       " 'there',\n",
       " 'when',\n",
       " 'where',\n",
       " 'why',\n",
       " 'how',\n",
       " 'all',\n",
       " 'any',\n",
       " 'both',\n",
       " 'each',\n",
       " 'few',\n",
       " 'more',\n",
       " 'most',\n",
       " 'other',\n",
       " 'some',\n",
       " 'such',\n",
       " 'no',\n",
       " 'nor',\n",
       " 'not',\n",
       " 'only',\n",
       " 'own',\n",
       " 'same',\n",
       " 'so',\n",
       " 'than',\n",
       " 'too',\n",
       " 'very',\n",
       " 's',\n",
       " 't',\n",
       " 'can',\n",
       " 'will',\n",
       " 'just',\n",
       " 'don',\n",
       " \"don't\",\n",
       " 'should',\n",
       " \"should've\",\n",
       " 'now',\n",
       " 'd',\n",
       " 'll',\n",
       " 'm',\n",
       " 'o',\n",
       " 're',\n",
       " 've',\n",
       " 'y',\n",
       " 'ain',\n",
       " 'aren',\n",
       " \"aren't\",\n",
       " 'couldn',\n",
       " \"couldn't\",\n",
       " 'didn',\n",
       " \"didn't\",\n",
       " 'doesn',\n",
       " \"doesn't\",\n",
       " 'hadn',\n",
       " \"hadn't\",\n",
       " 'hasn',\n",
       " \"hasn't\",\n",
       " 'haven',\n",
       " \"haven't\",\n",
       " 'isn',\n",
       " \"isn't\",\n",
       " 'ma',\n",
       " 'mightn',\n",
       " \"mightn't\",\n",
       " 'mustn',\n",
       " \"mustn't\",\n",
       " 'needn',\n",
       " \"needn't\",\n",
       " 'shan',\n",
       " \"shan't\",\n",
       " 'shouldn',\n",
       " \"shouldn't\",\n",
       " 'wasn',\n",
       " \"wasn't\",\n",
       " 'weren',\n",
       " \"weren't\",\n",
       " 'won',\n",
       " \"won't\",\n",
       " 'wouldn',\n",
       " \"wouldn't\"]"
      ]
     },
     "execution_count": 28,
     "metadata": {},
     "output_type": "execute_result"
    }
   ],
   "source": [
    "# lista todas as stopwords\n",
    "stops"
   ]
  },
  {
   "cell_type": "code",
   "execution_count": 27,
   "metadata": {},
   "outputs": [
    {
     "data": {
      "text/plain": [
       "'myself'"
      ]
     },
     "execution_count": 27,
     "metadata": {},
     "output_type": "execute_result"
    }
   ],
   "source": [
    "# remove uma stopword da lista\n",
    "stops.pop(3)"
   ]
  },
  {
   "cell_type": "code",
   "execution_count": 29,
   "metadata": {},
   "outputs": [],
   "source": [
    "# podemos criar nossa propria lista\n",
    "stops = stops + [\"UGSP\"]"
   ]
  },
  {
   "cell_type": "code",
   "execution_count": 34,
   "metadata": {},
   "outputs": [
    {
     "name": "stdout",
     "output_type": "stream",
     "text": [
      "          0  1\n",
      "gostei    1  1\n",
      "live      1  1\n",
      "melhorar  0  1\n",
      "nlp       1  1\n",
      "pode      0  1\n",
      "sobre     1  0\n"
     ]
    },
    {
     "name": "stderr",
     "output_type": "stream",
     "text": [
      "/home/studio-lab-user/.conda/envs/default/lib/python3.9/site-packages/sklearn/utils/deprecation.py:87: FutureWarning: Function get_feature_names is deprecated; get_feature_names is deprecated in 1.0 and will be removed in 1.2. Please use get_feature_names_out instead.\n",
      "  warnings.warn(msg, category=FutureWarning)\n"
     ]
    }
   ],
   "source": [
    "# Aplicando a utilização das stopwords\n",
    "from sklearn.feature_extraction.text import CountVectorizer\n",
    "\n",
    "stops = nltk.corpus.stopwords.words('portuguese') + [\"ugsp\"]\n",
    "\n",
    "vect = CountVectorizer(ngram_range=(1,1), stop_words=stops)\n",
    "vect.fit(df.text)\n",
    "text_vect = vect.transform(df.text)\n",
    "\n",
    "print(pd.DataFrame(text_vect.A, columns=vect.get_feature_names()).T.to_string())"
   ]
  },
  {
   "cell_type": "code",
   "execution_count": 35,
   "metadata": {},
   "outputs": [
    {
     "name": "stderr",
     "output_type": "stream",
     "text": [
      "[nltk_data] Downloading package stopwords to /home/studio-lab-\n",
      "[nltk_data]     user/nltk_data...\n",
      "[nltk_data]   Package stopwords is already up-to-date!\n"
     ]
    },
    {
     "data": {
      "text/plain": [
       "True"
      ]
     },
     "execution_count": 35,
     "metadata": {},
     "output_type": "execute_result"
    }
   ],
   "source": [
    "import nltk\n",
    "nltk.download('stopwords')"
   ]
  },
  {
   "cell_type": "code",
   "execution_count": 36,
   "metadata": {},
   "outputs": [
    {
     "name": "stdout",
     "output_type": "stream",
     "text": [
      "['de', 'a', 'o', 'que', 'e', 'é', 'do', 'da', 'em', 'um']\n"
     ]
    }
   ],
   "source": [
    "print(nltk.corpus.stopwords.words('portuguese')[:10])"
   ]
  },
  {
   "cell_type": "code",
   "execution_count": 37,
   "metadata": {},
   "outputs": [
    {
     "data": {
      "text/plain": [
       "205"
      ]
     },
     "execution_count": 37,
     "metadata": {},
     "output_type": "execute_result"
    }
   ],
   "source": [
    "len(stops)"
   ]
  },
  {
   "cell_type": "markdown",
   "metadata": {},
   "source": [
    "## Stemmer (Stemização)"
   ]
  },
  {
   "cell_type": "code",
   "execution_count": 38,
   "metadata": {},
   "outputs": [
    {
     "name": "stdout",
     "output_type": "stream",
     "text": [
      "['connection', 'connections', 'connective', 'connecting', 'connected']\n",
      "connect\n",
      "connect\n",
      "connect\n",
      "connect\n",
      "connect\n"
     ]
    }
   ],
   "source": [
    "from nltk.stem import PorterStemmer\n",
    "\n",
    "ps = PorterStemmer()\n",
    "exemplos = [\"connection\",\"connections\",\"connective\",\"connecting\",\"connected\"]\n",
    "print(exemplos)\n",
    "\n",
    "for word in exemplos:\n",
    "  print(ps.stem(word))"
   ]
  },
  {
   "cell_type": "code",
   "execution_count": 39,
   "metadata": {},
   "outputs": [
    {
     "name": "stdout",
     "output_type": "stream",
     "text": [
      "['pedra', 'pedreira', 'pedreiro']\n",
      "pedra  -  pedr\n",
      "pedreira  -  pedr\n",
      "pedreiro  -  pedr\n"
     ]
    },
    {
     "name": "stderr",
     "output_type": "stream",
     "text": [
      "[nltk_data] Downloading package rslp to /home/studio-lab-\n",
      "[nltk_data]     user/nltk_data...\n",
      "[nltk_data]   Unzipping stemmers/rslp.zip.\n"
     ]
    }
   ],
   "source": [
    "# Stemização\n",
    "from nltk.stem import PorterStemmer\n",
    "from nltk.stem.rslp import RSLPStemmer\n",
    "import nltk \n",
    "nltk.download('rslp')\n",
    "\n",
    "doc = [\"pedra\",\"pedreira\",\"pedreiro\"]\n",
    "print(doc)\n",
    "\n",
    "ps = PorterStemmer()\n",
    "rslp = RSLPStemmer()\n",
    "\n",
    "for word in doc:\n",
    "    print(ps.stem(word), ' - ', rslp.stem(word))"
   ]
  },
  {
   "cell_type": "code",
   "execution_count": 42,
   "metadata": {},
   "outputs": [
    {
     "name": "stderr",
     "output_type": "stream",
     "text": [
      "[nltk_data] Downloading package punkt to /home/studio-lab-\n",
      "[nltk_data]     user/nltk_data...\n",
      "[nltk_data]   Package punkt is already up-to-date!\n"
     ]
    },
    {
     "data": {
      "text/plain": [
       "0    [Sobre, live, de, NLP, no, UGSP, ?, Eu, gostei...\n",
       "1    [A, live, de, NLP, pode, melhorar, ,, não, gos...\n",
       "Name: tokens, dtype: object"
      ]
     },
     "execution_count": 42,
     "metadata": {},
     "output_type": "execute_result"
    }
   ],
   "source": [
    "from nltk.tokenize import word_tokenize\n",
    "import nltk\n",
    "nltk.download('punkt')\n",
    "\n",
    "df['tokens'] = df.text.apply(word_tokenize)\n",
    "df['tokens']"
   ]
  },
  {
   "cell_type": "code",
   "execution_count": 43,
   "metadata": {},
   "outputs": [
    {
     "name": "stdout",
     "output_type": "stream",
     "text": [
      "Original: Sobre       PorterStemmer: sobr       RSLPStemmer: sobr      \n",
      "Original: live        PorterStemmer: live       RSLPStemmer: liv       \n",
      "Original: de          PorterStemmer: de         RSLPStemmer: de        \n",
      "Original: NLP         PorterStemmer: nlp        RSLPStemmer: nlp       \n",
      "Original: no          PorterStemmer: no         RSLPStemmer: no        \n",
      "Original: UGSP        PorterStemmer: ugsp       RSLPStemmer: ugsp      \n",
      "Original: ?           PorterStemmer: ?          RSLPStemmer: ?         \n",
      "Original: Eu          PorterStemmer: eu         RSLPStemmer: eu        \n",
      "Original: gostei      PorterStemmer: gostei     RSLPStemmer: gost      \n",
      "Original: muito       PorterStemmer: muito      RSLPStemmer: muit      \n",
      "Original: A           PorterStemmer: a          RSLPStemmer: a         \n",
      "Original: live        PorterStemmer: live       RSLPStemmer: liv       \n",
      "Original: de          PorterStemmer: de         RSLPStemmer: de        \n",
      "Original: NLP         PorterStemmer: nlp        RSLPStemmer: nlp       \n",
      "Original: pode        PorterStemmer: pode       RSLPStemmer: pod       \n",
      "Original: melhorar    PorterStemmer: melhorar   RSLPStemmer: melhor    \n",
      "Original: ,           PorterStemmer: ,          RSLPStemmer: ,         \n",
      "Original: não         PorterStemmer: não        RSLPStemmer: não       \n",
      "Original: gostei      PorterStemmer: gostei     RSLPStemmer: gost      \n",
      "Original: muito       PorterStemmer: muito      RSLPStemmer: muit      \n"
     ]
    },
    {
     "name": "stderr",
     "output_type": "stream",
     "text": [
      "[nltk_data] Downloading package rslp to /home/studio-lab-\n",
      "[nltk_data]     user/nltk_data...\n",
      "[nltk_data]   Package rslp is already up-to-date!\n"
     ]
    }
   ],
   "source": [
    "from nltk.stem import PorterStemmer\n",
    "from nltk.stem.rslp import RSLPStemmer\n",
    "import nltk\n",
    "nltk.download('rslp')\n",
    "\n",
    "tokens = df.tokens[0]\n",
    "tokens = tokens + df.tokens[1]\n",
    "\n",
    "ps = PorterStemmer()\n",
    "rslp = RSLPStemmer()\n",
    "\n",
    "for tok in tokens:\n",
    "  #print('Original: %s \\t\\t  PorterStemmer: %s \\t\\t RSLPStemmer: %s' % (tok, ps.stem(tok), rslp.stem(tok)))\n",
    "  print(f'Original: {tok:{11}} PorterStemmer: {ps.stem(tok):{10}} RSLPStemmer: {rslp.stem(tok):{10}}')\n"
   ]
  },
  {
   "cell_type": "markdown",
   "metadata": {},
   "source": [
    "## Lemmatizer (Lematização)"
   ]
  },
  {
   "cell_type": "code",
   "execution_count": null,
   "metadata": {},
   "outputs": [],
   "source": [
    "import nltk\n",
    "nltk.download('omw-1.4')"
   ]
  },
  {
   "cell_type": "code",
   "execution_count": 47,
   "metadata": {},
   "outputs": [
    {
     "name": "stdout",
     "output_type": "stream",
     "text": [
      "connection\n",
      "connections\n",
      "connective\n",
      "connect\n",
      "connect\n"
     ]
    },
    {
     "name": "stderr",
     "output_type": "stream",
     "text": [
      "[nltk_data] Downloading package wordnet to /home/studio-lab-\n",
      "[nltk_data]     user/nltk_data...\n",
      "[nltk_data]   Package wordnet is already up-to-date!\n"
     ]
    }
   ],
   "source": [
    "from nltk.stem import WordNetLemmatizer\n",
    "import nltk\n",
    "nltk.download('wordnet')\n",
    "\n",
    "exemplos = [\"connection\",\"connections\",\"connective\",\"connecting\",\"connected\"]\n",
    "wnl = WordNetLemmatizer()\n",
    "\n",
    "for word in exemplos:\n",
    "    print(wnl.lemmatize(word,\"v\"))"
   ]
  },
  {
   "cell_type": "code",
   "execution_count": null,
   "metadata": {},
   "outputs": [],
   "source": []
  },
  {
   "cell_type": "markdown",
   "metadata": {
    "id": "lFbRq-e--WXR"
   },
   "source": [
    "## TF IDF"
   ]
  },
  {
   "cell_type": "code",
   "execution_count": 49,
   "metadata": {
    "executionInfo": {
     "elapsed": 359,
     "status": "ok",
     "timestamp": 1638230063291,
     "user": {
      "displayName": "Paulo Finardi",
      "photoUrl": "https://lh3.googleusercontent.com/a-/AOh14GiAQBvHNU6heWBW3WY6Lp0SmL_8gxcTOREX09z23XI=s64",
      "userId": "15172685182696010276"
     },
     "user_tz": 180
    },
    "id": "b-mTJYEjefw9"
   },
   "outputs": [],
   "source": [
    "import numpy as np"
   ]
  },
  {
   "cell_type": "code",
   "execution_count": 50,
   "metadata": {
    "executionInfo": {
     "elapsed": 3,
     "status": "ok",
     "timestamp": 1638230063629,
     "user": {
      "displayName": "Paulo Finardi",
      "photoUrl": "https://lh3.googleusercontent.com/a-/AOh14GiAQBvHNU6heWBW3WY6Lp0SmL_8gxcTOREX09z23XI=s64",
      "userId": "15172685182696010276"
     },
     "user_tz": 180
    },
    "id": "qxCQuu3YeN_Y"
   },
   "outputs": [],
   "source": [
    "a = \"Essa é a primeira sentença\".split()\n",
    "b = \"Aqui é a segunda sentença\".split()\n",
    "c = \"E, por fim a última frase\".split()"
   ]
  },
  {
   "cell_type": "code",
   "execution_count": 51,
   "metadata": {
    "colab": {
     "base_uri": "https://localhost:8080/"
    },
    "executionInfo": {
     "elapsed": 318,
     "status": "ok",
     "timestamp": 1638230240999,
     "user": {
      "displayName": "Paulo Finardi",
      "photoUrl": "https://lh3.googleusercontent.com/a-/AOh14GiAQBvHNU6heWBW3WY6Lp0SmL_8gxcTOREX09z23XI=s64",
      "userId": "15172685182696010276"
     },
     "user_tz": 180
    },
    "id": "GedUn-TfeTyW",
    "outputId": "cf76d9f9-f8a8-48d0-aca7-9ff798ba2685"
   },
   "outputs": [
    {
     "name": "stdout",
     "output_type": "stream",
     "text": [
      "TFIDF(a)\n",
      "TF-IDF a: 0.0\n",
      "TF-IDF b: 0.0\n",
      "TF-IDF c: 0.0\n",
      "\n",
      "TFIDF(segunda)\n",
      "TF-IDF a: 0.0\n",
      "TF-IDF b: 0.0954\n",
      "TF-IDF c: 0.0\n",
      "\n"
     ]
    }
   ],
   "source": [
    "def tfidf(word):\n",
    "    tf = []\n",
    "    count_n = 0\n",
    "    for sentence in [a, b, c]:\n",
    "        # calculate TF\n",
    "        t_count = len([x for x in sentence if x == word])\n",
    "        tf.append(t_count/len(sentence))\n",
    "        # count number of docs for IDF\n",
    "        count_n += 1 if word in sentence else 0\n",
    "    idf = np.log10(len([a, b, c]) / count_n)\n",
    "    return [round(_tf*idf, 4) for _tf in tf]\n",
    "\n",
    "# -------------------\n",
    "word = 'a'\n",
    "tfidf_a, tfidf_b, tfidf_c = tfidf(word)\n",
    "print(f'TFIDF({word})')\n",
    "print(f\"TF-IDF a: {tfidf_a}\\nTF-IDF b: {tfidf_b}\\nTF-IDF c: {tfidf_c}\\n\")    \n",
    "\n",
    "# -------------------\n",
    "word = 'segunda'\n",
    "tfidf_a, tfidf_b, tfidf_c = tfidf(word)\n",
    "print(f'TFIDF({word})')\n",
    "print(f\"TF-IDF a: {tfidf_a}\\nTF-IDF b: {tfidf_b}\\nTF-IDF c: {tfidf_c}\\n\")"
   ]
  },
  {
   "cell_type": "code",
   "execution_count": 52,
   "metadata": {
    "colab": {
     "base_uri": "https://localhost:8080/"
    },
    "executionInfo": {
     "elapsed": 324,
     "status": "ok",
     "timestamp": 1638230273761,
     "user": {
      "displayName": "Paulo Finardi",
      "photoUrl": "https://lh3.googleusercontent.com/a-/AOh14GiAQBvHNU6heWBW3WY6Lp0SmL_8gxcTOREX09z23XI=s64",
      "userId": "15172685182696010276"
     },
     "user_tz": 180
    },
    "id": "8Ai4MifSe2rG",
    "outputId": "0c628873-3e5f-4590-df9d-27a196a79a62"
   },
   "outputs": [
    {
     "name": "stdout",
     "output_type": "stream",
     "text": [
      "{'sentença', 'fim', 'última', 'frase', 'Essa', 'por', 'primeira', 'segunda', 'E,', 'a', 'é', 'Aqui'}\n"
     ]
    }
   ],
   "source": [
    "vocab = set(a+b+c)\n",
    "print(vocab)"
   ]
  },
  {
   "cell_type": "code",
   "execution_count": 53,
   "metadata": {
    "executionInfo": {
     "elapsed": 358,
     "status": "ok",
     "timestamp": 1638230280398,
     "user": {
      "displayName": "Paulo Finardi",
      "photoUrl": "https://lh3.googleusercontent.com/a-/AOh14GiAQBvHNU6heWBW3WY6Lp0SmL_8gxcTOREX09z23XI=s64",
      "userId": "15172685182696010276"
     },
     "user_tz": 180
    },
    "id": "bVZIVBZZIh0D"
   },
   "outputs": [],
   "source": [
    "# initialize vectors\n",
    "vec_a = []\n",
    "vec_b = []\n",
    "vec_c = []\n",
    "\n",
    "for word in vocab:\n",
    "    tfidf_a, tfidf_b, tfidf_c = tfidf(word)\n",
    "    vec_a.append(tfidf_a)\n",
    "    vec_b.append(tfidf_b)\n",
    "    vec_c.append(tfidf_c)"
   ]
  },
  {
   "cell_type": "code",
   "execution_count": 54,
   "metadata": {
    "colab": {
     "base_uri": "https://localhost:8080/"
    },
    "executionInfo": {
     "elapsed": 307,
     "status": "ok",
     "timestamp": 1638230282321,
     "user": {
      "displayName": "Paulo Finardi",
      "photoUrl": "https://lh3.googleusercontent.com/a-/AOh14GiAQBvHNU6heWBW3WY6Lp0SmL_8gxcTOREX09z23XI=s64",
      "userId": "15172685182696010276"
     },
     "user_tz": 180
    },
    "id": "YYnZu0QHjgSs",
    "outputId": "72301bf3-fb48-42f5-a288-2c65a04a7520"
   },
   "outputs": [
    {
     "name": "stdout",
     "output_type": "stream",
     "text": [
      "[0.0352, 0.0, 0.0, 0.0, 0.0954, 0.0, 0.0954, 0.0, 0.0, 0.0, 0.0352, 0.0]\n"
     ]
    }
   ],
   "source": [
    "print(vec_a)"
   ]
  },
  {
   "cell_type": "code",
   "execution_count": 55,
   "metadata": {
    "colab": {
     "base_uri": "https://localhost:8080/"
    },
    "executionInfo": {
     "elapsed": 319,
     "status": "ok",
     "timestamp": 1638230289548,
     "user": {
      "displayName": "Paulo Finardi",
      "photoUrl": "https://lh3.googleusercontent.com/a-/AOh14GiAQBvHNU6heWBW3WY6Lp0SmL_8gxcTOREX09z23XI=s64",
      "userId": "15172685182696010276"
     },
     "user_tz": 180
    },
    "id": "1yxqRzknlM0X",
    "outputId": "68c6d93d-2d86-4582-a354-ecca2ca841f3"
   },
   "outputs": [
    {
     "name": "stdout",
     "output_type": "stream",
     "text": [
      "[0.0352, 0.0, 0.0, 0.0, 0.0, 0.0, 0.0, 0.0954, 0.0, 0.0, 0.0352, 0.0954]\n"
     ]
    }
   ],
   "source": [
    "print(vec_b)"
   ]
  },
  {
   "cell_type": "code",
   "execution_count": 56,
   "metadata": {
    "colab": {
     "base_uri": "https://localhost:8080/"
    },
    "executionInfo": {
     "elapsed": 306,
     "status": "ok",
     "timestamp": 1638230294920,
     "user": {
      "displayName": "Paulo Finardi",
      "photoUrl": "https://lh3.googleusercontent.com/a-/AOh14GiAQBvHNU6heWBW3WY6Lp0SmL_8gxcTOREX09z23XI=s64",
      "userId": "15172685182696010276"
     },
     "user_tz": 180
    },
    "id": "COfAuGy3lxay",
    "outputId": "3d4b5f68-9e18-4915-d638-ea52f46a12db"
   },
   "outputs": [
    {
     "name": "stdout",
     "output_type": "stream",
     "text": [
      "[0.0, 0.0795, 0.0795, 0.0795, 0.0, 0.0795, 0.0, 0.0, 0.0795, 0.0, 0.0, 0.0]\n"
     ]
    }
   ],
   "source": [
    "print(vec_c)"
   ]
  },
  {
   "cell_type": "markdown",
   "metadata": {},
   "source": [
    "TF"
   ]
  },
  {
   "cell_type": "code",
   "execution_count": 57,
   "metadata": {},
   "outputs": [
    {
     "name": "stdout",
     "output_type": "stream",
     "text": [
      "                 0      1\n",
      "de        0.111111  0.125\n",
      "eu        0.111111  0.000\n",
      "gostei    0.111111  0.125\n",
      "live      0.111111  0.125\n",
      "melhorar  0.000000  0.125\n",
      "muito     0.111111  0.125\n",
      "nlp       0.111111  0.125\n",
      "no        0.111111  0.000\n",
      "não       0.000000  0.125\n",
      "pode      0.000000  0.125\n",
      "sobre     0.111111  0.000\n",
      "ugsp      0.111111  0.000\n"
     ]
    },
    {
     "name": "stderr",
     "output_type": "stream",
     "text": [
      "/home/studio-lab-user/.conda/envs/default/lib/python3.9/site-packages/sklearn/utils/deprecation.py:87: FutureWarning: Function get_feature_names is deprecated; get_feature_names is deprecated in 1.0 and will be removed in 1.2. Please use get_feature_names_out instead.\n",
      "  warnings.warn(msg, category=FutureWarning)\n"
     ]
    }
   ],
   "source": [
    "from sklearn.feature_extraction.text import TfidfVectorizer\n",
    "\n",
    "# ao usar o TfidfVectorizer() o default ngram_range=unigrama, use_idf=True, norm='l2', lowercase=True, max_df e min_df=1, smooth_idf=True, sublinear_tf=False\n",
    "vect = TfidfVectorizer(ngram_range=(1,1), use_idf=False, norm='l1')\n",
    "vect.fit(df.text)\n",
    "tf_vect = vect.transform(df.text)\n",
    "\n",
    "print(pd.DataFrame(tf_vect.A, columns=vect.get_feature_names()).T.to_string())"
   ]
  },
  {
   "cell_type": "markdown",
   "metadata": {},
   "source": [
    "TF-IDF"
   ]
  },
  {
   "cell_type": "code",
   "execution_count": 58,
   "metadata": {},
   "outputs": [
    {
     "name": "stdout",
     "output_type": "stream",
     "text": [
      "                 0         1\n",
      "de        0.278409  0.302531\n",
      "eu        0.391294  0.000000\n",
      "gostei    0.278409  0.302531\n",
      "live      0.278409  0.302531\n",
      "melhorar  0.000000  0.425196\n",
      "muito     0.278409  0.302531\n",
      "nlp       0.278409  0.302531\n",
      "no        0.391294  0.000000\n",
      "não       0.000000  0.425196\n",
      "pode      0.000000  0.425196\n",
      "sobre     0.391294  0.000000\n",
      "ugsp      0.391294  0.000000\n"
     ]
    },
    {
     "name": "stderr",
     "output_type": "stream",
     "text": [
      "/home/studio-lab-user/.conda/envs/default/lib/python3.9/site-packages/sklearn/utils/deprecation.py:87: FutureWarning: Function get_feature_names is deprecated; get_feature_names is deprecated in 1.0 and will be removed in 1.2. Please use get_feature_names_out instead.\n",
      "  warnings.warn(msg, category=FutureWarning)\n"
     ]
    }
   ],
   "source": [
    "from sklearn.feature_extraction.text import TfidfVectorizer\n",
    "\n",
    "# ao usar o TfidfVectorizer() o default ngram_range=unigrama, use_idf=True, norm='l2', lowercase=True, max_df e min_df=1, smooth_idf=True, sublinear_tf=False\n",
    "vect = TfidfVectorizer() \n",
    "vect.fit(df.text)\n",
    "tfidf_vect = vect.transform(df.text)\n",
    "\n",
    "print(pd.DataFrame(tfidf_vect.A, columns=vect.get_feature_names()).T.to_string())"
   ]
  },
  {
   "cell_type": "markdown",
   "metadata": {
    "id": "MWnJOIJBItua"
   },
   "source": [
    "## Similaridade tf-idf versus one hot"
   ]
  },
  {
   "cell_type": "code",
   "execution_count": 59,
   "metadata": {
    "executionInfo": {
     "elapsed": 295,
     "status": "ok",
     "timestamp": 1638230356666,
     "user": {
      "displayName": "Paulo Finardi",
      "photoUrl": "https://lh3.googleusercontent.com/a-/AOh14GiAQBvHNU6heWBW3WY6Lp0SmL_8gxcTOREX09z23XI=s64",
      "userId": "15172685182696010276"
     },
     "user_tz": 180
    },
    "id": "n1hRoCxQKeL0"
   },
   "outputs": [],
   "source": [
    "# a) Essa é a primeira sentença\n",
    "# b) Aqui é a segunda sentença \n",
    "# c) E, por fim a última frase\n",
    "\n",
    "# Vocabulario\n",
    "#                'Aqui', 'E,',  'Essa',  'a',  'fim',    'frase',   'por',  'primeira',  'segunda',  'sentença',  'é',  'última'\n",
    "bow_a = np.array([0,      0,       1,     1,     0,         0,        0,         1,          0,          1,        1,       0])\n",
    "bow_b = np.array([1,      0,       0,     1,     0,         0,        0,         0,          1,          1,        1,       0])\n",
    "bow_c = np.array([0,      1,       0,     1,     1,         1,        1,         0,          0,          0,        0,       1])"
   ]
  },
  {
   "cell_type": "code",
   "execution_count": 60,
   "metadata": {
    "colab": {
     "base_uri": "https://localhost:8080/"
    },
    "executionInfo": {
     "elapsed": 5,
     "status": "ok",
     "timestamp": 1638230356973,
     "user": {
      "displayName": "Paulo Finardi",
      "photoUrl": "https://lh3.googleusercontent.com/a-/AOh14GiAQBvHNU6heWBW3WY6Lp0SmL_8gxcTOREX09z23XI=s64",
      "userId": "15172685182696010276"
     },
     "user_tz": 180
    },
    "id": "yKUlrZaWMan_",
    "outputId": "5bc43011-df2a-42fb-eafa-e7198a4e184d"
   },
   "outputs": [
    {
     "name": "stdout",
     "output_type": "stream",
     "text": [
      "similaridade bow vec_a_vec_b: 0.6\n",
      "similaridade bow vec_a_vec_c: 0.183\n",
      "similaridade bow vec_b_vec_c: 0.183\n"
     ]
    }
   ],
   "source": [
    "# Similaridade BoW\n",
    "from scipy.spatial import distance\n",
    "\n",
    "BoW_vec_a_vec_b = 1 - distance.cosine(bow_a, bow_b)\n",
    "BoW_vec_a_vec_c = 1 - distance.cosine(bow_a, bow_c)\n",
    "BoW_vec_b_vec_c = 1 - distance.cosine(bow_b, bow_c)\n",
    "\n",
    "print(f'similaridade bow vec_a_vec_b: {BoW_vec_a_vec_b :.3}')\n",
    "print(f'similaridade bow vec_a_vec_c: {BoW_vec_a_vec_c :.3}')\n",
    "print(f'similaridade bow vec_b_vec_c: {BoW_vec_b_vec_c :.3}')"
   ]
  },
  {
   "cell_type": "code",
   "execution_count": 61,
   "metadata": {
    "colab": {
     "base_uri": "https://localhost:8080/"
    },
    "executionInfo": {
     "elapsed": 354,
     "status": "ok",
     "timestamp": 1638230395200,
     "user": {
      "displayName": "Paulo Finardi",
      "photoUrl": "https://lh3.googleusercontent.com/a-/AOh14GiAQBvHNU6heWBW3WY6Lp0SmL_8gxcTOREX09z23XI=s64",
      "userId": "15172685182696010276"
     },
     "user_tz": 180
    },
    "id": "Gj7Q_EpNHv4p",
    "outputId": "89bc119e-e7f4-41c7-8b80-2d9172c551df"
   },
   "outputs": [
    {
     "name": "stdout",
     "output_type": "stream",
     "text": [
      "similaridade tf-idf vec_a_vec_b: 0.12\n",
      "similaridade tf-idf vec_a_vec_c: 0.0\n",
      "similaridade tf-idf vec_b_vec_c: 0.0\n"
     ]
    }
   ],
   "source": [
    "# Similaridade tf-idf\n",
    "\n",
    "sim_vec_a_vec_b = 1 - distance.cosine(np.array(vec_a), np.array(vec_b))\n",
    "sim_vec_a_vec_c = 1 - distance.cosine(np.array(vec_a), np.array(vec_c))\n",
    "sim_vec_b_vec_c = 1 - distance.cosine(np.array(vec_b), np.array(vec_c))\n",
    "\n",
    "print(f'similaridade tf-idf vec_a_vec_b: {sim_vec_a_vec_b :.3}')\n",
    "print(f'similaridade tf-idf vec_a_vec_c: {sim_vec_a_vec_c :.3}')\n",
    "print(f'similaridade tf-idf vec_b_vec_c: {sim_vec_b_vec_c :.3}')"
   ]
  },
  {
   "cell_type": "markdown",
   "metadata": {
    "colab": {
     "base_uri": "https://localhost:8080/",
     "height": 53
    },
    "executionInfo": {
     "elapsed": 8,
     "status": "ok",
     "timestamp": 1638133408174,
     "user": {
      "displayName": "Paulo Finardi",
      "photoUrl": "https://lh3.googleusercontent.com/a-/AOh14GiAQBvHNU6heWBW3WY6Lp0SmL_8gxcTOREX09z23XI=s64",
      "userId": "15172685182696010276"
     },
     "user_tz": 180
    },
    "id": "2mAGtxKEl8_r",
    "outputId": "771aedc4-99fb-48d8-a60b-4f3cdb4e0c8f"
   },
   "source": [
    "É importante notar que os tamanhos de vocabulário podem facilmente estar na faixa de > 20K, \n",
    "então os vetores produzidos usando este método são incrivelmente esparsos - o que significa \n",
    "que não podemos codificar qualquer significado semântico."
   ]
  },
  {
   "cell_type": "markdown",
   "metadata": {
    "id": "K9odWVkl-Y7G"
   },
   "source": [
    "## Word2Vec\n",
    "\n",
    "> #### [fonte do dataset](https://www.kaggle.com/ambarish/fun-in-text-mining-with-simpsons/data?select=simpsons_script_lines.csv) \n",
    "> #### [fonte do código](https://www.kaggle.com/pierremegret/gensim-word2vec-tutorial)\n",
    "> #### [word2vec introdution](http://mccormickml.com/2016/04/19/word2vec-tutorial-the-skip-gram-model/)\n",
    "> #### [word2vec artigo](https://arxiv.org/abs/1301.3781)"
   ]
  },
  {
   "cell_type": "code",
   "execution_count": 63,
   "metadata": {
    "colab": {
     "base_uri": "https://localhost:8080/",
     "height": 423
    },
    "executionInfo": {
     "elapsed": 2087,
     "status": "ok",
     "timestamp": 1638231050852,
     "user": {
      "displayName": "Paulo Finardi",
      "photoUrl": "https://lh3.googleusercontent.com/a-/AOh14GiAQBvHNU6heWBW3WY6Lp0SmL_8gxcTOREX09z23XI=s64",
      "userId": "15172685182696010276"
     },
     "user_tz": 180
    },
    "id": "3GQb6HwFmbtK",
    "outputId": "341602eb-3f6b-4918-ac92-f404191345ce"
   },
   "outputs": [
    {
     "data": {
      "text/html": [
       "<div>\n",
       "<style scoped>\n",
       "    .dataframe tbody tr th:only-of-type {\n",
       "        vertical-align: middle;\n",
       "    }\n",
       "\n",
       "    .dataframe tbody tr th {\n",
       "        vertical-align: top;\n",
       "    }\n",
       "\n",
       "    .dataframe thead th {\n",
       "        text-align: right;\n",
       "    }\n",
       "</style>\n",
       "<table border=\"1\" class=\"dataframe\">\n",
       "  <thead>\n",
       "    <tr style=\"text-align: right;\">\n",
       "      <th></th>\n",
       "      <th>raw_character_text</th>\n",
       "      <th>spoken_words</th>\n",
       "    </tr>\n",
       "  </thead>\n",
       "  <tbody>\n",
       "    <tr>\n",
       "      <th>0</th>\n",
       "      <td>Miss Hoover</td>\n",
       "      <td>No, actually, it was a little of both. Sometim...</td>\n",
       "    </tr>\n",
       "    <tr>\n",
       "      <th>1</th>\n",
       "      <td>Lisa Simpson</td>\n",
       "      <td>Where's Mr. Bergstrom?</td>\n",
       "    </tr>\n",
       "    <tr>\n",
       "      <th>2</th>\n",
       "      <td>Miss Hoover</td>\n",
       "      <td>I don't know. Although I'd sure like to talk t...</td>\n",
       "    </tr>\n",
       "    <tr>\n",
       "      <th>3</th>\n",
       "      <td>Lisa Simpson</td>\n",
       "      <td>That life is worth living.</td>\n",
       "    </tr>\n",
       "    <tr>\n",
       "      <th>4</th>\n",
       "      <td>Edna Krabappel-Flanders</td>\n",
       "      <td>The polls will be open from now until the end ...</td>\n",
       "    </tr>\n",
       "    <tr>\n",
       "      <th>...</th>\n",
       "      <td>...</td>\n",
       "      <td>...</td>\n",
       "    </tr>\n",
       "    <tr>\n",
       "      <th>132105</th>\n",
       "      <td>Miss Hoover</td>\n",
       "      <td>I'm back.</td>\n",
       "    </tr>\n",
       "    <tr>\n",
       "      <th>132106</th>\n",
       "      <td>Miss Hoover</td>\n",
       "      <td>You see, class, my Lyme disease turned out to ...</td>\n",
       "    </tr>\n",
       "    <tr>\n",
       "      <th>132107</th>\n",
       "      <td>Miss Hoover</td>\n",
       "      <td>Psy-cho-so-ma-tic.</td>\n",
       "    </tr>\n",
       "    <tr>\n",
       "      <th>132108</th>\n",
       "      <td>Ralph Wiggum</td>\n",
       "      <td>Does that mean you were crazy?</td>\n",
       "    </tr>\n",
       "    <tr>\n",
       "      <th>132109</th>\n",
       "      <td>JANEY</td>\n",
       "      <td>No, that means she was faking it.</td>\n",
       "    </tr>\n",
       "  </tbody>\n",
       "</table>\n",
       "<p>132110 rows × 2 columns</p>\n",
       "</div>"
      ],
      "text/plain": [
       "             raw_character_text  \\\n",
       "0                   Miss Hoover   \n",
       "1                  Lisa Simpson   \n",
       "2                   Miss Hoover   \n",
       "3                  Lisa Simpson   \n",
       "4       Edna Krabappel-Flanders   \n",
       "...                         ...   \n",
       "132105              Miss Hoover   \n",
       "132106              Miss Hoover   \n",
       "132107              Miss Hoover   \n",
       "132108             Ralph Wiggum   \n",
       "132109                    JANEY   \n",
       "\n",
       "                                             spoken_words  \n",
       "0       No, actually, it was a little of both. Sometim...  \n",
       "1                                  Where's Mr. Bergstrom?  \n",
       "2       I don't know. Although I'd sure like to talk t...  \n",
       "3                              That life is worth living.  \n",
       "4       The polls will be open from now until the end ...  \n",
       "...                                                   ...  \n",
       "132105                                          I'm back.  \n",
       "132106  You see, class, my Lyme disease turned out to ...  \n",
       "132107                                 Psy-cho-so-ma-tic.  \n",
       "132108                     Does that mean you were crazy?  \n",
       "132109                  No, that means she was faking it.  \n",
       "\n",
       "[132110 rows x 2 columns]"
      ]
     },
     "execution_count": 63,
     "metadata": {},
     "output_type": "execute_result"
    }
   ],
   "source": [
    "import pandas as pd\n",
    "\n",
    "df = pd.read_csv('./simpsons_processed.csv', index_col=0)\n",
    "df"
   ]
  },
  {
   "cell_type": "code",
   "execution_count": 64,
   "metadata": {
    "colab": {
     "base_uri": "https://localhost:8080/",
     "height": 35
    },
    "executionInfo": {
     "elapsed": 366,
     "status": "ok",
     "timestamp": 1638231122125,
     "user": {
      "displayName": "Paulo Finardi",
      "photoUrl": "https://lh3.googleusercontent.com/a-/AOh14GiAQBvHNU6heWBW3WY6Lp0SmL_8gxcTOREX09z23XI=s64",
      "userId": "15172685182696010276"
     },
     "user_tz": 180
    },
    "id": "PndxL4PefgF7",
    "outputId": "daf717c2-9951-49cc-e212-781e45b13de0"
   },
   "outputs": [
    {
     "data": {
      "text/plain": [
       "'That life is worth living.'"
      ]
     },
     "execution_count": 64,
     "metadata": {},
     "output_type": "execute_result"
    }
   ],
   "source": [
    "df.spoken_words.to_list()[3] "
   ]
  },
  {
   "cell_type": "code",
   "execution_count": 65,
   "metadata": {
    "executionInfo": {
     "elapsed": 821,
     "status": "ok",
     "timestamp": 1638231147680,
     "user": {
      "displayName": "Paulo Finardi",
      "photoUrl": "https://lh3.googleusercontent.com/a-/AOh14GiAQBvHNU6heWBW3WY6Lp0SmL_8gxcTOREX09z23XI=s64",
      "userId": "15172685182696010276"
     },
     "user_tz": 180
    },
    "id": "IqMc4DHj_n2b"
   },
   "outputs": [],
   "source": [
    "import re  # For preprocessing\n",
    "from time import time  # To time our operations\n",
    "from collections import defaultdict  # For word frequency\n",
    "\n",
    "import spacy  # For preprocessing\n",
    "\n",
    "import logging  # Setting up the loggings to monitor gensim\n",
    "logging.basicConfig(format=\"%(levelname)s - %(asctime)s: %(message)s\", datefmt= '%H:%M:%S', level=logging.INFO)"
   ]
  },
  {
   "cell_type": "code",
   "execution_count": 66,
   "metadata": {
    "executionInfo": {
     "elapsed": 314,
     "status": "ok",
     "timestamp": 1638231236298,
     "user": {
      "displayName": "Paulo Finardi",
      "photoUrl": "https://lh3.googleusercontent.com/a-/AOh14GiAQBvHNU6heWBW3WY6Lp0SmL_8gxcTOREX09z23XI=s64",
      "userId": "15172685182696010276"
     },
     "user_tz": 180
    },
    "id": "9vV2gALf_n0b"
   },
   "outputs": [],
   "source": [
    "def cleaning(doc):\n",
    "    # Lemmatizes and removes stopwords\n",
    "    # doc needs to be a spacy Doc object\n",
    "    txt = [token.lemma_ for token in doc if not token.is_stop]\n",
    "    # Word2Vec uses context words to learn the vector representation of a target word,\n",
    "    # if a sentence is only one or two words long,\n",
    "    # the benefit for the training is very small\n",
    "    if len(txt) > 2:\n",
    "        return ' '.join(txt)"
   ]
  },
  {
   "cell_type": "code",
   "execution_count": 67,
   "metadata": {
    "executionInfo": {
     "elapsed": 4,
     "status": "ok",
     "timestamp": 1638231236648,
     "user": {
      "displayName": "Paulo Finardi",
      "photoUrl": "https://lh3.googleusercontent.com/a-/AOh14GiAQBvHNU6heWBW3WY6Lp0SmL_8gxcTOREX09z23XI=s64",
      "userId": "15172685182696010276"
     },
     "user_tz": 180
    },
    "id": "8c0uik5E_nxW"
   },
   "outputs": [],
   "source": [
    "# Regex \n",
    "brief_cleaning = (re.sub(\"[^A-Za-z']+\", ' ', str(row)).lower() for row in df['spoken_words'])"
   ]
  },
  {
   "cell_type": "code",
   "execution_count": 68,
   "metadata": {
    "colab": {
     "base_uri": "https://localhost:8080/"
    },
    "executionInfo": {
     "elapsed": 67901,
     "status": "ok",
     "timestamp": 1638231305380,
     "user": {
      "displayName": "Paulo Finardi",
      "photoUrl": "https://lh3.googleusercontent.com/a-/AOh14GiAQBvHNU6heWBW3WY6Lp0SmL_8gxcTOREX09z23XI=s64",
      "userId": "15172685182696010276"
     },
     "user_tz": 180
    },
    "id": "xHXfiUA5_7Wu",
    "outputId": "a1eab509-e756-42ad-81d4-be19575cb139"
   },
   "outputs": [
    {
     "name": "stdout",
     "output_type": "stream",
     "text": [
      "Time to clean up everything: 1.55 mins\n"
     ]
    }
   ],
   "source": [
    "t = time()\n",
    "\n",
    "nlp = spacy.load(\"en_core_web_sm\", disable=['ner', 'parser']) # disabling Named Entity Recognition for speed\n",
    "\n",
    "txt = [cleaning(doc) for doc in nlp.pipe(brief_cleaning, batch_size=5000, n_process=-1)]\n",
    "\n",
    "print(f'Time to clean up everything: {round((time() - t)/60, 2)} mins')"
   ]
  },
  {
   "cell_type": "code",
   "execution_count": 69,
   "metadata": {
    "colab": {
     "base_uri": "https://localhost:8080/"
    },
    "executionInfo": {
     "elapsed": 10,
     "status": "ok",
     "timestamp": 1638231306261,
     "user": {
      "displayName": "Paulo Finardi",
      "photoUrl": "https://lh3.googleusercontent.com/a-/AOh14GiAQBvHNU6heWBW3WY6Lp0SmL_8gxcTOREX09z23XI=s64",
      "userId": "15172685182696010276"
     },
     "user_tz": 180
    },
    "id": "VpdKer7B_nvC",
    "outputId": "7c5a5ab2-d176-46f9-ddf5-241457130222"
   },
   "outputs": [
    {
     "data": {
      "text/plain": [
       "(86207, 1)"
      ]
     },
     "execution_count": 69,
     "metadata": {},
     "output_type": "execute_result"
    }
   ],
   "source": [
    "df_clean = pd.DataFrame({'clean': txt})\n",
    "df_clean = df_clean.dropna().drop_duplicates()\n",
    "df_clean.shape"
   ]
  },
  {
   "cell_type": "code",
   "execution_count": 70,
   "metadata": {
    "colab": {
     "base_uri": "https://localhost:8080/",
     "height": 423
    },
    "executionInfo": {
     "elapsed": 369,
     "status": "ok",
     "timestamp": 1638231306625,
     "user": {
      "displayName": "Paulo Finardi",
      "photoUrl": "https://lh3.googleusercontent.com/a-/AOh14GiAQBvHNU6heWBW3WY6Lp0SmL_8gxcTOREX09z23XI=s64",
      "userId": "15172685182696010276"
     },
     "user_tz": 180
    },
    "id": "dJjyOmCDBw4S",
    "outputId": "3b72d148-1a21-4d31-87d7-9c0f749a0b9f"
   },
   "outputs": [
    {
     "data": {
      "text/html": [
       "<div>\n",
       "<style scoped>\n",
       "    .dataframe tbody tr th:only-of-type {\n",
       "        vertical-align: middle;\n",
       "    }\n",
       "\n",
       "    .dataframe tbody tr th {\n",
       "        vertical-align: top;\n",
       "    }\n",
       "\n",
       "    .dataframe thead th {\n",
       "        text-align: right;\n",
       "    }\n",
       "</style>\n",
       "<table border=\"1\" class=\"dataframe\">\n",
       "  <thead>\n",
       "    <tr style=\"text-align: right;\">\n",
       "      <th></th>\n",
       "      <th>clean</th>\n",
       "    </tr>\n",
       "  </thead>\n",
       "  <tbody>\n",
       "    <tr>\n",
       "      <th>0</th>\n",
       "      <td>actually little disease magazine news show nat...</td>\n",
       "    </tr>\n",
       "    <tr>\n",
       "      <th>2</th>\n",
       "      <td>know sure like talk touch lesson plan teach</td>\n",
       "    </tr>\n",
       "    <tr>\n",
       "      <th>3</th>\n",
       "      <td>life worth live</td>\n",
       "    </tr>\n",
       "    <tr>\n",
       "      <th>4</th>\n",
       "      <td>poll open end recess case decide thought final...</td>\n",
       "    </tr>\n",
       "    <tr>\n",
       "      <th>7</th>\n",
       "      <td>victory party slide</td>\n",
       "    </tr>\n",
       "    <tr>\n",
       "      <th>...</th>\n",
       "      <td>...</td>\n",
       "    </tr>\n",
       "    <tr>\n",
       "      <th>132086</th>\n",
       "      <td>oh mom wonderful find favorite dish help</td>\n",
       "    </tr>\n",
       "    <tr>\n",
       "      <th>132092</th>\n",
       "      <td>dye shoe pink</td>\n",
       "    </tr>\n",
       "    <tr>\n",
       "      <th>132103</th>\n",
       "      <td>mr bergstrom request pleasure company mr bergs...</td>\n",
       "    </tr>\n",
       "    <tr>\n",
       "      <th>132106</th>\n",
       "      <td>class lyme disease turn</td>\n",
       "    </tr>\n",
       "    <tr>\n",
       "      <th>132107</th>\n",
       "      <td>psy cho ma tic</td>\n",
       "    </tr>\n",
       "  </tbody>\n",
       "</table>\n",
       "<p>86207 rows × 1 columns</p>\n",
       "</div>"
      ],
      "text/plain": [
       "                                                    clean\n",
       "0       actually little disease magazine news show nat...\n",
       "2             know sure like talk touch lesson plan teach\n",
       "3                                         life worth live\n",
       "4       poll open end recess case decide thought final...\n",
       "7                                     victory party slide\n",
       "...                                                   ...\n",
       "132086           oh mom wonderful find favorite dish help\n",
       "132092                                      dye shoe pink\n",
       "132103  mr bergstrom request pleasure company mr bergs...\n",
       "132106                            class lyme disease turn\n",
       "132107                                     psy cho ma tic\n",
       "\n",
       "[86207 rows x 1 columns]"
      ]
     },
     "execution_count": 70,
     "metadata": {},
     "output_type": "execute_result"
    }
   ],
   "source": [
    "df_clean"
   ]
  },
  {
   "cell_type": "code",
   "execution_count": 71,
   "metadata": {
    "colab": {
     "base_uri": "https://localhost:8080/"
    },
    "executionInfo": {
     "elapsed": 548,
     "status": "ok",
     "timestamp": 1638231311883,
     "user": {
      "displayName": "Paulo Finardi",
      "photoUrl": "https://lh3.googleusercontent.com/a-/AOh14GiAQBvHNU6heWBW3WY6Lp0SmL_8gxcTOREX09z23XI=s64",
      "userId": "15172685182696010276"
     },
     "user_tz": 180
    },
    "id": "43JXBwr4_nsx",
    "outputId": "a22428e5-5d81-4126-d537-b78df2451da2"
   },
   "outputs": [],
   "source": [
    "from gensim.models.phrases import Phrases, Phraser"
   ]
  },
  {
   "cell_type": "code",
   "execution_count": 72,
   "metadata": {
    "colab": {
     "base_uri": "https://localhost:8080/"
    },
    "executionInfo": {
     "elapsed": 331,
     "status": "ok",
     "timestamp": 1638231314410,
     "user": {
      "displayName": "Paulo Finardi",
      "photoUrl": "https://lh3.googleusercontent.com/a-/AOh14GiAQBvHNU6heWBW3WY6Lp0SmL_8gxcTOREX09z23XI=s64",
      "userId": "15172685182696010276"
     },
     "user_tz": 180
    },
    "id": "vplqhkQl_nqc",
    "outputId": "9d87a223-5a8c-4cfc-87e7-c04dcdbb2931"
   },
   "outputs": [
    {
     "data": {
      "text/plain": [
       "[['actually',\n",
       "  'little',\n",
       "  'disease',\n",
       "  'magazine',\n",
       "  'news',\n",
       "  'show',\n",
       "  'natural',\n",
       "  'think'],\n",
       " ['know', 'sure', 'like', 'talk', 'touch', 'lesson', 'plan', 'teach'],\n",
       " ['life', 'worth', 'live']]"
      ]
     },
     "execution_count": 72,
     "metadata": {},
     "output_type": "execute_result"
    }
   ],
   "source": [
    "# Phrases takes a list of list words\n",
    "sent = [row.split() for row in df_clean['clean']]\n",
    "sent[:3]"
   ]
  },
  {
   "cell_type": "code",
   "execution_count": 73,
   "metadata": {
    "colab": {
     "base_uri": "https://localhost:8080/"
    },
    "executionInfo": {
     "elapsed": 1451,
     "status": "ok",
     "timestamp": 1638231340788,
     "user": {
      "displayName": "Paulo Finardi",
      "photoUrl": "https://lh3.googleusercontent.com/a-/AOh14GiAQBvHNU6heWBW3WY6Lp0SmL_8gxcTOREX09z23XI=s64",
      "userId": "15172685182696010276"
     },
     "user_tz": 180
    },
    "id": "fMJQ7f4v_noj",
    "outputId": "0bd72a32-8846-448a-b2aa-22ad55aa0770"
   },
   "outputs": [
    {
     "name": "stderr",
     "output_type": "stream",
     "text": [
      "INFO - 02:04:37: collecting all words and their counts\n",
      "INFO - 02:04:37: PROGRESS: at sentence #0, processed 0 words and 0 word types\n",
      "INFO - 02:04:37: PROGRESS: at sentence #10000, processed 63781 words and 52974 word types\n",
      "INFO - 02:04:37: PROGRESS: at sentence #20000, processed 131388 words and 100087 word types\n",
      "INFO - 02:04:37: PROGRESS: at sentence #30000, processed 193529 words and 138744 word types\n",
      "INFO - 02:04:37: PROGRESS: at sentence #40000, processed 250538 words and 172822 word types\n",
      "INFO - 02:04:37: PROGRESS: at sentence #50000, processed 311834 words and 208567 word types\n",
      "INFO - 02:04:37: PROGRESS: at sentence #60000, processed 374245 words and 243766 word types\n",
      "INFO - 02:04:37: PROGRESS: at sentence #70000, processed 437105 words and 278729 word types\n",
      "INFO - 02:04:37: PROGRESS: at sentence #80000, processed 498678 words and 311828 word types\n",
      "INFO - 02:04:37: collected 331703 token types (unigram + bigrams) from a corpus of 539804 words and 86207 sentences\n",
      "INFO - 02:04:37: merged Phrases<331703 vocab, min_count=30, threshold=10.0, max_vocab_size=40000000>\n",
      "INFO - 02:04:37: Phrases lifecycle event {'msg': 'built Phrases<331703 vocab, min_count=30, threshold=10.0, max_vocab_size=40000000> in 0.71s', 'datetime': '2022-04-12T02:04:37.888600', 'gensim': '4.1.2', 'python': '3.9.10 | packaged by conda-forge | (main, Feb  1 2022, 21:24:37) \\n[GCC 9.4.0]', 'platform': 'Linux-4.14.262-200.489.amzn2.x86_64-x86_64-with-glibc2.31', 'event': 'created'}\n"
     ]
    }
   ],
   "source": [
    "phrases = Phrases(sent, min_count=30, progress_per=10000)"
   ]
  },
  {
   "cell_type": "code",
   "execution_count": 74,
   "metadata": {
    "colab": {
     "base_uri": "https://localhost:8080/"
    },
    "executionInfo": {
     "elapsed": 4014,
     "status": "ok",
     "timestamp": 1638231369370,
     "user": {
      "displayName": "Paulo Finardi",
      "photoUrl": "https://lh3.googleusercontent.com/a-/AOh14GiAQBvHNU6heWBW3WY6Lp0SmL_8gxcTOREX09z23XI=s64",
      "userId": "15172685182696010276"
     },
     "user_tz": 180
    },
    "id": "2f0cCXdN_nl7",
    "outputId": "4f5be35b-79f9-49d2-a477-229e6bf45288"
   },
   "outputs": [
    {
     "name": "stderr",
     "output_type": "stream",
     "text": [
      "INFO - 02:04:37: exporting phrases from Phrases<331703 vocab, min_count=30, threshold=10.0, max_vocab_size=40000000>\n",
      "INFO - 02:04:38: FrozenPhrases lifecycle event {'msg': 'exported FrozenPhrases<128 phrases, min_count=30, threshold=10.0> from Phrases<331703 vocab, min_count=30, threshold=10.0, max_vocab_size=40000000> in 0.59s', 'datetime': '2022-04-12T02:04:38.483383', 'gensim': '4.1.2', 'python': '3.9.10 | packaged by conda-forge | (main, Feb  1 2022, 21:24:37) \\n[GCC 9.4.0]', 'platform': 'Linux-4.14.262-200.489.amzn2.x86_64-x86_64-with-glibc2.31', 'event': 'created'}\n"
     ]
    }
   ],
   "source": [
    "# The goal of Phraser() is to cut down memory consumption of Phrases()\n",
    "bigram = Phraser(phrases)"
   ]
  },
  {
   "cell_type": "code",
   "execution_count": 75,
   "metadata": {
    "executionInfo": {
     "elapsed": 316,
     "status": "ok",
     "timestamp": 1638231415041,
     "user": {
      "displayName": "Paulo Finardi",
      "photoUrl": "https://lh3.googleusercontent.com/a-/AOh14GiAQBvHNU6heWBW3WY6Lp0SmL_8gxcTOREX09z23XI=s64",
      "userId": "15172685182696010276"
     },
     "user_tz": 180
    },
    "id": "YpHY-NIP_njh"
   },
   "outputs": [],
   "source": [
    "# Transform the corpus based on the bigrams detected:\n",
    "sentences = bigram[sent]"
   ]
  },
  {
   "cell_type": "markdown",
   "metadata": {
    "id": "i45yxcdp_nhe"
   },
   "source": [
    "## Most Frequent Words:\n",
    "> #### Mainly a sanity check of the effectiveness of the lemmatization, removal of stopwords, and addition of bigrams."
   ]
  },
  {
   "cell_type": "code",
   "execution_count": 76,
   "metadata": {
    "colab": {
     "base_uri": "https://localhost:8080/"
    },
    "executionInfo": {
     "elapsed": 2392,
     "status": "ok",
     "timestamp": 1638231427963,
     "user": {
      "displayName": "Paulo Finardi",
      "photoUrl": "https://lh3.googleusercontent.com/a-/AOh14GiAQBvHNU6heWBW3WY6Lp0SmL_8gxcTOREX09z23XI=s64",
      "userId": "15172685182696010276"
     },
     "user_tz": 180
    },
    "id": "NL4MGH7E_nfL",
    "outputId": "cc5de673-dbf5-421b-f0db-99ffa7e43733"
   },
   "outputs": [
    {
     "data": {
      "text/plain": [
       "29723"
      ]
     },
     "execution_count": 76,
     "metadata": {},
     "output_type": "execute_result"
    }
   ],
   "source": [
    "word_freq = defaultdict(int)\n",
    "for sent in sentences:\n",
    "    for i in sent:\n",
    "        word_freq[i] += 1\n",
    "len(word_freq)"
   ]
  },
  {
   "cell_type": "code",
   "execution_count": 77,
   "metadata": {
    "colab": {
     "base_uri": "https://localhost:8080/"
    },
    "executionInfo": {
     "elapsed": 4,
     "status": "ok",
     "timestamp": 1638231428408,
     "user": {
      "displayName": "Paulo Finardi",
      "photoUrl": "https://lh3.googleusercontent.com/a-/AOh14GiAQBvHNU6heWBW3WY6Lp0SmL_8gxcTOREX09z23XI=s64",
      "userId": "15172685182696010276"
     },
     "user_tz": 180
    },
    "id": "L3ec-AJ2_ndA",
    "outputId": "4424574e-0f3f-488a-c9b2-e87c00aadad8"
   },
   "outputs": [
    {
     "data": {
      "text/plain": [
       "['oh', 'like', 'know', 'get', 'hey', 'think', 'come', 'right', 'look', 'want']"
      ]
     },
     "execution_count": 77,
     "metadata": {},
     "output_type": "execute_result"
    }
   ],
   "source": [
    "sorted(word_freq, key=word_freq.get, reverse=True)[:10]"
   ]
  },
  {
   "cell_type": "markdown",
   "metadata": {
    "id": "cubPbhM7CzM5"
   },
   "source": [
    "## Training the model - Gensim Word2Vec Implementation:\n",
    "\n",
    "### The training of the model has 3 steps:\n",
    "\n",
    "> #### 1. `Word2Vec()`: In this first step, we set up the parameters of the model one-by-one.\n",
    "> #### 2.  `build_vocab()`: build the vocabulary from a sequence of sentences and thus initialized the model.\n",
    "> #### 3. `train()`: train the model. The loggings here are mainly useful for monitoring, making sure that no threads are executed instantaneously."
   ]
  },
  {
   "cell_type": "code",
   "execution_count": 78,
   "metadata": {
    "executionInfo": {
     "elapsed": 339,
     "status": "ok",
     "timestamp": 1638231446088,
     "user": {
      "displayName": "Paulo Finardi",
      "photoUrl": "https://lh3.googleusercontent.com/a-/AOh14GiAQBvHNU6heWBW3WY6Lp0SmL_8gxcTOREX09z23XI=s64",
      "userId": "15172685182696010276"
     },
     "user_tz": 180
    },
    "id": "MN8m8A2pDAXx"
   },
   "outputs": [],
   "source": [
    "import os\n",
    "from gensim.models import Word2Vec"
   ]
  },
  {
   "cell_type": "code",
   "execution_count": 79,
   "metadata": {
    "colab": {
     "base_uri": "https://localhost:8080/"
    },
    "executionInfo": {
     "elapsed": 348,
     "status": "ok",
     "timestamp": 1638231456697,
     "user": {
      "displayName": "Paulo Finardi",
      "photoUrl": "https://lh3.googleusercontent.com/a-/AOh14GiAQBvHNU6heWBW3WY6Lp0SmL_8gxcTOREX09z23XI=s64",
      "userId": "15172685182696010276"
     },
     "user_tz": 180
    },
    "id": "Qn4fZ3y_DC5i",
    "outputId": "2f4eda92-c84b-4b11-b7a6-947cae4698e2"
   },
   "outputs": [
    {
     "data": {
      "text/plain": [
       "4"
      ]
     },
     "execution_count": 79,
     "metadata": {},
     "output_type": "execute_result"
    }
   ],
   "source": [
    "cores = os.cpu_count() # Count the number of cores in a computer\n",
    "cores"
   ]
  },
  {
   "cell_type": "code",
   "execution_count": 80,
   "metadata": {
    "executionInfo": {
     "elapsed": 332,
     "status": "ok",
     "timestamp": 1638231494364,
     "user": {
      "displayName": "Paulo Finardi",
      "photoUrl": "https://lh3.googleusercontent.com/a-/AOh14GiAQBvHNU6heWBW3WY6Lp0SmL_8gxcTOREX09z23XI=s64",
      "userId": "15172685182696010276"
     },
     "user_tz": 180
    },
    "id": "inf-uM6aEBpY"
   },
   "outputs": [
    {
     "name": "stderr",
     "output_type": "stream",
     "text": [
      "INFO - 02:04:40: Word2Vec lifecycle event {'params': 'Word2Vec(vocab=0, vector_size=300, alpha=0.03)', 'datetime': '2022-04-12T02:04:40.830436', 'gensim': '4.1.2', 'python': '3.9.10 | packaged by conda-forge | (main, Feb  1 2022, 21:24:37) \\n[GCC 9.4.0]', 'platform': 'Linux-4.14.262-200.489.amzn2.x86_64-x86_64-with-glibc2.31', 'event': 'created'}\n"
     ]
    }
   ],
   "source": [
    "# 1 Word2Vec()\n",
    "w2v_model = Word2Vec(\n",
    "    min_count=20,     # int - Ignores all words with total absolute frequency lower than this - (2, 100)\n",
    "    window=2,         # int - The maximum distance between the current and predicted word within a sentence. \n",
    "    vector_size=300,         # int - Dimensionality of the feature vectors. - (50, 300)\n",
    "    sample=6e-5,      # float - The threshold for configuring which higher-frequency words are randomly downsampled. \n",
    "    alpha=0.03,       # float - The initial learning rate - (0.01, 0.05)\n",
    "    min_alpha=0.0007, # float - Learning rate will linearly drop to min_alpha as training progresses. \n",
    "    negative=20,      # int - If > 0, negative sampling will be used, the int for negative specifies how many \"noise words\" should be drown. \n",
    "    workers=cores,    #  int - Use these many worker threads to train the model (=faster training with multicore machines) \n",
    "    )"
   ]
  },
  {
   "cell_type": "code",
   "execution_count": 81,
   "metadata": {
    "colab": {
     "base_uri": "https://localhost:8080/"
    },
    "executionInfo": {
     "elapsed": 3240,
     "status": "ok",
     "timestamp": 1638231507422,
     "user": {
      "displayName": "Paulo Finardi",
      "photoUrl": "https://lh3.googleusercontent.com/a-/AOh14GiAQBvHNU6heWBW3WY6Lp0SmL_8gxcTOREX09z23XI=s64",
      "userId": "15172685182696010276"
     },
     "user_tz": 180
    },
    "id": "IYzHoa97E92W",
    "outputId": "ce862d48-4e98-4eb2-c97a-a35aa9cb26ea"
   },
   "outputs": [
    {
     "name": "stderr",
     "output_type": "stream",
     "text": [
      "INFO - 02:05:15: collecting all words and their counts\n",
      "INFO - 02:05:15: PROGRESS: at sentence #0, processed 0 words, keeping 0 word types\n",
      "INFO - 02:05:15: PROGRESS: at sentence #10000, processed 61910 words, keeping 9532 word types\n",
      "INFO - 02:05:15: PROGRESS: at sentence #20000, processed 127742 words, keeping 14395 word types\n",
      "INFO - 02:05:15: PROGRESS: at sentence #30000, processed 188296 words, keeping 17438 word types\n",
      "INFO - 02:05:15: PROGRESS: at sentence #40000, processed 243931 words, keeping 20118 word types\n",
      "INFO - 02:05:15: PROGRESS: at sentence #50000, processed 303644 words, keeping 22527 word types\n",
      "INFO - 02:05:15: PROGRESS: at sentence #60000, processed 364495 words, keeping 24816 word types\n",
      "INFO - 02:05:15: PROGRESS: at sentence #70000, processed 425933 words, keeping 26982 word types\n",
      "INFO - 02:05:15: PROGRESS: at sentence #80000, processed 486150 words, keeping 28784 word types\n",
      "INFO - 02:05:15: collected 29723 word types from a corpus of 526126 raw words and 86207 sentences\n",
      "INFO - 02:05:15: Creating a fresh vocabulary\n",
      "INFO - 02:05:15: Word2Vec lifecycle event {'msg': 'effective_min_count=20 retains 3335 unique words (11.220267133196515%% of original 29723, drops 26388)', 'datetime': '2022-04-12T02:05:15.840793', 'gensim': '4.1.2', 'python': '3.9.10 | packaged by conda-forge | (main, Feb  1 2022, 21:24:37) \\n[GCC 9.4.0]', 'platform': 'Linux-4.14.262-200.489.amzn2.x86_64-x86_64-with-glibc2.31', 'event': 'prepare_vocab'}\n",
      "INFO - 02:05:15: Word2Vec lifecycle event {'msg': 'effective_min_count=20 leaves 440262 word corpus (83.67995499177003%% of original 526126, drops 85864)', 'datetime': '2022-04-12T02:05:15.841484', 'gensim': '4.1.2', 'python': '3.9.10 | packaged by conda-forge | (main, Feb  1 2022, 21:24:37) \\n[GCC 9.4.0]', 'platform': 'Linux-4.14.262-200.489.amzn2.x86_64-x86_64-with-glibc2.31', 'event': 'prepare_vocab'}\n",
      "INFO - 02:05:15: deleting the raw counts dictionary of 29723 items\n",
      "INFO - 02:05:15: sample=6e-05 downsamples 1192 most-common words\n",
      "INFO - 02:05:15: Word2Vec lifecycle event {'msg': 'downsampling leaves estimated 200759.57146057178 word corpus (45.6%% of prior 440262)', 'datetime': '2022-04-12T02:05:15.861191', 'gensim': '4.1.2', 'python': '3.9.10 | packaged by conda-forge | (main, Feb  1 2022, 21:24:37) \\n[GCC 9.4.0]', 'platform': 'Linux-4.14.262-200.489.amzn2.x86_64-x86_64-with-glibc2.31', 'event': 'prepare_vocab'}\n",
      "INFO - 02:05:15: estimated required memory for 3335 words and 300 dimensions: 9671500 bytes\n",
      "INFO - 02:05:15: resetting layer weights\n",
      "INFO - 02:05:15: Word2Vec lifecycle event {'update': False, 'trim_rule': 'None', 'datetime': '2022-04-12T02:05:15.898904', 'gensim': '4.1.2', 'python': '3.9.10 | packaged by conda-forge | (main, Feb  1 2022, 21:24:37) \\n[GCC 9.4.0]', 'platform': 'Linux-4.14.262-200.489.amzn2.x86_64-x86_64-with-glibc2.31', 'event': 'build_vocab'}\n"
     ]
    },
    {
     "name": "stdout",
     "output_type": "stream",
     "text": [
      "Time to build vocab: 0.01 mins\n"
     ]
    }
   ],
   "source": [
    "# Build the Vocabulary\n",
    "t = time()\n",
    "\n",
    "w2v_model.build_vocab(sentences, progress_per=10000)\n",
    "\n",
    "print(f'Time to build vocab: {round((time()-t)/60, 2)} mins')"
   ]
  },
  {
   "cell_type": "code",
   "execution_count": 82,
   "metadata": {
    "colab": {
     "base_uri": "https://localhost:8080/"
    },
    "executionInfo": {
     "elapsed": 94506,
     "status": "ok",
     "timestamp": 1638231615207,
     "user": {
      "displayName": "Paulo Finardi",
      "photoUrl": "https://lh3.googleusercontent.com/a-/AOh14GiAQBvHNU6heWBW3WY6Lp0SmL_8gxcTOREX09z23XI=s64",
      "userId": "15172685182696010276"
     },
     "user_tz": 180
    },
    "id": "Z1JkxfXkFaIF",
    "outputId": "a3f545f0-3ea4-4827-a695-3a995011c9eb"
   },
   "outputs": [
    {
     "name": "stderr",
     "output_type": "stream",
     "text": [
      "INFO - 02:05:24: Word2Vec lifecycle event {'msg': 'training model with 4 workers on 3335 vocabulary and 300 features, using sg=0 hs=0 sample=6e-05 negative=20 window=2 shrink_windows=True', 'datetime': '2022-04-12T02:05:24.530574', 'gensim': '4.1.2', 'python': '3.9.10 | packaged by conda-forge | (main, Feb  1 2022, 21:24:37) \\n[GCC 9.4.0]', 'platform': 'Linux-4.14.262-200.489.amzn2.x86_64-x86_64-with-glibc2.31', 'event': 'train'}\n",
      "INFO - 02:05:25: EPOCH 1 - PROGRESS: at 51.54% examples, 100814 words/s, in_qsize 8, out_qsize 0\n",
      "INFO - 02:05:25: worker thread finished; awaiting finish of 3 more threads\n",
      "INFO - 02:05:25: worker thread finished; awaiting finish of 2 more threads\n",
      "INFO - 02:05:25: worker thread finished; awaiting finish of 1 more threads\n",
      "INFO - 02:05:25: worker thread finished; awaiting finish of 0 more threads\n",
      "INFO - 02:05:25: EPOCH - 1 : training on 526126 raw words (200641 effective words) took 1.4s, 143440 effective words/s\n",
      "INFO - 02:05:26: EPOCH 2 - PROGRESS: at 91.58% examples, 180318 words/s, in_qsize 5, out_qsize 0\n",
      "INFO - 02:05:26: worker thread finished; awaiting finish of 3 more threads\n",
      "INFO - 02:05:26: worker thread finished; awaiting finish of 2 more threads\n",
      "INFO - 02:05:26: worker thread finished; awaiting finish of 1 more threads\n",
      "INFO - 02:05:26: worker thread finished; awaiting finish of 0 more threads\n",
      "INFO - 02:05:26: EPOCH - 2 : training on 526126 raw words (200420 effective words) took 1.0s, 190962 effective words/s\n",
      "INFO - 02:05:27: worker thread finished; awaiting finish of 3 more threads\n",
      "INFO - 02:05:27: worker thread finished; awaiting finish of 2 more threads\n",
      "INFO - 02:05:28: EPOCH 3 - PROGRESS: at 98.21% examples, 196183 words/s, in_qsize 1, out_qsize 1\n",
      "INFO - 02:05:28: worker thread finished; awaiting finish of 1 more threads\n",
      "INFO - 02:05:28: worker thread finished; awaiting finish of 0 more threads\n",
      "INFO - 02:05:28: EPOCH - 3 : training on 526126 raw words (200380 effective words) took 1.0s, 198580 effective words/s\n",
      "INFO - 02:05:29: EPOCH 4 - PROGRESS: at 66.81% examples, 133332 words/s, in_qsize 7, out_qsize 0\n",
      "INFO - 02:05:29: worker thread finished; awaiting finish of 3 more threads\n",
      "INFO - 02:05:29: worker thread finished; awaiting finish of 2 more threads\n",
      "INFO - 02:05:29: worker thread finished; awaiting finish of 1 more threads\n",
      "INFO - 02:05:29: worker thread finished; awaiting finish of 0 more threads\n",
      "INFO - 02:05:29: EPOCH - 4 : training on 526126 raw words (200887 effective words) took 1.2s, 164961 effective words/s\n",
      "INFO - 02:05:30: EPOCH 5 - PROGRESS: at 93.47% examples, 187444 words/s, in_qsize 4, out_qsize 0\n",
      "INFO - 02:05:30: worker thread finished; awaiting finish of 3 more threads\n",
      "INFO - 02:05:30: worker thread finished; awaiting finish of 2 more threads\n",
      "INFO - 02:05:30: worker thread finished; awaiting finish of 1 more threads\n",
      "INFO - 02:05:30: worker thread finished; awaiting finish of 0 more threads\n",
      "INFO - 02:05:30: EPOCH - 5 : training on 526126 raw words (201085 effective words) took 1.0s, 194815 effective words/s\n",
      "INFO - 02:05:31: EPOCH 6 - PROGRESS: at 74.42% examples, 146029 words/s, in_qsize 4, out_qsize 0\n",
      "INFO - 02:05:31: worker thread finished; awaiting finish of 3 more threads\n",
      "INFO - 02:05:31: worker thread finished; awaiting finish of 2 more threads\n",
      "INFO - 02:05:31: worker thread finished; awaiting finish of 1 more threads\n",
      "INFO - 02:05:31: worker thread finished; awaiting finish of 0 more threads\n",
      "INFO - 02:05:31: EPOCH - 6 : training on 526126 raw words (200591 effective words) took 1.2s, 163207 effective words/s\n",
      "INFO - 02:05:32: EPOCH 7 - PROGRESS: at 95.30% examples, 190605 words/s, in_qsize 3, out_qsize 1\n",
      "INFO - 02:05:32: worker thread finished; awaiting finish of 3 more threads\n",
      "INFO - 02:05:32: worker thread finished; awaiting finish of 2 more threads\n",
      "INFO - 02:05:32: worker thread finished; awaiting finish of 1 more threads\n",
      "INFO - 02:05:32: worker thread finished; awaiting finish of 0 more threads\n",
      "INFO - 02:05:32: EPOCH - 7 : training on 526126 raw words (200545 effective words) took 1.0s, 198224 effective words/s\n",
      "INFO - 02:05:33: EPOCH 8 - PROGRESS: at 66.81% examples, 128266 words/s, in_qsize 6, out_qsize 1\n",
      "INFO - 02:05:33: worker thread finished; awaiting finish of 3 more threads\n",
      "INFO - 02:05:33: worker thread finished; awaiting finish of 2 more threads\n",
      "INFO - 02:05:33: worker thread finished; awaiting finish of 1 more threads\n",
      "INFO - 02:05:33: worker thread finished; awaiting finish of 0 more threads\n",
      "INFO - 02:05:33: EPOCH - 8 : training on 526126 raw words (201264 effective words) took 1.3s, 159703 effective words/s\n",
      "INFO - 02:05:34: EPOCH 9 - PROGRESS: at 93.47% examples, 184533 words/s, in_qsize 4, out_qsize 0\n",
      "INFO - 02:05:34: worker thread finished; awaiting finish of 3 more threads\n",
      "INFO - 02:05:34: worker thread finished; awaiting finish of 2 more threads\n",
      "INFO - 02:05:34: worker thread finished; awaiting finish of 1 more threads\n",
      "INFO - 02:05:34: worker thread finished; awaiting finish of 0 more threads\n",
      "INFO - 02:05:34: EPOCH - 9 : training on 526126 raw words (200541 effective words) took 1.0s, 193685 effective words/s\n",
      "INFO - 02:05:35: EPOCH 10 - PROGRESS: at 68.77% examples, 136348 words/s, in_qsize 6, out_qsize 1\n",
      "INFO - 02:05:36: worker thread finished; awaiting finish of 3 more threads\n",
      "INFO - 02:05:36: worker thread finished; awaiting finish of 2 more threads\n",
      "INFO - 02:05:36: worker thread finished; awaiting finish of 1 more threads\n",
      "INFO - 02:05:36: worker thread finished; awaiting finish of 0 more threads\n",
      "INFO - 02:05:36: EPOCH - 10 : training on 526126 raw words (200608 effective words) took 1.2s, 163751 effective words/s\n",
      "INFO - 02:05:37: EPOCH 11 - PROGRESS: at 89.65% examples, 179288 words/s, in_qsize 6, out_qsize 0\n",
      "INFO - 02:05:37: worker thread finished; awaiting finish of 3 more threads\n",
      "INFO - 02:05:37: worker thread finished; awaiting finish of 2 more threads\n",
      "INFO - 02:05:37: worker thread finished; awaiting finish of 1 more threads\n",
      "INFO - 02:05:37: worker thread finished; awaiting finish of 0 more threads\n",
      "INFO - 02:05:37: EPOCH - 11 : training on 526126 raw words (200912 effective words) took 1.0s, 191712 effective words/s\n",
      "INFO - 02:05:38: worker thread finished; awaiting finish of 3 more threads\n",
      "INFO - 02:05:38: worker thread finished; awaiting finish of 2 more threads\n",
      "INFO - 02:05:38: worker thread finished; awaiting finish of 1 more threads\n",
      "INFO - 02:05:38: EPOCH 12 - PROGRESS: at 100.00% examples, 200014 words/s, in_qsize 0, out_qsize 1\n",
      "INFO - 02:05:38: worker thread finished; awaiting finish of 0 more threads\n",
      "INFO - 02:05:38: EPOCH - 12 : training on 526126 raw words (200724 effective words) took 1.0s, 199734 effective words/s\n",
      "INFO - 02:05:39: EPOCH 13 - PROGRESS: at 68.77% examples, 132620 words/s, in_qsize 7, out_qsize 0\n",
      "INFO - 02:05:39: worker thread finished; awaiting finish of 3 more threads\n",
      "INFO - 02:05:39: worker thread finished; awaiting finish of 2 more threads\n",
      "INFO - 02:05:39: worker thread finished; awaiting finish of 1 more threads\n",
      "INFO - 02:05:39: worker thread finished; awaiting finish of 0 more threads\n",
      "INFO - 02:05:39: EPOCH - 13 : training on 526126 raw words (201214 effective words) took 1.2s, 163347 effective words/s\n",
      "INFO - 02:05:40: worker thread finished; awaiting finish of 3 more threads\n",
      "INFO - 02:05:40: worker thread finished; awaiting finish of 2 more threads\n",
      "INFO - 02:05:40: worker thread finished; awaiting finish of 1 more threads\n",
      "INFO - 02:05:40: worker thread finished; awaiting finish of 0 more threads\n",
      "INFO - 02:05:40: EPOCH - 14 : training on 526126 raw words (200579 effective words) took 1.0s, 207491 effective words/s\n",
      "INFO - 02:05:41: EPOCH 15 - PROGRESS: at 70.66% examples, 139633 words/s, in_qsize 7, out_qsize 0\n",
      "INFO - 02:05:41: worker thread finished; awaiting finish of 3 more threads\n",
      "INFO - 02:05:41: worker thread finished; awaiting finish of 2 more threads\n",
      "INFO - 02:05:41: worker thread finished; awaiting finish of 1 more threads\n",
      "INFO - 02:05:41: worker thread finished; awaiting finish of 0 more threads\n",
      "INFO - 02:05:41: EPOCH - 15 : training on 526126 raw words (200273 effective words) took 1.2s, 162652 effective words/s\n",
      "INFO - 02:05:42: worker thread finished; awaiting finish of 3 more threads\n",
      "INFO - 02:05:42: worker thread finished; awaiting finish of 2 more threads\n",
      "INFO - 02:05:42: EPOCH 16 - PROGRESS: at 98.86% examples, 195019 words/s, in_qsize 1, out_qsize 1\n",
      "INFO - 02:05:42: worker thread finished; awaiting finish of 1 more threads\n",
      "INFO - 02:05:42: worker thread finished; awaiting finish of 0 more threads\n",
      "INFO - 02:05:42: EPOCH - 16 : training on 526126 raw words (200602 effective words) took 1.0s, 196958 effective words/s\n",
      "INFO - 02:05:43: EPOCH 17 - PROGRESS: at 66.88% examples, 131301 words/s, in_qsize 7, out_qsize 0\n",
      "INFO - 02:05:43: worker thread finished; awaiting finish of 3 more threads\n",
      "INFO - 02:05:43: worker thread finished; awaiting finish of 2 more threads\n",
      "INFO - 02:05:43: worker thread finished; awaiting finish of 1 more threads\n",
      "INFO - 02:05:43: worker thread finished; awaiting finish of 0 more threads\n",
      "INFO - 02:05:43: EPOCH - 17 : training on 526126 raw words (200420 effective words) took 1.3s, 160193 effective words/s\n",
      "INFO - 02:05:44: worker thread finished; awaiting finish of 3 more threads\n",
      "INFO - 02:05:44: EPOCH 18 - PROGRESS: at 97.07% examples, 193524 words/s, in_qsize 2, out_qsize 1\n",
      "INFO - 02:05:44: worker thread finished; awaiting finish of 2 more threads\n",
      "INFO - 02:05:44: worker thread finished; awaiting finish of 1 more threads\n",
      "INFO - 02:05:44: worker thread finished; awaiting finish of 0 more threads\n",
      "INFO - 02:05:44: EPOCH - 18 : training on 526126 raw words (201000 effective words) took 1.0s, 197584 effective words/s\n",
      "INFO - 02:05:46: EPOCH 19 - PROGRESS: at 81.93% examples, 147391 words/s, in_qsize 7, out_qsize 0\n",
      "INFO - 02:05:46: worker thread finished; awaiting finish of 3 more threads\n",
      "INFO - 02:05:46: worker thread finished; awaiting finish of 2 more threads\n",
      "INFO - 02:05:46: worker thread finished; awaiting finish of 1 more threads\n",
      "INFO - 02:05:46: worker thread finished; awaiting finish of 0 more threads\n",
      "INFO - 02:05:46: EPOCH - 19 : training on 526126 raw words (200862 effective words) took 1.2s, 165256 effective words/s\n",
      "INFO - 02:05:47: EPOCH 20 - PROGRESS: at 87.74% examples, 173667 words/s, in_qsize 7, out_qsize 0\n",
      "INFO - 02:05:47: worker thread finished; awaiting finish of 3 more threads\n",
      "INFO - 02:05:47: worker thread finished; awaiting finish of 2 more threads\n",
      "INFO - 02:05:47: worker thread finished; awaiting finish of 1 more threads\n",
      "INFO - 02:05:47: worker thread finished; awaiting finish of 0 more threads\n",
      "INFO - 02:05:47: EPOCH - 20 : training on 526126 raw words (201005 effective words) took 1.1s, 189306 effective words/s\n",
      "INFO - 02:05:48: EPOCH 21 - PROGRESS: at 76.31% examples, 142915 words/s, in_qsize 7, out_qsize 0\n",
      "INFO - 02:05:48: worker thread finished; awaiting finish of 3 more threads\n",
      "INFO - 02:05:48: worker thread finished; awaiting finish of 2 more threads\n",
      "INFO - 02:05:48: worker thread finished; awaiting finish of 1 more threads\n",
      "INFO - 02:05:48: worker thread finished; awaiting finish of 0 more threads\n",
      "INFO - 02:05:48: EPOCH - 21 : training on 526126 raw words (200633 effective words) took 1.2s, 163764 effective words/s\n",
      "INFO - 02:05:49: EPOCH 22 - PROGRESS: at 87.74% examples, 175146 words/s, in_qsize 7, out_qsize 0\n",
      "INFO - 02:05:49: worker thread finished; awaiting finish of 3 more threads\n",
      "INFO - 02:05:49: worker thread finished; awaiting finish of 2 more threads\n",
      "INFO - 02:05:49: worker thread finished; awaiting finish of 1 more threads\n",
      "INFO - 02:05:49: worker thread finished; awaiting finish of 0 more threads\n",
      "INFO - 02:05:49: EPOCH - 22 : training on 526126 raw words (200847 effective words) took 1.0s, 191397 effective words/s\n",
      "INFO - 02:05:50: worker thread finished; awaiting finish of 3 more threads\n",
      "INFO - 02:05:50: worker thread finished; awaiting finish of 2 more threads\n",
      "INFO - 02:05:50: worker thread finished; awaiting finish of 1 more threads\n",
      "INFO - 02:05:50: worker thread finished; awaiting finish of 0 more threads\n",
      "INFO - 02:05:50: EPOCH - 23 : training on 526126 raw words (200636 effective words) took 1.0s, 201968 effective words/s\n",
      "INFO - 02:05:51: EPOCH 24 - PROGRESS: at 74.42% examples, 142993 words/s, in_qsize 6, out_qsize 1\n",
      "INFO - 02:05:51: worker thread finished; awaiting finish of 3 more threads\n",
      "INFO - 02:05:51: worker thread finished; awaiting finish of 2 more threads\n",
      "INFO - 02:05:51: worker thread finished; awaiting finish of 1 more threads\n",
      "INFO - 02:05:51: worker thread finished; awaiting finish of 0 more threads\n",
      "INFO - 02:05:51: EPOCH - 24 : training on 526126 raw words (200991 effective words) took 1.2s, 168903 effective words/s\n",
      "INFO - 02:05:52: worker thread finished; awaiting finish of 3 more threads\n",
      "INFO - 02:05:52: EPOCH 25 - PROGRESS: at 97.07% examples, 194320 words/s, in_qsize 2, out_qsize 1\n",
      "INFO - 02:05:52: worker thread finished; awaiting finish of 2 more threads\n",
      "INFO - 02:05:52: worker thread finished; awaiting finish of 1 more threads\n",
      "INFO - 02:05:52: worker thread finished; awaiting finish of 0 more threads\n",
      "INFO - 02:05:52: EPOCH - 25 : training on 526126 raw words (201034 effective words) took 1.0s, 196884 effective words/s\n",
      "INFO - 02:05:53: EPOCH 26 - PROGRESS: at 66.88% examples, 129879 words/s, in_qsize 8, out_qsize 0\n",
      "INFO - 02:05:53: worker thread finished; awaiting finish of 3 more threads\n",
      "INFO - 02:05:53: worker thread finished; awaiting finish of 2 more threads\n",
      "INFO - 02:05:53: worker thread finished; awaiting finish of 1 more threads\n",
      "INFO - 02:05:53: worker thread finished; awaiting finish of 0 more threads\n",
      "INFO - 02:05:53: EPOCH - 26 : training on 526126 raw words (200707 effective words) took 1.3s, 158661 effective words/s\n",
      "INFO - 02:05:54: EPOCH 27 - PROGRESS: at 91.58% examples, 183033 words/s, in_qsize 5, out_qsize 0\n",
      "INFO - 02:05:55: worker thread finished; awaiting finish of 3 more threads\n",
      "INFO - 02:05:55: worker thread finished; awaiting finish of 2 more threads\n",
      "INFO - 02:05:55: worker thread finished; awaiting finish of 1 more threads\n",
      "INFO - 02:05:55: worker thread finished; awaiting finish of 0 more threads\n",
      "INFO - 02:05:55: EPOCH - 27 : training on 526126 raw words (200758 effective words) took 1.0s, 191409 effective words/s\n",
      "INFO - 02:05:56: EPOCH 28 - PROGRESS: at 64.93% examples, 126841 words/s, in_qsize 7, out_qsize 0\n",
      "INFO - 02:05:56: worker thread finished; awaiting finish of 3 more threads\n",
      "INFO - 02:05:56: worker thread finished; awaiting finish of 2 more threads\n",
      "INFO - 02:05:56: worker thread finished; awaiting finish of 1 more threads\n",
      "INFO - 02:05:56: worker thread finished; awaiting finish of 0 more threads\n",
      "INFO - 02:05:56: EPOCH - 28 : training on 526126 raw words (200794 effective words) took 1.3s, 159613 effective words/s\n",
      "INFO - 02:05:57: worker thread finished; awaiting finish of 3 more threads\n",
      "INFO - 02:05:57: worker thread finished; awaiting finish of 2 more threads\n",
      "INFO - 02:05:57: worker thread finished; awaiting finish of 1 more threads\n",
      "INFO - 02:05:57: worker thread finished; awaiting finish of 0 more threads\n",
      "INFO - 02:05:57: EPOCH - 29 : training on 526126 raw words (200868 effective words) took 1.0s, 204898 effective words/s\n",
      "INFO - 02:05:58: worker thread finished; awaiting finish of 3 more threads\n",
      "INFO - 02:05:58: worker thread finished; awaiting finish of 2 more threads\n",
      "INFO - 02:05:58: EPOCH 30 - PROGRESS: at 98.21% examples, 196556 words/s, in_qsize 1, out_qsize 1\n",
      "INFO - 02:05:58: worker thread finished; awaiting finish of 1 more threads\n",
      "INFO - 02:05:58: worker thread finished; awaiting finish of 0 more threads\n",
      "INFO - 02:05:58: EPOCH - 30 : training on 526126 raw words (200882 effective words) took 1.0s, 198807 effective words/s\n",
      "INFO - 02:05:58: Word2Vec lifecycle event {'msg': 'training on 15783780 raw words (6022703 effective words) took 33.8s, 178288 effective words/s', 'datetime': '2022-04-12T02:05:58.312759', 'gensim': '4.1.2', 'python': '3.9.10 | packaged by conda-forge | (main, Feb  1 2022, 21:24:37) \\n[GCC 9.4.0]', 'platform': 'Linux-4.14.262-200.489.amzn2.x86_64-x86_64-with-glibc2.31', 'event': 'train'}\n"
     ]
    },
    {
     "name": "stdout",
     "output_type": "stream",
     "text": [
      "Time to train the model: 0.56 mins\n"
     ]
    }
   ],
   "source": [
    "# Train the Model\n",
    "t = time()\n",
    "\n",
    "w2v_model.train(\n",
    "    sentences, \n",
    "    total_examples=w2v_model.corpus_count, \n",
    "    epochs=30, \n",
    "    report_delay=1)\n",
    "\n",
    "print(f'Time to train the model: {round((time()-t)/60, 2)} mins')"
   ]
  },
  {
   "cell_type": "code",
   "execution_count": 83,
   "metadata": {
    "colab": {
     "base_uri": "https://localhost:8080/"
    },
    "executionInfo": {
     "elapsed": 14,
     "status": "ok",
     "timestamp": 1638231616218,
     "user": {
      "displayName": "Paulo Finardi",
      "photoUrl": "https://lh3.googleusercontent.com/a-/AOh14GiAQBvHNU6heWBW3WY6Lp0SmL_8gxcTOREX09z23XI=s64",
      "userId": "15172685182696010276"
     },
     "user_tz": 180
    },
    "id": "JrF8amnpFoFn",
    "outputId": "32bff5af-4d65-462f-90bc-ebc2329a9dfd"
   },
   "outputs": [
    {
     "name": "stderr",
     "output_type": "stream",
     "text": [
      "/tmp/ipykernel_93/1625311014.py:2: DeprecationWarning: Call to deprecated `init_sims` (Gensim 4.0.0 implemented internal optimizations that make calls to init_sims() unnecessary. init_sims() is now obsoleted and will be completely removed in future versions. See https://github.com/RaRe-Technologies/gensim/wiki/Migrating-from-Gensim-3.x-to-4).\n",
      "  w2v_model.init_sims(replace=True)\n",
      "WARNING - 02:05:58: destructive init_sims(replace=True) deprecated & no longer required for space-efficiency\n"
     ]
    }
   ],
   "source": [
    "# As we do not plan to train the model any further, we are calling init_sims(), which will make the model much more memory-efficient\n",
    "w2v_model.init_sims(replace=True)"
   ]
  },
  {
   "cell_type": "code",
   "execution_count": 84,
   "metadata": {
    "colab": {
     "base_uri": "https://localhost:8080/"
    },
    "executionInfo": {
     "elapsed": 347,
     "status": "ok",
     "timestamp": 1638231636211,
     "user": {
      "displayName": "Paulo Finardi",
      "photoUrl": "https://lh3.googleusercontent.com/a-/AOh14GiAQBvHNU6heWBW3WY6Lp0SmL_8gxcTOREX09z23XI=s64",
      "userId": "15172685182696010276"
     },
     "user_tz": 180
    },
    "id": "6sbj_gujNfNO",
    "outputId": "8f06890d-8592-4dec-bf74-a98d6e4dd89c"
   },
   "outputs": [
    {
     "name": "stdout",
     "output_type": "stream",
     "text": [
      "(300,)\n"
     ]
    },
    {
     "data": {
      "text/plain": [
       "array([-2.42919456e-02,  5.09181023e-02, -1.17037697e-02,  9.51541960e-02,\n",
       "       -4.54901010e-02, -3.74572612e-02,  1.73543707e-01,  1.39063641e-01,\n",
       "        5.95627502e-02,  1.87010393e-02, -8.00637901e-02, -9.02435184e-02,\n",
       "        3.70586254e-02, -3.14564295e-02, -3.46417762e-02, -3.33409160e-02,\n",
       "        2.52631418e-02, -5.33250831e-02,  5.27000874e-02,  4.53728512e-02,\n",
       "        1.96653139e-02, -1.55091081e-02, -4.78997491e-02,  5.57172345e-03,\n",
       "        1.12088144e-01,  8.25060531e-03, -5.44691794e-02,  9.24429670e-02,\n",
       "       -6.02718033e-02, -1.39388129e-01,  5.48761487e-02, -1.33969286e-03,\n",
       "       -9.03857574e-02, -2.22072415e-02, -3.16865779e-02, -4.23405059e-02,\n",
       "        7.26168451e-04, -4.36034612e-02, -4.08876464e-02, -5.19874580e-02,\n",
       "       -1.28376279e-02, -4.02478836e-02, -2.38068067e-02, -1.69971958e-02,\n",
       "       -2.48663928e-02,  4.04266417e-02, -1.73026919e-02,  6.58231303e-02,\n",
       "       -2.04302799e-02,  7.22495914e-02,  7.03859404e-02, -4.67197783e-02,\n",
       "       -5.68935089e-02, -9.26960930e-02, -8.68337452e-02,  4.54545654e-02,\n",
       "        7.89744109e-02, -2.70706974e-02,  2.36450583e-02,  2.86773723e-02,\n",
       "       -3.72439884e-02, -4.19998504e-02, -4.90199216e-02,  3.60855311e-02,\n",
       "        4.78223898e-02,  1.22842193e-03, -5.43059111e-02,  1.49389962e-02,\n",
       "       -1.48401270e-03, -7.09849522e-02, -5.82293719e-02, -1.78663023e-02,\n",
       "        1.08814582e-01, -1.32294688e-02, -3.28493752e-02,  5.49349934e-02,\n",
       "       -1.16824344e-01,  7.90905431e-02,  3.37435454e-02, -7.67889246e-02,\n",
       "       -1.37949102e-02,  2.12894827e-02,  6.34745210e-02,  8.17329362e-02,\n",
       "       -2.44110040e-02, -9.53090843e-03, -7.25348219e-02, -2.27812771e-02,\n",
       "        3.03429477e-02, -1.28968731e-02,  9.74478275e-02, -6.57563061e-02,\n",
       "        7.82590806e-02,  1.11992605e-01,  8.34283531e-02,  6.80575296e-02,\n",
       "        9.47231799e-02, -5.14483713e-02, -8.65642726e-02,  8.48279148e-02,\n",
       "       -6.71013966e-02, -2.72647962e-02, -2.78536752e-02,  2.09444389e-02,\n",
       "        3.48313637e-02, -1.61207002e-02, -3.49326506e-02,  1.10083474e-02,\n",
       "        4.41586459e-03,  2.04029102e-02, -5.11086546e-02, -1.15947120e-01,\n",
       "       -4.26027477e-02,  4.16929685e-02,  7.81382397e-02, -1.23162590e-01,\n",
       "        3.81345935e-02, -2.00989693e-02,  9.98026207e-02, -1.77564267e-02,\n",
       "        4.51858565e-02,  1.88586749e-02, -2.97677666e-02, -2.74442881e-02,\n",
       "        4.12379876e-02, -6.09048084e-06, -1.37914177e-02, -3.58746797e-02,\n",
       "       -2.91177519e-02, -3.07683889e-02,  5.96321141e-03,  4.52319672e-03,\n",
       "       -9.36797038e-02, -7.21521117e-03,  3.21658701e-02,  4.43146639e-02,\n",
       "       -9.34617594e-03,  1.58052202e-02, -5.53633980e-02, -2.72046402e-02,\n",
       "       -4.46890220e-02,  2.42941044e-02,  2.98502594e-02,  5.18754125e-02,\n",
       "        2.75228862e-02, -5.83334975e-02, -1.03250720e-01, -5.74090146e-02,\n",
       "        7.84817711e-02, -1.75931361e-02,  1.24998316e-01, -6.20739497e-02,\n",
       "       -4.95605208e-02,  3.10741384e-02,  3.46096195e-02,  1.77682377e-03,\n",
       "       -5.04126325e-02,  7.34647736e-02,  2.99635045e-02, -3.45122330e-02,\n",
       "        4.57854234e-02,  1.22524157e-01, -2.32663136e-02,  6.96349666e-02,\n",
       "        1.75714993e-03, -5.81856258e-02,  3.37007307e-02, -1.07174600e-02,\n",
       "       -1.42032690e-02, -6.20606495e-03, -2.29743421e-02,  4.67821397e-02,\n",
       "       -1.18731894e-02,  8.22075363e-03, -1.97063796e-02, -3.67381587e-03,\n",
       "        2.15832517e-02, -1.03781126e-01, -4.15254682e-02, -3.97033170e-02,\n",
       "       -1.67529695e-02,  1.99494157e-02, -4.94011417e-02, -5.73878251e-02,\n",
       "       -4.71213497e-02, -1.78998373e-02, -8.51866696e-03,  3.89480107e-02,\n",
       "        9.08023044e-02,  4.34014462e-02, -3.85264382e-02,  4.72565033e-02,\n",
       "       -5.26646860e-02,  5.62455170e-02,  7.01460689e-02, -1.80227011e-02,\n",
       "       -9.91561860e-02, -1.97857451e-02, -7.14021698e-02, -8.87326375e-02,\n",
       "       -8.19980260e-03, -1.68038048e-02,  5.93418675e-03, -9.77246240e-02,\n",
       "        4.33662487e-03,  3.66525026e-03,  1.01140197e-02,  2.40674336e-02,\n",
       "        3.89443710e-02, -5.64189628e-02,  5.02250083e-02, -3.99428681e-02,\n",
       "       -2.33080238e-02, -3.09208930e-02,  1.52155645e-02, -8.24730173e-02,\n",
       "       -4.46196347e-02, -6.37149438e-02, -2.66868621e-02, -7.76782259e-02,\n",
       "        4.23057117e-02,  4.08258922e-02, -1.14474043e-01, -5.12538441e-02,\n",
       "       -5.63514680e-02, -1.93956476e-02,  6.73846006e-02,  4.68702540e-02,\n",
       "       -3.51932645e-02,  9.66203958e-02,  9.46596041e-02, -6.58879876e-02,\n",
       "       -1.48789184e-02,  6.86503761e-03, -3.78238335e-02, -3.49457227e-02,\n",
       "        4.99059353e-03,  4.64522541e-02, -8.18584934e-02, -3.53696160e-02,\n",
       "        4.43784520e-02,  7.10738152e-02, -1.46331400e-01,  2.09897943e-02,\n",
       "       -4.66092490e-03, -8.93581435e-02,  4.48667258e-02,  5.48561849e-03,\n",
       "        5.52521683e-02, -4.73872982e-02, -4.30526882e-02,  1.31849553e-02,\n",
       "        6.21200241e-02,  3.92212458e-02,  6.26471639e-02, -8.66633803e-02,\n",
       "        1.18218109e-01,  2.83629075e-02, -1.95046943e-02,  2.38094963e-02,\n",
       "        9.33971629e-02,  1.83180757e-02,  7.41807697e-03, -5.79698496e-02,\n",
       "       -3.96413356e-02, -1.85578410e-02, -2.22238880e-02, -6.61544576e-02,\n",
       "       -1.24825211e-02, -1.48219606e-02, -1.70169976e-02,  1.33474410e-01,\n",
       "        2.27564480e-02,  7.94073418e-02,  1.56949967e-01,  6.62032049e-03,\n",
       "        6.02739118e-02,  7.13607594e-02, -1.18727572e-01,  2.08647996e-02,\n",
       "        4.74302396e-02, -5.08144125e-02, -3.80157270e-02,  1.00367457e-01,\n",
       "        6.78010285e-02,  3.86704244e-02, -5.37246615e-02, -3.39367762e-02,\n",
       "        2.52544079e-02,  6.93387091e-02, -9.86911431e-02,  7.53383860e-02,\n",
       "        1.40096307e-01, -2.47434396e-02,  6.24641590e-02,  6.87330142e-02,\n",
       "        1.12327807e-01,  5.25313951e-02,  8.25156923e-03,  5.28710801e-03],\n",
       "      dtype=float32)"
      ]
     },
     "execution_count": 84,
     "metadata": {},
     "output_type": "execute_result"
    }
   ],
   "source": [
    "print(w2v_model.wv.get_vector('homer').shape)\n",
    "w2v_model.wv.get_vector('homer')"
   ]
  },
  {
   "cell_type": "code",
   "execution_count": 85,
   "metadata": {
    "colab": {
     "base_uri": "https://localhost:8080/"
    },
    "executionInfo": {
     "elapsed": 5,
     "status": "ok",
     "timestamp": 1638231664853,
     "user": {
      "displayName": "Paulo Finardi",
      "photoUrl": "https://lh3.googleusercontent.com/a-/AOh14GiAQBvHNU6heWBW3WY6Lp0SmL_8gxcTOREX09z23XI=s64",
      "userId": "15172685182696010276"
     },
     "user_tz": 180
    },
    "id": "vj7zRjkEF4UN",
    "outputId": "b9614205-9a5f-40b8-d2dc-e526765a9578"
   },
   "outputs": [
    {
     "data": {
      "text/plain": [
       "[('marge', 0.6923187971115112),\n",
       " ('hammock', 0.6697026491165161),\n",
       " ('crummy', 0.6665980219841003),\n",
       " ('sweetheart', 0.6553011536598206),\n",
       " ('gee', 0.6527481079101562),\n",
       " ('bongo', 0.6498366594314575),\n",
       " ('sake', 0.6484313011169434),\n",
       " ('eliza', 0.6448482275009155),\n",
       " ('bartender', 0.64175945520401),\n",
       " ('compliment', 0.6363524198532104)]"
      ]
     },
     "execution_count": 85,
     "metadata": {},
     "output_type": "execute_result"
    }
   ],
   "source": [
    "w2v_model.wv.most_similar(positive=[\"homer\"])"
   ]
  },
  {
   "cell_type": "code",
   "execution_count": 86,
   "metadata": {
    "colab": {
     "base_uri": "https://localhost:8080/"
    },
    "executionInfo": {
     "elapsed": 331,
     "status": "ok",
     "timestamp": 1638231666717,
     "user": {
      "displayName": "Paulo Finardi",
      "photoUrl": "https://lh3.googleusercontent.com/a-/AOh14GiAQBvHNU6heWBW3WY6Lp0SmL_8gxcTOREX09z23XI=s64",
      "userId": "15172685182696010276"
     },
     "user_tz": 180
    },
    "id": "_CQWCd39F9MD",
    "outputId": "6b9b036b-8951-4779-9cfa-19e90846605d"
   },
   "outputs": [
    {
     "data": {
      "text/plain": [
       "[('eliza', 0.7096320390701294),\n",
       " ('homer', 0.692318856716156),\n",
       " ('sweetheart', 0.6720661520957947),\n",
       " ('grownup', 0.6687307357788086),\n",
       " ('embarrass', 0.664482831954956),\n",
       " ('fault', 0.6623795032501221),\n",
       " ('homie', 0.6614170074462891),\n",
       " ('hopeless', 0.6560583710670471),\n",
       " ('becky', 0.652549684047699),\n",
       " ('surprised', 0.6509789824485779)]"
      ]
     },
     "execution_count": 86,
     "metadata": {},
     "output_type": "execute_result"
    }
   ],
   "source": [
    "w2v_model.wv.most_similar(positive=[\"marge\"])"
   ]
  },
  {
   "cell_type": "code",
   "execution_count": 87,
   "metadata": {
    "colab": {
     "base_uri": "https://localhost:8080/"
    },
    "executionInfo": {
     "elapsed": 5,
     "status": "ok",
     "timestamp": 1638231667074,
     "user": {
      "displayName": "Paulo Finardi",
      "photoUrl": "https://lh3.googleusercontent.com/a-/AOh14GiAQBvHNU6heWBW3WY6Lp0SmL_8gxcTOREX09z23XI=s64",
      "userId": "15172685182696010276"
     },
     "user_tz": 180
    },
    "id": "_aZ0kGICGZvR",
    "outputId": "9679596c-ed5d-4f61-a66a-a04beb7edfdc"
   },
   "outputs": [
    {
     "data": {
      "text/plain": [
       "[('lisa', 0.8067106604576111),\n",
       " ('hearing', 0.7764644026756287),\n",
       " ('mom_dad', 0.7431566715240479),\n",
       " ('jealous', 0.7412236928939819),\n",
       " ('surprised', 0.7409850358963013),\n",
       " ('homework', 0.7195799350738525),\n",
       " ('mom', 0.7194384336471558),\n",
       " ('convince', 0.7126911282539368),\n",
       " ('strangle', 0.7122536301612854),\n",
       " ('punish', 0.7086092829704285)]"
      ]
     },
     "execution_count": 87,
     "metadata": {},
     "output_type": "execute_result"
    }
   ],
   "source": [
    "w2v_model.wv.most_similar(positive=[\"bart\"])"
   ]
  },
  {
   "cell_type": "code",
   "execution_count": 88,
   "metadata": {
    "colab": {
     "base_uri": "https://localhost:8080/"
    },
    "executionInfo": {
     "elapsed": 335,
     "status": "ok",
     "timestamp": 1638231713429,
     "user": {
      "displayName": "Paulo Finardi",
      "photoUrl": "https://lh3.googleusercontent.com/a-/AOh14GiAQBvHNU6heWBW3WY6Lp0SmL_8gxcTOREX09z23XI=s64",
      "userId": "15172685182696010276"
     },
     "user_tz": 180
    },
    "id": "ELPE7LfkGodV",
    "outputId": "74e0c95e-c5c2-4033-de48-6d5be37d22af"
   },
   "outputs": [
    {
     "data": {
      "text/plain": [
       "(0.8760381, 0.4530757, 0.24535987)"
      ]
     },
     "execution_count": 88,
     "metadata": {},
     "output_type": "execute_result"
    }
   ],
   "source": [
    "w2v_model.wv.similarity('moe', 'tavern'), w2v_model.wv.similarity('homer', 'tavern'), w2v_model.wv.similarity('lisa', 'tavern')"
   ]
  },
  {
   "cell_type": "code",
   "execution_count": 89,
   "metadata": {
    "colab": {
     "base_uri": "https://localhost:8080/",
     "height": 90
    },
    "executionInfo": {
     "elapsed": 334,
     "status": "ok",
     "timestamp": 1638231733893,
     "user": {
      "displayName": "Paulo Finardi",
      "photoUrl": "https://lh3.googleusercontent.com/a-/AOh14GiAQBvHNU6heWBW3WY6Lp0SmL_8gxcTOREX09z23XI=s64",
      "userId": "15172685182696010276"
     },
     "user_tz": 180
    },
    "id": "RECkD2QKGuXJ",
    "outputId": "290d9ed6-7f94-4459-c766-4bdac9f842c7"
   },
   "outputs": [
    {
     "data": {
      "text/plain": [
       "'nelson'"
      ]
     },
     "execution_count": 89,
     "metadata": {},
     "output_type": "execute_result"
    }
   ],
   "source": [
    "w2v_model.wv.doesnt_match([\"nelson\", \"bart\", \"milhouse\"])"
   ]
  },
  {
   "cell_type": "code",
   "execution_count": 90,
   "metadata": {
    "executionInfo": {
     "elapsed": 333,
     "status": "ok",
     "timestamp": 1638231759168,
     "user": {
      "displayName": "Paulo Finardi",
      "photoUrl": "https://lh3.googleusercontent.com/a-/AOh14GiAQBvHNU6heWBW3WY6Lp0SmL_8gxcTOREX09z23XI=s64",
      "userId": "15172685182696010276"
     },
     "user_tz": 180
    },
    "id": "bGSExZNEIK1a"
   },
   "outputs": [],
   "source": [
    "def tsnescatterplot(model, word, list_names):\n",
    "    from sklearn.decomposition import PCA\n",
    "    from sklearn.manifold import TSNE\n",
    "    import matplotlib.pyplot as plt\n",
    "    import seaborn as sns\n",
    "\n",
    "    \"\"\" Plot in seaborn the results from the t-SNE dimensionality reduction algorithm of the vectors of a query word,\n",
    "    its list of most similar words, and a list of words.\n",
    "    \"\"\"\n",
    "    arrays = np.empty((0, 300), dtype='f')\n",
    "    word_labels = [word]\n",
    "    color_list  = ['red']\n",
    "\n",
    "    # adds the vector of the query word\n",
    "    arrays = np.append(arrays, model.wv.__getitem__([word]), axis=0)\n",
    "    \n",
    "    # gets list of most similar words\n",
    "    close_words = model.wv.most_similar([word])\n",
    "    \n",
    "    # adds the vector for each of the closest words to the array\n",
    "    for wrd_score in close_words:\n",
    "        wrd_vector = model.wv.__getitem__([wrd_score[0]])\n",
    "        word_labels.append(wrd_score[0])\n",
    "        color_list.append('blue')\n",
    "        arrays = np.append(arrays, wrd_vector, axis=0)\n",
    "    \n",
    "    # adds the vector for each of the words from list_names to the array\n",
    "    for wrd in list_names:\n",
    "        wrd_vector = model.wv.__getitem__([wrd])\n",
    "        word_labels.append(wrd)\n",
    "        color_list.append('green')\n",
    "        arrays = np.append(arrays, wrd_vector, axis=0)\n",
    "        \n",
    "    # Reduces the dimensionality from 300 to 50 dimensions with PCA\n",
    "    reduc = PCA(n_components=10).fit_transform(arrays)\n",
    "    \n",
    "    # Finds t-SNE coordinates for 2 dimensions\n",
    "    np.set_printoptions(suppress=True)\n",
    "    \n",
    "    Y = TSNE(n_components=2, random_state=0, perplexity=15).fit_transform(reduc)\n",
    "    \n",
    "    # Sets everything up to plot\n",
    "    df = pd.DataFrame({'x': [x for x in Y[:, 0]],\n",
    "                       'y': [y for y in Y[:, 1]],\n",
    "                       'words': word_labels,\n",
    "                       'color': color_list})\n",
    "    \n",
    "    fig, _ = plt.subplots()\n",
    "    fig.set_size_inches(9, 9)\n",
    "    \n",
    "    # Basic plot\n",
    "    p1 = sns.regplot(data=df,\n",
    "                     x=\"x\",\n",
    "                     y=\"y\",\n",
    "                     fit_reg=False,\n",
    "                     marker=\"o\",\n",
    "                     scatter_kws={'s': 40,\n",
    "                                  'facecolors': df['color']\n",
    "                                 }\n",
    "                    )\n",
    "    \n",
    "    # Adds annotations one by one with a loop\n",
    "    for line in range(0, df.shape[0]):\n",
    "         p1.text(df[\"x\"][line],\n",
    "                 df['y'][line],\n",
    "                 '  ' + df[\"words\"][line].title(),\n",
    "                 horizontalalignment='left',\n",
    "                 verticalalignment='bottom', size='medium',\n",
    "                 color=df['color'][line],\n",
    "                 weight='normal'\n",
    "                ).set_size(15)\n",
    "\n",
    "    \n",
    "    plt.xlim(Y[:, 0].min()-50, Y[:, 0].max()+50)\n",
    "    plt.ylim(Y[:, 1].min()-50, Y[:, 1].max()+50)\n",
    "            \n",
    "    plt.title('t-SNE visualization for {}'.format(word.title()))"
   ]
  },
  {
   "cell_type": "code",
   "execution_count": 94,
   "metadata": {
    "colab": {
     "base_uri": "https://localhost:8080/",
     "height": 657
    },
    "executionInfo": {
     "elapsed": 1042,
     "status": "ok",
     "timestamp": 1638231761571,
     "user": {
      "displayName": "Paulo Finardi",
      "photoUrl": "https://lh3.googleusercontent.com/a-/AOh14GiAQBvHNU6heWBW3WY6Lp0SmL_8gxcTOREX09z23XI=s64",
      "userId": "15172685182696010276"
     },
     "user_tz": 180
    },
    "id": "3eev2YEbI05h",
    "outputId": "d06a6dc6-d012-4260-9781-616c3ec86d05"
   },
   "outputs": [
    {
     "name": "stderr",
     "output_type": "stream",
     "text": [
      "INFO - 02:08:38: generated new fontManager\n",
      "/home/studio-lab-user/.conda/envs/default/lib/python3.9/site-packages/sklearn/manifold/_t_sne.py:780: FutureWarning: The default initialization in TSNE will change from 'random' to 'pca' in 1.2.\n",
      "  warnings.warn(\n",
      "/home/studio-lab-user/.conda/envs/default/lib/python3.9/site-packages/sklearn/manifold/_t_sne.py:790: FutureWarning: The default learning rate in TSNE will change from 200.0 to 'auto' in 1.2.\n",
      "  warnings.warn(\n"
     ]
    },
    {
     "data": {
      "image/png": "[encoded data removed]",
      "text/plain": [
       "<Figure size 648x648 with 1 Axes>"
      ]
     },
     "metadata": {
      "needs_background": "light"
     },
     "output_type": "display_data"
    }
   ],
   "source": [
    "# Let's compare where the vector representation of Homer, his 10 most similar words \n",
    "# from the model, as well as 8 random ones, lies in a 2D graph:\n",
    "\n",
    "tsnescatterplot(w2v_model, 'homer', ['dog', 'bird', 'ah', 'maude', 'bob', 'beer', 'apu', 'duff'])"
   ]
  },
  {
   "cell_type": "code",
   "execution_count": 95,
   "metadata": {
    "colab": {
     "base_uri": "https://localhost:8080/",
     "height": 657
    },
    "executionInfo": {
     "elapsed": 1044,
     "status": "ok",
     "timestamp": 1638231797435,
     "user": {
      "displayName": "Paulo Finardi",
      "photoUrl": "https://lh3.googleusercontent.com/a-/AOh14GiAQBvHNU6heWBW3WY6Lp0SmL_8gxcTOREX09z23XI=s64",
      "userId": "15172685182696010276"
     },
     "user_tz": 180
    },
    "id": "TRQf8Z1uI6hu",
    "outputId": "dbb5367a-3fb8-4b64-d041-fde5f46b2300"
   },
   "outputs": [
    {
     "name": "stderr",
     "output_type": "stream",
     "text": [
      "/home/studio-lab-user/.conda/envs/default/lib/python3.9/site-packages/sklearn/manifold/_t_sne.py:780: FutureWarning: The default initialization in TSNE will change from 'random' to 'pca' in 1.2.\n",
      "  warnings.warn(\n",
      "/home/studio-lab-user/.conda/envs/default/lib/python3.9/site-packages/sklearn/manifold/_t_sne.py:790: FutureWarning: The default learning rate in TSNE will change from 200.0 to 'auto' in 1.2.\n",
      "  warnings.warn(\n"
     ]
    },
    {
     "data": {
      "image/png": "[encoded data removed]",
      "text/plain": [
       "<Figure size 648x648 with 1 Axes>"
      ]
     },
     "metadata": {
      "needs_background": "light"
     },
     "output_type": "display_data"
    }
   ],
   "source": [
    "word = 'maggie'\n",
    "\n",
    "tsnescatterplot(\n",
    "    w2v_model, \n",
    "    word, \n",
    "    [i[0] for i in w2v_model.wv.most_similar(negative=[word])],\n",
    "    )"
   ]
  },
  {
   "cell_type": "markdown",
   "metadata": {
    "id": "0lZWJvE0CMF3"
   },
   "source": [
    "## Carregando embeddings pretreinado em PTBR "
   ]
  },
  {
   "cell_type": "code",
   "execution_count": 103,
   "metadata": {
    "colab": {
     "base_uri": "https://localhost:8080/"
    },
    "executionInfo": {
     "elapsed": 293380,
     "status": "ok",
     "timestamp": 1638232120959,
     "user": {
      "displayName": "Paulo Finardi",
      "photoUrl": "https://lh3.googleusercontent.com/a-/AOh14GiAQBvHNU6heWBW3WY6Lp0SmL_8gxcTOREX09z23XI=s64",
      "userId": "15172685182696010276"
     },
     "user_tz": 180
    },
    "id": "2ltrdSM58QBW",
    "outputId": "17d116d1-67cd-4b66-8e49-13392286f44f"
   },
   "outputs": [
    {
     "name": "stderr",
     "output_type": "stream",
     "text": [
      "INFO - 03:46:05: loading projection weights from ./cbow_s300.txt\n",
      "INFO - 03:48:22: KeyedVectors lifecycle event {'msg': 'loaded (929605, 300) matrix of type float32 from ./cbow_s300.txt', 'binary': False, 'encoding': 'utf8', 'datetime': '2022-04-12T03:48:22.525372', 'gensim': '4.1.2', 'python': '3.9.10 | packaged by conda-forge | (main, Feb  1 2022, 21:24:37) \\n[GCC 9.4.0]', 'platform': 'Linux-4.14.262-200.489.amzn2.x86_64-x86_64-with-glibc2.31', 'event': 'load_word2vec_format'}\n"
     ]
    },
    {
     "name": "stdout",
     "output_type": "stream",
     "text": [
      "Time to load pretrained embeddings: 2.29 mins\n"
     ]
    }
   ],
   "source": [
    "from gensim.models import KeyedVectors\n",
    "\n",
    "t = time()\n",
    "\n",
    "cbow_path = './cbow_s300.txt'\n",
    "\n",
    "model = KeyedVectors.load_word2vec_format(cbow_path)\n",
    "\n",
    "print(f'Time to load pretrained embeddings: {round((time()-t)/60, 2)} mins')"
   ]
  },
  {
   "cell_type": "code",
   "execution_count": 104,
   "metadata": {
    "colab": {
     "background_save": true,
     "base_uri": "https://localhost:8080/",
     "output_embedded_package_id": "1lmLfYC8wqGVfuQTSQQeEElb67SqJXTxf"
    },
    "id": "rQbTXxcODN5u",
    "outputId": "7fd396d9-76d0-47cc-855c-9fa341dcadec"
   },
   "outputs": [
    {
     "name": "stdout",
     "output_type": "stream",
     "text": [
      "vocab len: 929605\n"
     ]
    }
   ],
   "source": [
    "print(f'vocab len: {len(model.key_to_index.keys())}')\n",
    "#model.key_to_index.keys()\n"
   ]
  },
  {
   "cell_type": "code",
   "execution_count": 105,
   "metadata": {
    "colab": {
     "background_save": true
    },
    "id": "RRQblxhaWtKt"
   },
   "outputs": [
    {
     "name": "stdout",
     "output_type": "stream",
     "text": [
      "[ 2.7329    -0.10711    0.55555    1.8217    -2.5545    -0.7014\n",
      "  0.70765   -0.047459   1.4024     0.44671    1.456      1.4319\n",
      "  1.413      2.5035    -1.5375     0.45245    1.5259     0.084284\n",
      "  0.15296    1.5653    -3.8999    -2.7467    -2.53       1.2431\n",
      "  2.1222    -0.97009    0.15682   -2.462      1.4924    -2.7241\n",
      "  1.0554     0.16716   -0.71202   -3.0468    -0.58459    0.95183\n",
      " -1.4282    -1.2938    -1.0107    -0.80309    3.9286     1.5795\n",
      " -1.7386     2.3436     0.59917   -1.9332    -0.23397   -1.7094\n",
      " -0.92945    0.093548  -2.7132     0.63378    0.6383     1.9185\n",
      " -0.46793    3.1181    -3.068     -0.4807    -0.2446     2.3929\n",
      " -2.2468     0.56873    1.1597    -0.079359  -0.40589   -0.76973\n",
      "  1.6408     1.4829     4.9385     1.1311    -1.6823     0.23834\n",
      "  0.61736    1.8718    -1.8822     3.4104     0.0076786  2.1445\n",
      "  1.7295    -4.725     -1.7929     3.7867     2.2846    -0.65912\n",
      " -0.77326   -0.70943    1.4775    -0.54014    0.068159  -1.5019\n",
      "  2.0788     1.5762     3.0118    -1.1099    -2.8371     2.4724\n",
      "  2.8584     1.9143    -0.25775    1.1471    -3.0723     1.3084\n",
      "  0.94568   -2.52      -1.5463     3.674     -0.56839    0.19461\n",
      "  0.81346   -2.0081    -0.44422    1.432      0.55405    0.60296\n",
      " -2.0958     3.1833     2.5889     2.7688    -2.3757    -0.081282\n",
      " -1.0606    -1.5157     2.7505     0.3325    -0.42553   -0.98924\n",
      " -1.9833     0.57945   -0.60186    1.5057     2.4635    -1.2532\n",
      "  1.0531     0.60428    4.3505    -2.3753    -2.2709    -0.29281\n",
      " -3.151      1.3543    -0.023672  -1.5234    -1.1314    -0.96274\n",
      "  0.31649    1.0735     0.44133    0.29923   -1.1592     0.59754\n",
      "  0.27165    1.5081     1.6657    -0.79299    1.3974    -1.3412\n",
      "  3.4306     0.89531    1.2766     0.34218   -1.7668    -3.29\n",
      " -1.862      1.1004     1.6692    -1.7922     1.6802     2.7977\n",
      " -2.6476    -4.0166    -0.0025346  2.9471    -0.58748   -0.91618\n",
      "  2.4204     1.7937    -1.1649     1.9391     0.79055    0.88745\n",
      "  5.0841     0.41086   -1.207      2.1423     1.3435    -1.2228\n",
      "  1.1376    -0.1279    -1.4915     2.1799     0.35944   -0.28456\n",
      "  0.34681    0.13888    0.93857   -4.0137     0.76849    1.4317\n",
      "  0.51385    0.5477    -1.2495    -0.89754    1.5278    -0.48393\n",
      " -1.2862     0.066777   3.7021     1.54      -1.303      1.4412\n",
      " -1.7545    -0.13873    2.7693    -1.0763     0.78888    0.95138\n",
      "  0.52921   -1.8993    -0.0058095 -0.79736   -3.5252    -3.22\n",
      " -1.713      1.5699    -0.73331    2.2476     0.45828    3.8565\n",
      " -0.80099    0.73716    0.045179  -0.16335    2.0343     0.4217\n",
      " -1.0881     1.6203    -1.942     -1.3695     0.45632   -0.58631\n",
      "  1.3606    -3.5865    -0.50922   -1.5255    -1.8124    -1.4106\n",
      "  1.5756    -3.7261     1.5503    -1.1562     2.6405     4.1183\n",
      " -1.5507     0.32812    3.3269     3.4775     0.13973    2.6092\n",
      "  4.9167    -5.439      3.0515    -2.5638     1.1094     2.6433\n",
      "  1.7021    -0.59303    0.80708   -2.6108    -0.44785   -0.041045\n",
      " -0.68282    0.63571    1.2451    -1.4907     1.5725    -1.3379\n",
      "  0.12982    4.2622     0.45876   -0.55957   -0.19653    0.50671\n",
      "  1.8691     5.5733    -1.5888    -0.074469   2.298      1.7353\n",
      " -3.0259     0.96339    0.87204    2.6282     1.5373     3.5801\n",
      " -1.4619    -1.4073     0.18886    0.98353   -1.4849    -0.71747  ]\n"
     ]
    }
   ],
   "source": [
    "A = model['chuva']\n",
    "print(A)"
   ]
  },
  {
   "cell_type": "code",
   "execution_count": 106,
   "metadata": {
    "colab": {
     "background_save": true
    },
    "id": "MfHbDfRzWtKt"
   },
   "outputs": [
    {
     "data": {
      "text/plain": [
       "(300,)"
      ]
     },
     "execution_count": 106,
     "metadata": {},
     "output_type": "execute_result"
    }
   ],
   "source": [
    "A.shape"
   ]
  },
  {
   "cell_type": "code",
   "execution_count": 107,
   "metadata": {
    "colab": {
     "background_save": true
    },
    "id": "37TaiMqHWtKu"
   },
   "outputs": [
    {
     "name": "stdout",
     "output_type": "stream",
     "text": [
      "rainha: 0.6863\n"
     ]
    }
   ],
   "source": [
    "result = model.most_similar(positive=['rei', 'mulher'], negative=['homem'])\n",
    "print(\"{}: {:.4f}\".format(*result[0]))"
   ]
  },
  {
   "cell_type": "code",
   "execution_count": 108,
   "metadata": {
    "colab": {
     "background_save": true
    },
    "id": "NCmY2W-pWtKu"
   },
   "outputs": [
    {
     "name": "stdout",
     "output_type": "stream",
     "text": [
      "uva\n"
     ]
    }
   ],
   "source": [
    "print(model.doesnt_match(\"uva onibus carro moto\".split()))"
   ]
  },
  {
   "cell_type": "code",
   "execution_count": 109,
   "metadata": {
    "colab": {
     "background_save": true
    },
    "id": "_lVTIGc9WtKv"
   },
   "outputs": [
    {
     "name": "stdout",
     "output_type": "stream",
     "text": [
      "mundial\n"
     ]
    }
   ],
   "source": [
    "print(model.doesnt_match(\"palmeiras corinthians são-paulo mundial\".split()))"
   ]
  },
  {
   "cell_type": "code",
   "execution_count": 110,
   "metadata": {
    "colab": {
     "background_save": true
    },
    "id": "dH0-4P7mWtKw"
   },
   "outputs": [
    {
     "name": "stdout",
     "output_type": "stream",
     "text": [
      "[('teste-t', 0.8830924034118652), ('teste\\x94,', 0.8828554153442383), ('teste0', 0.8746434450149536), ('cqteste', 0.8346535563468933), ('teste-piloto', 0.8328061103820801), ('testes.', 0.831045925617218), ('tester', 0.8306138515472412), ('teste-munho', 0.8243860006332397), ('testæ', 0.8231348395347595), ('testesde', 0.8161661028862)]\n"
     ]
    }
   ],
   "source": [
    "result = model.similar_by_word('teste')\n",
    "print (result)\n",
    "#print(\"{}: {:.4f}\".format(*result[0]))"
   ]
  },
  {
   "cell_type": "code",
   "execution_count": 111,
   "metadata": {
    "colab": {
     "background_save": true
    },
    "id": "0tZW8FoiWtKx"
   },
   "outputs": [
    {
     "data": {
      "text/plain": [
       "0.30726895"
      ]
     },
     "execution_count": 111,
     "metadata": {},
     "output_type": "execute_result"
    }
   ],
   "source": [
    "model.similarity('manga','moto')"
   ]
  },
  {
   "cell_type": "code",
   "execution_count": 112,
   "metadata": {
    "colab": {
     "background_save": true
    },
    "id": "Z5C9JAdtWtKy"
   },
   "outputs": [
    {
     "data": {
      "text/plain": [
       "0.4377795"
      ]
     },
     "execution_count": 112,
     "metadata": {},
     "output_type": "execute_result"
    }
   ],
   "source": [
    "model.similarity('manga','morango')"
   ]
  },
  {
   "cell_type": "code",
   "execution_count": 113,
   "metadata": {
    "colab": {
     "background_save": true
    },
    "id": "AAQ8LTq3WtKy"
   },
   "outputs": [
    {
     "data": {
      "text/plain": [
       "0.3291382"
      ]
     },
     "execution_count": 113,
     "metadata": {},
     "output_type": "execute_result"
    }
   ],
   "source": [
    "model.similarity('pessoa','atendente')"
   ]
  },
  {
   "cell_type": "code",
   "execution_count": 114,
   "metadata": {
    "colab": {
     "background_save": true
    },
    "id": "usp3sduYWtKz"
   },
   "outputs": [
    {
     "data": {
      "text/plain": [
       "0.43052226"
      ]
     },
     "execution_count": 114,
     "metadata": {},
     "output_type": "execute_result"
    }
   ],
   "source": [
    "model.similarity('manga','camisa')"
   ]
  },
  {
   "cell_type": "code",
   "execution_count": 115,
   "metadata": {},
   "outputs": [],
   "source": [
    "def tsnescatterplot2(model, word, list_names):\n",
    "    from sklearn.decomposition import PCA\n",
    "    from sklearn.manifold import TSNE\n",
    "    import matplotlib.pyplot as plt\n",
    "    import seaborn as sns\n",
    "\n",
    "    \"\"\" Plot in seaborn the results from the t-SNE dimensionality reduction algorithm of the vectors of a query word,\n",
    "    its list of most similar words, and a list of words.\n",
    "    \"\"\"\n",
    "    arrays = np.empty((0, 300), dtype='f')\n",
    "    word_labels = [word]\n",
    "    color_list  = ['red']\n",
    "\n",
    "    # adds the vector of the query word\n",
    "    arrays = np.append(arrays, model.__getitem__([word]), axis=0)\n",
    "    \n",
    "    # gets list of most similar words\n",
    "    close_words = model.most_similar([word])\n",
    "    \n",
    "    # adds the vector for each of the closest words to the array\n",
    "    for wrd_score in close_words:\n",
    "        wrd_vector = model.__getitem__([wrd_score[0]])\n",
    "        word_labels.append(wrd_score[0])\n",
    "        color_list.append('blue')\n",
    "        arrays = np.append(arrays, wrd_vector, axis=0)\n",
    "    \n",
    "    # adds the vector for each of the words from list_names to the array\n",
    "    for wrd in list_names:\n",
    "        wrd_vector = model.__getitem__([wrd])\n",
    "        word_labels.append(wrd)\n",
    "        color_list.append('green')\n",
    "        arrays = np.append(arrays, wrd_vector, axis=0)\n",
    "        \n",
    "    # Reduces the dimensionality from 300 to 50 dimensions with PCA\n",
    "    reduc = PCA(n_components=10).fit_transform(arrays)\n",
    "    \n",
    "    # Finds t-SNE coordinates for 2 dimensions\n",
    "    np.set_printoptions(suppress=True)\n",
    "    \n",
    "    Y = TSNE(n_components=2, random_state=0, perplexity=15).fit_transform(reduc)\n",
    "    \n",
    "    # Sets everything up to plot\n",
    "    df = pd.DataFrame({'x': [x for x in Y[:, 0]],\n",
    "                       'y': [y for y in Y[:, 1]],\n",
    "                       'words': word_labels,\n",
    "                       'color': color_list})\n",
    "    \n",
    "    fig, _ = plt.subplots()\n",
    "    fig.set_size_inches(9, 9)\n",
    "    \n",
    "    # Basic plot\n",
    "    p1 = sns.regplot(data=df,\n",
    "                     x=\"x\",\n",
    "                     y=\"y\",\n",
    "                     fit_reg=False,\n",
    "                     marker=\"o\",\n",
    "                     scatter_kws={'s': 40,\n",
    "                                  'facecolors': df['color']\n",
    "                                 }\n",
    "                    )\n",
    "    \n",
    "    # Adds annotations one by one with a loop\n",
    "    for line in range(0, df.shape[0]):\n",
    "         p1.text(df[\"x\"][line],\n",
    "                 df['y'][line],\n",
    "                 '  ' + df[\"words\"][line].title(),\n",
    "                 horizontalalignment='left',\n",
    "                 verticalalignment='bottom', size='medium',\n",
    "                 color=df['color'][line],\n",
    "                 weight='normal'\n",
    "                ).set_size(15)\n",
    "\n",
    "    \n",
    "    plt.xlim(Y[:, 0].min()-50, Y[:, 0].max()+50)\n",
    "    plt.ylim(Y[:, 1].min()-50, Y[:, 1].max()+50)\n",
    "            \n",
    "    plt.title('t-SNE visualization for {}'.format(word.title()))"
   ]
  },
  {
   "cell_type": "code",
   "execution_count": 116,
   "metadata": {
    "colab": {
     "background_save": true
    },
    "id": "pC8mgNY0WtKz"
   },
   "outputs": [
    {
     "name": "stderr",
     "output_type": "stream",
     "text": [
      "/home/studio-lab-user/.conda/envs/default/lib/python3.9/site-packages/sklearn/manifold/_t_sne.py:780: FutureWarning: The default initialization in TSNE will change from 'random' to 'pca' in 1.2.\n",
      "  warnings.warn(\n",
      "/home/studio-lab-user/.conda/envs/default/lib/python3.9/site-packages/sklearn/manifold/_t_sne.py:790: FutureWarning: The default learning rate in TSNE will change from 200.0 to 'auto' in 1.2.\n",
      "  warnings.warn(\n",
      "/home/studio-lab-user/.conda/envs/default/lib/python3.9/site-packages/IPython/core/pylabtools.py:151: UserWarning: Glyph 21147 (\\N{CJK UNIFIED IDEOGRAPH-529B}) missing from current font.\n",
      "  fig.canvas.print_figure(bytes_io, **kw)\n"
     ]
    },
    {
     "data": {
      "image/png": "[encoded data removed]",
      "text/plain": [
       "<Figure size 648x648 with 1 Axes>"
      ]
     },
     "metadata": {
      "needs_background": "light"
     },
     "output_type": "display_data"
    }
   ],
   "source": [
    "word = 'abacaxi'\n",
    "\n",
    "tsnescatterplot2(\n",
    "    model, \n",
    "    word, \n",
    "    [i[0] for i in model.most_similar(negative=[word])],\n",
    "    )"
   ]
  },
  {
   "cell_type": "code",
   "execution_count": null,
   "metadata": {},
   "outputs": [],
   "source": []
  }
 ],
 "metadata": {
  "colab": {
   "authorship_tag": "ABX9TyNkbS6tHQabUxfGLnGhbKqn",
   "collapsed_sections": [],
   "mount_file_id": "1Ge7JuLzex5MWTnPcImzEHO3n_g-GQLUu",
   "name": "Exemplos - Apresentação.ipynb",
   "version": ""
  },
  "kernelspec": {
   "display_name": "default:Python",
   "language": "python",
   "name": "conda-env-default-py"
  },
  "language_info": {
   "codemirror_mode": {
    "name": "ipython",
    "version": 3
   },
   "file_extension": ".py",
   "mimetype": "text/x-python",
   "name": "python",
   "nbconvert_exporter": "python",
   "pygments_lexer": "ipython3",
   "version": "3.9.10"
  }
 },
 "nbformat": 4,
 "nbformat_minor": 4
}
