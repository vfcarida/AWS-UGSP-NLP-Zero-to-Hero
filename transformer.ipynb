{
 "cells": [
  {
   "cell_type": "markdown",
   "metadata": {
    "id": "s_qNSzzyaCbD"
   },
   "source": [
    "##### Copyright 2019 The TensorFlow Authors."
   ]
  },
  {
   "cell_type": "code",
   "execution_count": 1,
   "metadata": {
    "cellView": "form",
    "id": "jmjh290raIky"
   },
   "outputs": [],
   "source": [
    "#@title Licensed under the Apache License, Version 2.0 (the \"License\");\n",
    "# you may not use this file except in compliance with the License.\n",
    "# You may obtain a copy of the License at\n",
    "#\n",
    "# https://www.apache.org/licenses/LICENSE-2.0\n",
    "#\n",
    "# Unless required by applicable law or agreed to in writing, software\n",
    "# distributed under the License is distributed on an \"AS IS\" BASIS,\n",
    "# WITHOUT WARRANTIES OR CONDITIONS OF ANY KIND, either express or implied.\n",
    "# See the License for the specific language governing permissions and\n",
    "# limitations under the License."
   ]
  },
  {
   "cell_type": "markdown",
   "metadata": {
    "id": "J0Qjg6vuaHNt"
   },
   "source": [
    "# Transformer model for language understanding"
   ]
  },
  {
   "cell_type": "markdown",
   "metadata": {
    "id": "M-f8TnGpE_ex"
   },
   "source": [
    "This tutorial trains a <a href=\"https://arxiv.org/abs/1706.03762\" class=\"external\">Transformer model</a> to translate Portuguese to English. This is an advanced example that assumes knowledge of [text generation](text_generation.ipynb) and [attention](nmt_with_attention.ipynb).\n",
    "\n",
    "The core idea behind the Transformer model is *self-attention*—the ability to attend to different positions of the input sequence to compute a representation of that sequence. Transformer creates stacks of self-attention layers and is explained below in the sections *Scaled dot product attention* and *Multi-head attention*.\n",
    "\n",
    "A transformer model handles variable-sized input using stacks of self-attention layers instead of [RNNs](text_classification_rnn.ipynb) or [CNNs](../images/intro_to_cnns.ipynb). This general architecture has a number of advantages:\n",
    "\n",
    "* It make no assumptions about the temporal/spatial relationships across the data. This is ideal for processing a set of objects (for example, [StarCraft units](https://deepmind.com/blog/alphastar-mastering-real-time-strategy-game-starcraft-ii/#block-8)).\n",
    "* Layer outputs can be calculated in parallel, instead of a series like an RNN.\n",
    "* Distant items can affect each other's output without passing through many RNN-steps, or convolution layers (see [Scene Memory Transformer](https://arxiv.org/pdf/1903.03878.pdf) for example).\n",
    "* It can learn long-range dependencies. This is a challenge in many sequence tasks.\n",
    "\n",
    "The downsides of this architecture are:\n",
    "\n",
    "* For a time-series, the output for a time-step is calculated from the *entire history* instead of only the inputs and current hidden-state. This _may_ be less efficient.   \n",
    "* If the input *does* have a  temporal/spatial relationship, like text, some positional encoding must be added or the model will effectively see a bag of words. \n",
    "\n",
    "After training the model in this notebook, you will be able to input a Portuguese sentence and return the English translation.\n",
    "\n",
    "<img src=\"https://www.tensorflow.org/images/tutorials/transformer/attention_map_portuguese.png\" width=\"800\" alt=\"Attention heatmap\">"
   ]
  },
  {
   "cell_type": "code",
   "execution_count": 2,
   "metadata": {
    "colab": {
     "base_uri": "https://localhost:8080/",
     "height": 173
    },
    "id": "XFG0NDRu5mYQ",
    "outputId": "b5ab56b2-06c8-4768-d01f-de655ffbf626"
   },
   "outputs": [
    {
     "name": "stdout",
     "output_type": "stream",
     "text": [
      "\u001b[33mWARNING: You are using pip version 22.0.4; however, version 22.1.2 is available.\n",
      "You should consider upgrading via the '/home/studio-lab-user/.conda/envs/default/bin/python3.9 -m pip install --upgrade pip' command.\u001b[0m\u001b[33m\n",
      "\u001b[0mCollecting matplotlib==3.2.2\n",
      "  Downloading matplotlib-3.2.2.tar.gz (40.3 MB)\n",
      "\u001b[2K     \u001b[90m━━━━━━━━━━━━━━━━━━━━━━━━━━━━━━━━━━━━━━━━\u001b[0m \u001b[32m40.3/40.3 MB\u001b[0m \u001b[31m40.5 MB/s\u001b[0m eta \u001b[36m0:00:00\u001b[0m00:01\u001b[0m00:01\u001b[0m\n",
      "\u001b[?25h  Preparing metadata (setup.py) ... \u001b[?25ldone\n",
      "\u001b[?25hRequirement already satisfied: cycler>=0.10 in ./.conda/envs/default/lib/python3.9/site-packages (from matplotlib==3.2.2) (0.11.0)\n",
      "Requirement already satisfied: kiwisolver>=1.0.1 in ./.conda/envs/default/lib/python3.9/site-packages (from matplotlib==3.2.2) (1.4.2)\n",
      "Requirement already satisfied: numpy>=1.11 in ./.conda/envs/default/lib/python3.9/site-packages (from matplotlib==3.2.2) (1.22.3)\n",
      "Requirement already satisfied: pyparsing!=2.0.4,!=2.1.2,!=2.1.6,>=2.0.1 in ./.conda/envs/default/lib/python3.9/site-packages (from matplotlib==3.2.2) (3.0.7)\n",
      "Requirement already satisfied: python-dateutil>=2.1 in ./.conda/envs/default/lib/python3.9/site-packages (from matplotlib==3.2.2) (2.8.2)\n",
      "Requirement already satisfied: six>=1.5 in ./.conda/envs/default/lib/python3.9/site-packages (from python-dateutil>=2.1->matplotlib==3.2.2) (1.16.0)\n",
      "Building wheels for collected packages: matplotlib\n",
      "  Building wheel for matplotlib (setup.py) ... \u001b[?25lerror\n",
      "  \u001b[1;31merror\u001b[0m: \u001b[1msubprocess-exited-with-error\u001b[0m\n",
      "  \n",
      "  \u001b[31m×\u001b[0m \u001b[32mpython setup.py bdist_wheel\u001b[0m did not run successfully.\n",
      "  \u001b[31m│\u001b[0m exit code: \u001b[1;36m1\u001b[0m\n",
      "  \u001b[31m╰─>\u001b[0m \u001b[31m[595 lines of output]\u001b[0m\n",
      "  \u001b[31m   \u001b[0m \n",
      "  \u001b[31m   \u001b[0m Edit setup.cfg to change the build options; suppress output with --quiet.\n",
      "  \u001b[31m   \u001b[0m \n",
      "  \u001b[31m   \u001b[0m BUILDING MATPLOTLIB\n",
      "  \u001b[31m   \u001b[0m   matplotlib: yes [3.2.2]\n",
      "  \u001b[31m   \u001b[0m       python: yes [3.9.10 | packaged by conda-forge | (main, Feb  1 2022,\n",
      "  \u001b[31m   \u001b[0m                   21:24:37)  [GCC 9.4.0]]\n",
      "  \u001b[31m   \u001b[0m     platform: yes [linux]\n",
      "  \u001b[31m   \u001b[0m  sample_data: yes [installing]\n",
      "  \u001b[31m   \u001b[0m        tests: no  [skipping due to configuration]\n",
      "  \u001b[31m   \u001b[0m          agg: yes [installing]\n",
      "  \u001b[31m   \u001b[0m        tkagg: yes [installing; run-time loading from Python Tcl/Tk]\n",
      "  \u001b[31m   \u001b[0m       macosx: no  [Mac OS-X only]\n",
      "  \u001b[31m   \u001b[0m \n",
      "  \u001b[31m   \u001b[0m running bdist_wheel\n",
      "  \u001b[31m   \u001b[0m running build\n",
      "  \u001b[31m   \u001b[0m running build_py\n",
      "  \u001b[31m   \u001b[0m creating build\n",
      "  \u001b[31m   \u001b[0m creating build/lib.linux-x86_64-cpython-39\n",
      "  \u001b[31m   \u001b[0m copying lib/pylab.py -> build/lib.linux-x86_64-cpython-39\n",
      "  \u001b[31m   \u001b[0m creating build/lib.linux-x86_64-cpython-39/matplotlib\n",
      "  \u001b[31m   \u001b[0m copying lib/matplotlib/__init__.py -> build/lib.linux-x86_64-cpython-39/matplotlib\n",
      "  \u001b[31m   \u001b[0m copying lib/matplotlib/_animation_data.py -> build/lib.linux-x86_64-cpython-39/matplotlib\n",
      "  \u001b[31m   \u001b[0m copying lib/matplotlib/_cm.py -> build/lib.linux-x86_64-cpython-39/matplotlib\n",
      "  \u001b[31m   \u001b[0m copying lib/matplotlib/_cm_listed.py -> build/lib.linux-x86_64-cpython-39/matplotlib\n",
      "  \u001b[31m   \u001b[0m copying lib/matplotlib/_color_data.py -> build/lib.linux-x86_64-cpython-39/matplotlib\n",
      "  \u001b[31m   \u001b[0m copying lib/matplotlib/_constrained_layout.py -> build/lib.linux-x86_64-cpython-39/matplotlib\n",
      "  \u001b[31m   \u001b[0m copying lib/matplotlib/_layoutbox.py -> build/lib.linux-x86_64-cpython-39/matplotlib\n",
      "  \u001b[31m   \u001b[0m copying lib/matplotlib/_mathtext_data.py -> build/lib.linux-x86_64-cpython-39/matplotlib\n",
      "  \u001b[31m   \u001b[0m copying lib/matplotlib/_pylab_helpers.py -> build/lib.linux-x86_64-cpython-39/matplotlib\n",
      "  \u001b[31m   \u001b[0m copying lib/matplotlib/_text_layout.py -> build/lib.linux-x86_64-cpython-39/matplotlib\n",
      "  \u001b[31m   \u001b[0m copying lib/matplotlib/_version.py -> build/lib.linux-x86_64-cpython-39/matplotlib\n",
      "  \u001b[31m   \u001b[0m copying lib/matplotlib/afm.py -> build/lib.linux-x86_64-cpython-39/matplotlib\n",
      "  \u001b[31m   \u001b[0m copying lib/matplotlib/animation.py -> build/lib.linux-x86_64-cpython-39/matplotlib\n",
      "  \u001b[31m   \u001b[0m copying lib/matplotlib/artist.py -> build/lib.linux-x86_64-cpython-39/matplotlib\n",
      "  \u001b[31m   \u001b[0m copying lib/matplotlib/axis.py -> build/lib.linux-x86_64-cpython-39/matplotlib\n",
      "  \u001b[31m   \u001b[0m copying lib/matplotlib/backend_bases.py -> build/lib.linux-x86_64-cpython-39/matplotlib\n",
      "  \u001b[31m   \u001b[0m copying lib/matplotlib/backend_managers.py -> build/lib.linux-x86_64-cpython-39/matplotlib\n",
      "  \u001b[31m   \u001b[0m copying lib/matplotlib/backend_tools.py -> build/lib.linux-x86_64-cpython-39/matplotlib\n",
      "  \u001b[31m   \u001b[0m copying lib/matplotlib/bezier.py -> build/lib.linux-x86_64-cpython-39/matplotlib\n",
      "  \u001b[31m   \u001b[0m copying lib/matplotlib/blocking_input.py -> build/lib.linux-x86_64-cpython-39/matplotlib\n",
      "  \u001b[31m   \u001b[0m copying lib/matplotlib/category.py -> build/lib.linux-x86_64-cpython-39/matplotlib\n",
      "  \u001b[31m   \u001b[0m copying lib/matplotlib/cm.py -> build/lib.linux-x86_64-cpython-39/matplotlib\n",
      "  \u001b[31m   \u001b[0m copying lib/matplotlib/collections.py -> build/lib.linux-x86_64-cpython-39/matplotlib\n",
      "  \u001b[31m   \u001b[0m copying lib/matplotlib/colorbar.py -> build/lib.linux-x86_64-cpython-39/matplotlib\n",
      "  \u001b[31m   \u001b[0m copying lib/matplotlib/colors.py -> build/lib.linux-x86_64-cpython-39/matplotlib\n",
      "  \u001b[31m   \u001b[0m copying lib/matplotlib/container.py -> build/lib.linux-x86_64-cpython-39/matplotlib\n",
      "  \u001b[31m   \u001b[0m copying lib/matplotlib/contour.py -> build/lib.linux-x86_64-cpython-39/matplotlib\n",
      "  \u001b[31m   \u001b[0m copying lib/matplotlib/dates.py -> build/lib.linux-x86_64-cpython-39/matplotlib\n",
      "  \u001b[31m   \u001b[0m copying lib/matplotlib/docstring.py -> build/lib.linux-x86_64-cpython-39/matplotlib\n",
      "  \u001b[31m   \u001b[0m copying lib/matplotlib/dviread.py -> build/lib.linux-x86_64-cpython-39/matplotlib\n",
      "  \u001b[31m   \u001b[0m copying lib/matplotlib/figure.py -> build/lib.linux-x86_64-cpython-39/matplotlib\n",
      "  \u001b[31m   \u001b[0m copying lib/matplotlib/font_manager.py -> build/lib.linux-x86_64-cpython-39/matplotlib\n",
      "  \u001b[31m   \u001b[0m copying lib/matplotlib/fontconfig_pattern.py -> build/lib.linux-x86_64-cpython-39/matplotlib\n",
      "  \u001b[31m   \u001b[0m copying lib/matplotlib/gridspec.py -> build/lib.linux-x86_64-cpython-39/matplotlib\n",
      "  \u001b[31m   \u001b[0m copying lib/matplotlib/hatch.py -> build/lib.linux-x86_64-cpython-39/matplotlib\n",
      "  \u001b[31m   \u001b[0m copying lib/matplotlib/image.py -> build/lib.linux-x86_64-cpython-39/matplotlib\n",
      "  \u001b[31m   \u001b[0m copying lib/matplotlib/legend.py -> build/lib.linux-x86_64-cpython-39/matplotlib\n",
      "  \u001b[31m   \u001b[0m copying lib/matplotlib/legend_handler.py -> build/lib.linux-x86_64-cpython-39/matplotlib\n",
      "  \u001b[31m   \u001b[0m copying lib/matplotlib/lines.py -> build/lib.linux-x86_64-cpython-39/matplotlib\n",
      "  \u001b[31m   \u001b[0m copying lib/matplotlib/markers.py -> build/lib.linux-x86_64-cpython-39/matplotlib\n",
      "  \u001b[31m   \u001b[0m copying lib/matplotlib/mathtext.py -> build/lib.linux-x86_64-cpython-39/matplotlib\n",
      "  \u001b[31m   \u001b[0m copying lib/matplotlib/mlab.py -> build/lib.linux-x86_64-cpython-39/matplotlib\n",
      "  \u001b[31m   \u001b[0m copying lib/matplotlib/offsetbox.py -> build/lib.linux-x86_64-cpython-39/matplotlib\n",
      "  \u001b[31m   \u001b[0m copying lib/matplotlib/patches.py -> build/lib.linux-x86_64-cpython-39/matplotlib\n",
      "  \u001b[31m   \u001b[0m copying lib/matplotlib/path.py -> build/lib.linux-x86_64-cpython-39/matplotlib\n",
      "  \u001b[31m   \u001b[0m copying lib/matplotlib/patheffects.py -> build/lib.linux-x86_64-cpython-39/matplotlib\n",
      "  \u001b[31m   \u001b[0m copying lib/matplotlib/pylab.py -> build/lib.linux-x86_64-cpython-39/matplotlib\n",
      "  \u001b[31m   \u001b[0m copying lib/matplotlib/pyplot.py -> build/lib.linux-x86_64-cpython-39/matplotlib\n",
      "  \u001b[31m   \u001b[0m copying lib/matplotlib/quiver.py -> build/lib.linux-x86_64-cpython-39/matplotlib\n",
      "  \u001b[31m   \u001b[0m copying lib/matplotlib/rcsetup.py -> build/lib.linux-x86_64-cpython-39/matplotlib\n",
      "  \u001b[31m   \u001b[0m copying lib/matplotlib/sankey.py -> build/lib.linux-x86_64-cpython-39/matplotlib\n",
      "  \u001b[31m   \u001b[0m copying lib/matplotlib/scale.py -> build/lib.linux-x86_64-cpython-39/matplotlib\n",
      "  \u001b[31m   \u001b[0m copying lib/matplotlib/spines.py -> build/lib.linux-x86_64-cpython-39/matplotlib\n",
      "  \u001b[31m   \u001b[0m copying lib/matplotlib/stackplot.py -> build/lib.linux-x86_64-cpython-39/matplotlib\n",
      "  \u001b[31m   \u001b[0m copying lib/matplotlib/streamplot.py -> build/lib.linux-x86_64-cpython-39/matplotlib\n",
      "  \u001b[31m   \u001b[0m copying lib/matplotlib/table.py -> build/lib.linux-x86_64-cpython-39/matplotlib\n",
      "  \u001b[31m   \u001b[0m copying lib/matplotlib/texmanager.py -> build/lib.linux-x86_64-cpython-39/matplotlib\n",
      "  \u001b[31m   \u001b[0m copying lib/matplotlib/text.py -> build/lib.linux-x86_64-cpython-39/matplotlib\n",
      "  \u001b[31m   \u001b[0m copying lib/matplotlib/textpath.py -> build/lib.linux-x86_64-cpython-39/matplotlib\n",
      "  \u001b[31m   \u001b[0m copying lib/matplotlib/ticker.py -> build/lib.linux-x86_64-cpython-39/matplotlib\n",
      "  \u001b[31m   \u001b[0m copying lib/matplotlib/tight_bbox.py -> build/lib.linux-x86_64-cpython-39/matplotlib\n",
      "  \u001b[31m   \u001b[0m copying lib/matplotlib/tight_layout.py -> build/lib.linux-x86_64-cpython-39/matplotlib\n",
      "  \u001b[31m   \u001b[0m copying lib/matplotlib/transforms.py -> build/lib.linux-x86_64-cpython-39/matplotlib\n",
      "  \u001b[31m   \u001b[0m copying lib/matplotlib/type1font.py -> build/lib.linux-x86_64-cpython-39/matplotlib\n",
      "  \u001b[31m   \u001b[0m copying lib/matplotlib/units.py -> build/lib.linux-x86_64-cpython-39/matplotlib\n",
      "  \u001b[31m   \u001b[0m copying lib/matplotlib/widgets.py -> build/lib.linux-x86_64-cpython-39/matplotlib\n",
      "  \u001b[31m   \u001b[0m creating build/lib.linux-x86_64-cpython-39/mpl_toolkits\n",
      "  \u001b[31m   \u001b[0m copying lib/mpl_toolkits/__init__.py -> build/lib.linux-x86_64-cpython-39/mpl_toolkits\n",
      "  \u001b[31m   \u001b[0m creating build/lib.linux-x86_64-cpython-39/matplotlib/axes\n",
      "  \u001b[31m   \u001b[0m copying lib/matplotlib/axes/__init__.py -> build/lib.linux-x86_64-cpython-39/matplotlib/axes\n",
      "  \u001b[31m   \u001b[0m copying lib/matplotlib/axes/_axes.py -> build/lib.linux-x86_64-cpython-39/matplotlib/axes\n",
      "  \u001b[31m   \u001b[0m copying lib/matplotlib/axes/_base.py -> build/lib.linux-x86_64-cpython-39/matplotlib/axes\n",
      "  \u001b[31m   \u001b[0m copying lib/matplotlib/axes/_secondary_axes.py -> build/lib.linux-x86_64-cpython-39/matplotlib/axes\n",
      "  \u001b[31m   \u001b[0m copying lib/matplotlib/axes/_subplots.py -> build/lib.linux-x86_64-cpython-39/matplotlib/axes\n",
      "  \u001b[31m   \u001b[0m creating build/lib.linux-x86_64-cpython-39/matplotlib/backends\n",
      "  \u001b[31m   \u001b[0m copying lib/matplotlib/backends/__init__.py -> build/lib.linux-x86_64-cpython-39/matplotlib/backends\n",
      "  \u001b[31m   \u001b[0m copying lib/matplotlib/backends/_backend_pdf_ps.py -> build/lib.linux-x86_64-cpython-39/matplotlib/backends\n",
      "  \u001b[31m   \u001b[0m copying lib/matplotlib/backends/_backend_tk.py -> build/lib.linux-x86_64-cpython-39/matplotlib/backends\n",
      "  \u001b[31m   \u001b[0m copying lib/matplotlib/backends/backend_agg.py -> build/lib.linux-x86_64-cpython-39/matplotlib/backends\n",
      "  \u001b[31m   \u001b[0m copying lib/matplotlib/backends/backend_cairo.py -> build/lib.linux-x86_64-cpython-39/matplotlib/backends\n",
      "  \u001b[31m   \u001b[0m copying lib/matplotlib/backends/backend_gtk3.py -> build/lib.linux-x86_64-cpython-39/matplotlib/backends\n",
      "  \u001b[31m   \u001b[0m copying lib/matplotlib/backends/backend_gtk3agg.py -> build/lib.linux-x86_64-cpython-39/matplotlib/backends\n",
      "  \u001b[31m   \u001b[0m copying lib/matplotlib/backends/backend_gtk3cairo.py -> build/lib.linux-x86_64-cpython-39/matplotlib/backends\n",
      "  \u001b[31m   \u001b[0m copying lib/matplotlib/backends/backend_macosx.py -> build/lib.linux-x86_64-cpython-39/matplotlib/backends\n",
      "  \u001b[31m   \u001b[0m copying lib/matplotlib/backends/backend_mixed.py -> build/lib.linux-x86_64-cpython-39/matplotlib/backends\n",
      "  \u001b[31m   \u001b[0m copying lib/matplotlib/backends/backend_nbagg.py -> build/lib.linux-x86_64-cpython-39/matplotlib/backends\n",
      "  \u001b[31m   \u001b[0m copying lib/matplotlib/backends/backend_pdf.py -> build/lib.linux-x86_64-cpython-39/matplotlib/backends\n",
      "  \u001b[31m   \u001b[0m copying lib/matplotlib/backends/backend_pgf.py -> build/lib.linux-x86_64-cpython-39/matplotlib/backends\n",
      "  \u001b[31m   \u001b[0m copying lib/matplotlib/backends/backend_ps.py -> build/lib.linux-x86_64-cpython-39/matplotlib/backends\n",
      "  \u001b[31m   \u001b[0m copying lib/matplotlib/backends/backend_qt4.py -> build/lib.linux-x86_64-cpython-39/matplotlib/backends\n",
      "  \u001b[31m   \u001b[0m copying lib/matplotlib/backends/backend_qt4agg.py -> build/lib.linux-x86_64-cpython-39/matplotlib/backends\n",
      "  \u001b[31m   \u001b[0m copying lib/matplotlib/backends/backend_qt4cairo.py -> build/lib.linux-x86_64-cpython-39/matplotlib/backends\n",
      "  \u001b[31m   \u001b[0m copying lib/matplotlib/backends/backend_qt5.py -> build/lib.linux-x86_64-cpython-39/matplotlib/backends\n",
      "  \u001b[31m   \u001b[0m copying lib/matplotlib/backends/backend_qt5agg.py -> build/lib.linux-x86_64-cpython-39/matplotlib/backends\n",
      "  \u001b[31m   \u001b[0m copying lib/matplotlib/backends/backend_qt5cairo.py -> build/lib.linux-x86_64-cpython-39/matplotlib/backends\n",
      "  \u001b[31m   \u001b[0m copying lib/matplotlib/backends/backend_svg.py -> build/lib.linux-x86_64-cpython-39/matplotlib/backends\n",
      "  \u001b[31m   \u001b[0m copying lib/matplotlib/backends/backend_template.py -> build/lib.linux-x86_64-cpython-39/matplotlib/backends\n",
      "  \u001b[31m   \u001b[0m copying lib/matplotlib/backends/backend_tkagg.py -> build/lib.linux-x86_64-cpython-39/matplotlib/backends\n",
      "  \u001b[31m   \u001b[0m copying lib/matplotlib/backends/backend_tkcairo.py -> build/lib.linux-x86_64-cpython-39/matplotlib/backends\n",
      "  \u001b[31m   \u001b[0m copying lib/matplotlib/backends/backend_webagg.py -> build/lib.linux-x86_64-cpython-39/matplotlib/backends\n",
      "  \u001b[31m   \u001b[0m copying lib/matplotlib/backends/backend_webagg_core.py -> build/lib.linux-x86_64-cpython-39/matplotlib/backends\n",
      "  \u001b[31m   \u001b[0m copying lib/matplotlib/backends/backend_wx.py -> build/lib.linux-x86_64-cpython-39/matplotlib/backends\n",
      "  \u001b[31m   \u001b[0m copying lib/matplotlib/backends/backend_wxagg.py -> build/lib.linux-x86_64-cpython-39/matplotlib/backends\n",
      "  \u001b[31m   \u001b[0m copying lib/matplotlib/backends/backend_wxcairo.py -> build/lib.linux-x86_64-cpython-39/matplotlib/backends\n",
      "  \u001b[31m   \u001b[0m copying lib/matplotlib/backends/qt_compat.py -> build/lib.linux-x86_64-cpython-39/matplotlib/backends\n",
      "  \u001b[31m   \u001b[0m creating build/lib.linux-x86_64-cpython-39/matplotlib/cbook\n",
      "  \u001b[31m   \u001b[0m copying lib/matplotlib/cbook/__init__.py -> build/lib.linux-x86_64-cpython-39/matplotlib/cbook\n",
      "  \u001b[31m   \u001b[0m copying lib/matplotlib/cbook/deprecation.py -> build/lib.linux-x86_64-cpython-39/matplotlib/cbook\n",
      "  \u001b[31m   \u001b[0m creating build/lib.linux-x86_64-cpython-39/matplotlib/compat\n",
      "  \u001b[31m   \u001b[0m copying lib/matplotlib/compat/__init__.py -> build/lib.linux-x86_64-cpython-39/matplotlib/compat\n",
      "  \u001b[31m   \u001b[0m creating build/lib.linux-x86_64-cpython-39/matplotlib/projections\n",
      "  \u001b[31m   \u001b[0m copying lib/matplotlib/projections/__init__.py -> build/lib.linux-x86_64-cpython-39/matplotlib/projections\n",
      "  \u001b[31m   \u001b[0m copying lib/matplotlib/projections/geo.py -> build/lib.linux-x86_64-cpython-39/matplotlib/projections\n",
      "  \u001b[31m   \u001b[0m copying lib/matplotlib/projections/polar.py -> build/lib.linux-x86_64-cpython-39/matplotlib/projections\n",
      "  \u001b[31m   \u001b[0m creating build/lib.linux-x86_64-cpython-39/matplotlib/sphinxext\n",
      "  \u001b[31m   \u001b[0m copying lib/matplotlib/sphinxext/__init__.py -> build/lib.linux-x86_64-cpython-39/matplotlib/sphinxext\n",
      "  \u001b[31m   \u001b[0m copying lib/matplotlib/sphinxext/mathmpl.py -> build/lib.linux-x86_64-cpython-39/matplotlib/sphinxext\n",
      "  \u001b[31m   \u001b[0m copying lib/matplotlib/sphinxext/plot_directive.py -> build/lib.linux-x86_64-cpython-39/matplotlib/sphinxext\n",
      "  \u001b[31m   \u001b[0m creating build/lib.linux-x86_64-cpython-39/matplotlib/style\n",
      "  \u001b[31m   \u001b[0m copying lib/matplotlib/style/__init__.py -> build/lib.linux-x86_64-cpython-39/matplotlib/style\n",
      "  \u001b[31m   \u001b[0m copying lib/matplotlib/style/core.py -> build/lib.linux-x86_64-cpython-39/matplotlib/style\n",
      "  \u001b[31m   \u001b[0m creating build/lib.linux-x86_64-cpython-39/matplotlib/testing\n",
      "  \u001b[31m   \u001b[0m copying lib/matplotlib/testing/__init__.py -> build/lib.linux-x86_64-cpython-39/matplotlib/testing\n",
      "  \u001b[31m   \u001b[0m copying lib/matplotlib/testing/compare.py -> build/lib.linux-x86_64-cpython-39/matplotlib/testing\n",
      "  \u001b[31m   \u001b[0m copying lib/matplotlib/testing/conftest.py -> build/lib.linux-x86_64-cpython-39/matplotlib/testing\n",
      "  \u001b[31m   \u001b[0m copying lib/matplotlib/testing/decorators.py -> build/lib.linux-x86_64-cpython-39/matplotlib/testing\n",
      "  \u001b[31m   \u001b[0m copying lib/matplotlib/testing/disable_internet.py -> build/lib.linux-x86_64-cpython-39/matplotlib/testing\n",
      "  \u001b[31m   \u001b[0m copying lib/matplotlib/testing/exceptions.py -> build/lib.linux-x86_64-cpython-39/matplotlib/testing\n",
      "  \u001b[31m   \u001b[0m creating build/lib.linux-x86_64-cpython-39/matplotlib/tests\n",
      "  \u001b[31m   \u001b[0m copying lib/matplotlib/tests/__init__.py -> build/lib.linux-x86_64-cpython-39/matplotlib/tests\n",
      "  \u001b[31m   \u001b[0m copying lib/matplotlib/tests/conftest.py -> build/lib.linux-x86_64-cpython-39/matplotlib/tests\n",
      "  \u001b[31m   \u001b[0m copying lib/matplotlib/tests/test_afm.py -> build/lib.linux-x86_64-cpython-39/matplotlib/tests\n",
      "  \u001b[31m   \u001b[0m copying lib/matplotlib/tests/test_agg.py -> build/lib.linux-x86_64-cpython-39/matplotlib/tests\n",
      "  \u001b[31m   \u001b[0m copying lib/matplotlib/tests/test_agg_filter.py -> build/lib.linux-x86_64-cpython-39/matplotlib/tests\n",
      "  \u001b[31m   \u001b[0m copying lib/matplotlib/tests/test_animation.py -> build/lib.linux-x86_64-cpython-39/matplotlib/tests\n",
      "  \u001b[31m   \u001b[0m copying lib/matplotlib/tests/test_arrow_patches.py -> build/lib.linux-x86_64-cpython-39/matplotlib/tests\n",
      "  \u001b[31m   \u001b[0m copying lib/matplotlib/tests/test_artist.py -> build/lib.linux-x86_64-cpython-39/matplotlib/tests\n",
      "  \u001b[31m   \u001b[0m copying lib/matplotlib/tests/test_axes.py -> build/lib.linux-x86_64-cpython-39/matplotlib/tests\n",
      "  \u001b[31m   \u001b[0m copying lib/matplotlib/tests/test_backend_bases.py -> build/lib.linux-x86_64-cpython-39/matplotlib/tests\n",
      "  \u001b[31m   \u001b[0m copying lib/matplotlib/tests/test_backend_cairo.py -> build/lib.linux-x86_64-cpython-39/matplotlib/tests\n",
      "  \u001b[31m   \u001b[0m copying lib/matplotlib/tests/test_backend_nbagg.py -> build/lib.linux-x86_64-cpython-39/matplotlib/tests\n",
      "  \u001b[31m   \u001b[0m copying lib/matplotlib/tests/test_backend_pdf.py -> build/lib.linux-x86_64-cpython-39/matplotlib/tests\n",
      "  \u001b[31m   \u001b[0m copying lib/matplotlib/tests/test_backend_pgf.py -> build/lib.linux-x86_64-cpython-39/matplotlib/tests\n",
      "  \u001b[31m   \u001b[0m copying lib/matplotlib/tests/test_backend_ps.py -> build/lib.linux-x86_64-cpython-39/matplotlib/tests\n",
      "  \u001b[31m   \u001b[0m copying lib/matplotlib/tests/test_backend_qt.py -> build/lib.linux-x86_64-cpython-39/matplotlib/tests\n",
      "  \u001b[31m   \u001b[0m copying lib/matplotlib/tests/test_backend_svg.py -> build/lib.linux-x86_64-cpython-39/matplotlib/tests\n",
      "  \u001b[31m   \u001b[0m copying lib/matplotlib/tests/test_backend_tk.py -> build/lib.linux-x86_64-cpython-39/matplotlib/tests\n",
      "  \u001b[31m   \u001b[0m copying lib/matplotlib/tests/test_backend_tools.py -> build/lib.linux-x86_64-cpython-39/matplotlib/tests\n",
      "  \u001b[31m   \u001b[0m copying lib/matplotlib/tests/test_backend_webagg.py -> build/lib.linux-x86_64-cpython-39/matplotlib/tests\n",
      "  \u001b[31m   \u001b[0m copying lib/matplotlib/tests/test_backends_interactive.py -> build/lib.linux-x86_64-cpython-39/matplotlib/tests\n",
      "  \u001b[31m   \u001b[0m copying lib/matplotlib/tests/test_basic.py -> build/lib.linux-x86_64-cpython-39/matplotlib/tests\n",
      "  \u001b[31m   \u001b[0m copying lib/matplotlib/tests/test_bbox_tight.py -> build/lib.linux-x86_64-cpython-39/matplotlib/tests\n",
      "  \u001b[31m   \u001b[0m copying lib/matplotlib/tests/test_category.py -> build/lib.linux-x86_64-cpython-39/matplotlib/tests\n",
      "  \u001b[31m   \u001b[0m copying lib/matplotlib/tests/test_cbook.py -> build/lib.linux-x86_64-cpython-39/matplotlib/tests\n",
      "  \u001b[31m   \u001b[0m copying lib/matplotlib/tests/test_collections.py -> build/lib.linux-x86_64-cpython-39/matplotlib/tests\n",
      "  \u001b[31m   \u001b[0m copying lib/matplotlib/tests/test_colorbar.py -> build/lib.linux-x86_64-cpython-39/matplotlib/tests\n",
      "  \u001b[31m   \u001b[0m copying lib/matplotlib/tests/test_colors.py -> build/lib.linux-x86_64-cpython-39/matplotlib/tests\n",
      "  \u001b[31m   \u001b[0m copying lib/matplotlib/tests/test_compare_images.py -> build/lib.linux-x86_64-cpython-39/matplotlib/tests\n",
      "  \u001b[31m   \u001b[0m copying lib/matplotlib/tests/test_constrainedlayout.py -> build/lib.linux-x86_64-cpython-39/matplotlib/tests\n",
      "  \u001b[31m   \u001b[0m copying lib/matplotlib/tests/test_container.py -> build/lib.linux-x86_64-cpython-39/matplotlib/tests\n",
      "  \u001b[31m   \u001b[0m copying lib/matplotlib/tests/test_contour.py -> build/lib.linux-x86_64-cpython-39/matplotlib/tests\n",
      "  \u001b[31m   \u001b[0m copying lib/matplotlib/tests/test_cycles.py -> build/lib.linux-x86_64-cpython-39/matplotlib/tests\n",
      "  \u001b[31m   \u001b[0m copying lib/matplotlib/tests/test_dates.py -> build/lib.linux-x86_64-cpython-39/matplotlib/tests\n",
      "  \u001b[31m   \u001b[0m copying lib/matplotlib/tests/test_determinism.py -> build/lib.linux-x86_64-cpython-39/matplotlib/tests\n",
      "  \u001b[31m   \u001b[0m copying lib/matplotlib/tests/test_dviread.py -> build/lib.linux-x86_64-cpython-39/matplotlib/tests\n",
      "  \u001b[31m   \u001b[0m copying lib/matplotlib/tests/test_figure.py -> build/lib.linux-x86_64-cpython-39/matplotlib/tests\n",
      "  \u001b[31m   \u001b[0m copying lib/matplotlib/tests/test_font_manager.py -> build/lib.linux-x86_64-cpython-39/matplotlib/tests\n",
      "  \u001b[31m   \u001b[0m copying lib/matplotlib/tests/test_fontconfig_pattern.py -> build/lib.linux-x86_64-cpython-39/matplotlib/tests\n",
      "  \u001b[31m   \u001b[0m copying lib/matplotlib/tests/test_gridspec.py -> build/lib.linux-x86_64-cpython-39/matplotlib/tests\n",
      "  \u001b[31m   \u001b[0m copying lib/matplotlib/tests/test_image.py -> build/lib.linux-x86_64-cpython-39/matplotlib/tests\n",
      "  \u001b[31m   \u001b[0m copying lib/matplotlib/tests/test_legend.py -> build/lib.linux-x86_64-cpython-39/matplotlib/tests\n",
      "  \u001b[31m   \u001b[0m copying lib/matplotlib/tests/test_lines.py -> build/lib.linux-x86_64-cpython-39/matplotlib/tests\n",
      "  \u001b[31m   \u001b[0m copying lib/matplotlib/tests/test_marker.py -> build/lib.linux-x86_64-cpython-39/matplotlib/tests\n",
      "  \u001b[31m   \u001b[0m copying lib/matplotlib/tests/test_mathtext.py -> build/lib.linux-x86_64-cpython-39/matplotlib/tests\n",
      "  \u001b[31m   \u001b[0m copying lib/matplotlib/tests/test_matplotlib.py -> build/lib.linux-x86_64-cpython-39/matplotlib/tests\n",
      "  \u001b[31m   \u001b[0m copying lib/matplotlib/tests/test_mlab.py -> build/lib.linux-x86_64-cpython-39/matplotlib/tests\n",
      "  \u001b[31m   \u001b[0m copying lib/matplotlib/tests/test_offsetbox.py -> build/lib.linux-x86_64-cpython-39/matplotlib/tests\n",
      "  \u001b[31m   \u001b[0m copying lib/matplotlib/tests/test_patches.py -> build/lib.linux-x86_64-cpython-39/matplotlib/tests\n",
      "  \u001b[31m   \u001b[0m copying lib/matplotlib/tests/test_path.py -> build/lib.linux-x86_64-cpython-39/matplotlib/tests\n",
      "  \u001b[31m   \u001b[0m copying lib/matplotlib/tests/test_patheffects.py -> build/lib.linux-x86_64-cpython-39/matplotlib/tests\n",
      "  \u001b[31m   \u001b[0m copying lib/matplotlib/tests/test_pickle.py -> build/lib.linux-x86_64-cpython-39/matplotlib/tests\n",
      "  \u001b[31m   \u001b[0m copying lib/matplotlib/tests/test_png.py -> build/lib.linux-x86_64-cpython-39/matplotlib/tests\n",
      "  \u001b[31m   \u001b[0m copying lib/matplotlib/tests/test_preprocess_data.py -> build/lib.linux-x86_64-cpython-39/matplotlib/tests\n",
      "  \u001b[31m   \u001b[0m copying lib/matplotlib/tests/test_pyplot.py -> build/lib.linux-x86_64-cpython-39/matplotlib/tests\n",
      "  \u001b[31m   \u001b[0m copying lib/matplotlib/tests/test_quiver.py -> build/lib.linux-x86_64-cpython-39/matplotlib/tests\n",
      "  \u001b[31m   \u001b[0m copying lib/matplotlib/tests/test_rcparams.py -> build/lib.linux-x86_64-cpython-39/matplotlib/tests\n",
      "  \u001b[31m   \u001b[0m copying lib/matplotlib/tests/test_sankey.py -> build/lib.linux-x86_64-cpython-39/matplotlib/tests\n",
      "  \u001b[31m   \u001b[0m copying lib/matplotlib/tests/test_scale.py -> build/lib.linux-x86_64-cpython-39/matplotlib/tests\n",
      "  \u001b[31m   \u001b[0m copying lib/matplotlib/tests/test_simplification.py -> build/lib.linux-x86_64-cpython-39/matplotlib/tests\n",
      "  \u001b[31m   \u001b[0m copying lib/matplotlib/tests/test_skew.py -> build/lib.linux-x86_64-cpython-39/matplotlib/tests\n",
      "  \u001b[31m   \u001b[0m copying lib/matplotlib/tests/test_sphinxext.py -> build/lib.linux-x86_64-cpython-39/matplotlib/tests\n",
      "  \u001b[31m   \u001b[0m copying lib/matplotlib/tests/test_spines.py -> build/lib.linux-x86_64-cpython-39/matplotlib/tests\n",
      "  \u001b[31m   \u001b[0m copying lib/matplotlib/tests/test_streamplot.py -> build/lib.linux-x86_64-cpython-39/matplotlib/tests\n",
      "  \u001b[31m   \u001b[0m copying lib/matplotlib/tests/test_style.py -> build/lib.linux-x86_64-cpython-39/matplotlib/tests\n",
      "  \u001b[31m   \u001b[0m copying lib/matplotlib/tests/test_subplots.py -> build/lib.linux-x86_64-cpython-39/matplotlib/tests\n",
      "  \u001b[31m   \u001b[0m copying lib/matplotlib/tests/test_table.py -> build/lib.linux-x86_64-cpython-39/matplotlib/tests\n",
      "  \u001b[31m   \u001b[0m copying lib/matplotlib/tests/test_testing.py -> build/lib.linux-x86_64-cpython-39/matplotlib/tests\n",
      "  \u001b[31m   \u001b[0m copying lib/matplotlib/tests/test_texmanager.py -> build/lib.linux-x86_64-cpython-39/matplotlib/tests\n",
      "  \u001b[31m   \u001b[0m copying lib/matplotlib/tests/test_text.py -> build/lib.linux-x86_64-cpython-39/matplotlib/tests\n",
      "  \u001b[31m   \u001b[0m copying lib/matplotlib/tests/test_ticker.py -> build/lib.linux-x86_64-cpython-39/matplotlib/tests\n",
      "  \u001b[31m   \u001b[0m copying lib/matplotlib/tests/test_tightlayout.py -> build/lib.linux-x86_64-cpython-39/matplotlib/tests\n",
      "  \u001b[31m   \u001b[0m copying lib/matplotlib/tests/test_transforms.py -> build/lib.linux-x86_64-cpython-39/matplotlib/tests\n",
      "  \u001b[31m   \u001b[0m copying lib/matplotlib/tests/test_triangulation.py -> build/lib.linux-x86_64-cpython-39/matplotlib/tests\n",
      "  \u001b[31m   \u001b[0m copying lib/matplotlib/tests/test_ttconv.py -> build/lib.linux-x86_64-cpython-39/matplotlib/tests\n",
      "  \u001b[31m   \u001b[0m copying lib/matplotlib/tests/test_type1font.py -> build/lib.linux-x86_64-cpython-39/matplotlib/tests\n",
      "  \u001b[31m   \u001b[0m copying lib/matplotlib/tests/test_units.py -> build/lib.linux-x86_64-cpython-39/matplotlib/tests\n",
      "  \u001b[31m   \u001b[0m copying lib/matplotlib/tests/test_usetex.py -> build/lib.linux-x86_64-cpython-39/matplotlib/tests\n",
      "  \u001b[31m   \u001b[0m copying lib/matplotlib/tests/test_widgets.py -> build/lib.linux-x86_64-cpython-39/matplotlib/tests\n",
      "  \u001b[31m   \u001b[0m creating build/lib.linux-x86_64-cpython-39/matplotlib/tri\n",
      "  \u001b[31m   \u001b[0m copying lib/matplotlib/tri/__init__.py -> build/lib.linux-x86_64-cpython-39/matplotlib/tri\n",
      "  \u001b[31m   \u001b[0m copying lib/matplotlib/tri/triangulation.py -> build/lib.linux-x86_64-cpython-39/matplotlib/tri\n",
      "  \u001b[31m   \u001b[0m copying lib/matplotlib/tri/tricontour.py -> build/lib.linux-x86_64-cpython-39/matplotlib/tri\n",
      "  \u001b[31m   \u001b[0m copying lib/matplotlib/tri/trifinder.py -> build/lib.linux-x86_64-cpython-39/matplotlib/tri\n",
      "  \u001b[31m   \u001b[0m copying lib/matplotlib/tri/triinterpolate.py -> build/lib.linux-x86_64-cpython-39/matplotlib/tri\n",
      "  \u001b[31m   \u001b[0m copying lib/matplotlib/tri/tripcolor.py -> build/lib.linux-x86_64-cpython-39/matplotlib/tri\n",
      "  \u001b[31m   \u001b[0m copying lib/matplotlib/tri/triplot.py -> build/lib.linux-x86_64-cpython-39/matplotlib/tri\n",
      "  \u001b[31m   \u001b[0m copying lib/matplotlib/tri/trirefine.py -> build/lib.linux-x86_64-cpython-39/matplotlib/tri\n",
      "  \u001b[31m   \u001b[0m copying lib/matplotlib/tri/tritools.py -> build/lib.linux-x86_64-cpython-39/matplotlib/tri\n",
      "  \u001b[31m   \u001b[0m creating build/lib.linux-x86_64-cpython-39/matplotlib/backends/qt_editor\n",
      "  \u001b[31m   \u001b[0m copying lib/matplotlib/backends/qt_editor/__init__.py -> build/lib.linux-x86_64-cpython-39/matplotlib/backends/qt_editor\n",
      "  \u001b[31m   \u001b[0m copying lib/matplotlib/backends/qt_editor/_formlayout.py -> build/lib.linux-x86_64-cpython-39/matplotlib/backends/qt_editor\n",
      "  \u001b[31m   \u001b[0m copying lib/matplotlib/backends/qt_editor/figureoptions.py -> build/lib.linux-x86_64-cpython-39/matplotlib/backends/qt_editor\n",
      "  \u001b[31m   \u001b[0m copying lib/matplotlib/backends/qt_editor/formlayout.py -> build/lib.linux-x86_64-cpython-39/matplotlib/backends/qt_editor\n",
      "  \u001b[31m   \u001b[0m copying lib/matplotlib/backends/qt_editor/formsubplottool.py -> build/lib.linux-x86_64-cpython-39/matplotlib/backends/qt_editor\n",
      "  \u001b[31m   \u001b[0m creating build/lib.linux-x86_64-cpython-39/matplotlib/testing/jpl_units\n",
      "  \u001b[31m   \u001b[0m copying lib/matplotlib/testing/jpl_units/Duration.py -> build/lib.linux-x86_64-cpython-39/matplotlib/testing/jpl_units\n",
      "  \u001b[31m   \u001b[0m copying lib/matplotlib/testing/jpl_units/Epoch.py -> build/lib.linux-x86_64-cpython-39/matplotlib/testing/jpl_units\n",
      "  \u001b[31m   \u001b[0m copying lib/matplotlib/testing/jpl_units/EpochConverter.py -> build/lib.linux-x86_64-cpython-39/matplotlib/testing/jpl_units\n",
      "  \u001b[31m   \u001b[0m copying lib/matplotlib/testing/jpl_units/StrConverter.py -> build/lib.linux-x86_64-cpython-39/matplotlib/testing/jpl_units\n",
      "  \u001b[31m   \u001b[0m copying lib/matplotlib/testing/jpl_units/UnitDbl.py -> build/lib.linux-x86_64-cpython-39/matplotlib/testing/jpl_units\n",
      "  \u001b[31m   \u001b[0m copying lib/matplotlib/testing/jpl_units/UnitDblConverter.py -> build/lib.linux-x86_64-cpython-39/matplotlib/testing/jpl_units\n",
      "  \u001b[31m   \u001b[0m copying lib/matplotlib/testing/jpl_units/UnitDblFormatter.py -> build/lib.linux-x86_64-cpython-39/matplotlib/testing/jpl_units\n",
      "  \u001b[31m   \u001b[0m copying lib/matplotlib/testing/jpl_units/__init__.py -> build/lib.linux-x86_64-cpython-39/matplotlib/testing/jpl_units\n",
      "  \u001b[31m   \u001b[0m creating build/lib.linux-x86_64-cpython-39/mpl_toolkits/axes_grid\n",
      "  \u001b[31m   \u001b[0m copying lib/mpl_toolkits/axes_grid/__init__.py -> build/lib.linux-x86_64-cpython-39/mpl_toolkits/axes_grid\n",
      "  \u001b[31m   \u001b[0m copying lib/mpl_toolkits/axes_grid/anchored_artists.py -> build/lib.linux-x86_64-cpython-39/mpl_toolkits/axes_grid\n",
      "  \u001b[31m   \u001b[0m copying lib/mpl_toolkits/axes_grid/angle_helper.py -> build/lib.linux-x86_64-cpython-39/mpl_toolkits/axes_grid\n",
      "  \u001b[31m   \u001b[0m copying lib/mpl_toolkits/axes_grid/axes_divider.py -> build/lib.linux-x86_64-cpython-39/mpl_toolkits/axes_grid\n",
      "  \u001b[31m   \u001b[0m copying lib/mpl_toolkits/axes_grid/axes_grid.py -> build/lib.linux-x86_64-cpython-39/mpl_toolkits/axes_grid\n",
      "  \u001b[31m   \u001b[0m copying lib/mpl_toolkits/axes_grid/axes_rgb.py -> build/lib.linux-x86_64-cpython-39/mpl_toolkits/axes_grid\n",
      "  \u001b[31m   \u001b[0m copying lib/mpl_toolkits/axes_grid/axes_size.py -> build/lib.linux-x86_64-cpython-39/mpl_toolkits/axes_grid\n",
      "  \u001b[31m   \u001b[0m copying lib/mpl_toolkits/axes_grid/axis_artist.py -> build/lib.linux-x86_64-cpython-39/mpl_toolkits/axes_grid\n",
      "  \u001b[31m   \u001b[0m copying lib/mpl_toolkits/axes_grid/axisline_style.py -> build/lib.linux-x86_64-cpython-39/mpl_toolkits/axes_grid\n",
      "  \u001b[31m   \u001b[0m copying lib/mpl_toolkits/axes_grid/axislines.py -> build/lib.linux-x86_64-cpython-39/mpl_toolkits/axes_grid\n",
      "  \u001b[31m   \u001b[0m copying lib/mpl_toolkits/axes_grid/clip_path.py -> build/lib.linux-x86_64-cpython-39/mpl_toolkits/axes_grid\n",
      "  \u001b[31m   \u001b[0m copying lib/mpl_toolkits/axes_grid/colorbar.py -> build/lib.linux-x86_64-cpython-39/mpl_toolkits/axes_grid\n",
      "  \u001b[31m   \u001b[0m copying lib/mpl_toolkits/axes_grid/floating_axes.py -> build/lib.linux-x86_64-cpython-39/mpl_toolkits/axes_grid\n",
      "  \u001b[31m   \u001b[0m copying lib/mpl_toolkits/axes_grid/grid_finder.py -> build/lib.linux-x86_64-cpython-39/mpl_toolkits/axes_grid\n",
      "  \u001b[31m   \u001b[0m copying lib/mpl_toolkits/axes_grid/grid_helper_curvelinear.py -> build/lib.linux-x86_64-cpython-39/mpl_toolkits/axes_grid\n",
      "  \u001b[31m   \u001b[0m copying lib/mpl_toolkits/axes_grid/inset_locator.py -> build/lib.linux-x86_64-cpython-39/mpl_toolkits/axes_grid\n",
      "  \u001b[31m   \u001b[0m copying lib/mpl_toolkits/axes_grid/parasite_axes.py -> build/lib.linux-x86_64-cpython-39/mpl_toolkits/axes_grid\n",
      "  \u001b[31m   \u001b[0m creating build/lib.linux-x86_64-cpython-39/mpl_toolkits/axes_grid1\n",
      "  \u001b[31m   \u001b[0m copying lib/mpl_toolkits/axes_grid1/__init__.py -> build/lib.linux-x86_64-cpython-39/mpl_toolkits/axes_grid1\n",
      "  \u001b[31m   \u001b[0m copying lib/mpl_toolkits/axes_grid1/anchored_artists.py -> build/lib.linux-x86_64-cpython-39/mpl_toolkits/axes_grid1\n",
      "  \u001b[31m   \u001b[0m copying lib/mpl_toolkits/axes_grid1/axes_divider.py -> build/lib.linux-x86_64-cpython-39/mpl_toolkits/axes_grid1\n",
      "  \u001b[31m   \u001b[0m copying lib/mpl_toolkits/axes_grid1/axes_grid.py -> build/lib.linux-x86_64-cpython-39/mpl_toolkits/axes_grid1\n",
      "  \u001b[31m   \u001b[0m copying lib/mpl_toolkits/axes_grid1/axes_rgb.py -> build/lib.linux-x86_64-cpython-39/mpl_toolkits/axes_grid1\n",
      "  \u001b[31m   \u001b[0m copying lib/mpl_toolkits/axes_grid1/axes_size.py -> build/lib.linux-x86_64-cpython-39/mpl_toolkits/axes_grid1\n",
      "  \u001b[31m   \u001b[0m copying lib/mpl_toolkits/axes_grid1/colorbar.py -> build/lib.linux-x86_64-cpython-39/mpl_toolkits/axes_grid1\n",
      "  \u001b[31m   \u001b[0m copying lib/mpl_toolkits/axes_grid1/inset_locator.py -> build/lib.linux-x86_64-cpython-39/mpl_toolkits/axes_grid1\n",
      "  \u001b[31m   \u001b[0m copying lib/mpl_toolkits/axes_grid1/mpl_axes.py -> build/lib.linux-x86_64-cpython-39/mpl_toolkits/axes_grid1\n",
      "  \u001b[31m   \u001b[0m copying lib/mpl_toolkits/axes_grid1/parasite_axes.py -> build/lib.linux-x86_64-cpython-39/mpl_toolkits/axes_grid1\n",
      "  \u001b[31m   \u001b[0m creating build/lib.linux-x86_64-cpython-39/mpl_toolkits/axisartist\n",
      "  \u001b[31m   \u001b[0m copying lib/mpl_toolkits/axisartist/__init__.py -> build/lib.linux-x86_64-cpython-39/mpl_toolkits/axisartist\n",
      "  \u001b[31m   \u001b[0m copying lib/mpl_toolkits/axisartist/angle_helper.py -> build/lib.linux-x86_64-cpython-39/mpl_toolkits/axisartist\n",
      "  \u001b[31m   \u001b[0m copying lib/mpl_toolkits/axisartist/axes_divider.py -> build/lib.linux-x86_64-cpython-39/mpl_toolkits/axisartist\n",
      "  \u001b[31m   \u001b[0m copying lib/mpl_toolkits/axisartist/axes_grid.py -> build/lib.linux-x86_64-cpython-39/mpl_toolkits/axisartist\n",
      "  \u001b[31m   \u001b[0m copying lib/mpl_toolkits/axisartist/axes_rgb.py -> build/lib.linux-x86_64-cpython-39/mpl_toolkits/axisartist\n",
      "  \u001b[31m   \u001b[0m copying lib/mpl_toolkits/axisartist/axis_artist.py -> build/lib.linux-x86_64-cpython-39/mpl_toolkits/axisartist\n",
      "  \u001b[31m   \u001b[0m copying lib/mpl_toolkits/axisartist/axisline_style.py -> build/lib.linux-x86_64-cpython-39/mpl_toolkits/axisartist\n",
      "  \u001b[31m   \u001b[0m copying lib/mpl_toolkits/axisartist/axislines.py -> build/lib.linux-x86_64-cpython-39/mpl_toolkits/axisartist\n",
      "  \u001b[31m   \u001b[0m copying lib/mpl_toolkits/axisartist/clip_path.py -> build/lib.linux-x86_64-cpython-39/mpl_toolkits/axisartist\n",
      "  \u001b[31m   \u001b[0m copying lib/mpl_toolkits/axisartist/floating_axes.py -> build/lib.linux-x86_64-cpython-39/mpl_toolkits/axisartist\n",
      "  \u001b[31m   \u001b[0m copying lib/mpl_toolkits/axisartist/grid_finder.py -> build/lib.linux-x86_64-cpython-39/mpl_toolkits/axisartist\n",
      "  \u001b[31m   \u001b[0m copying lib/mpl_toolkits/axisartist/grid_helper_curvelinear.py -> build/lib.linux-x86_64-cpython-39/mpl_toolkits/axisartist\n",
      "  \u001b[31m   \u001b[0m copying lib/mpl_toolkits/axisartist/parasite_axes.py -> build/lib.linux-x86_64-cpython-39/mpl_toolkits/axisartist\n",
      "  \u001b[31m   \u001b[0m creating build/lib.linux-x86_64-cpython-39/mpl_toolkits/mplot3d\n",
      "  \u001b[31m   \u001b[0m copying lib/mpl_toolkits/mplot3d/__init__.py -> build/lib.linux-x86_64-cpython-39/mpl_toolkits/mplot3d\n",
      "  \u001b[31m   \u001b[0m copying lib/mpl_toolkits/mplot3d/art3d.py -> build/lib.linux-x86_64-cpython-39/mpl_toolkits/mplot3d\n",
      "  \u001b[31m   \u001b[0m copying lib/mpl_toolkits/mplot3d/axes3d.py -> build/lib.linux-x86_64-cpython-39/mpl_toolkits/mplot3d\n",
      "  \u001b[31m   \u001b[0m copying lib/mpl_toolkits/mplot3d/axis3d.py -> build/lib.linux-x86_64-cpython-39/mpl_toolkits/mplot3d\n",
      "  \u001b[31m   \u001b[0m copying lib/mpl_toolkits/mplot3d/proj3d.py -> build/lib.linux-x86_64-cpython-39/mpl_toolkits/mplot3d\n",
      "  \u001b[31m   \u001b[0m creating build/lib.linux-x86_64-cpython-39/mpl_toolkits/tests\n",
      "  \u001b[31m   \u001b[0m copying lib/mpl_toolkits/tests/__init__.py -> build/lib.linux-x86_64-cpython-39/mpl_toolkits/tests\n",
      "  \u001b[31m   \u001b[0m copying lib/mpl_toolkits/tests/conftest.py -> build/lib.linux-x86_64-cpython-39/mpl_toolkits/tests\n",
      "  \u001b[31m   \u001b[0m copying lib/mpl_toolkits/tests/test_axes_grid.py -> build/lib.linux-x86_64-cpython-39/mpl_toolkits/tests\n",
      "  \u001b[31m   \u001b[0m copying lib/mpl_toolkits/tests/test_axes_grid1.py -> build/lib.linux-x86_64-cpython-39/mpl_toolkits/tests\n",
      "  \u001b[31m   \u001b[0m copying lib/mpl_toolkits/tests/test_axisartist_angle_helper.py -> build/lib.linux-x86_64-cpython-39/mpl_toolkits/tests\n",
      "  \u001b[31m   \u001b[0m copying lib/mpl_toolkits/tests/test_axisartist_axis_artist.py -> build/lib.linux-x86_64-cpython-39/mpl_toolkits/tests\n",
      "  \u001b[31m   \u001b[0m copying lib/mpl_toolkits/tests/test_axisartist_axislines.py -> build/lib.linux-x86_64-cpython-39/mpl_toolkits/tests\n",
      "  \u001b[31m   \u001b[0m copying lib/mpl_toolkits/tests/test_axisartist_clip_path.py -> build/lib.linux-x86_64-cpython-39/mpl_toolkits/tests\n",
      "  \u001b[31m   \u001b[0m copying lib/mpl_toolkits/tests/test_axisartist_floating_axes.py -> build/lib.linux-x86_64-cpython-39/mpl_toolkits/tests\n",
      "  \u001b[31m   \u001b[0m copying lib/mpl_toolkits/tests/test_axisartist_grid_finder.py -> build/lib.linux-x86_64-cpython-39/mpl_toolkits/tests\n",
      "  \u001b[31m   \u001b[0m copying lib/mpl_toolkits/tests/test_axisartist_grid_helper_curvelinear.py -> build/lib.linux-x86_64-cpython-39/mpl_toolkits/tests\n",
      "  \u001b[31m   \u001b[0m copying lib/mpl_toolkits/tests/test_mplot3d.py -> build/lib.linux-x86_64-cpython-39/mpl_toolkits/tests\n",
      "  \u001b[31m   \u001b[0m creating build/lib.linux-x86_64-cpython-39/matplotlib/backends/web_backend\n",
      "  \u001b[31m   \u001b[0m creating build/lib.linux-x86_64-cpython-39/matplotlib/backends/web_backend/jquery-ui-1.12.1\n",
      "  \u001b[31m   \u001b[0m copying lib/matplotlib/backends/web_backend/jquery-ui-1.12.1/jquery-ui.theme.css -> build/lib.linux-x86_64-cpython-39/matplotlib/backends/web_backend/jquery-ui-1.12.1\n",
      "  \u001b[31m   \u001b[0m creating build/lib.linux-x86_64-cpython-39/matplotlib/mpl-data\n",
      "  \u001b[31m   \u001b[0m creating build/lib.linux-x86_64-cpython-39/matplotlib/mpl-data/fonts\n",
      "  \u001b[31m   \u001b[0m creating build/lib.linux-x86_64-cpython-39/matplotlib/mpl-data/fonts/ttf\n",
      "  \u001b[31m   \u001b[0m copying lib/matplotlib/mpl-data/fonts/ttf/DejaVuSansMono.ttf -> build/lib.linux-x86_64-cpython-39/matplotlib/mpl-data/fonts/ttf\n",
      "  \u001b[31m   \u001b[0m creating build/lib.linux-x86_64-cpython-39/matplotlib/mpl-data/fonts/afm\n",
      "  \u001b[31m   \u001b[0m copying lib/matplotlib/mpl-data/fonts/afm/pncr8a.afm -> build/lib.linux-x86_64-cpython-39/matplotlib/mpl-data/fonts/afm\n",
      "  \u001b[31m   \u001b[0m creating build/lib.linux-x86_64-cpython-39/matplotlib/mpl-data/stylelib\n",
      "  \u001b[31m   \u001b[0m copying lib/matplotlib/mpl-data/stylelib/seaborn-talk.mplstyle -> build/lib.linux-x86_64-cpython-39/matplotlib/mpl-data/stylelib\n",
      "  \u001b[31m   \u001b[0m copying lib/matplotlib/mpl-data/stylelib/dark_background.mplstyle -> build/lib.linux-x86_64-cpython-39/matplotlib/mpl-data/stylelib\n",
      "  \u001b[31m   \u001b[0m copying lib/matplotlib/backends/web_backend/jquery-ui-1.12.1/jquery-ui.theme.min.css -> build/lib.linux-x86_64-cpython-39/matplotlib/backends/web_backend/jquery-ui-1.12.1\n",
      "  \u001b[31m   \u001b[0m creating build/lib.linux-x86_64-cpython-39/matplotlib/mpl-data/images\n",
      "  \u001b[31m   \u001b[0m copying lib/matplotlib/mpl-data/images/zoom_to_rect.png -> build/lib.linux-x86_64-cpython-39/matplotlib/mpl-data/images\n",
      "  \u001b[31m   \u001b[0m copying lib/matplotlib/mpl-data/fonts/ttf/cmex10.ttf -> build/lib.linux-x86_64-cpython-39/matplotlib/mpl-data/fonts/ttf\n",
      "  \u001b[31m   \u001b[0m copying lib/matplotlib/mpl-data/fonts/ttf/DejaVuSerif.ttf -> build/lib.linux-x86_64-cpython-39/matplotlib/mpl-data/fonts/ttf\n",
      "  \u001b[31m   \u001b[0m copying lib/matplotlib/mpl-data/fonts/afm/putb8a.afm -> build/lib.linux-x86_64-cpython-39/matplotlib/mpl-data/fonts/afm\n",
      "  \u001b[31m   \u001b[0m copying lib/matplotlib/mpl-data/images/filesave_large.gif -> build/lib.linux-x86_64-cpython-39/matplotlib/mpl-data/images\n",
      "  \u001b[31m   \u001b[0m copying lib/matplotlib/mpl-data/images/hand.gif -> build/lib.linux-x86_64-cpython-39/matplotlib/mpl-data/images\n",
      "  \u001b[31m   \u001b[0m copying lib/matplotlib/mpl-data/fonts/afm/cmmi10.afm -> build/lib.linux-x86_64-cpython-39/matplotlib/mpl-data/fonts/afm\n",
      "  \u001b[31m   \u001b[0m copying lib/matplotlib/mpl-data/images/matplotlib_large.png -> build/lib.linux-x86_64-cpython-39/matplotlib/mpl-data/images\n",
      "  \u001b[31m   \u001b[0m creating build/lib.linux-x86_64-cpython-39/matplotlib/mpl-data/fonts/pdfcorefonts\n",
      "  \u001b[31m   \u001b[0m copying lib/matplotlib/mpl-data/fonts/pdfcorefonts/Times-Roman.afm -> build/lib.linux-x86_64-cpython-39/matplotlib/mpl-data/fonts/pdfcorefonts\n",
      "  \u001b[31m   \u001b[0m copying lib/matplotlib/mpl-data/images/zoom_to_rect.svg -> build/lib.linux-x86_64-cpython-39/matplotlib/mpl-data/images\n",
      "  \u001b[31m   \u001b[0m copying lib/matplotlib/backends/web_backend/jquery-ui-1.12.1/jquery-ui.structure.css -> build/lib.linux-x86_64-cpython-39/matplotlib/backends/web_backend/jquery-ui-1.12.1\n",
      "  \u001b[31m   \u001b[0m copying lib/matplotlib/mpl-data/fonts/ttf/STIXSizFourSymBol.ttf -> build/lib.linux-x86_64-cpython-39/matplotlib/mpl-data/fonts/ttf\n",
      "  \u001b[31m   \u001b[0m copying lib/matplotlib/mpl-data/fonts/afm/pbkdi8a.afm -> build/lib.linux-x86_64-cpython-39/matplotlib/mpl-data/fonts/afm\n",
      "  \u001b[31m   \u001b[0m copying lib/matplotlib/mpl-data/stylelib/seaborn-bright.mplstyle -> build/lib.linux-x86_64-cpython-39/matplotlib/mpl-data/stylelib\n",
      "  \u001b[31m   \u001b[0m copying lib/matplotlib/mpl-data/stylelib/seaborn-dark-palette.mplstyle -> build/lib.linux-x86_64-cpython-39/matplotlib/mpl-data/stylelib\n",
      "  \u001b[31m   \u001b[0m copying lib/matplotlib/mpl-data/images/help_large.ppm -> build/lib.linux-x86_64-cpython-39/matplotlib/mpl-data/images\n",
      "  \u001b[31m   \u001b[0m copying lib/matplotlib/mpl-data/stylelib/seaborn-whitegrid.mplstyle -> build/lib.linux-x86_64-cpython-39/matplotlib/mpl-data/stylelib\n",
      "  \u001b[31m   \u001b[0m copying lib/matplotlib/mpl-data/images/matplotlib.pdf -> build/lib.linux-x86_64-cpython-39/matplotlib/mpl-data/images\n",
      "  \u001b[31m   \u001b[0m copying lib/matplotlib/mpl-data/fonts/afm/putbi8a.afm -> build/lib.linux-x86_64-cpython-39/matplotlib/mpl-data/fonts/afm\n",
      "  \u001b[31m   \u001b[0m copying lib/matplotlib/mpl-data/images/help_large.png -> build/lib.linux-x86_64-cpython-39/matplotlib/mpl-data/images\n",
      "  \u001b[31m   \u001b[0m copying lib/matplotlib/mpl-data/images/matplotlib_128.ppm -> build/lib.linux-x86_64-cpython-39/matplotlib/mpl-data/images\n",
      "  \u001b[31m   \u001b[0m copying lib/matplotlib/mpl-data/stylelib/grayscale.mplstyle -> build/lib.linux-x86_64-cpython-39/matplotlib/mpl-data/stylelib\n",
      "  \u001b[31m   \u001b[0m copying lib/matplotlib/mpl-data/fonts/afm/pzdr.afm -> build/lib.linux-x86_64-cpython-39/matplotlib/mpl-data/fonts/afm\n",
      "  \u001b[31m   \u001b[0m copying lib/matplotlib/mpl-data/images/help.png -> build/lib.linux-x86_64-cpython-39/matplotlib/mpl-data/images\n",
      "  \u001b[31m   \u001b[0m copying lib/matplotlib/mpl-data/images/move.png -> build/lib.linux-x86_64-cpython-39/matplotlib/mpl-data/images\n",
      "  \u001b[31m   \u001b[0m copying lib/matplotlib/mpl-data/stylelib/seaborn-colorblind.mplstyle -> build/lib.linux-x86_64-cpython-39/matplotlib/mpl-data/stylelib\n",
      "  \u001b[31m   \u001b[0m copying lib/matplotlib/mpl-data/stylelib/seaborn-poster.mplstyle -> build/lib.linux-x86_64-cpython-39/matplotlib/mpl-data/stylelib\n",
      "  \u001b[31m   \u001b[0m copying lib/matplotlib/mpl-data/stylelib/seaborn-pastel.mplstyle -> build/lib.linux-x86_64-cpython-39/matplotlib/mpl-data/stylelib\n",
      "  \u001b[31m   \u001b[0m copying lib/matplotlib/mpl-data/stylelib/fast.mplstyle -> build/lib.linux-x86_64-cpython-39/matplotlib/mpl-data/stylelib\n",
      "  \u001b[31m   \u001b[0m copying lib/matplotlib/mpl-data/images/subplots.svg -> build/lib.linux-x86_64-cpython-39/matplotlib/mpl-data/images\n",
      "  \u001b[31m   \u001b[0m creating build/lib.linux-x86_64-cpython-39/matplotlib/backends/web_backend/jquery-ui-1.12.1/images\n",
      "  \u001b[31m   \u001b[0m copying lib/matplotlib/backends/web_backend/jquery-ui-1.12.1/images/ui-icons_444444_256x240.png -> build/lib.linux-x86_64-cpython-39/matplotlib/backends/web_backend/jquery-ui-1.12.1/images\n",
      "  \u001b[31m   \u001b[0m copying lib/matplotlib/mpl-data/images/back.png -> build/lib.linux-x86_64-cpython-39/matplotlib/mpl-data/images\n",
      "  \u001b[31m   \u001b[0m copying lib/matplotlib/mpl-data/fonts/pdfcorefonts/Helvetica.afm -> build/lib.linux-x86_64-cpython-39/matplotlib/mpl-data/fonts/pdfcorefonts\n",
      "  \u001b[31m   \u001b[0m creating build/lib.linux-x86_64-cpython-39/matplotlib/mpl-data/sample_data\n",
      "  \u001b[31m   \u001b[0m copying lib/matplotlib/mpl-data/sample_data/grace_hopper.png -> build/lib.linux-x86_64-cpython-39/matplotlib/mpl-data/sample_data\n",
      "  \u001b[31m   \u001b[0m copying lib/matplotlib/mpl-data/sample_data/jacksboro_fault_dem.npz -> build/lib.linux-x86_64-cpython-39/matplotlib/mpl-data/sample_data\n",
      "  \u001b[31m   \u001b[0m creating build/lib.linux-x86_64-cpython-39/matplotlib/backends/web_backend/css\n",
      "  \u001b[31m   \u001b[0m copying lib/matplotlib/backends/web_backend/css/page.css -> build/lib.linux-x86_64-cpython-39/matplotlib/backends/web_backend/css\n",
      "  \u001b[31m   \u001b[0m copying lib/matplotlib/mpl-data/images/zoom_to_rect_large.png -> build/lib.linux-x86_64-cpython-39/matplotlib/mpl-data/images\n",
      "  \u001b[31m   \u001b[0m copying lib/matplotlib/mpl-data/fonts/afm/ptmri8a.afm -> build/lib.linux-x86_64-cpython-39/matplotlib/mpl-data/fonts/afm\n",
      "  \u001b[31m   \u001b[0m copying lib/matplotlib/mpl-data/fonts/afm/phvbo8an.afm -> build/lib.linux-x86_64-cpython-39/matplotlib/mpl-data/fonts/afm\n",
      "  \u001b[31m   \u001b[0m copying lib/matplotlib/mpl-data/fonts/afm/cmex10.afm -> build/lib.linux-x86_64-cpython-39/matplotlib/mpl-data/fonts/afm\n",
      "  \u001b[31m   \u001b[0m copying lib/matplotlib/mpl-data/fonts/afm/pcrbo8a.afm -> build/lib.linux-x86_64-cpython-39/matplotlib/mpl-data/fonts/afm\n",
      "  \u001b[31m   \u001b[0m copying lib/matplotlib/mpl-data/fonts/afm/pzcmi8a.afm -> build/lib.linux-x86_64-cpython-39/matplotlib/mpl-data/fonts/afm\n",
      "  \u001b[31m   \u001b[0m copying lib/matplotlib/mpl-data/stylelib/seaborn-ticks.mplstyle -> build/lib.linux-x86_64-cpython-39/matplotlib/mpl-data/stylelib\n",
      "  \u001b[31m   \u001b[0m copying lib/matplotlib/mpl-data/sample_data/grace_hopper.jpg -> build/lib.linux-x86_64-cpython-39/matplotlib/mpl-data/sample_data\n",
      "  \u001b[31m   \u001b[0m copying lib/matplotlib/mpl-data/fonts/afm/pbkl8a.afm -> build/lib.linux-x86_64-cpython-39/matplotlib/mpl-data/fonts/afm\n",
      "  \u001b[31m   \u001b[0m copying lib/matplotlib/mpl-data/stylelib/seaborn-notebook.mplstyle -> build/lib.linux-x86_64-cpython-39/matplotlib/mpl-data/stylelib\n",
      "  \u001b[31m   \u001b[0m copying lib/matplotlib/backends/web_backend/css/boilerplate.css -> build/lib.linux-x86_64-cpython-39/matplotlib/backends/web_backend/css\n",
      "  \u001b[31m   \u001b[0m copying lib/matplotlib/mpl-data/fonts/ttf/DejaVuSerif-Bold.ttf -> build/lib.linux-x86_64-cpython-39/matplotlib/mpl-data/fonts/ttf\n",
      "  \u001b[31m   \u001b[0m copying lib/matplotlib/mpl-data/fonts/afm/ptmb8a.afm -> build/lib.linux-x86_64-cpython-39/matplotlib/mpl-data/fonts/afm\n",
      "  \u001b[31m   \u001b[0m copying lib/matplotlib/mpl-data/sample_data/data_x_x2_x3.csv -> build/lib.linux-x86_64-cpython-39/matplotlib/mpl-data/sample_data\n",
      "  \u001b[31m   \u001b[0m copying lib/matplotlib/mpl-data/sample_data/ada.png -> build/lib.linux-x86_64-cpython-39/matplotlib/mpl-data/sample_data\n",
      "  \u001b[31m   \u001b[0m copying lib/matplotlib/mpl-data/fonts/afm/phvb8an.afm -> build/lib.linux-x86_64-cpython-39/matplotlib/mpl-data/fonts/afm\n",
      "  \u001b[31m   \u001b[0m copying lib/matplotlib/backends/web_backend/jquery-ui-1.12.1/jquery-ui.css -> build/lib.linux-x86_64-cpython-39/matplotlib/backends/web_backend/jquery-ui-1.12.1\n",
      "  \u001b[31m   \u001b[0m copying lib/matplotlib/mpl-data/images/back.pdf -> build/lib.linux-x86_64-cpython-39/matplotlib/mpl-data/images\n",
      "  \u001b[31m   \u001b[0m copying lib/matplotlib/mpl-data/images/move.gif -> build/lib.linux-x86_64-cpython-39/matplotlib/mpl-data/images\n",
      "  \u001b[31m   \u001b[0m copying lib/matplotlib/backends/web_backend/ipython_inline_figure.html -> build/lib.linux-x86_64-cpython-39/matplotlib/backends/web_backend\n",
      "  \u001b[31m   \u001b[0m copying lib/matplotlib/mpl-data/fonts/pdfcorefonts/Helvetica-Oblique.afm -> build/lib.linux-x86_64-cpython-39/matplotlib/mpl-data/fonts/pdfcorefonts\n",
      "  \u001b[31m   \u001b[0m copying lib/matplotlib/mpl-data/fonts/ttf/DejaVuSans-Bold.ttf -> build/lib.linux-x86_64-cpython-39/matplotlib/mpl-data/fonts/ttf\n",
      "  \u001b[31m   \u001b[0m copying lib/matplotlib/mpl-data/fonts/ttf/STIXGeneralBol.ttf -> build/lib.linux-x86_64-cpython-39/matplotlib/mpl-data/fonts/ttf\n",
      "  \u001b[31m   \u001b[0m copying lib/matplotlib/mpl-data/fonts/afm/phvr8an.afm -> build/lib.linux-x86_64-cpython-39/matplotlib/mpl-data/fonts/afm\n",
      "  \u001b[31m   \u001b[0m copying lib/matplotlib/mpl-data/images/home.pdf -> build/lib.linux-x86_64-cpython-39/matplotlib/mpl-data/images\n",
      "  \u001b[31m   \u001b[0m copying lib/matplotlib/mpl-data/images/forward_large.gif -> build/lib.linux-x86_64-cpython-39/matplotlib/mpl-data/images\n",
      "  \u001b[31m   \u001b[0m copying lib/matplotlib/backends/web_backend/jquery-ui-1.12.1/jquery-ui.min.css -> build/lib.linux-x86_64-cpython-39/matplotlib/backends/web_backend/jquery-ui-1.12.1\n",
      "  \u001b[31m   \u001b[0m copying lib/matplotlib/backends/web_backend/jquery-ui-1.12.1/images/ui-icons_777777_256x240.png -> build/lib.linux-x86_64-cpython-39/matplotlib/backends/web_backend/jquery-ui-1.12.1/images\n",
      "  \u001b[31m   \u001b[0m copying lib/matplotlib/mpl-data/images/back_large.png -> build/lib.linux-x86_64-cpython-39/matplotlib/mpl-data/images\n",
      "  \u001b[31m   \u001b[0m copying lib/matplotlib/mpl-data/images/filesave.gif -> build/lib.linux-x86_64-cpython-39/matplotlib/mpl-data/images\n",
      "  \u001b[31m   \u001b[0m copying lib/matplotlib/mpl-data/stylelib/seaborn-deep.mplstyle -> build/lib.linux-x86_64-cpython-39/matplotlib/mpl-data/stylelib\n",
      "  \u001b[31m   \u001b[0m creating build/lib.linux-x86_64-cpython-39/matplotlib/backends/web_backend/jquery-ui-1.12.1/external\n",
      "  \u001b[31m   \u001b[0m creating build/lib.linux-x86_64-cpython-39/matplotlib/backends/web_backend/jquery-ui-1.12.1/external/jquery\n",
      "  \u001b[31m   \u001b[0m copying lib/matplotlib/backends/web_backend/jquery-ui-1.12.1/external/jquery/jquery.js -> build/lib.linux-x86_64-cpython-39/matplotlib/backends/web_backend/jquery-ui-1.12.1/external/jquery\n",
      "  \u001b[31m   \u001b[0m copying lib/matplotlib/mpl-data/fonts/afm/pplbi8a.afm -> build/lib.linux-x86_64-cpython-39/matplotlib/mpl-data/fonts/afm\n",
      "  \u001b[31m   \u001b[0m copying lib/matplotlib/mpl-data/fonts/afm/psyr.afm -> build/lib.linux-x86_64-cpython-39/matplotlib/mpl-data/fonts/afm\n",
      "  \u001b[31m   \u001b[0m copying lib/matplotlib/mpl-data/stylelib/seaborn-darkgrid.mplstyle -> build/lib.linux-x86_64-cpython-39/matplotlib/mpl-data/stylelib\n",
      "  \u001b[31m   \u001b[0m copying lib/matplotlib/mpl-data/stylelib/tableau-colorblind10.mplstyle -> build/lib.linux-x86_64-cpython-39/matplotlib/mpl-data/stylelib\n",
      "  \u001b[31m   \u001b[0m copying lib/matplotlib/mpl-data/images/hand.pdf -> build/lib.linux-x86_64-cpython-39/matplotlib/mpl-data/images\n",
      "  \u001b[31m   \u001b[0m copying lib/matplotlib/mpl-data/fonts/ttf/STIXSizTwoSymBol.ttf -> build/lib.linux-x86_64-cpython-39/matplotlib/mpl-data/fonts/ttf\n",
      "  \u001b[31m   \u001b[0m copying lib/matplotlib/backends/web_backend/nbagg_uat.ipynb -> build/lib.linux-x86_64-cpython-39/matplotlib/backends/web_backend\n",
      "  \u001b[31m   \u001b[0m copying lib/matplotlib/mpl-data/images/qt4_editor_options_large.png -> build/lib.linux-x86_64-cpython-39/matplotlib/mpl-data/images\n",
      "  \u001b[31m   \u001b[0m copying lib/matplotlib/mpl-data/images/qt4_editor_options.svg -> build/lib.linux-x86_64-cpython-39/matplotlib/mpl-data/images\n",
      "  \u001b[31m   \u001b[0m copying lib/matplotlib/mpl-data/fonts/ttf/DejaVuSerif-Italic.ttf -> build/lib.linux-x86_64-cpython-39/matplotlib/mpl-data/fonts/ttf\n",
      "  \u001b[31m   \u001b[0m copying lib/matplotlib/mpl-data/sample_data/aapl.npz -> build/lib.linux-x86_64-cpython-39/matplotlib/mpl-data/sample_data\n",
      "  \u001b[31m   \u001b[0m copying lib/matplotlib/backends/web_backend/jquery-ui-1.12.1/images/ui-icons_777620_256x240.png -> build/lib.linux-x86_64-cpython-39/matplotlib/backends/web_backend/jquery-ui-1.12.1/images\n",
      "  \u001b[31m   \u001b[0m copying lib/matplotlib/mpl-data/images/help.pdf -> build/lib.linux-x86_64-cpython-39/matplotlib/mpl-data/images\n",
      "  \u001b[31m   \u001b[0m copying lib/matplotlib/backends/web_backend/jquery-ui-1.12.1/jquery-ui.structure.min.css -> build/lib.linux-x86_64-cpython-39/matplotlib/backends/web_backend/jquery-ui-1.12.1\n",
      "  \u001b[31m   \u001b[0m copying lib/matplotlib/mpl-data/images/forward.svg -> build/lib.linux-x86_64-cpython-39/matplotlib/mpl-data/images\n",
      "  \u001b[31m   \u001b[0m copying lib/matplotlib/mpl-data/stylelib/seaborn-dark.mplstyle -> build/lib.linux-x86_64-cpython-39/matplotlib/mpl-data/stylelib\n",
      "  \u001b[31m   \u001b[0m copying lib/matplotlib/mpl-data/fonts/afm/pplb8a.afm -> build/lib.linux-x86_64-cpython-39/matplotlib/mpl-data/fonts/afm\n",
      "  \u001b[31m   \u001b[0m copying lib/matplotlib/mpl-data/fonts/pdfcorefonts/Symbol.afm -> build/lib.linux-x86_64-cpython-39/matplotlib/mpl-data/fonts/pdfcorefonts\n",
      "  \u001b[31m   \u001b[0m copying lib/matplotlib/mpl-data/images/back_large.gif -> build/lib.linux-x86_64-cpython-39/matplotlib/mpl-data/images\n",
      "  \u001b[31m   \u001b[0m copying lib/matplotlib/mpl-data/fonts/pdfcorefonts/ZapfDingbats.afm -> build/lib.linux-x86_64-cpython-39/matplotlib/mpl-data/fonts/pdfcorefonts\n",
      "  \u001b[31m   \u001b[0m copying lib/matplotlib/mpl-data/fonts/afm/pbkli8a.afm -> build/lib.linux-x86_64-cpython-39/matplotlib/mpl-data/fonts/afm\n",
      "  \u001b[31m   \u001b[0m copying lib/matplotlib/mpl-data/sample_data/README.txt -> build/lib.linux-x86_64-cpython-39/matplotlib/mpl-data/sample_data\n",
      "  \u001b[31m   \u001b[0m copying lib/matplotlib/mpl-data/fonts/afm/cmsy10.afm -> build/lib.linux-x86_64-cpython-39/matplotlib/mpl-data/fonts/afm\n",
      "  \u001b[31m   \u001b[0m copying lib/matplotlib/mpl-data/fonts/ttf/DejaVuSansMono-BoldOblique.ttf -> build/lib.linux-x86_64-cpython-39/matplotlib/mpl-data/fonts/ttf\n",
      "  \u001b[31m   \u001b[0m copying lib/matplotlib/mpl-data/images/home_large.png -> build/lib.linux-x86_64-cpython-39/matplotlib/mpl-data/images\n",
      "  \u001b[31m   \u001b[0m copying lib/matplotlib/mpl-data/stylelib/seaborn-paper.mplstyle -> build/lib.linux-x86_64-cpython-39/matplotlib/mpl-data/stylelib\n",
      "  \u001b[31m   \u001b[0m copying lib/matplotlib/mpl-data/fonts/afm/phvl8a.afm -> build/lib.linux-x86_64-cpython-39/matplotlib/mpl-data/fonts/afm\n",
      "  \u001b[31m   \u001b[0m copying lib/matplotlib/mpl-data/images/back.gif -> build/lib.linux-x86_64-cpython-39/matplotlib/mpl-data/images\n",
      "  \u001b[31m   \u001b[0m copying lib/matplotlib/mpl-data/images/home_large.gif -> build/lib.linux-x86_64-cpython-39/matplotlib/mpl-data/images\n",
      "  \u001b[31m   \u001b[0m copying lib/matplotlib/mpl-data/sample_data/topobathy.npz -> build/lib.linux-x86_64-cpython-39/matplotlib/mpl-data/sample_data\n",
      "  \u001b[31m   \u001b[0m copying lib/matplotlib/backends/web_backend/jquery-ui-1.12.1/images/ui-icons_ffffff_256x240.png -> build/lib.linux-x86_64-cpython-39/matplotlib/backends/web_backend/jquery-ui-1.12.1/images\n",
      "  \u001b[31m   \u001b[0m copying lib/matplotlib/mpl-data/fonts/afm/putr8a.afm -> build/lib.linux-x86_64-cpython-39/matplotlib/mpl-data/fonts/afm\n",
      "  \u001b[31m   \u001b[0m copying lib/matplotlib/mpl-data/images/move_large.png -> build/lib.linux-x86_64-cpython-39/matplotlib/mpl-data/images\n",
      "  \u001b[31m   \u001b[0m copying lib/matplotlib/mpl-data/images/forward.png -> build/lib.linux-x86_64-cpython-39/matplotlib/mpl-data/images\n",
      "  \u001b[31m   \u001b[0m copying lib/matplotlib/mpl-data/images/qt4_editor_options.pdf -> build/lib.linux-x86_64-cpython-39/matplotlib/mpl-data/images\n",
      "  \u001b[31m   \u001b[0m copying lib/matplotlib/mpl-data/images/zoom_to_rect_large.gif -> build/lib.linux-x86_64-cpython-39/matplotlib/mpl-data/images\n",
      "  \u001b[31m   \u001b[0m copying lib/matplotlib/mpl-data/fonts/ttf/STIXGeneralItalic.ttf -> build/lib.linux-x86_64-cpython-39/matplotlib/mpl-data/fonts/ttf\n",
      "  \u001b[31m   \u001b[0m copying lib/matplotlib/backends/web_backend/all_figures.html -> build/lib.linux-x86_64-cpython-39/matplotlib/backends/web_backend\n",
      "  \u001b[31m   \u001b[0m copying lib/matplotlib/mpl-data/fonts/ttf/STIXNonUniBolIta.ttf -> build/lib.linux-x86_64-cpython-39/matplotlib/mpl-data/fonts/ttf\n",
      "  \u001b[31m   \u001b[0m copying lib/matplotlib/mpl-data/fonts/afm/pncbi8a.afm -> build/lib.linux-x86_64-cpython-39/matplotlib/mpl-data/fonts/afm\n",
      "  \u001b[31m   \u001b[0m copying lib/matplotlib/mpl-data/images/subplots.pdf -> build/lib.linux-x86_64-cpython-39/matplotlib/mpl-data/images\n",
      "  \u001b[31m   \u001b[0m copying lib/matplotlib/mpl-data/fonts/afm/phvbo8a.afm -> build/lib.linux-x86_64-cpython-39/matplotlib/mpl-data/fonts/afm\n",
      "  \u001b[31m   \u001b[0m copying lib/matplotlib/mpl-data/fonts/afm/pcrb8a.afm -> build/lib.linux-x86_64-cpython-39/matplotlib/mpl-data/fonts/afm\n",
      "  \u001b[31m   \u001b[0m copying lib/matplotlib/mpl-data/images/move.svg -> build/lib.linux-x86_64-cpython-39/matplotlib/mpl-data/images\n",
      "  \u001b[31m   \u001b[0m copying lib/matplotlib/backends/web_backend/jquery-ui-1.12.1/index.html -> build/lib.linux-x86_64-cpython-39/matplotlib/backends/web_backend/jquery-ui-1.12.1\n",
      "  \u001b[31m   \u001b[0m copying lib/matplotlib/mpl-data/sample_data/logo2.png -> build/lib.linux-x86_64-cpython-39/matplotlib/mpl-data/sample_data\n",
      "  \u001b[31m   \u001b[0m copying lib/matplotlib/mpl-data/images/filesave.png -> build/lib.linux-x86_64-cpython-39/matplotlib/mpl-data/images\n",
      "  \u001b[31m   \u001b[0m copying lib/matplotlib/backends/web_backend/jquery-ui-1.12.1/jquery-ui.js -> build/lib.linux-x86_64-cpython-39/matplotlib/backends/web_backend/jquery-ui-1.12.1\n",
      "  \u001b[31m   \u001b[0m copying lib/matplotlib/mpl-data/fonts/afm/phvro8a.afm -> build/lib.linux-x86_64-cpython-39/matplotlib/mpl-data/fonts/afm\n",
      "  \u001b[31m   \u001b[0m copying lib/matplotlib/mpl-data/stylelib/seaborn-white.mplstyle -> build/lib.linux-x86_64-cpython-39/matplotlib/mpl-data/stylelib\n",
      "  \u001b[31m   \u001b[0m copying lib/matplotlib/mpl-data/stylelib/seaborn-muted.mplstyle -> build/lib.linux-x86_64-cpython-39/matplotlib/mpl-data/stylelib\n",
      "  \u001b[31m   \u001b[0m copying lib/matplotlib/backends/web_backend/jquery-ui-1.12.1/images/ui-icons_555555_256x240.png -> build/lib.linux-x86_64-cpython-39/matplotlib/backends/web_backend/jquery-ui-1.12.1/images\n",
      "  \u001b[31m   \u001b[0m copying lib/matplotlib/mpl-data/images/move.pdf -> build/lib.linux-x86_64-cpython-39/matplotlib/mpl-data/images\n",
      "  \u001b[31m   \u001b[0m creating build/lib.linux-x86_64-cpython-39/matplotlib/backends/web_backend/js\n",
      "  \u001b[31m   \u001b[0m copying lib/matplotlib/backends/web_backend/js/nbagg_mpl.js -> build/lib.linux-x86_64-cpython-39/matplotlib/backends/web_backend/js\n",
      "  \u001b[31m   \u001b[0m copying lib/matplotlib/mpl-data/fonts/pdfcorefonts/Helvetica-Bold.afm -> build/lib.linux-x86_64-cpython-39/matplotlib/mpl-data/fonts/pdfcorefonts\n",
      "  \u001b[31m   \u001b[0m copying lib/matplotlib/mpl-data/fonts/pdfcorefonts/Times-Bold.afm -> build/lib.linux-x86_64-cpython-39/matplotlib/mpl-data/fonts/pdfcorefonts\n",
      "  \u001b[31m   \u001b[0m copying lib/matplotlib/mpl-data/images/hand.svg -> build/lib.linux-x86_64-cpython-39/matplotlib/mpl-data/images\n",
      "  \u001b[31m   \u001b[0m copying lib/matplotlib/mpl-data/matplotlibrc -> build/lib.linux-x86_64-cpython-39/matplotlib/mpl-data\n",
      "  \u001b[31m   \u001b[0m copying lib/matplotlib/mpl-data/sample_data/goog.npz -> build/lib.linux-x86_64-cpython-39/matplotlib/mpl-data/sample_data\n",
      "  \u001b[31m   \u001b[0m copying lib/matplotlib/mpl-data/fonts/ttf/DejaVuSans.ttf -> build/lib.linux-x86_64-cpython-39/matplotlib/mpl-data/fonts/ttf\n",
      "  \u001b[31m   \u001b[0m copying lib/matplotlib/mpl-data/images/matplotlib.svg -> build/lib.linux-x86_64-cpython-39/matplotlib/mpl-data/images\n",
      "  \u001b[31m   \u001b[0m copying lib/matplotlib/mpl-data/images/forward_large.png -> build/lib.linux-x86_64-cpython-39/matplotlib/mpl-data/images\n",
      "  \u001b[31m   \u001b[0m copying lib/matplotlib/mpl-data/fonts/ttf/DejaVuSerif-BoldItalic.ttf -> build/lib.linux-x86_64-cpython-39/matplotlib/mpl-data/fonts/ttf\n",
      "  \u001b[31m   \u001b[0m copying lib/matplotlib/mpl-data/images/subplots.png -> build/lib.linux-x86_64-cpython-39/matplotlib/mpl-data/images\n",
      "  \u001b[31m   \u001b[0m copying lib/matplotlib/mpl-data/images/forward.pdf -> build/lib.linux-x86_64-cpython-39/matplotlib/mpl-data/images\n",
      "  \u001b[31m   \u001b[0m copying lib/matplotlib/mpl-data/fonts/ttf/STIXSizOneSymBol.ttf -> build/lib.linux-x86_64-cpython-39/matplotlib/mpl-data/fonts/ttf\n",
      "  \u001b[31m   \u001b[0m copying lib/matplotlib/mpl-data/sample_data/msft.csv -> build/lib.linux-x86_64-cpython-39/matplotlib/mpl-data/sample_data\n",
      "  \u001b[31m   \u001b[0m copying lib/matplotlib/mpl-data/stylelib/bmh.mplstyle -> build/lib.linux-x86_64-cpython-39/matplotlib/mpl-data/stylelib\n",
      "  \u001b[31m   \u001b[0m copying lib/matplotlib/mpl-data/images/help.ppm -> build/lib.linux-x86_64-cpython-39/matplotlib/mpl-data/images\n",
      "  \u001b[31m   \u001b[0m copying lib/matplotlib/mpl-data/fonts/afm/pncb8a.afm -> build/lib.linux-x86_64-cpython-39/matplotlib/mpl-data/fonts/afm\n",
      "  \u001b[31m   \u001b[0m copying lib/matplotlib/backends/web_backend/js/mpl_tornado.js -> build/lib.linux-x86_64-cpython-39/matplotlib/backends/web_backend/js\n",
      "  \u001b[31m   \u001b[0m copying lib/matplotlib/mpl-data/sample_data/ct.raw.gz -> build/lib.linux-x86_64-cpython-39/matplotlib/mpl-data/sample_data\n",
      "  \u001b[31m   \u001b[0m copying lib/matplotlib/mpl-data/fonts/ttf/STIXSizFourSymReg.ttf -> build/lib.linux-x86_64-cpython-39/matplotlib/mpl-data/fonts/ttf\n",
      "  \u001b[31m   \u001b[0m copying lib/matplotlib/backends/web_backend/css/fbm.css -> build/lib.linux-x86_64-cpython-39/matplotlib/backends/web_backend/css\n",
      "  \u001b[31m   \u001b[0m copying lib/matplotlib/mpl-data/fonts/afm/phvr8a.afm -> build/lib.linux-x86_64-cpython-39/matplotlib/mpl-data/fonts/afm\n",
      "  \u001b[31m   \u001b[0m copying lib/matplotlib/backends/web_backend/jquery-ui-1.12.1/LICENSE.txt -> build/lib.linux-x86_64-cpython-39/matplotlib/backends/web_backend/jquery-ui-1.12.1\n",
      "  \u001b[31m   \u001b[0m copying lib/matplotlib/mpl-data/images/matplotlib.png -> build/lib.linux-x86_64-cpython-39/matplotlib/mpl-data/images\n",
      "  \u001b[31m   \u001b[0m copying lib/matplotlib/mpl-data/fonts/ttf/cmmi10.ttf -> build/lib.linux-x86_64-cpython-39/matplotlib/mpl-data/fonts/ttf\n",
      "  \u001b[31m   \u001b[0m copying lib/matplotlib/mpl-data/images/home.png -> build/lib.linux-x86_64-cpython-39/matplotlib/mpl-data/images\n",
      "  \u001b[31m   \u001b[0m copying lib/matplotlib/mpl-data/fonts/ttf/DejaVuSansMono-Bold.ttf -> build/lib.linux-x86_64-cpython-39/matplotlib/mpl-data/fonts/ttf\n",
      "  \u001b[31m   \u001b[0m copying lib/matplotlib/mpl-data/images/qt4_editor_options.png -> build/lib.linux-x86_64-cpython-39/matplotlib/mpl-data/images\n",
      "  \u001b[31m   \u001b[0m copying lib/matplotlib/mpl-data/fonts/ttf/STIXNonUniBol.ttf -> build/lib.linux-x86_64-cpython-39/matplotlib/mpl-data/fonts/ttf\n",
      "  \u001b[31m   \u001b[0m copying lib/matplotlib/mpl-data/sample_data/membrane.dat -> build/lib.linux-x86_64-cpython-39/matplotlib/mpl-data/sample_data\n",
      "  \u001b[31m   \u001b[0m copying lib/matplotlib/mpl-data/fonts/afm/pagko8a.afm -> build/lib.linux-x86_64-cpython-39/matplotlib/mpl-data/fonts/afm\n",
      "  \u001b[31m   \u001b[0m copying lib/matplotlib/backends/web_backend/jquery-ui-1.12.1/AUTHORS.txt -> build/lib.linux-x86_64-cpython-39/matplotlib/backends/web_backend/jquery-ui-1.12.1\n",
      "  \u001b[31m   \u001b[0m copying lib/matplotlib/mpl-data/fonts/ttf/cmtt10.ttf -> build/lib.linux-x86_64-cpython-39/matplotlib/mpl-data/fonts/ttf\n",
      "  \u001b[31m   \u001b[0m copying lib/matplotlib/mpl-data/images/filesave.svg -> build/lib.linux-x86_64-cpython-39/matplotlib/mpl-data/images\n",
      "  \u001b[31m   \u001b[0m copying lib/matplotlib/mpl-data/fonts/pdfcorefonts/readme.txt -> build/lib.linux-x86_64-cpython-39/matplotlib/mpl-data/fonts/pdfcorefonts\n",
      "  \u001b[31m   \u001b[0m copying lib/matplotlib/mpl-data/fonts/afm/pbkd8a.afm -> build/lib.linux-x86_64-cpython-39/matplotlib/mpl-data/fonts/afm\n",
      "  \u001b[31m   \u001b[0m copying lib/matplotlib/mpl-data/fonts/afm/pncri8a.afm -> build/lib.linux-x86_64-cpython-39/matplotlib/mpl-data/fonts/afm\n",
      "  \u001b[31m   \u001b[0m copying lib/matplotlib/mpl-data/sample_data/Minduka_Present_Blue_Pack.png -> build/lib.linux-x86_64-cpython-39/matplotlib/mpl-data/sample_data\n",
      "  \u001b[31m   \u001b[0m copying lib/matplotlib/mpl-data/images/forward.gif -> build/lib.linux-x86_64-cpython-39/matplotlib/mpl-data/images\n",
      "  \u001b[31m   \u001b[0m copying lib/matplotlib/mpl-data/fonts/ttf/LICENSE_DEJAVU -> build/lib.linux-x86_64-cpython-39/matplotlib/mpl-data/fonts/ttf\n",
      "  \u001b[31m   \u001b[0m copying lib/matplotlib/mpl-data/stylelib/classic.mplstyle -> build/lib.linux-x86_64-cpython-39/matplotlib/mpl-data/stylelib\n",
      "  \u001b[31m   \u001b[0m copying lib/matplotlib/backends/web_backend/single_figure.html -> build/lib.linux-x86_64-cpython-39/matplotlib/backends/web_backend\n",
      "  \u001b[31m   \u001b[0m copying lib/matplotlib/mpl-data/fonts/pdfcorefonts/Helvetica-BoldOblique.afm -> build/lib.linux-x86_64-cpython-39/matplotlib/mpl-data/fonts/pdfcorefonts\n",
      "  \u001b[31m   \u001b[0m copying lib/matplotlib/mpl-data/fonts/ttf/cmb10.ttf -> build/lib.linux-x86_64-cpython-39/matplotlib/mpl-data/fonts/ttf\n",
      "  \u001b[31m   \u001b[0m copying lib/matplotlib/mpl-data/fonts/afm/pplri8a.afm -> build/lib.linux-x86_64-cpython-39/matplotlib/mpl-data/fonts/afm\n",
      "  \u001b[31m   \u001b[0m copying lib/matplotlib/mpl-data/fonts/ttf/DejaVuSans-Oblique.ttf -> build/lib.linux-x86_64-cpython-39/matplotlib/mpl-data/fonts/ttf\n",
      "  \u001b[31m   \u001b[0m copying lib/matplotlib/mpl-data/fonts/pdfcorefonts/Times-BoldItalic.afm -> build/lib.linux-x86_64-cpython-39/matplotlib/mpl-data/fonts/pdfcorefonts\n",
      "  \u001b[31m   \u001b[0m copying lib/matplotlib/backends/web_backend/jquery-ui-1.12.1/jquery-ui.min.js -> build/lib.linux-x86_64-cpython-39/matplotlib/backends/web_backend/jquery-ui-1.12.1\n",
      "  \u001b[31m   \u001b[0m copying lib/matplotlib/mpl-data/fonts/afm/cmtt10.afm -> build/lib.linux-x86_64-cpython-39/matplotlib/mpl-data/fonts/afm\n",
      "  \u001b[31m   \u001b[0m copying lib/matplotlib/mpl-data/fonts/afm/pagdo8a.afm -> build/lib.linux-x86_64-cpython-39/matplotlib/mpl-data/fonts/afm\n",
      "  \u001b[31m   \u001b[0m copying lib/matplotlib/mpl-data/fonts/afm/pagd8a.afm -> build/lib.linux-x86_64-cpython-39/matplotlib/mpl-data/fonts/afm\n",
      "  \u001b[31m   \u001b[0m copying lib/matplotlib/mpl-data/fonts/afm/phvlo8a.afm -> build/lib.linux-x86_64-cpython-39/matplotlib/mpl-data/fonts/afm\n",
      "  \u001b[31m   \u001b[0m copying lib/matplotlib/mpl-data/fonts/afm/pcrr8a.afm -> build/lib.linux-x86_64-cpython-39/matplotlib/mpl-data/fonts/afm\n",
      "  \u001b[31m   \u001b[0m copying lib/matplotlib/mpl-data/fonts/ttf/DejaVuSansDisplay.ttf -> build/lib.linux-x86_64-cpython-39/matplotlib/mpl-data/fonts/ttf\n",
      "  \u001b[31m   \u001b[0m copying lib/matplotlib/mpl-data/images/home.gif -> build/lib.linux-x86_64-cpython-39/matplotlib/mpl-data/images\n",
      "  \u001b[31m   \u001b[0m copying lib/matplotlib/mpl-data/fonts/ttf/DejaVuSerifDisplay.ttf -> build/lib.linux-x86_64-cpython-39/matplotlib/mpl-data/fonts/ttf\n",
      "  \u001b[31m   \u001b[0m copying lib/matplotlib/mpl-data/fonts/ttf/STIXGeneralBolIta.ttf -> build/lib.linux-x86_64-cpython-39/matplotlib/mpl-data/fonts/ttf\n",
      "  \u001b[31m   \u001b[0m copying lib/matplotlib/mpl-data/stylelib/_classic_test_patch.mplstyle -> build/lib.linux-x86_64-cpython-39/matplotlib/mpl-data/stylelib\n",
      "  \u001b[31m   \u001b[0m copying lib/matplotlib/mpl-data/fonts/ttf/STIXNonUni.ttf -> build/lib.linux-x86_64-cpython-39/matplotlib/mpl-data/fonts/ttf\n",
      "  \u001b[31m   \u001b[0m copying lib/matplotlib/mpl-data/fonts/ttf/STIXSizFiveSymReg.ttf -> build/lib.linux-x86_64-cpython-39/matplotlib/mpl-data/fonts/ttf\n",
      "  \u001b[31m   \u001b[0m copying lib/matplotlib/mpl-data/fonts/ttf/STIXSizTwoSymReg.ttf -> build/lib.linux-x86_64-cpython-39/matplotlib/mpl-data/fonts/ttf\n",
      "  \u001b[31m   \u001b[0m copying lib/matplotlib/backends/web_backend/jquery-ui-1.12.1/package.json -> build/lib.linux-x86_64-cpython-39/matplotlib/backends/web_backend/jquery-ui-1.12.1\n",
      "  \u001b[31m   \u001b[0m copying lib/matplotlib/mpl-data/fonts/pdfcorefonts/Courier-Bold.afm -> build/lib.linux-x86_64-cpython-39/matplotlib/mpl-data/fonts/pdfcorefonts\n",
      "  \u001b[31m   \u001b[0m copying lib/matplotlib/mpl-data/sample_data/demodata.csv -> build/lib.linux-x86_64-cpython-39/matplotlib/mpl-data/sample_data\n",
      "  \u001b[31m   \u001b[0m copying lib/matplotlib/mpl-data/fonts/afm/pagk8a.afm -> build/lib.linux-x86_64-cpython-39/matplotlib/mpl-data/fonts/afm\n",
      "  \u001b[31m   \u001b[0m copying lib/matplotlib/mpl-data/fonts/ttf/STIXSizOneSymReg.ttf -> build/lib.linux-x86_64-cpython-39/matplotlib/mpl-data/fonts/ttf\n",
      "  \u001b[31m   \u001b[0m copying lib/matplotlib/mpl-data/sample_data/percent_bachelors_degrees_women_usa.csv -> build/lib.linux-x86_64-cpython-39/matplotlib/mpl-data/sample_data\n",
      "  \u001b[31m   \u001b[0m copying lib/matplotlib/mpl-data/images/move_large.gif -> build/lib.linux-x86_64-cpython-39/matplotlib/mpl-data/images\n",
      "  \u001b[31m   \u001b[0m copying lib/matplotlib/mpl-data/fonts/ttf/LICENSE_STIX -> build/lib.linux-x86_64-cpython-39/matplotlib/mpl-data/fonts/ttf\n",
      "  \u001b[31m   \u001b[0m copying lib/matplotlib/mpl-data/fonts/ttf/STIXSizThreeSymBol.ttf -> build/lib.linux-x86_64-cpython-39/matplotlib/mpl-data/fonts/ttf\n",
      "  \u001b[31m   \u001b[0m copying lib/matplotlib/mpl-data/images/filesave_large.png -> build/lib.linux-x86_64-cpython-39/matplotlib/mpl-data/images\n",
      "  \u001b[31m   \u001b[0m copying lib/matplotlib/mpl-data/fonts/afm/pplr8a.afm -> build/lib.linux-x86_64-cpython-39/matplotlib/mpl-data/fonts/afm\n",
      "  \u001b[31m   \u001b[0m copying lib/matplotlib/mpl-data/images/zoom_to_rect.gif -> build/lib.linux-x86_64-cpython-39/matplotlib/mpl-data/images\n",
      "  \u001b[31m   \u001b[0m copying lib/matplotlib/mpl-data/fonts/pdfcorefonts/Courier-BoldOblique.afm -> build/lib.linux-x86_64-cpython-39/matplotlib/mpl-data/fonts/pdfcorefonts\n",
      "  \u001b[31m   \u001b[0m copying lib/matplotlib/mpl-data/fonts/afm/pcrro8a.afm -> build/lib.linux-x86_64-cpython-39/matplotlib/mpl-data/fonts/afm\n",
      "  \u001b[31m   \u001b[0m copying lib/matplotlib/mpl-data/fonts/ttf/DejaVuSansMono-Oblique.ttf -> build/lib.linux-x86_64-cpython-39/matplotlib/mpl-data/fonts/ttf\n",
      "  \u001b[31m   \u001b[0m copying lib/matplotlib/mpl-data/fonts/afm/ptmbi8a.afm -> build/lib.linux-x86_64-cpython-39/matplotlib/mpl-data/fonts/afm\n",
      "  \u001b[31m   \u001b[0m copying lib/matplotlib/mpl-data/fonts/ttf/STIXNonUniIta.ttf -> build/lib.linux-x86_64-cpython-39/matplotlib/mpl-data/fonts/ttf\n",
      "  \u001b[31m   \u001b[0m copying lib/matplotlib/mpl-data/fonts/afm/phvro8an.afm -> build/lib.linux-x86_64-cpython-39/matplotlib/mpl-data/fonts/afm\n",
      "  \u001b[31m   \u001b[0m copying lib/matplotlib/mpl-data/images/home.svg -> build/lib.linux-x86_64-cpython-39/matplotlib/mpl-data/images\n",
      "  \u001b[31m   \u001b[0m copying lib/matplotlib/backends/web_backend/jquery-ui-1.12.1/images/ui-icons_cc0000_256x240.png -> build/lib.linux-x86_64-cpython-39/matplotlib/backends/web_backend/jquery-ui-1.12.1/images\n",
      "  \u001b[31m   \u001b[0m copying lib/matplotlib/mpl-data/sample_data/s1045.ima.gz -> build/lib.linux-x86_64-cpython-39/matplotlib/mpl-data/sample_data\n",
      "  \u001b[31m   \u001b[0m copying lib/matplotlib/mpl-data/sample_data/None_vs_nearest-pdf.png -> build/lib.linux-x86_64-cpython-39/matplotlib/mpl-data/sample_data\n",
      "  \u001b[31m   \u001b[0m copying lib/matplotlib/mpl-data/sample_data/embedding_in_wx3.xrc -> build/lib.linux-x86_64-cpython-39/matplotlib/mpl-data/sample_data\n",
      "  \u001b[31m   \u001b[0m copying lib/matplotlib/mpl-data/stylelib/fivethirtyeight.mplstyle -> build/lib.linux-x86_64-cpython-39/matplotlib/mpl-data/stylelib\n",
      "  \u001b[31m   \u001b[0m copying lib/matplotlib/mpl-data/fonts/pdfcorefonts/Courier-Oblique.afm -> build/lib.linux-x86_64-cpython-39/matplotlib/mpl-data/fonts/pdfcorefonts\n",
      "  \u001b[31m   \u001b[0m copying lib/matplotlib/mpl-data/fonts/afm/ptmr8a.afm -> build/lib.linux-x86_64-cpython-39/matplotlib/mpl-data/fonts/afm\n",
      "  \u001b[31m   \u001b[0m copying lib/matplotlib/mpl-data/images/help.svg -> build/lib.linux-x86_64-cpython-39/matplotlib/mpl-data/images\n",
      "  \u001b[31m   \u001b[0m copying lib/matplotlib/mpl-data/fonts/ttf/STIXGeneral.ttf -> build/lib.linux-x86_64-cpython-39/matplotlib/mpl-data/fonts/ttf\n",
      "  \u001b[31m   \u001b[0m copying lib/matplotlib/mpl-data/images/zoom_to_rect.pdf -> build/lib.linux-x86_64-cpython-39/matplotlib/mpl-data/images\n",
      "  \u001b[31m   \u001b[0m copying lib/matplotlib/mpl-data/fonts/afm/phvb8a.afm -> build/lib.linux-x86_64-cpython-39/matplotlib/mpl-data/fonts/afm\n",
      "  \u001b[31m   \u001b[0m copying lib/matplotlib/mpl-data/stylelib/seaborn.mplstyle -> build/lib.linux-x86_64-cpython-39/matplotlib/mpl-data/stylelib\n",
      "  \u001b[31m   \u001b[0m copying lib/matplotlib/mpl-data/images/hand.png -> build/lib.linux-x86_64-cpython-39/matplotlib/mpl-data/images\n",
      "  \u001b[31m   \u001b[0m copying lib/matplotlib/mpl-data/fonts/ttf/DejaVuSans-BoldOblique.ttf -> build/lib.linux-x86_64-cpython-39/matplotlib/mpl-data/fonts/ttf\n",
      "  \u001b[31m   \u001b[0m copying lib/matplotlib/mpl-data/images/subplots.gif -> build/lib.linux-x86_64-cpython-39/matplotlib/mpl-data/images\n",
      "  \u001b[31m   \u001b[0m copying lib/matplotlib/mpl-data/stylelib/ggplot.mplstyle -> build/lib.linux-x86_64-cpython-39/matplotlib/mpl-data/stylelib\n",
      "  \u001b[31m   \u001b[0m copying lib/matplotlib/mpl-data/fonts/ttf/cmr10.ttf -> build/lib.linux-x86_64-cpython-39/matplotlib/mpl-data/fonts/ttf\n",
      "  \u001b[31m   \u001b[0m copying lib/matplotlib/mpl-data/images/subplots_large.gif -> build/lib.linux-x86_64-cpython-39/matplotlib/mpl-data/images\n",
      "  \u001b[31m   \u001b[0m copying lib/matplotlib/mpl-data/fonts/ttf/STIXSizThreeSymReg.ttf -> build/lib.linux-x86_64-cpython-39/matplotlib/mpl-data/fonts/ttf\n",
      "  \u001b[31m   \u001b[0m copying lib/matplotlib/mpl-data/fonts/ttf/cmsy10.ttf -> build/lib.linux-x86_64-cpython-39/matplotlib/mpl-data/fonts/ttf\n",
      "  \u001b[31m   \u001b[0m copying lib/matplotlib/mpl-data/fonts/afm/putri8a.afm -> build/lib.linux-x86_64-cpython-39/matplotlib/mpl-data/fonts/afm\n",
      "  \u001b[31m   \u001b[0m copying lib/matplotlib/mpl-data/sample_data/eeg.dat -> build/lib.linux-x86_64-cpython-39/matplotlib/mpl-data/sample_data\n",
      "  \u001b[31m   \u001b[0m copying lib/matplotlib/mpl-data/fonts/afm/cmr10.afm -> build/lib.linux-x86_64-cpython-39/matplotlib/mpl-data/fonts/afm\n",
      "  \u001b[31m   \u001b[0m copying lib/matplotlib/mpl-data/fonts/pdfcorefonts/Times-Italic.afm -> build/lib.linux-x86_64-cpython-39/matplotlib/mpl-data/fonts/pdfcorefonts\n",
      "  \u001b[31m   \u001b[0m creating build/lib.linux-x86_64-cpython-39/matplotlib/mpl-data/sample_data/axes_grid\n",
      "  \u001b[31m   \u001b[0m copying lib/matplotlib/mpl-data/sample_data/axes_grid/bivariate_normal.npy -> build/lib.linux-x86_64-cpython-39/matplotlib/mpl-data/sample_data/axes_grid\n",
      "  \u001b[31m   \u001b[0m copying lib/matplotlib/mpl-data/images/filesave.pdf -> build/lib.linux-x86_64-cpython-39/matplotlib/mpl-data/images\n",
      "  \u001b[31m   \u001b[0m copying lib/matplotlib/backends/web_backend/js/mpl.js -> build/lib.linux-x86_64-cpython-39/matplotlib/backends/web_backend/js\n",
      "  \u001b[31m   \u001b[0m copying lib/matplotlib/mpl-data/stylelib/Solarize_Light2.mplstyle -> build/lib.linux-x86_64-cpython-39/matplotlib/mpl-data/stylelib\n",
      "  \u001b[31m   \u001b[0m copying lib/matplotlib/mpl-data/images/hand_large.gif -> build/lib.linux-x86_64-cpython-39/matplotlib/mpl-data/images\n",
      "  \u001b[31m   \u001b[0m copying lib/matplotlib/mpl-data/images/subplots_large.png -> build/lib.linux-x86_64-cpython-39/matplotlib/mpl-data/images\n",
      "  \u001b[31m   \u001b[0m copying lib/matplotlib/mpl-data/images/back.svg -> build/lib.linux-x86_64-cpython-39/matplotlib/mpl-data/images\n",
      "  \u001b[31m   \u001b[0m copying lib/matplotlib/mpl-data/fonts/ttf/cmss10.ttf -> build/lib.linux-x86_64-cpython-39/matplotlib/mpl-data/fonts/ttf\n",
      "  \u001b[31m   \u001b[0m copying lib/matplotlib/mpl-data/fonts/pdfcorefonts/Courier.afm -> build/lib.linux-x86_64-cpython-39/matplotlib/mpl-data/fonts/pdfcorefonts\n",
      "  \u001b[31m   \u001b[0m UPDATING build/lib.linux-x86_64-cpython-39/matplotlib/_version.py\n",
      "  \u001b[31m   \u001b[0m set build/lib.linux-x86_64-cpython-39/matplotlib/_version.py to '3.2.2'\n",
      "  \u001b[31m   \u001b[0m running build_ext\n",
      "  \u001b[31m   \u001b[0m IMPORTANT WARNING:\n",
      "  \u001b[31m   \u001b[0m     pkg-config is not installed.\n",
      "  \u001b[31m   \u001b[0m     Matplotlib may not be able to find some of its dependencies.\n",
      "  \u001b[31m   \u001b[0m building 'matplotlib.ft2font' extension\n",
      "  \u001b[31m   \u001b[0m creating build/temp.linux-x86_64-cpython-39\n",
      "  \u001b[31m   \u001b[0m creating build/temp.linux-x86_64-cpython-39/src\n",
      "  \u001b[31m   \u001b[0m gcc -pthread -B /home/studio-lab-user/.conda/envs/default/compiler_compat -Wno-unused-result -Wsign-compare -DNDEBUG -fwrapv -O2 -Wall -fPIC -O2 -isystem /home/studio-lab-user/.conda/envs/default/include -fPIC -O2 -isystem /home/studio-lab-user/.conda/envs/default/include -fPIC -DFREETYPE_BUILD_TYPE=system -DPY_ARRAY_UNIQUE_SYMBOL=MPL_matplotlib_ft2font_ARRAY_API -DNPY_NO_DEPRECATED_API=NPY_1_7_API_VERSION -D__STDC_FORMAT_MACROS=1 -Iextern/agg24-svn/include -I/home/studio-lab-user/.conda/envs/default/lib/python3.9/site-packages/numpy/core/include -I/home/studio-lab-user/.conda/envs/default/include/python3.9 -c src/checkdep_freetype2.c -o build/temp.linux-x86_64-cpython-39/src/checkdep_freetype2.o\n",
      "  \u001b[31m   \u001b[0m src/checkdep_freetype2.c:3:6: error: #error \"FreeType version 2.3 or higher is required. You may set the MPLLOCALFREETYPE environment variable to 1 to let Matplotlib download it.\"\n",
      "  \u001b[31m   \u001b[0m     3 |     #error \"FreeType version 2.3 or higher is required. \\\n",
      "  \u001b[31m   \u001b[0m       |      ^~~~~\n",
      "  \u001b[31m   \u001b[0m src/checkdep_freetype2.c:10:10: error: #include expects \"FILENAME\" or <FILENAME>\n",
      "  \u001b[31m   \u001b[0m    10 | #include FT_FREETYPE_H\n",
      "  \u001b[31m   \u001b[0m       |          ^~~~~~~~~~~~~\n",
      "  \u001b[31m   \u001b[0m src/checkdep_freetype2.c:15:9: note: #pragma message: Compiling with FreeType version FREETYPE_MAJOR.FREETYPE_MINOR.FREETYPE_PATCH.\n",
      "  \u001b[31m   \u001b[0m    15 | #pragma message(\"Compiling with FreeType version \" \\\n",
      "  \u001b[31m   \u001b[0m       |         ^~~~~~~\n",
      "  \u001b[31m   \u001b[0m src/checkdep_freetype2.c:18:4: error: #error \"FreeType version 2.3 or higher is required. You may set the MPLLOCALFREETYPE environment variable to 1 to let Matplotlib download it.\"\n",
      "  \u001b[31m   \u001b[0m    18 |   #error \"FreeType version 2.3 or higher is required. \\\n",
      "  \u001b[31m   \u001b[0m       |    ^~~~~\n",
      "  \u001b[31m   \u001b[0m error: command '/usr/bin/gcc' failed with exit code 1\n",
      "  \u001b[31m   \u001b[0m \u001b[31m[end of output]\u001b[0m\n",
      "  \n",
      "  \u001b[1;35mnote\u001b[0m: This error originates from a subprocess, and is likely not a problem with pip.\n",
      "\u001b[31m  ERROR: Failed building wheel for matplotlib\u001b[0m\u001b[31m\n",
      "\u001b[0m\u001b[?25h  Running setup.py clean for matplotlib\n",
      "Failed to build matplotlib\n",
      "Installing collected packages: matplotlib\n",
      "  Attempting uninstall: matplotlib\n",
      "    Found existing installation: matplotlib 3.5.1\n",
      "    Uninstalling matplotlib-3.5.1:\n",
      "      Successfully uninstalled matplotlib-3.5.1\n",
      "  Running setup.py install for matplotlib ... \u001b[?25lerror\n",
      "  \u001b[1;31merror\u001b[0m: \u001b[1msubprocess-exited-with-error\u001b[0m\n",
      "  \n",
      "  \u001b[31m×\u001b[0m \u001b[32mRunning setup.py install for matplotlib\u001b[0m did not run successfully.\n",
      "  \u001b[31m│\u001b[0m exit code: \u001b[1;36m1\u001b[0m\n",
      "  \u001b[31m╰─>\u001b[0m \u001b[31m[597 lines of output]\u001b[0m\n",
      "  \u001b[31m   \u001b[0m \n",
      "  \u001b[31m   \u001b[0m Edit setup.cfg to change the build options; suppress output with --quiet.\n",
      "  \u001b[31m   \u001b[0m \n",
      "  \u001b[31m   \u001b[0m BUILDING MATPLOTLIB\n",
      "  \u001b[31m   \u001b[0m   matplotlib: yes [3.2.2]\n",
      "  \u001b[31m   \u001b[0m       python: yes [3.9.10 | packaged by conda-forge | (main, Feb  1 2022,\n",
      "  \u001b[31m   \u001b[0m                   21:24:37)  [GCC 9.4.0]]\n",
      "  \u001b[31m   \u001b[0m     platform: yes [linux]\n",
      "  \u001b[31m   \u001b[0m  sample_data: yes [installing]\n",
      "  \u001b[31m   \u001b[0m        tests: no  [skipping due to configuration]\n",
      "  \u001b[31m   \u001b[0m          agg: yes [installing]\n",
      "  \u001b[31m   \u001b[0m        tkagg: yes [installing; run-time loading from Python Tcl/Tk]\n",
      "  \u001b[31m   \u001b[0m       macosx: no  [Mac OS-X only]\n",
      "  \u001b[31m   \u001b[0m \n",
      "  \u001b[31m   \u001b[0m running install\n",
      "  \u001b[31m   \u001b[0m /home/studio-lab-user/.conda/envs/default/lib/python3.9/site-packages/setuptools/command/install.py:34: SetuptoolsDeprecationWarning: setup.py install is deprecated. Use build and pip and other standards-based tools.\n",
      "  \u001b[31m   \u001b[0m   warnings.warn(\n",
      "  \u001b[31m   \u001b[0m running build\n",
      "  \u001b[31m   \u001b[0m running build_py\n",
      "  \u001b[31m   \u001b[0m creating build\n",
      "  \u001b[31m   \u001b[0m creating build/lib.linux-x86_64-cpython-39\n",
      "  \u001b[31m   \u001b[0m copying lib/pylab.py -> build/lib.linux-x86_64-cpython-39\n",
      "  \u001b[31m   \u001b[0m creating build/lib.linux-x86_64-cpython-39/matplotlib\n",
      "  \u001b[31m   \u001b[0m copying lib/matplotlib/__init__.py -> build/lib.linux-x86_64-cpython-39/matplotlib\n",
      "  \u001b[31m   \u001b[0m copying lib/matplotlib/_animation_data.py -> build/lib.linux-x86_64-cpython-39/matplotlib\n",
      "  \u001b[31m   \u001b[0m copying lib/matplotlib/_cm.py -> build/lib.linux-x86_64-cpython-39/matplotlib\n",
      "  \u001b[31m   \u001b[0m copying lib/matplotlib/_cm_listed.py -> build/lib.linux-x86_64-cpython-39/matplotlib\n",
      "  \u001b[31m   \u001b[0m copying lib/matplotlib/_color_data.py -> build/lib.linux-x86_64-cpython-39/matplotlib\n",
      "  \u001b[31m   \u001b[0m copying lib/matplotlib/_constrained_layout.py -> build/lib.linux-x86_64-cpython-39/matplotlib\n",
      "  \u001b[31m   \u001b[0m copying lib/matplotlib/_layoutbox.py -> build/lib.linux-x86_64-cpython-39/matplotlib\n",
      "  \u001b[31m   \u001b[0m copying lib/matplotlib/_mathtext_data.py -> build/lib.linux-x86_64-cpython-39/matplotlib\n",
      "  \u001b[31m   \u001b[0m copying lib/matplotlib/_pylab_helpers.py -> build/lib.linux-x86_64-cpython-39/matplotlib\n",
      "  \u001b[31m   \u001b[0m copying lib/matplotlib/_text_layout.py -> build/lib.linux-x86_64-cpython-39/matplotlib\n",
      "  \u001b[31m   \u001b[0m copying lib/matplotlib/_version.py -> build/lib.linux-x86_64-cpython-39/matplotlib\n",
      "  \u001b[31m   \u001b[0m copying lib/matplotlib/afm.py -> build/lib.linux-x86_64-cpython-39/matplotlib\n",
      "  \u001b[31m   \u001b[0m copying lib/matplotlib/animation.py -> build/lib.linux-x86_64-cpython-39/matplotlib\n",
      "  \u001b[31m   \u001b[0m copying lib/matplotlib/artist.py -> build/lib.linux-x86_64-cpython-39/matplotlib\n",
      "  \u001b[31m   \u001b[0m copying lib/matplotlib/axis.py -> build/lib.linux-x86_64-cpython-39/matplotlib\n",
      "  \u001b[31m   \u001b[0m copying lib/matplotlib/backend_bases.py -> build/lib.linux-x86_64-cpython-39/matplotlib\n",
      "  \u001b[31m   \u001b[0m copying lib/matplotlib/backend_managers.py -> build/lib.linux-x86_64-cpython-39/matplotlib\n",
      "  \u001b[31m   \u001b[0m copying lib/matplotlib/backend_tools.py -> build/lib.linux-x86_64-cpython-39/matplotlib\n",
      "  \u001b[31m   \u001b[0m copying lib/matplotlib/bezier.py -> build/lib.linux-x86_64-cpython-39/matplotlib\n",
      "  \u001b[31m   \u001b[0m copying lib/matplotlib/blocking_input.py -> build/lib.linux-x86_64-cpython-39/matplotlib\n",
      "  \u001b[31m   \u001b[0m copying lib/matplotlib/category.py -> build/lib.linux-x86_64-cpython-39/matplotlib\n",
      "  \u001b[31m   \u001b[0m copying lib/matplotlib/cm.py -> build/lib.linux-x86_64-cpython-39/matplotlib\n",
      "  \u001b[31m   \u001b[0m copying lib/matplotlib/collections.py -> build/lib.linux-x86_64-cpython-39/matplotlib\n",
      "  \u001b[31m   \u001b[0m copying lib/matplotlib/colorbar.py -> build/lib.linux-x86_64-cpython-39/matplotlib\n",
      "  \u001b[31m   \u001b[0m copying lib/matplotlib/colors.py -> build/lib.linux-x86_64-cpython-39/matplotlib\n",
      "  \u001b[31m   \u001b[0m copying lib/matplotlib/container.py -> build/lib.linux-x86_64-cpython-39/matplotlib\n",
      "  \u001b[31m   \u001b[0m copying lib/matplotlib/contour.py -> build/lib.linux-x86_64-cpython-39/matplotlib\n",
      "  \u001b[31m   \u001b[0m copying lib/matplotlib/dates.py -> build/lib.linux-x86_64-cpython-39/matplotlib\n",
      "  \u001b[31m   \u001b[0m copying lib/matplotlib/docstring.py -> build/lib.linux-x86_64-cpython-39/matplotlib\n",
      "  \u001b[31m   \u001b[0m copying lib/matplotlib/dviread.py -> build/lib.linux-x86_64-cpython-39/matplotlib\n",
      "  \u001b[31m   \u001b[0m copying lib/matplotlib/figure.py -> build/lib.linux-x86_64-cpython-39/matplotlib\n",
      "  \u001b[31m   \u001b[0m copying lib/matplotlib/font_manager.py -> build/lib.linux-x86_64-cpython-39/matplotlib\n",
      "  \u001b[31m   \u001b[0m copying lib/matplotlib/fontconfig_pattern.py -> build/lib.linux-x86_64-cpython-39/matplotlib\n",
      "  \u001b[31m   \u001b[0m copying lib/matplotlib/gridspec.py -> build/lib.linux-x86_64-cpython-39/matplotlib\n",
      "  \u001b[31m   \u001b[0m copying lib/matplotlib/hatch.py -> build/lib.linux-x86_64-cpython-39/matplotlib\n",
      "  \u001b[31m   \u001b[0m copying lib/matplotlib/image.py -> build/lib.linux-x86_64-cpython-39/matplotlib\n",
      "  \u001b[31m   \u001b[0m copying lib/matplotlib/legend.py -> build/lib.linux-x86_64-cpython-39/matplotlib\n",
      "  \u001b[31m   \u001b[0m copying lib/matplotlib/legend_handler.py -> build/lib.linux-x86_64-cpython-39/matplotlib\n",
      "  \u001b[31m   \u001b[0m copying lib/matplotlib/lines.py -> build/lib.linux-x86_64-cpython-39/matplotlib\n",
      "  \u001b[31m   \u001b[0m copying lib/matplotlib/markers.py -> build/lib.linux-x86_64-cpython-39/matplotlib\n",
      "  \u001b[31m   \u001b[0m copying lib/matplotlib/mathtext.py -> build/lib.linux-x86_64-cpython-39/matplotlib\n",
      "  \u001b[31m   \u001b[0m copying lib/matplotlib/mlab.py -> build/lib.linux-x86_64-cpython-39/matplotlib\n",
      "  \u001b[31m   \u001b[0m copying lib/matplotlib/offsetbox.py -> build/lib.linux-x86_64-cpython-39/matplotlib\n",
      "  \u001b[31m   \u001b[0m copying lib/matplotlib/patches.py -> build/lib.linux-x86_64-cpython-39/matplotlib\n",
      "  \u001b[31m   \u001b[0m copying lib/matplotlib/path.py -> build/lib.linux-x86_64-cpython-39/matplotlib\n",
      "  \u001b[31m   \u001b[0m copying lib/matplotlib/patheffects.py -> build/lib.linux-x86_64-cpython-39/matplotlib\n",
      "  \u001b[31m   \u001b[0m copying lib/matplotlib/pylab.py -> build/lib.linux-x86_64-cpython-39/matplotlib\n",
      "  \u001b[31m   \u001b[0m copying lib/matplotlib/pyplot.py -> build/lib.linux-x86_64-cpython-39/matplotlib\n",
      "  \u001b[31m   \u001b[0m copying lib/matplotlib/quiver.py -> build/lib.linux-x86_64-cpython-39/matplotlib\n",
      "  \u001b[31m   \u001b[0m copying lib/matplotlib/rcsetup.py -> build/lib.linux-x86_64-cpython-39/matplotlib\n",
      "  \u001b[31m   \u001b[0m copying lib/matplotlib/sankey.py -> build/lib.linux-x86_64-cpython-39/matplotlib\n",
      "  \u001b[31m   \u001b[0m copying lib/matplotlib/scale.py -> build/lib.linux-x86_64-cpython-39/matplotlib\n",
      "  \u001b[31m   \u001b[0m copying lib/matplotlib/spines.py -> build/lib.linux-x86_64-cpython-39/matplotlib\n",
      "  \u001b[31m   \u001b[0m copying lib/matplotlib/stackplot.py -> build/lib.linux-x86_64-cpython-39/matplotlib\n",
      "  \u001b[31m   \u001b[0m copying lib/matplotlib/streamplot.py -> build/lib.linux-x86_64-cpython-39/matplotlib\n",
      "  \u001b[31m   \u001b[0m copying lib/matplotlib/table.py -> build/lib.linux-x86_64-cpython-39/matplotlib\n",
      "  \u001b[31m   \u001b[0m copying lib/matplotlib/texmanager.py -> build/lib.linux-x86_64-cpython-39/matplotlib\n",
      "  \u001b[31m   \u001b[0m copying lib/matplotlib/text.py -> build/lib.linux-x86_64-cpython-39/matplotlib\n",
      "  \u001b[31m   \u001b[0m copying lib/matplotlib/textpath.py -> build/lib.linux-x86_64-cpython-39/matplotlib\n",
      "  \u001b[31m   \u001b[0m copying lib/matplotlib/ticker.py -> build/lib.linux-x86_64-cpython-39/matplotlib\n",
      "  \u001b[31m   \u001b[0m copying lib/matplotlib/tight_bbox.py -> build/lib.linux-x86_64-cpython-39/matplotlib\n",
      "  \u001b[31m   \u001b[0m copying lib/matplotlib/tight_layout.py -> build/lib.linux-x86_64-cpython-39/matplotlib\n",
      "  \u001b[31m   \u001b[0m copying lib/matplotlib/transforms.py -> build/lib.linux-x86_64-cpython-39/matplotlib\n",
      "  \u001b[31m   \u001b[0m copying lib/matplotlib/type1font.py -> build/lib.linux-x86_64-cpython-39/matplotlib\n",
      "  \u001b[31m   \u001b[0m copying lib/matplotlib/units.py -> build/lib.linux-x86_64-cpython-39/matplotlib\n",
      "  \u001b[31m   \u001b[0m copying lib/matplotlib/widgets.py -> build/lib.linux-x86_64-cpython-39/matplotlib\n",
      "  \u001b[31m   \u001b[0m creating build/lib.linux-x86_64-cpython-39/mpl_toolkits\n",
      "  \u001b[31m   \u001b[0m copying lib/mpl_toolkits/__init__.py -> build/lib.linux-x86_64-cpython-39/mpl_toolkits\n",
      "  \u001b[31m   \u001b[0m creating build/lib.linux-x86_64-cpython-39/matplotlib/axes\n",
      "  \u001b[31m   \u001b[0m copying lib/matplotlib/axes/__init__.py -> build/lib.linux-x86_64-cpython-39/matplotlib/axes\n",
      "  \u001b[31m   \u001b[0m copying lib/matplotlib/axes/_axes.py -> build/lib.linux-x86_64-cpython-39/matplotlib/axes\n",
      "  \u001b[31m   \u001b[0m copying lib/matplotlib/axes/_base.py -> build/lib.linux-x86_64-cpython-39/matplotlib/axes\n",
      "  \u001b[31m   \u001b[0m copying lib/matplotlib/axes/_secondary_axes.py -> build/lib.linux-x86_64-cpython-39/matplotlib/axes\n",
      "  \u001b[31m   \u001b[0m copying lib/matplotlib/axes/_subplots.py -> build/lib.linux-x86_64-cpython-39/matplotlib/axes\n",
      "  \u001b[31m   \u001b[0m creating build/lib.linux-x86_64-cpython-39/matplotlib/backends\n",
      "  \u001b[31m   \u001b[0m copying lib/matplotlib/backends/__init__.py -> build/lib.linux-x86_64-cpython-39/matplotlib/backends\n",
      "  \u001b[31m   \u001b[0m copying lib/matplotlib/backends/_backend_pdf_ps.py -> build/lib.linux-x86_64-cpython-39/matplotlib/backends\n",
      "  \u001b[31m   \u001b[0m copying lib/matplotlib/backends/_backend_tk.py -> build/lib.linux-x86_64-cpython-39/matplotlib/backends\n",
      "  \u001b[31m   \u001b[0m copying lib/matplotlib/backends/backend_agg.py -> build/lib.linux-x86_64-cpython-39/matplotlib/backends\n",
      "  \u001b[31m   \u001b[0m copying lib/matplotlib/backends/backend_cairo.py -> build/lib.linux-x86_64-cpython-39/matplotlib/backends\n",
      "  \u001b[31m   \u001b[0m copying lib/matplotlib/backends/backend_gtk3.py -> build/lib.linux-x86_64-cpython-39/matplotlib/backends\n",
      "  \u001b[31m   \u001b[0m copying lib/matplotlib/backends/backend_gtk3agg.py -> build/lib.linux-x86_64-cpython-39/matplotlib/backends\n",
      "  \u001b[31m   \u001b[0m copying lib/matplotlib/backends/backend_gtk3cairo.py -> build/lib.linux-x86_64-cpython-39/matplotlib/backends\n",
      "  \u001b[31m   \u001b[0m copying lib/matplotlib/backends/backend_macosx.py -> build/lib.linux-x86_64-cpython-39/matplotlib/backends\n",
      "  \u001b[31m   \u001b[0m copying lib/matplotlib/backends/backend_mixed.py -> build/lib.linux-x86_64-cpython-39/matplotlib/backends\n",
      "  \u001b[31m   \u001b[0m copying lib/matplotlib/backends/backend_nbagg.py -> build/lib.linux-x86_64-cpython-39/matplotlib/backends\n",
      "  \u001b[31m   \u001b[0m copying lib/matplotlib/backends/backend_pdf.py -> build/lib.linux-x86_64-cpython-39/matplotlib/backends\n",
      "  \u001b[31m   \u001b[0m copying lib/matplotlib/backends/backend_pgf.py -> build/lib.linux-x86_64-cpython-39/matplotlib/backends\n",
      "  \u001b[31m   \u001b[0m copying lib/matplotlib/backends/backend_ps.py -> build/lib.linux-x86_64-cpython-39/matplotlib/backends\n",
      "  \u001b[31m   \u001b[0m copying lib/matplotlib/backends/backend_qt4.py -> build/lib.linux-x86_64-cpython-39/matplotlib/backends\n",
      "  \u001b[31m   \u001b[0m copying lib/matplotlib/backends/backend_qt4agg.py -> build/lib.linux-x86_64-cpython-39/matplotlib/backends\n",
      "  \u001b[31m   \u001b[0m copying lib/matplotlib/backends/backend_qt4cairo.py -> build/lib.linux-x86_64-cpython-39/matplotlib/backends\n",
      "  \u001b[31m   \u001b[0m copying lib/matplotlib/backends/backend_qt5.py -> build/lib.linux-x86_64-cpython-39/matplotlib/backends\n",
      "  \u001b[31m   \u001b[0m copying lib/matplotlib/backends/backend_qt5agg.py -> build/lib.linux-x86_64-cpython-39/matplotlib/backends\n",
      "  \u001b[31m   \u001b[0m copying lib/matplotlib/backends/backend_qt5cairo.py -> build/lib.linux-x86_64-cpython-39/matplotlib/backends\n",
      "  \u001b[31m   \u001b[0m copying lib/matplotlib/backends/backend_svg.py -> build/lib.linux-x86_64-cpython-39/matplotlib/backends\n",
      "  \u001b[31m   \u001b[0m copying lib/matplotlib/backends/backend_template.py -> build/lib.linux-x86_64-cpython-39/matplotlib/backends\n",
      "  \u001b[31m   \u001b[0m copying lib/matplotlib/backends/backend_tkagg.py -> build/lib.linux-x86_64-cpython-39/matplotlib/backends\n",
      "  \u001b[31m   \u001b[0m copying lib/matplotlib/backends/backend_tkcairo.py -> build/lib.linux-x86_64-cpython-39/matplotlib/backends\n",
      "  \u001b[31m   \u001b[0m copying lib/matplotlib/backends/backend_webagg.py -> build/lib.linux-x86_64-cpython-39/matplotlib/backends\n",
      "  \u001b[31m   \u001b[0m copying lib/matplotlib/backends/backend_webagg_core.py -> build/lib.linux-x86_64-cpython-39/matplotlib/backends\n",
      "  \u001b[31m   \u001b[0m copying lib/matplotlib/backends/backend_wx.py -> build/lib.linux-x86_64-cpython-39/matplotlib/backends\n",
      "  \u001b[31m   \u001b[0m copying lib/matplotlib/backends/backend_wxagg.py -> build/lib.linux-x86_64-cpython-39/matplotlib/backends\n",
      "  \u001b[31m   \u001b[0m copying lib/matplotlib/backends/backend_wxcairo.py -> build/lib.linux-x86_64-cpython-39/matplotlib/backends\n",
      "  \u001b[31m   \u001b[0m copying lib/matplotlib/backends/qt_compat.py -> build/lib.linux-x86_64-cpython-39/matplotlib/backends\n",
      "  \u001b[31m   \u001b[0m creating build/lib.linux-x86_64-cpython-39/matplotlib/cbook\n",
      "  \u001b[31m   \u001b[0m copying lib/matplotlib/cbook/__init__.py -> build/lib.linux-x86_64-cpython-39/matplotlib/cbook\n",
      "  \u001b[31m   \u001b[0m copying lib/matplotlib/cbook/deprecation.py -> build/lib.linux-x86_64-cpython-39/matplotlib/cbook\n",
      "  \u001b[31m   \u001b[0m creating build/lib.linux-x86_64-cpython-39/matplotlib/compat\n",
      "  \u001b[31m   \u001b[0m copying lib/matplotlib/compat/__init__.py -> build/lib.linux-x86_64-cpython-39/matplotlib/compat\n",
      "  \u001b[31m   \u001b[0m creating build/lib.linux-x86_64-cpython-39/matplotlib/projections\n",
      "  \u001b[31m   \u001b[0m copying lib/matplotlib/projections/__init__.py -> build/lib.linux-x86_64-cpython-39/matplotlib/projections\n",
      "  \u001b[31m   \u001b[0m copying lib/matplotlib/projections/geo.py -> build/lib.linux-x86_64-cpython-39/matplotlib/projections\n",
      "  \u001b[31m   \u001b[0m copying lib/matplotlib/projections/polar.py -> build/lib.linux-x86_64-cpython-39/matplotlib/projections\n",
      "  \u001b[31m   \u001b[0m creating build/lib.linux-x86_64-cpython-39/matplotlib/sphinxext\n",
      "  \u001b[31m   \u001b[0m copying lib/matplotlib/sphinxext/__init__.py -> build/lib.linux-x86_64-cpython-39/matplotlib/sphinxext\n",
      "  \u001b[31m   \u001b[0m copying lib/matplotlib/sphinxext/mathmpl.py -> build/lib.linux-x86_64-cpython-39/matplotlib/sphinxext\n",
      "  \u001b[31m   \u001b[0m copying lib/matplotlib/sphinxext/plot_directive.py -> build/lib.linux-x86_64-cpython-39/matplotlib/sphinxext\n",
      "  \u001b[31m   \u001b[0m creating build/lib.linux-x86_64-cpython-39/matplotlib/style\n",
      "  \u001b[31m   \u001b[0m copying lib/matplotlib/style/__init__.py -> build/lib.linux-x86_64-cpython-39/matplotlib/style\n",
      "  \u001b[31m   \u001b[0m copying lib/matplotlib/style/core.py -> build/lib.linux-x86_64-cpython-39/matplotlib/style\n",
      "  \u001b[31m   \u001b[0m creating build/lib.linux-x86_64-cpython-39/matplotlib/testing\n",
      "  \u001b[31m   \u001b[0m copying lib/matplotlib/testing/__init__.py -> build/lib.linux-x86_64-cpython-39/matplotlib/testing\n",
      "  \u001b[31m   \u001b[0m copying lib/matplotlib/testing/compare.py -> build/lib.linux-x86_64-cpython-39/matplotlib/testing\n",
      "  \u001b[31m   \u001b[0m copying lib/matplotlib/testing/conftest.py -> build/lib.linux-x86_64-cpython-39/matplotlib/testing\n",
      "  \u001b[31m   \u001b[0m copying lib/matplotlib/testing/decorators.py -> build/lib.linux-x86_64-cpython-39/matplotlib/testing\n",
      "  \u001b[31m   \u001b[0m copying lib/matplotlib/testing/disable_internet.py -> build/lib.linux-x86_64-cpython-39/matplotlib/testing\n",
      "  \u001b[31m   \u001b[0m copying lib/matplotlib/testing/exceptions.py -> build/lib.linux-x86_64-cpython-39/matplotlib/testing\n",
      "  \u001b[31m   \u001b[0m creating build/lib.linux-x86_64-cpython-39/matplotlib/tests\n",
      "  \u001b[31m   \u001b[0m copying lib/matplotlib/tests/__init__.py -> build/lib.linux-x86_64-cpython-39/matplotlib/tests\n",
      "  \u001b[31m   \u001b[0m copying lib/matplotlib/tests/conftest.py -> build/lib.linux-x86_64-cpython-39/matplotlib/tests\n",
      "  \u001b[31m   \u001b[0m copying lib/matplotlib/tests/test_afm.py -> build/lib.linux-x86_64-cpython-39/matplotlib/tests\n",
      "  \u001b[31m   \u001b[0m copying lib/matplotlib/tests/test_agg.py -> build/lib.linux-x86_64-cpython-39/matplotlib/tests\n",
      "  \u001b[31m   \u001b[0m copying lib/matplotlib/tests/test_agg_filter.py -> build/lib.linux-x86_64-cpython-39/matplotlib/tests\n",
      "  \u001b[31m   \u001b[0m copying lib/matplotlib/tests/test_animation.py -> build/lib.linux-x86_64-cpython-39/matplotlib/tests\n",
      "  \u001b[31m   \u001b[0m copying lib/matplotlib/tests/test_arrow_patches.py -> build/lib.linux-x86_64-cpython-39/matplotlib/tests\n",
      "  \u001b[31m   \u001b[0m copying lib/matplotlib/tests/test_artist.py -> build/lib.linux-x86_64-cpython-39/matplotlib/tests\n",
      "  \u001b[31m   \u001b[0m copying lib/matplotlib/tests/test_axes.py -> build/lib.linux-x86_64-cpython-39/matplotlib/tests\n",
      "  \u001b[31m   \u001b[0m copying lib/matplotlib/tests/test_backend_bases.py -> build/lib.linux-x86_64-cpython-39/matplotlib/tests\n",
      "  \u001b[31m   \u001b[0m copying lib/matplotlib/tests/test_backend_cairo.py -> build/lib.linux-x86_64-cpython-39/matplotlib/tests\n",
      "  \u001b[31m   \u001b[0m copying lib/matplotlib/tests/test_backend_nbagg.py -> build/lib.linux-x86_64-cpython-39/matplotlib/tests\n",
      "  \u001b[31m   \u001b[0m copying lib/matplotlib/tests/test_backend_pdf.py -> build/lib.linux-x86_64-cpython-39/matplotlib/tests\n",
      "  \u001b[31m   \u001b[0m copying lib/matplotlib/tests/test_backend_pgf.py -> build/lib.linux-x86_64-cpython-39/matplotlib/tests\n",
      "  \u001b[31m   \u001b[0m copying lib/matplotlib/tests/test_backend_ps.py -> build/lib.linux-x86_64-cpython-39/matplotlib/tests\n",
      "  \u001b[31m   \u001b[0m copying lib/matplotlib/tests/test_backend_qt.py -> build/lib.linux-x86_64-cpython-39/matplotlib/tests\n",
      "  \u001b[31m   \u001b[0m copying lib/matplotlib/tests/test_backend_svg.py -> build/lib.linux-x86_64-cpython-39/matplotlib/tests\n",
      "  \u001b[31m   \u001b[0m copying lib/matplotlib/tests/test_backend_tk.py -> build/lib.linux-x86_64-cpython-39/matplotlib/tests\n",
      "  \u001b[31m   \u001b[0m copying lib/matplotlib/tests/test_backend_tools.py -> build/lib.linux-x86_64-cpython-39/matplotlib/tests\n",
      "  \u001b[31m   \u001b[0m copying lib/matplotlib/tests/test_backend_webagg.py -> build/lib.linux-x86_64-cpython-39/matplotlib/tests\n",
      "  \u001b[31m   \u001b[0m copying lib/matplotlib/tests/test_backends_interactive.py -> build/lib.linux-x86_64-cpython-39/matplotlib/tests\n",
      "  \u001b[31m   \u001b[0m copying lib/matplotlib/tests/test_basic.py -> build/lib.linux-x86_64-cpython-39/matplotlib/tests\n",
      "  \u001b[31m   \u001b[0m copying lib/matplotlib/tests/test_bbox_tight.py -> build/lib.linux-x86_64-cpython-39/matplotlib/tests\n",
      "  \u001b[31m   \u001b[0m copying lib/matplotlib/tests/test_category.py -> build/lib.linux-x86_64-cpython-39/matplotlib/tests\n",
      "  \u001b[31m   \u001b[0m copying lib/matplotlib/tests/test_cbook.py -> build/lib.linux-x86_64-cpython-39/matplotlib/tests\n",
      "  \u001b[31m   \u001b[0m copying lib/matplotlib/tests/test_collections.py -> build/lib.linux-x86_64-cpython-39/matplotlib/tests\n",
      "  \u001b[31m   \u001b[0m copying lib/matplotlib/tests/test_colorbar.py -> build/lib.linux-x86_64-cpython-39/matplotlib/tests\n",
      "  \u001b[31m   \u001b[0m copying lib/matplotlib/tests/test_colors.py -> build/lib.linux-x86_64-cpython-39/matplotlib/tests\n",
      "  \u001b[31m   \u001b[0m copying lib/matplotlib/tests/test_compare_images.py -> build/lib.linux-x86_64-cpython-39/matplotlib/tests\n",
      "  \u001b[31m   \u001b[0m copying lib/matplotlib/tests/test_constrainedlayout.py -> build/lib.linux-x86_64-cpython-39/matplotlib/tests\n",
      "  \u001b[31m   \u001b[0m copying lib/matplotlib/tests/test_container.py -> build/lib.linux-x86_64-cpython-39/matplotlib/tests\n",
      "  \u001b[31m   \u001b[0m copying lib/matplotlib/tests/test_contour.py -> build/lib.linux-x86_64-cpython-39/matplotlib/tests\n",
      "  \u001b[31m   \u001b[0m copying lib/matplotlib/tests/test_cycles.py -> build/lib.linux-x86_64-cpython-39/matplotlib/tests\n",
      "  \u001b[31m   \u001b[0m copying lib/matplotlib/tests/test_dates.py -> build/lib.linux-x86_64-cpython-39/matplotlib/tests\n",
      "  \u001b[31m   \u001b[0m copying lib/matplotlib/tests/test_determinism.py -> build/lib.linux-x86_64-cpython-39/matplotlib/tests\n",
      "  \u001b[31m   \u001b[0m copying lib/matplotlib/tests/test_dviread.py -> build/lib.linux-x86_64-cpython-39/matplotlib/tests\n",
      "  \u001b[31m   \u001b[0m copying lib/matplotlib/tests/test_figure.py -> build/lib.linux-x86_64-cpython-39/matplotlib/tests\n",
      "  \u001b[31m   \u001b[0m copying lib/matplotlib/tests/test_font_manager.py -> build/lib.linux-x86_64-cpython-39/matplotlib/tests\n",
      "  \u001b[31m   \u001b[0m copying lib/matplotlib/tests/test_fontconfig_pattern.py -> build/lib.linux-x86_64-cpython-39/matplotlib/tests\n",
      "  \u001b[31m   \u001b[0m copying lib/matplotlib/tests/test_gridspec.py -> build/lib.linux-x86_64-cpython-39/matplotlib/tests\n",
      "  \u001b[31m   \u001b[0m copying lib/matplotlib/tests/test_image.py -> build/lib.linux-x86_64-cpython-39/matplotlib/tests\n",
      "  \u001b[31m   \u001b[0m copying lib/matplotlib/tests/test_legend.py -> build/lib.linux-x86_64-cpython-39/matplotlib/tests\n",
      "  \u001b[31m   \u001b[0m copying lib/matplotlib/tests/test_lines.py -> build/lib.linux-x86_64-cpython-39/matplotlib/tests\n",
      "  \u001b[31m   \u001b[0m copying lib/matplotlib/tests/test_marker.py -> build/lib.linux-x86_64-cpython-39/matplotlib/tests\n",
      "  \u001b[31m   \u001b[0m copying lib/matplotlib/tests/test_mathtext.py -> build/lib.linux-x86_64-cpython-39/matplotlib/tests\n",
      "  \u001b[31m   \u001b[0m copying lib/matplotlib/tests/test_matplotlib.py -> build/lib.linux-x86_64-cpython-39/matplotlib/tests\n",
      "  \u001b[31m   \u001b[0m copying lib/matplotlib/tests/test_mlab.py -> build/lib.linux-x86_64-cpython-39/matplotlib/tests\n",
      "  \u001b[31m   \u001b[0m copying lib/matplotlib/tests/test_offsetbox.py -> build/lib.linux-x86_64-cpython-39/matplotlib/tests\n",
      "  \u001b[31m   \u001b[0m copying lib/matplotlib/tests/test_patches.py -> build/lib.linux-x86_64-cpython-39/matplotlib/tests\n",
      "  \u001b[31m   \u001b[0m copying lib/matplotlib/tests/test_path.py -> build/lib.linux-x86_64-cpython-39/matplotlib/tests\n",
      "  \u001b[31m   \u001b[0m copying lib/matplotlib/tests/test_patheffects.py -> build/lib.linux-x86_64-cpython-39/matplotlib/tests\n",
      "  \u001b[31m   \u001b[0m copying lib/matplotlib/tests/test_pickle.py -> build/lib.linux-x86_64-cpython-39/matplotlib/tests\n",
      "  \u001b[31m   \u001b[0m copying lib/matplotlib/tests/test_png.py -> build/lib.linux-x86_64-cpython-39/matplotlib/tests\n",
      "  \u001b[31m   \u001b[0m copying lib/matplotlib/tests/test_preprocess_data.py -> build/lib.linux-x86_64-cpython-39/matplotlib/tests\n",
      "  \u001b[31m   \u001b[0m copying lib/matplotlib/tests/test_pyplot.py -> build/lib.linux-x86_64-cpython-39/matplotlib/tests\n",
      "  \u001b[31m   \u001b[0m copying lib/matplotlib/tests/test_quiver.py -> build/lib.linux-x86_64-cpython-39/matplotlib/tests\n",
      "  \u001b[31m   \u001b[0m copying lib/matplotlib/tests/test_rcparams.py -> build/lib.linux-x86_64-cpython-39/matplotlib/tests\n",
      "  \u001b[31m   \u001b[0m copying lib/matplotlib/tests/test_sankey.py -> build/lib.linux-x86_64-cpython-39/matplotlib/tests\n",
      "  \u001b[31m   \u001b[0m copying lib/matplotlib/tests/test_scale.py -> build/lib.linux-x86_64-cpython-39/matplotlib/tests\n",
      "  \u001b[31m   \u001b[0m copying lib/matplotlib/tests/test_simplification.py -> build/lib.linux-x86_64-cpython-39/matplotlib/tests\n",
      "  \u001b[31m   \u001b[0m copying lib/matplotlib/tests/test_skew.py -> build/lib.linux-x86_64-cpython-39/matplotlib/tests\n",
      "  \u001b[31m   \u001b[0m copying lib/matplotlib/tests/test_sphinxext.py -> build/lib.linux-x86_64-cpython-39/matplotlib/tests\n",
      "  \u001b[31m   \u001b[0m copying lib/matplotlib/tests/test_spines.py -> build/lib.linux-x86_64-cpython-39/matplotlib/tests\n",
      "  \u001b[31m   \u001b[0m copying lib/matplotlib/tests/test_streamplot.py -> build/lib.linux-x86_64-cpython-39/matplotlib/tests\n",
      "  \u001b[31m   \u001b[0m copying lib/matplotlib/tests/test_style.py -> build/lib.linux-x86_64-cpython-39/matplotlib/tests\n",
      "  \u001b[31m   \u001b[0m copying lib/matplotlib/tests/test_subplots.py -> build/lib.linux-x86_64-cpython-39/matplotlib/tests\n",
      "  \u001b[31m   \u001b[0m copying lib/matplotlib/tests/test_table.py -> build/lib.linux-x86_64-cpython-39/matplotlib/tests\n",
      "  \u001b[31m   \u001b[0m copying lib/matplotlib/tests/test_testing.py -> build/lib.linux-x86_64-cpython-39/matplotlib/tests\n",
      "  \u001b[31m   \u001b[0m copying lib/matplotlib/tests/test_texmanager.py -> build/lib.linux-x86_64-cpython-39/matplotlib/tests\n",
      "  \u001b[31m   \u001b[0m copying lib/matplotlib/tests/test_text.py -> build/lib.linux-x86_64-cpython-39/matplotlib/tests\n",
      "  \u001b[31m   \u001b[0m copying lib/matplotlib/tests/test_ticker.py -> build/lib.linux-x86_64-cpython-39/matplotlib/tests\n",
      "  \u001b[31m   \u001b[0m copying lib/matplotlib/tests/test_tightlayout.py -> build/lib.linux-x86_64-cpython-39/matplotlib/tests\n",
      "  \u001b[31m   \u001b[0m copying lib/matplotlib/tests/test_transforms.py -> build/lib.linux-x86_64-cpython-39/matplotlib/tests\n",
      "  \u001b[31m   \u001b[0m copying lib/matplotlib/tests/test_triangulation.py -> build/lib.linux-x86_64-cpython-39/matplotlib/tests\n",
      "  \u001b[31m   \u001b[0m copying lib/matplotlib/tests/test_ttconv.py -> build/lib.linux-x86_64-cpython-39/matplotlib/tests\n",
      "  \u001b[31m   \u001b[0m copying lib/matplotlib/tests/test_type1font.py -> build/lib.linux-x86_64-cpython-39/matplotlib/tests\n",
      "  \u001b[31m   \u001b[0m copying lib/matplotlib/tests/test_units.py -> build/lib.linux-x86_64-cpython-39/matplotlib/tests\n",
      "  \u001b[31m   \u001b[0m copying lib/matplotlib/tests/test_usetex.py -> build/lib.linux-x86_64-cpython-39/matplotlib/tests\n",
      "  \u001b[31m   \u001b[0m copying lib/matplotlib/tests/test_widgets.py -> build/lib.linux-x86_64-cpython-39/matplotlib/tests\n",
      "  \u001b[31m   \u001b[0m creating build/lib.linux-x86_64-cpython-39/matplotlib/tri\n",
      "  \u001b[31m   \u001b[0m copying lib/matplotlib/tri/__init__.py -> build/lib.linux-x86_64-cpython-39/matplotlib/tri\n",
      "  \u001b[31m   \u001b[0m copying lib/matplotlib/tri/triangulation.py -> build/lib.linux-x86_64-cpython-39/matplotlib/tri\n",
      "  \u001b[31m   \u001b[0m copying lib/matplotlib/tri/tricontour.py -> build/lib.linux-x86_64-cpython-39/matplotlib/tri\n",
      "  \u001b[31m   \u001b[0m copying lib/matplotlib/tri/trifinder.py -> build/lib.linux-x86_64-cpython-39/matplotlib/tri\n",
      "  \u001b[31m   \u001b[0m copying lib/matplotlib/tri/triinterpolate.py -> build/lib.linux-x86_64-cpython-39/matplotlib/tri\n",
      "  \u001b[31m   \u001b[0m copying lib/matplotlib/tri/tripcolor.py -> build/lib.linux-x86_64-cpython-39/matplotlib/tri\n",
      "  \u001b[31m   \u001b[0m copying lib/matplotlib/tri/triplot.py -> build/lib.linux-x86_64-cpython-39/matplotlib/tri\n",
      "  \u001b[31m   \u001b[0m copying lib/matplotlib/tri/trirefine.py -> build/lib.linux-x86_64-cpython-39/matplotlib/tri\n",
      "  \u001b[31m   \u001b[0m copying lib/matplotlib/tri/tritools.py -> build/lib.linux-x86_64-cpython-39/matplotlib/tri\n",
      "  \u001b[31m   \u001b[0m creating build/lib.linux-x86_64-cpython-39/matplotlib/backends/qt_editor\n",
      "  \u001b[31m   \u001b[0m copying lib/matplotlib/backends/qt_editor/__init__.py -> build/lib.linux-x86_64-cpython-39/matplotlib/backends/qt_editor\n",
      "  \u001b[31m   \u001b[0m copying lib/matplotlib/backends/qt_editor/_formlayout.py -> build/lib.linux-x86_64-cpython-39/matplotlib/backends/qt_editor\n",
      "  \u001b[31m   \u001b[0m copying lib/matplotlib/backends/qt_editor/figureoptions.py -> build/lib.linux-x86_64-cpython-39/matplotlib/backends/qt_editor\n",
      "  \u001b[31m   \u001b[0m copying lib/matplotlib/backends/qt_editor/formlayout.py -> build/lib.linux-x86_64-cpython-39/matplotlib/backends/qt_editor\n",
      "  \u001b[31m   \u001b[0m copying lib/matplotlib/backends/qt_editor/formsubplottool.py -> build/lib.linux-x86_64-cpython-39/matplotlib/backends/qt_editor\n",
      "  \u001b[31m   \u001b[0m creating build/lib.linux-x86_64-cpython-39/matplotlib/testing/jpl_units\n",
      "  \u001b[31m   \u001b[0m copying lib/matplotlib/testing/jpl_units/Duration.py -> build/lib.linux-x86_64-cpython-39/matplotlib/testing/jpl_units\n",
      "  \u001b[31m   \u001b[0m copying lib/matplotlib/testing/jpl_units/Epoch.py -> build/lib.linux-x86_64-cpython-39/matplotlib/testing/jpl_units\n",
      "  \u001b[31m   \u001b[0m copying lib/matplotlib/testing/jpl_units/EpochConverter.py -> build/lib.linux-x86_64-cpython-39/matplotlib/testing/jpl_units\n",
      "  \u001b[31m   \u001b[0m copying lib/matplotlib/testing/jpl_units/StrConverter.py -> build/lib.linux-x86_64-cpython-39/matplotlib/testing/jpl_units\n",
      "  \u001b[31m   \u001b[0m copying lib/matplotlib/testing/jpl_units/UnitDbl.py -> build/lib.linux-x86_64-cpython-39/matplotlib/testing/jpl_units\n",
      "  \u001b[31m   \u001b[0m copying lib/matplotlib/testing/jpl_units/UnitDblConverter.py -> build/lib.linux-x86_64-cpython-39/matplotlib/testing/jpl_units\n",
      "  \u001b[31m   \u001b[0m copying lib/matplotlib/testing/jpl_units/UnitDblFormatter.py -> build/lib.linux-x86_64-cpython-39/matplotlib/testing/jpl_units\n",
      "  \u001b[31m   \u001b[0m copying lib/matplotlib/testing/jpl_units/__init__.py -> build/lib.linux-x86_64-cpython-39/matplotlib/testing/jpl_units\n",
      "  \u001b[31m   \u001b[0m creating build/lib.linux-x86_64-cpython-39/mpl_toolkits/axes_grid\n",
      "  \u001b[31m   \u001b[0m copying lib/mpl_toolkits/axes_grid/__init__.py -> build/lib.linux-x86_64-cpython-39/mpl_toolkits/axes_grid\n",
      "  \u001b[31m   \u001b[0m copying lib/mpl_toolkits/axes_grid/anchored_artists.py -> build/lib.linux-x86_64-cpython-39/mpl_toolkits/axes_grid\n",
      "  \u001b[31m   \u001b[0m copying lib/mpl_toolkits/axes_grid/angle_helper.py -> build/lib.linux-x86_64-cpython-39/mpl_toolkits/axes_grid\n",
      "  \u001b[31m   \u001b[0m copying lib/mpl_toolkits/axes_grid/axes_divider.py -> build/lib.linux-x86_64-cpython-39/mpl_toolkits/axes_grid\n",
      "  \u001b[31m   \u001b[0m copying lib/mpl_toolkits/axes_grid/axes_grid.py -> build/lib.linux-x86_64-cpython-39/mpl_toolkits/axes_grid\n",
      "  \u001b[31m   \u001b[0m copying lib/mpl_toolkits/axes_grid/axes_rgb.py -> build/lib.linux-x86_64-cpython-39/mpl_toolkits/axes_grid\n",
      "  \u001b[31m   \u001b[0m copying lib/mpl_toolkits/axes_grid/axes_size.py -> build/lib.linux-x86_64-cpython-39/mpl_toolkits/axes_grid\n",
      "  \u001b[31m   \u001b[0m copying lib/mpl_toolkits/axes_grid/axis_artist.py -> build/lib.linux-x86_64-cpython-39/mpl_toolkits/axes_grid\n",
      "  \u001b[31m   \u001b[0m copying lib/mpl_toolkits/axes_grid/axisline_style.py -> build/lib.linux-x86_64-cpython-39/mpl_toolkits/axes_grid\n",
      "  \u001b[31m   \u001b[0m copying lib/mpl_toolkits/axes_grid/axislines.py -> build/lib.linux-x86_64-cpython-39/mpl_toolkits/axes_grid\n",
      "  \u001b[31m   \u001b[0m copying lib/mpl_toolkits/axes_grid/clip_path.py -> build/lib.linux-x86_64-cpython-39/mpl_toolkits/axes_grid\n",
      "  \u001b[31m   \u001b[0m copying lib/mpl_toolkits/axes_grid/colorbar.py -> build/lib.linux-x86_64-cpython-39/mpl_toolkits/axes_grid\n",
      "  \u001b[31m   \u001b[0m copying lib/mpl_toolkits/axes_grid/floating_axes.py -> build/lib.linux-x86_64-cpython-39/mpl_toolkits/axes_grid\n",
      "  \u001b[31m   \u001b[0m copying lib/mpl_toolkits/axes_grid/grid_finder.py -> build/lib.linux-x86_64-cpython-39/mpl_toolkits/axes_grid\n",
      "  \u001b[31m   \u001b[0m copying lib/mpl_toolkits/axes_grid/grid_helper_curvelinear.py -> build/lib.linux-x86_64-cpython-39/mpl_toolkits/axes_grid\n",
      "  \u001b[31m   \u001b[0m copying lib/mpl_toolkits/axes_grid/inset_locator.py -> build/lib.linux-x86_64-cpython-39/mpl_toolkits/axes_grid\n",
      "  \u001b[31m   \u001b[0m copying lib/mpl_toolkits/axes_grid/parasite_axes.py -> build/lib.linux-x86_64-cpython-39/mpl_toolkits/axes_grid\n",
      "  \u001b[31m   \u001b[0m creating build/lib.linux-x86_64-cpython-39/mpl_toolkits/axes_grid1\n",
      "  \u001b[31m   \u001b[0m copying lib/mpl_toolkits/axes_grid1/__init__.py -> build/lib.linux-x86_64-cpython-39/mpl_toolkits/axes_grid1\n",
      "  \u001b[31m   \u001b[0m copying lib/mpl_toolkits/axes_grid1/anchored_artists.py -> build/lib.linux-x86_64-cpython-39/mpl_toolkits/axes_grid1\n",
      "  \u001b[31m   \u001b[0m copying lib/mpl_toolkits/axes_grid1/axes_divider.py -> build/lib.linux-x86_64-cpython-39/mpl_toolkits/axes_grid1\n",
      "  \u001b[31m   \u001b[0m copying lib/mpl_toolkits/axes_grid1/axes_grid.py -> build/lib.linux-x86_64-cpython-39/mpl_toolkits/axes_grid1\n",
      "  \u001b[31m   \u001b[0m copying lib/mpl_toolkits/axes_grid1/axes_rgb.py -> build/lib.linux-x86_64-cpython-39/mpl_toolkits/axes_grid1\n",
      "  \u001b[31m   \u001b[0m copying lib/mpl_toolkits/axes_grid1/axes_size.py -> build/lib.linux-x86_64-cpython-39/mpl_toolkits/axes_grid1\n",
      "  \u001b[31m   \u001b[0m copying lib/mpl_toolkits/axes_grid1/colorbar.py -> build/lib.linux-x86_64-cpython-39/mpl_toolkits/axes_grid1\n",
      "  \u001b[31m   \u001b[0m copying lib/mpl_toolkits/axes_grid1/inset_locator.py -> build/lib.linux-x86_64-cpython-39/mpl_toolkits/axes_grid1\n",
      "  \u001b[31m   \u001b[0m copying lib/mpl_toolkits/axes_grid1/mpl_axes.py -> build/lib.linux-x86_64-cpython-39/mpl_toolkits/axes_grid1\n",
      "  \u001b[31m   \u001b[0m copying lib/mpl_toolkits/axes_grid1/parasite_axes.py -> build/lib.linux-x86_64-cpython-39/mpl_toolkits/axes_grid1\n",
      "  \u001b[31m   \u001b[0m creating build/lib.linux-x86_64-cpython-39/mpl_toolkits/axisartist\n",
      "  \u001b[31m   \u001b[0m copying lib/mpl_toolkits/axisartist/__init__.py -> build/lib.linux-x86_64-cpython-39/mpl_toolkits/axisartist\n",
      "  \u001b[31m   \u001b[0m copying lib/mpl_toolkits/axisartist/angle_helper.py -> build/lib.linux-x86_64-cpython-39/mpl_toolkits/axisartist\n",
      "  \u001b[31m   \u001b[0m copying lib/mpl_toolkits/axisartist/axes_divider.py -> build/lib.linux-x86_64-cpython-39/mpl_toolkits/axisartist\n",
      "  \u001b[31m   \u001b[0m copying lib/mpl_toolkits/axisartist/axes_grid.py -> build/lib.linux-x86_64-cpython-39/mpl_toolkits/axisartist\n",
      "  \u001b[31m   \u001b[0m copying lib/mpl_toolkits/axisartist/axes_rgb.py -> build/lib.linux-x86_64-cpython-39/mpl_toolkits/axisartist\n",
      "  \u001b[31m   \u001b[0m copying lib/mpl_toolkits/axisartist/axis_artist.py -> build/lib.linux-x86_64-cpython-39/mpl_toolkits/axisartist\n",
      "  \u001b[31m   \u001b[0m copying lib/mpl_toolkits/axisartist/axisline_style.py -> build/lib.linux-x86_64-cpython-39/mpl_toolkits/axisartist\n",
      "  \u001b[31m   \u001b[0m copying lib/mpl_toolkits/axisartist/axislines.py -> build/lib.linux-x86_64-cpython-39/mpl_toolkits/axisartist\n",
      "  \u001b[31m   \u001b[0m copying lib/mpl_toolkits/axisartist/clip_path.py -> build/lib.linux-x86_64-cpython-39/mpl_toolkits/axisartist\n",
      "  \u001b[31m   \u001b[0m copying lib/mpl_toolkits/axisartist/floating_axes.py -> build/lib.linux-x86_64-cpython-39/mpl_toolkits/axisartist\n",
      "  \u001b[31m   \u001b[0m copying lib/mpl_toolkits/axisartist/grid_finder.py -> build/lib.linux-x86_64-cpython-39/mpl_toolkits/axisartist\n",
      "  \u001b[31m   \u001b[0m copying lib/mpl_toolkits/axisartist/grid_helper_curvelinear.py -> build/lib.linux-x86_64-cpython-39/mpl_toolkits/axisartist\n",
      "  \u001b[31m   \u001b[0m copying lib/mpl_toolkits/axisartist/parasite_axes.py -> build/lib.linux-x86_64-cpython-39/mpl_toolkits/axisartist\n",
      "  \u001b[31m   \u001b[0m creating build/lib.linux-x86_64-cpython-39/mpl_toolkits/mplot3d\n",
      "  \u001b[31m   \u001b[0m copying lib/mpl_toolkits/mplot3d/__init__.py -> build/lib.linux-x86_64-cpython-39/mpl_toolkits/mplot3d\n",
      "  \u001b[31m   \u001b[0m copying lib/mpl_toolkits/mplot3d/art3d.py -> build/lib.linux-x86_64-cpython-39/mpl_toolkits/mplot3d\n",
      "  \u001b[31m   \u001b[0m copying lib/mpl_toolkits/mplot3d/axes3d.py -> build/lib.linux-x86_64-cpython-39/mpl_toolkits/mplot3d\n",
      "  \u001b[31m   \u001b[0m copying lib/mpl_toolkits/mplot3d/axis3d.py -> build/lib.linux-x86_64-cpython-39/mpl_toolkits/mplot3d\n",
      "  \u001b[31m   \u001b[0m copying lib/mpl_toolkits/mplot3d/proj3d.py -> build/lib.linux-x86_64-cpython-39/mpl_toolkits/mplot3d\n",
      "  \u001b[31m   \u001b[0m creating build/lib.linux-x86_64-cpython-39/mpl_toolkits/tests\n",
      "  \u001b[31m   \u001b[0m copying lib/mpl_toolkits/tests/__init__.py -> build/lib.linux-x86_64-cpython-39/mpl_toolkits/tests\n",
      "  \u001b[31m   \u001b[0m copying lib/mpl_toolkits/tests/conftest.py -> build/lib.linux-x86_64-cpython-39/mpl_toolkits/tests\n",
      "  \u001b[31m   \u001b[0m copying lib/mpl_toolkits/tests/test_axes_grid.py -> build/lib.linux-x86_64-cpython-39/mpl_toolkits/tests\n",
      "  \u001b[31m   \u001b[0m copying lib/mpl_toolkits/tests/test_axes_grid1.py -> build/lib.linux-x86_64-cpython-39/mpl_toolkits/tests\n",
      "  \u001b[31m   \u001b[0m copying lib/mpl_toolkits/tests/test_axisartist_angle_helper.py -> build/lib.linux-x86_64-cpython-39/mpl_toolkits/tests\n",
      "  \u001b[31m   \u001b[0m copying lib/mpl_toolkits/tests/test_axisartist_axis_artist.py -> build/lib.linux-x86_64-cpython-39/mpl_toolkits/tests\n",
      "  \u001b[31m   \u001b[0m copying lib/mpl_toolkits/tests/test_axisartist_axislines.py -> build/lib.linux-x86_64-cpython-39/mpl_toolkits/tests\n",
      "  \u001b[31m   \u001b[0m copying lib/mpl_toolkits/tests/test_axisartist_clip_path.py -> build/lib.linux-x86_64-cpython-39/mpl_toolkits/tests\n",
      "  \u001b[31m   \u001b[0m copying lib/mpl_toolkits/tests/test_axisartist_floating_axes.py -> build/lib.linux-x86_64-cpython-39/mpl_toolkits/tests\n",
      "  \u001b[31m   \u001b[0m copying lib/mpl_toolkits/tests/test_axisartist_grid_finder.py -> build/lib.linux-x86_64-cpython-39/mpl_toolkits/tests\n",
      "  \u001b[31m   \u001b[0m copying lib/mpl_toolkits/tests/test_axisartist_grid_helper_curvelinear.py -> build/lib.linux-x86_64-cpython-39/mpl_toolkits/tests\n",
      "  \u001b[31m   \u001b[0m copying lib/mpl_toolkits/tests/test_mplot3d.py -> build/lib.linux-x86_64-cpython-39/mpl_toolkits/tests\n",
      "  \u001b[31m   \u001b[0m creating build/lib.linux-x86_64-cpython-39/matplotlib/mpl-data\n",
      "  \u001b[31m   \u001b[0m creating build/lib.linux-x86_64-cpython-39/matplotlib/mpl-data/stylelib\n",
      "  \u001b[31m   \u001b[0m copying lib/matplotlib/mpl-data/stylelib/seaborn-dark.mplstyle -> build/lib.linux-x86_64-cpython-39/matplotlib/mpl-data/stylelib\n",
      "  \u001b[31m   \u001b[0m creating build/lib.linux-x86_64-cpython-39/matplotlib/mpl-data/fonts\n",
      "  \u001b[31m   \u001b[0m creating build/lib.linux-x86_64-cpython-39/matplotlib/mpl-data/fonts/pdfcorefonts\n",
      "  \u001b[31m   \u001b[0m copying lib/matplotlib/mpl-data/fonts/pdfcorefonts/Courier-Bold.afm -> build/lib.linux-x86_64-cpython-39/matplotlib/mpl-data/fonts/pdfcorefonts\n",
      "  \u001b[31m   \u001b[0m creating build/lib.linux-x86_64-cpython-39/matplotlib/mpl-data/fonts/afm\n",
      "  \u001b[31m   \u001b[0m copying lib/matplotlib/mpl-data/fonts/afm/ptmr8a.afm -> build/lib.linux-x86_64-cpython-39/matplotlib/mpl-data/fonts/afm\n",
      "  \u001b[31m   \u001b[0m creating build/lib.linux-x86_64-cpython-39/matplotlib/mpl-data/sample_data\n",
      "  \u001b[31m   \u001b[0m copying lib/matplotlib/mpl-data/sample_data/percent_bachelors_degrees_women_usa.csv -> build/lib.linux-x86_64-cpython-39/matplotlib/mpl-data/sample_data\n",
      "  \u001b[31m   \u001b[0m copying lib/matplotlib/mpl-data/stylelib/seaborn-pastel.mplstyle -> build/lib.linux-x86_64-cpython-39/matplotlib/mpl-data/stylelib\n",
      "  \u001b[31m   \u001b[0m copying lib/matplotlib/mpl-data/sample_data/README.txt -> build/lib.linux-x86_64-cpython-39/matplotlib/mpl-data/sample_data\n",
      "  \u001b[31m   \u001b[0m creating build/lib.linux-x86_64-cpython-39/matplotlib/mpl-data/images\n",
      "  \u001b[31m   \u001b[0m copying lib/matplotlib/mpl-data/images/forward.png -> build/lib.linux-x86_64-cpython-39/matplotlib/mpl-data/images\n",
      "  \u001b[31m   \u001b[0m copying lib/matplotlib/mpl-data/fonts/afm/phvb8a.afm -> build/lib.linux-x86_64-cpython-39/matplotlib/mpl-data/fonts/afm\n",
      "  \u001b[31m   \u001b[0m copying lib/matplotlib/mpl-data/fonts/afm/putr8a.afm -> build/lib.linux-x86_64-cpython-39/matplotlib/mpl-data/fonts/afm\n",
      "  \u001b[31m   \u001b[0m creating build/lib.linux-x86_64-cpython-39/matplotlib/mpl-data/fonts/ttf\n",
      "  \u001b[31m   \u001b[0m copying lib/matplotlib/mpl-data/fonts/ttf/STIXGeneral.ttf -> build/lib.linux-x86_64-cpython-39/matplotlib/mpl-data/fonts/ttf\n",
      "  \u001b[31m   \u001b[0m copying lib/matplotlib/mpl-data/images/subplots_large.gif -> build/lib.linux-x86_64-cpython-39/matplotlib/mpl-data/images\n",
      "  \u001b[31m   \u001b[0m creating build/lib.linux-x86_64-cpython-39/matplotlib/backends/web_backend\n",
      "  \u001b[31m   \u001b[0m creating build/lib.linux-x86_64-cpython-39/matplotlib/backends/web_backend/jquery-ui-1.12.1\n",
      "  \u001b[31m   \u001b[0m copying lib/matplotlib/backends/web_backend/jquery-ui-1.12.1/jquery-ui.js -> build/lib.linux-x86_64-cpython-39/matplotlib/backends/web_backend/jquery-ui-1.12.1\n",
      "  \u001b[31m   \u001b[0m copying lib/matplotlib/mpl-data/images/filesave_large.png -> build/lib.linux-x86_64-cpython-39/matplotlib/mpl-data/images\n",
      "  \u001b[31m   \u001b[0m copying lib/matplotlib/mpl-data/sample_data/msft.csv -> build/lib.linux-x86_64-cpython-39/matplotlib/mpl-data/sample_data\n",
      "  \u001b[31m   \u001b[0m copying lib/matplotlib/mpl-data/sample_data/ct.raw.gz -> build/lib.linux-x86_64-cpython-39/matplotlib/mpl-data/sample_data\n",
      "  \u001b[31m   \u001b[0m copying lib/matplotlib/mpl-data/fonts/afm/cmex10.afm -> build/lib.linux-x86_64-cpython-39/matplotlib/mpl-data/fonts/afm\n",
      "  \u001b[31m   \u001b[0m copying lib/matplotlib/mpl-data/images/subplots.png -> build/lib.linux-x86_64-cpython-39/matplotlib/mpl-data/images\n",
      "  \u001b[31m   \u001b[0m copying lib/matplotlib/mpl-data/fonts/ttf/STIXNonUniBol.ttf -> build/lib.linux-x86_64-cpython-39/matplotlib/mpl-data/fonts/ttf\n",
      "  \u001b[31m   \u001b[0m copying lib/matplotlib/backends/web_backend/jquery-ui-1.12.1/jquery-ui.structure.css -> build/lib.linux-x86_64-cpython-39/matplotlib/backends/web_backend/jquery-ui-1.12.1\n",
      "  \u001b[31m   \u001b[0m copying lib/matplotlib/mpl-data/stylelib/ggplot.mplstyle -> build/lib.linux-x86_64-cpython-39/matplotlib/mpl-data/stylelib\n",
      "  \u001b[31m   \u001b[0m creating build/lib.linux-x86_64-cpython-39/matplotlib/backends/web_backend/css\n",
      "  \u001b[31m   \u001b[0m copying lib/matplotlib/backends/web_backend/css/page.css -> build/lib.linux-x86_64-cpython-39/matplotlib/backends/web_backend/css\n",
      "  \u001b[31m   \u001b[0m copying lib/matplotlib/mpl-data/fonts/afm/phvr8an.afm -> build/lib.linux-x86_64-cpython-39/matplotlib/mpl-data/fonts/afm\n",
      "  \u001b[31m   \u001b[0m copying lib/matplotlib/mpl-data/fonts/pdfcorefonts/Times-BoldItalic.afm -> build/lib.linux-x86_64-cpython-39/matplotlib/mpl-data/fonts/pdfcorefonts\n",
      "  \u001b[31m   \u001b[0m copying lib/matplotlib/mpl-data/fonts/afm/phvbo8an.afm -> build/lib.linux-x86_64-cpython-39/matplotlib/mpl-data/fonts/afm\n",
      "  \u001b[31m   \u001b[0m copying lib/matplotlib/mpl-data/images/zoom_to_rect.pdf -> build/lib.linux-x86_64-cpython-39/matplotlib/mpl-data/images\n",
      "  \u001b[31m   \u001b[0m copying lib/matplotlib/backends/web_backend/css/boilerplate.css -> build/lib.linux-x86_64-cpython-39/matplotlib/backends/web_backend/css\n",
      "  \u001b[31m   \u001b[0m copying lib/matplotlib/mpl-data/images/subplots_large.png -> build/lib.linux-x86_64-cpython-39/matplotlib/mpl-data/images\n",
      "  \u001b[31m   \u001b[0m copying lib/matplotlib/mpl-data/fonts/afm/pncb8a.afm -> build/lib.linux-x86_64-cpython-39/matplotlib/mpl-data/fonts/afm\n",
      "  \u001b[31m   \u001b[0m copying lib/matplotlib/mpl-data/images/home.svg -> build/lib.linux-x86_64-cpython-39/matplotlib/mpl-data/images\n",
      "  \u001b[31m   \u001b[0m copying lib/matplotlib/mpl-data/fonts/pdfcorefonts/readme.txt -> build/lib.linux-x86_64-cpython-39/matplotlib/mpl-data/fonts/pdfcorefonts\n",
      "  \u001b[31m   \u001b[0m copying lib/matplotlib/backends/web_backend/all_figures.html -> build/lib.linux-x86_64-cpython-39/matplotlib/backends/web_backend\n",
      "  \u001b[31m   \u001b[0m copying lib/matplotlib/mpl-data/stylelib/seaborn-whitegrid.mplstyle -> build/lib.linux-x86_64-cpython-39/matplotlib/mpl-data/stylelib\n",
      "  \u001b[31m   \u001b[0m creating build/lib.linux-x86_64-cpython-39/matplotlib/backends/web_backend/js\n",
      "  \u001b[31m   \u001b[0m copying lib/matplotlib/backends/web_backend/js/mpl.js -> build/lib.linux-x86_64-cpython-39/matplotlib/backends/web_backend/js\n",
      "  \u001b[31m   \u001b[0m copying lib/matplotlib/mpl-data/images/matplotlib_large.png -> build/lib.linux-x86_64-cpython-39/matplotlib/mpl-data/images\n",
      "  \u001b[31m   \u001b[0m copying lib/matplotlib/mpl-data/stylelib/_classic_test_patch.mplstyle -> build/lib.linux-x86_64-cpython-39/matplotlib/mpl-data/stylelib\n",
      "  \u001b[31m   \u001b[0m copying lib/matplotlib/mpl-data/fonts/pdfcorefonts/Times-Italic.afm -> build/lib.linux-x86_64-cpython-39/matplotlib/mpl-data/fonts/pdfcorefonts\n",
      "  \u001b[31m   \u001b[0m copying lib/matplotlib/mpl-data/fonts/afm/pcrro8a.afm -> build/lib.linux-x86_64-cpython-39/matplotlib/mpl-data/fonts/afm\n",
      "  \u001b[31m   \u001b[0m copying lib/matplotlib/mpl-data/fonts/ttf/DejaVuSans-Bold.ttf -> build/lib.linux-x86_64-cpython-39/matplotlib/mpl-data/fonts/ttf\n",
      "  \u001b[31m   \u001b[0m copying lib/matplotlib/mpl-data/stylelib/Solarize_Light2.mplstyle -> build/lib.linux-x86_64-cpython-39/matplotlib/mpl-data/stylelib\n",
      "  \u001b[31m   \u001b[0m copying lib/matplotlib/mpl-data/stylelib/seaborn-white.mplstyle -> build/lib.linux-x86_64-cpython-39/matplotlib/mpl-data/stylelib\n",
      "  \u001b[31m   \u001b[0m copying lib/matplotlib/mpl-data/fonts/pdfcorefonts/Helvetica.afm -> build/lib.linux-x86_64-cpython-39/matplotlib/mpl-data/fonts/pdfcorefonts\n",
      "  \u001b[31m   \u001b[0m copying lib/matplotlib/mpl-data/images/forward.svg -> build/lib.linux-x86_64-cpython-39/matplotlib/mpl-data/images\n",
      "  \u001b[31m   \u001b[0m copying lib/matplotlib/mpl-data/fonts/afm/pbkl8a.afm -> build/lib.linux-x86_64-cpython-39/matplotlib/mpl-data/fonts/afm\n",
      "  \u001b[31m   \u001b[0m copying lib/matplotlib/mpl-data/images/back.svg -> build/lib.linux-x86_64-cpython-39/matplotlib/mpl-data/images\n",
      "  \u001b[31m   \u001b[0m copying lib/matplotlib/mpl-data/fonts/ttf/STIXGeneralBol.ttf -> build/lib.linux-x86_64-cpython-39/matplotlib/mpl-data/fonts/ttf\n",
      "  \u001b[31m   \u001b[0m copying lib/matplotlib/mpl-data/fonts/ttf/DejaVuSans-BoldOblique.ttf -> build/lib.linux-x86_64-cpython-39/matplotlib/mpl-data/fonts/ttf\n",
      "  \u001b[31m   \u001b[0m copying lib/matplotlib/mpl-data/fonts/ttf/DejaVuSansMono-BoldOblique.ttf -> build/lib.linux-x86_64-cpython-39/matplotlib/mpl-data/fonts/ttf\n",
      "  \u001b[31m   \u001b[0m copying lib/matplotlib/mpl-data/images/back.gif -> build/lib.linux-x86_64-cpython-39/matplotlib/mpl-data/images\n",
      "  \u001b[31m   \u001b[0m copying lib/matplotlib/mpl-data/stylelib/seaborn-paper.mplstyle -> build/lib.linux-x86_64-cpython-39/matplotlib/mpl-data/stylelib\n",
      "  \u001b[31m   \u001b[0m copying lib/matplotlib/mpl-data/stylelib/seaborn-ticks.mplstyle -> build/lib.linux-x86_64-cpython-39/matplotlib/mpl-data/stylelib\n",
      "  \u001b[31m   \u001b[0m copying lib/matplotlib/backends/web_backend/single_figure.html -> build/lib.linux-x86_64-cpython-39/matplotlib/backends/web_backend\n",
      "  \u001b[31m   \u001b[0m copying lib/matplotlib/mpl-data/fonts/afm/pplb8a.afm -> build/lib.linux-x86_64-cpython-39/matplotlib/mpl-data/fonts/afm\n",
      "  \u001b[31m   \u001b[0m copying lib/matplotlib/mpl-data/fonts/afm/pplbi8a.afm -> build/lib.linux-x86_64-cpython-39/matplotlib/mpl-data/fonts/afm\n",
      "  \u001b[31m   \u001b[0m copying lib/matplotlib/mpl-data/images/subplots.gif -> build/lib.linux-x86_64-cpython-39/matplotlib/mpl-data/images\n",
      "  \u001b[31m   \u001b[0m copying lib/matplotlib/backends/web_backend/jquery-ui-1.12.1/jquery-ui.structure.min.css -> build/lib.linux-x86_64-cpython-39/matplotlib/backends/web_backend/jquery-ui-1.12.1\n",
      "  \u001b[31m   \u001b[0m copying lib/matplotlib/backends/web_backend/css/fbm.css -> build/lib.linux-x86_64-cpython-39/matplotlib/backends/web_backend/css\n",
      "  \u001b[31m   \u001b[0m copying lib/matplotlib/backends/web_backend/jquery-ui-1.12.1/jquery-ui.theme.css -> build/lib.linux-x86_64-cpython-39/matplotlib/backends/web_backend/jquery-ui-1.12.1\n",
      "  \u001b[31m   \u001b[0m copying lib/matplotlib/mpl-data/stylelib/seaborn-notebook.mplstyle -> build/lib.linux-x86_64-cpython-39/matplotlib/mpl-data/stylelib\n",
      "  \u001b[31m   \u001b[0m copying lib/matplotlib/mpl-data/fonts/afm/pzdr.afm -> build/lib.linux-x86_64-cpython-39/matplotlib/mpl-data/fonts/afm\n",
      "  \u001b[31m   \u001b[0m copying lib/matplotlib/mpl-data/fonts/afm/pagk8a.afm -> build/lib.linux-x86_64-cpython-39/matplotlib/mpl-data/fonts/afm\n",
      "  \u001b[31m   \u001b[0m copying lib/matplotlib/mpl-data/images/back_large.gif -> build/lib.linux-x86_64-cpython-39/matplotlib/mpl-data/images\n",
      "  \u001b[31m   \u001b[0m copying lib/matplotlib/mpl-data/fonts/pdfcorefonts/Courier-Oblique.afm -> build/lib.linux-x86_64-cpython-39/matplotlib/mpl-data/fonts/pdfcorefonts\n",
      "  \u001b[31m   \u001b[0m copying lib/matplotlib/mpl-data/fonts/ttf/DejaVuSerifDisplay.ttf -> build/lib.linux-x86_64-cpython-39/matplotlib/mpl-data/fonts/ttf\n",
      "  \u001b[31m   \u001b[0m copying lib/matplotlib/mpl-data/fonts/ttf/cmtt10.ttf -> build/lib.linux-x86_64-cpython-39/matplotlib/mpl-data/fonts/ttf\n",
      "  \u001b[31m   \u001b[0m copying lib/matplotlib/mpl-data/images/filesave.pdf -> build/lib.linux-x86_64-cpython-39/matplotlib/mpl-data/images\n",
      "  \u001b[31m   \u001b[0m copying lib/matplotlib/mpl-data/images/hand_large.gif -> build/lib.linux-x86_64-cpython-39/matplotlib/mpl-data/images\n",
      "  \u001b[31m   \u001b[0m copying lib/matplotlib/mpl-data/stylelib/seaborn-deep.mplstyle -> build/lib.linux-x86_64-cpython-39/matplotlib/mpl-data/stylelib\n",
      "  \u001b[31m   \u001b[0m copying lib/matplotlib/mpl-data/fonts/afm/psyr.afm -> build/lib.linux-x86_64-cpython-39/matplotlib/mpl-data/fonts/afm\n",
      "  \u001b[31m   \u001b[0m copying lib/matplotlib/mpl-data/fonts/pdfcorefonts/Courier.afm -> build/lib.linux-x86_64-cpython-39/matplotlib/mpl-data/fonts/pdfcorefonts\n",
      "  \u001b[31m   \u001b[0m creating build/lib.linux-x86_64-cpython-39/matplotlib/backends/web_backend/jquery-ui-1.12.1/images\n",
      "  \u001b[31m   \u001b[0m copying lib/matplotlib/backends/web_backend/jquery-ui-1.12.1/images/ui-icons_777620_256x240.png -> build/lib.linux-x86_64-cpython-39/matplotlib/backends/web_backend/jquery-ui-1.12.1/images\n",
      "  \u001b[31m   \u001b[0m copying lib/matplotlib/backends/web_backend/js/mpl_tornado.js -> build/lib.linux-x86_64-cpython-39/matplotlib/backends/web_backend/js\n",
      "  \u001b[31m   \u001b[0m copying lib/matplotlib/backends/web_backend/jquery-ui-1.12.1/images/ui-icons_777777_256x240.png -> build/lib.linux-x86_64-cpython-39/matplotlib/backends/web_backend/jquery-ui-1.12.1/images\n",
      "  \u001b[31m   \u001b[0m copying lib/matplotlib/backends/web_backend/jquery-ui-1.12.1/index.html -> build/lib.linux-x86_64-cpython-39/matplotlib/backends/web_backend/jquery-ui-1.12.1\n",
      "  \u001b[31m   \u001b[0m copying lib/matplotlib/mpl-data/fonts/afm/cmsy10.afm -> build/lib.linux-x86_64-cpython-39/matplotlib/mpl-data/fonts/afm\n",
      "  \u001b[31m   \u001b[0m copying lib/matplotlib/mpl-data/fonts/ttf/DejaVuSerif-BoldItalic.ttf -> build/lib.linux-x86_64-cpython-39/matplotlib/mpl-data/fonts/ttf\n",
      "  \u001b[31m   \u001b[0m copying lib/matplotlib/mpl-data/images/qt4_editor_options.svg -> build/lib.linux-x86_64-cpython-39/matplotlib/mpl-data/images\n",
      "  \u001b[31m   \u001b[0m copying lib/matplotlib/backends/web_backend/jquery-ui-1.12.1/jquery-ui.min.js -> build/lib.linux-x86_64-cpython-39/matplotlib/backends/web_backend/jquery-ui-1.12.1\n",
      "  \u001b[31m   \u001b[0m copying lib/matplotlib/mpl-data/fonts/ttf/DejaVuSansDisplay.ttf -> build/lib.linux-x86_64-cpython-39/matplotlib/mpl-data/fonts/ttf\n",
      "  \u001b[31m   \u001b[0m copying lib/matplotlib/mpl-data/fonts/ttf/STIXSizTwoSymReg.ttf -> build/lib.linux-x86_64-cpython-39/matplotlib/mpl-data/fonts/ttf\n",
      "  \u001b[31m   \u001b[0m copying lib/matplotlib/mpl-data/images/forward_large.gif -> build/lib.linux-x86_64-cpython-39/matplotlib/mpl-data/images\n",
      "  \u001b[31m   \u001b[0m copying lib/matplotlib/mpl-data/fonts/afm/pbkd8a.afm -> build/lib.linux-x86_64-cpython-39/matplotlib/mpl-data/fonts/afm\n",
      "  \u001b[31m   \u001b[0m copying lib/matplotlib/mpl-data/images/help_large.ppm -> build/lib.linux-x86_64-cpython-39/matplotlib/mpl-data/images\n",
      "  \u001b[31m   \u001b[0m copying lib/matplotlib/mpl-data/fonts/ttf/STIXSizFiveSymReg.ttf -> build/lib.linux-x86_64-cpython-39/matplotlib/mpl-data/fonts/ttf\n",
      "  \u001b[31m   \u001b[0m copying lib/matplotlib/mpl-data/images/filesave.png -> build/lib.linux-x86_64-cpython-39/matplotlib/mpl-data/images\n",
      "  \u001b[31m   \u001b[0m copying lib/matplotlib/mpl-data/fonts/ttf/cmex10.ttf -> build/lib.linux-x86_64-cpython-39/matplotlib/mpl-data/fonts/ttf\n",
      "  \u001b[31m   \u001b[0m copying lib/matplotlib/mpl-data/stylelib/bmh.mplstyle -> build/lib.linux-x86_64-cpython-39/matplotlib/mpl-data/stylelib\n",
      "  \u001b[31m   \u001b[0m copying lib/matplotlib/mpl-data/fonts/afm/putb8a.afm -> build/lib.linux-x86_64-cpython-39/matplotlib/mpl-data/fonts/afm\n",
      "  \u001b[31m   \u001b[0m copying lib/matplotlib/mpl-data/fonts/ttf/STIXNonUni.ttf -> build/lib.linux-x86_64-cpython-39/matplotlib/mpl-data/fonts/ttf\n",
      "  \u001b[31m   \u001b[0m copying lib/matplotlib/mpl-data/images/home.png -> build/lib.linux-x86_64-cpython-39/matplotlib/mpl-data/images\n",
      "  \u001b[31m   \u001b[0m copying lib/matplotlib/mpl-data/sample_data/logo2.png -> build/lib.linux-x86_64-cpython-39/matplotlib/mpl-data/sample_data\n",
      "  \u001b[31m   \u001b[0m copying lib/matplotlib/mpl-data/images/move.svg -> build/lib.linux-x86_64-cpython-39/matplotlib/mpl-data/images\n",
      "  \u001b[31m   \u001b[0m copying lib/matplotlib/mpl-data/fonts/afm/pplri8a.afm -> build/lib.linux-x86_64-cpython-39/matplotlib/mpl-data/fonts/afm\n",
      "  \u001b[31m   \u001b[0m copying lib/matplotlib/mpl-data/fonts/afm/pcrb8a.afm -> build/lib.linux-x86_64-cpython-39/matplotlib/mpl-data/fonts/afm\n",
      "  \u001b[31m   \u001b[0m copying lib/matplotlib/mpl-data/fonts/ttf/DejaVuSansMono-Bold.ttf -> build/lib.linux-x86_64-cpython-39/matplotlib/mpl-data/fonts/ttf\n",
      "  \u001b[31m   \u001b[0m copying lib/matplotlib/backends/web_backend/jquery-ui-1.12.1/images/ui-icons_555555_256x240.png -> build/lib.linux-x86_64-cpython-39/matplotlib/backends/web_backend/jquery-ui-1.12.1/images\n",
      "  \u001b[31m   \u001b[0m copying lib/matplotlib/mpl-data/fonts/ttf/cmsy10.ttf -> build/lib.linux-x86_64-cpython-39/matplotlib/mpl-data/fonts/ttf\n",
      "  \u001b[31m   \u001b[0m copying lib/matplotlib/mpl-data/fonts/ttf/DejaVuSerif-Bold.ttf -> build/lib.linux-x86_64-cpython-39/matplotlib/mpl-data/fonts/ttf\n",
      "  \u001b[31m   \u001b[0m copying lib/matplotlib/mpl-data/sample_data/demodata.csv -> build/lib.linux-x86_64-cpython-39/matplotlib/mpl-data/sample_data\n",
      "  \u001b[31m   \u001b[0m copying lib/matplotlib/mpl-data/images/help_large.png -> build/lib.linux-x86_64-cpython-39/matplotlib/mpl-data/images\n",
      "  \u001b[31m   \u001b[0m copying lib/matplotlib/mpl-data/stylelib/grayscale.mplstyle -> build/lib.linux-x86_64-cpython-39/matplotlib/mpl-data/stylelib\n",
      "  \u001b[31m   \u001b[0m copying lib/matplotlib/mpl-data/sample_data/grace_hopper.png -> build/lib.linux-x86_64-cpython-39/matplotlib/mpl-data/sample_data\n",
      "  \u001b[31m   \u001b[0m copying lib/matplotlib/mpl-data/fonts/ttf/DejaVuSans.ttf -> build/lib.linux-x86_64-cpython-39/matplotlib/mpl-data/fonts/ttf\n",
      "  \u001b[31m   \u001b[0m copying lib/matplotlib/mpl-data/images/zoom_to_rect.png -> build/lib.linux-x86_64-cpython-39/matplotlib/mpl-data/images\n",
      "  \u001b[31m   \u001b[0m copying lib/matplotlib/mpl-data/stylelib/fast.mplstyle -> build/lib.linux-x86_64-cpython-39/matplotlib/mpl-data/stylelib\n",
      "  \u001b[31m   \u001b[0m copying lib/matplotlib/mpl-data/fonts/afm/phvbo8a.afm -> build/lib.linux-x86_64-cpython-39/matplotlib/mpl-data/fonts/afm\n",
      "  \u001b[31m   \u001b[0m copying lib/matplotlib/mpl-data/fonts/ttf/cmss10.ttf -> build/lib.linux-x86_64-cpython-39/matplotlib/mpl-data/fonts/ttf\n",
      "  \u001b[31m   \u001b[0m copying lib/matplotlib/mpl-data/images/filesave.svg -> build/lib.linux-x86_64-cpython-39/matplotlib/mpl-data/images\n",
      "  \u001b[31m   \u001b[0m copying lib/matplotlib/mpl-data/fonts/afm/pagdo8a.afm -> build/lib.linux-x86_64-cpython-39/matplotlib/mpl-data/fonts/afm\n",
      "  \u001b[31m   \u001b[0m copying lib/matplotlib/backends/web_backend/ipython_inline_figure.html -> build/lib.linux-x86_64-cpython-39/matplotlib/backends/web_backend\n",
      "  \u001b[31m   \u001b[0m copying lib/matplotlib/mpl-data/fonts/pdfcorefonts/Symbol.afm -> build/lib.linux-x86_64-cpython-39/matplotlib/mpl-data/fonts/pdfcorefonts\n",
      "  \u001b[31m   \u001b[0m copying lib/matplotlib/mpl-data/images/back.png -> build/lib.linux-x86_64-cpython-39/matplotlib/mpl-data/images\n",
      "  \u001b[31m   \u001b[0m copying lib/matplotlib/mpl-data/fonts/afm/ptmbi8a.afm -> build/lib.linux-x86_64-cpython-39/matplotlib/mpl-data/fonts/afm\n",
      "  \u001b[31m   \u001b[0m copying lib/matplotlib/backends/web_backend/jquery-ui-1.12.1/jquery-ui.min.css -> build/lib.linux-x86_64-cpython-39/matplotlib/backends/web_backend/jquery-ui-1.12.1\n",
      "  \u001b[31m   \u001b[0m copying lib/matplotlib/mpl-data/fonts/pdfcorefonts/Helvetica-Oblique.afm -> build/lib.linux-x86_64-cpython-39/matplotlib/mpl-data/fonts/pdfcorefonts\n",
      "  \u001b[31m   \u001b[0m copying lib/matplotlib/mpl-data/fonts/ttf/LICENSE_DEJAVU -> build/lib.linux-x86_64-cpython-39/matplotlib/mpl-data/fonts/ttf\n",
      "  \u001b[31m   \u001b[0m copying lib/matplotlib/mpl-data/stylelib/seaborn-dark-palette.mplstyle -> build/lib.linux-x86_64-cpython-39/matplotlib/mpl-data/stylelib\n",
      "  \u001b[31m   \u001b[0m copying lib/matplotlib/mpl-data/images/subplots.svg -> build/lib.linux-x86_64-cpython-39/matplotlib/mpl-data/images\n",
      "  \u001b[31m   \u001b[0m copying lib/matplotlib/mpl-data/fonts/ttf/STIXSizFourSymReg.ttf -> build/lib.linux-x86_64-cpython-39/matplotlib/mpl-data/fonts/ttf\n",
      "  \u001b[31m   \u001b[0m copying lib/matplotlib/mpl-data/images/move.pdf -> build/lib.linux-x86_64-cpython-39/matplotlib/mpl-data/images\n",
      "  \u001b[31m   \u001b[0m copying lib/matplotlib/mpl-data/fonts/afm/phvb8an.afm -> build/lib.linux-x86_64-cpython-39/matplotlib/mpl-data/fonts/afm\n",
      "  \u001b[31m   \u001b[0m copying lib/matplotlib/mpl-data/images/move.gif -> build/lib.linux-x86_64-cpython-39/matplotlib/mpl-data/images\n",
      "  \u001b[31m   \u001b[0m copying lib/matplotlib/mpl-data/images/matplotlib.png -> build/lib.linux-x86_64-cpython-39/matplotlib/mpl-data/images\n",
      "  \u001b[31m   \u001b[0m copying lib/matplotlib/mpl-data/fonts/afm/pbkli8a.afm -> build/lib.linux-x86_64-cpython-39/matplotlib/mpl-data/fonts/afm\n",
      "  \u001b[31m   \u001b[0m copying lib/matplotlib/mpl-data/sample_data/data_x_x2_x3.csv -> build/lib.linux-x86_64-cpython-39/matplotlib/mpl-data/sample_data\n",
      "  \u001b[31m   \u001b[0m copying lib/matplotlib/mpl-data/fonts/afm/pagd8a.afm -> build/lib.linux-x86_64-cpython-39/matplotlib/mpl-data/fonts/afm\n",
      "  \u001b[31m   \u001b[0m copying lib/matplotlib/mpl-data/fonts/ttf/STIXSizFourSymBol.ttf -> build/lib.linux-x86_64-cpython-39/matplotlib/mpl-data/fonts/ttf\n",
      "  \u001b[31m   \u001b[0m copying lib/matplotlib/mpl-data/fonts/afm/pzcmi8a.afm -> build/lib.linux-x86_64-cpython-39/matplotlib/mpl-data/fonts/afm\n",
      "  \u001b[31m   \u001b[0m copying lib/matplotlib/mpl-data/fonts/afm/cmr10.afm -> build/lib.linux-x86_64-cpython-39/matplotlib/mpl-data/fonts/afm\n",
      "  \u001b[31m   \u001b[0m copying lib/matplotlib/mpl-data/fonts/afm/phvlo8a.afm -> build/lib.linux-x86_64-cpython-39/matplotlib/mpl-data/fonts/afm\n",
      "  \u001b[31m   \u001b[0m copying lib/matplotlib/mpl-data/fonts/afm/pncri8a.afm -> build/lib.linux-x86_64-cpython-39/matplotlib/mpl-data/fonts/afm\n",
      "  \u001b[31m   \u001b[0m copying lib/matplotlib/mpl-data/stylelib/dark_background.mplstyle -> build/lib.linux-x86_64-cpython-39/matplotlib/mpl-data/stylelib\n",
      "  \u001b[31m   \u001b[0m copying lib/matplotlib/backends/web_backend/jquery-ui-1.12.1/images/ui-icons_444444_256x240.png -> build/lib.linux-x86_64-cpython-39/matplotlib/backends/web_backend/jquery-ui-1.12.1/images\n",
      "  \u001b[31m   \u001b[0m copying lib/matplotlib/backends/web_backend/nbagg_uat.ipynb -> build/lib.linux-x86_64-cpython-39/matplotlib/backends/web_backend\n",
      "  \u001b[31m   \u001b[0m copying lib/matplotlib/mpl-data/stylelib/seaborn-darkgrid.mplstyle -> build/lib.linux-x86_64-cpython-39/matplotlib/mpl-data/stylelib\n",
      "  \u001b[31m   \u001b[0m copying lib/matplotlib/mpl-data/fonts/ttf/STIXSizThreeSymReg.ttf -> build/lib.linux-x86_64-cpython-39/matplotlib/mpl-data/fonts/ttf\n",
      "  \u001b[31m   \u001b[0m copying lib/matplotlib/mpl-data/images/matplotlib.svg -> build/lib.linux-x86_64-cpython-39/matplotlib/mpl-data/images\n",
      "  \u001b[31m   \u001b[0m copying lib/matplotlib/backends/web_backend/jquery-ui-1.12.1/jquery-ui.css -> build/lib.linux-x86_64-cpython-39/matplotlib/backends/web_backend/jquery-ui-1.12.1\n",
      "  \u001b[31m   \u001b[0m copying lib/matplotlib/mpl-data/sample_data/Minduka_Present_Blue_Pack.png -> build/lib.linux-x86_64-cpython-39/matplotlib/mpl-data/sample_data\n",
      "  \u001b[31m   \u001b[0m copying lib/matplotlib/mpl-data/images/qt4_editor_options.pdf -> build/lib.linux-x86_64-cpython-39/matplotlib/mpl-data/images\n",
      "  \u001b[31m   \u001b[0m copying lib/matplotlib/mpl-data/images/help.ppm -> build/lib.linux-x86_64-cpython-39/matplotlib/mpl-data/images\n",
      "  \u001b[31m   \u001b[0m copying lib/matplotlib/mpl-data/images/help.png -> build/lib.linux-x86_64-cpython-39/matplotlib/mpl-data/images\n",
      "  \u001b[31m   \u001b[0m copying lib/matplotlib/mpl-data/fonts/ttf/DejaVuSerif-Italic.ttf -> build/lib.linux-x86_64-cpython-39/matplotlib/mpl-data/fonts/ttf\n",
      "  \u001b[31m   \u001b[0m copying lib/matplotlib/mpl-data/fonts/afm/pplr8a.afm -> build/lib.linux-x86_64-cpython-39/matplotlib/mpl-data/fonts/afm\n",
      "  \u001b[31m   \u001b[0m copying lib/matplotlib/mpl-data/sample_data/goog.npz -> build/lib.linux-x86_64-cpython-39/matplotlib/mpl-data/sample_data\n",
      "  \u001b[31m   \u001b[0m copying lib/matplotlib/mpl-data/images/subplots.pdf -> build/lib.linux-x86_64-cpython-39/matplotlib/mpl-data/images\n",
      "  \u001b[31m   \u001b[0m copying lib/matplotlib/mpl-data/stylelib/seaborn-talk.mplstyle -> build/lib.linux-x86_64-cpython-39/matplotlib/mpl-data/stylelib\n",
      "  \u001b[31m   \u001b[0m copying lib/matplotlib/mpl-data/fonts/pdfcorefonts/Times-Roman.afm -> build/lib.linux-x86_64-cpython-39/matplotlib/mpl-data/fonts/pdfcorefonts\n",
      "  \u001b[31m   \u001b[0m copying lib/matplotlib/mpl-data/images/move.png -> build/lib.linux-x86_64-cpython-39/matplotlib/mpl-data/images\n",
      "  \u001b[31m   \u001b[0m copying lib/matplotlib/backends/web_backend/jquery-ui-1.12.1/package.json -> build/lib.linux-x86_64-cpython-39/matplotlib/backends/web_backend/jquery-ui-1.12.1\n",
      "  \u001b[31m   \u001b[0m copying lib/matplotlib/mpl-data/sample_data/s1045.ima.gz -> build/lib.linux-x86_64-cpython-39/matplotlib/mpl-data/sample_data\n",
      "  \u001b[31m   \u001b[0m copying lib/matplotlib/mpl-data/sample_data/ada.png -> build/lib.linux-x86_64-cpython-39/matplotlib/mpl-data/sample_data\n",
      "  \u001b[31m   \u001b[0m copying lib/matplotlib/mpl-data/images/matplotlib_128.ppm -> build/lib.linux-x86_64-cpython-39/matplotlib/mpl-data/images\n",
      "  \u001b[31m   \u001b[0m copying lib/matplotlib/mpl-data/images/matplotlib.pdf -> build/lib.linux-x86_64-cpython-39/matplotlib/mpl-data/images\n",
      "  \u001b[31m   \u001b[0m copying lib/matplotlib/mpl-data/fonts/afm/pncr8a.afm -> build/lib.linux-x86_64-cpython-39/matplotlib/mpl-data/fonts/afm\n",
      "  \u001b[31m   \u001b[0m copying lib/matplotlib/mpl-data/images/zoom_to_rect_large.png -> build/lib.linux-x86_64-cpython-39/matplotlib/mpl-data/images\n",
      "  \u001b[31m   \u001b[0m copying lib/matplotlib/mpl-data/fonts/afm/phvro8a.afm -> build/lib.linux-x86_64-cpython-39/matplotlib/mpl-data/fonts/afm\n",
      "  \u001b[31m   \u001b[0m copying lib/matplotlib/mpl-data/images/move_large.png -> build/lib.linux-x86_64-cpython-39/matplotlib/mpl-data/images\n",
      "  \u001b[31m   \u001b[0m copying lib/matplotlib/mpl-data/stylelib/classic.mplstyle -> build/lib.linux-x86_64-cpython-39/matplotlib/mpl-data/stylelib\n",
      "  \u001b[31m   \u001b[0m creating build/lib.linux-x86_64-cpython-39/matplotlib/backends/web_backend/jquery-ui-1.12.1/external\n",
      "  \u001b[31m   \u001b[0m creating build/lib.linux-x86_64-cpython-39/matplotlib/backends/web_backend/jquery-ui-1.12.1/external/jquery\n",
      "  \u001b[31m   \u001b[0m copying lib/matplotlib/backends/web_backend/jquery-ui-1.12.1/external/jquery/jquery.js -> build/lib.linux-x86_64-cpython-39/matplotlib/backends/web_backend/jquery-ui-1.12.1/external/jquery\n",
      "  \u001b[31m   \u001b[0m copying lib/matplotlib/mpl-data/fonts/pdfcorefonts/Helvetica-BoldOblique.afm -> build/lib.linux-x86_64-cpython-39/matplotlib/mpl-data/fonts/pdfcorefonts\n",
      "  \u001b[31m   \u001b[0m copying lib/matplotlib/mpl-data/fonts/ttf/DejaVuSerif.ttf -> build/lib.linux-x86_64-cpython-39/matplotlib/mpl-data/fonts/ttf\n",
      "  \u001b[31m   \u001b[0m copying lib/matplotlib/mpl-data/images/home.gif -> build/lib.linux-x86_64-cpython-39/matplotlib/mpl-data/images\n",
      "  \u001b[31m   \u001b[0m copying lib/matplotlib/mpl-data/fonts/afm/pcrr8a.afm -> build/lib.linux-x86_64-cpython-39/matplotlib/mpl-data/fonts/afm\n",
      "  \u001b[31m   \u001b[0m copying lib/matplotlib/mpl-data/fonts/pdfcorefonts/Times-Bold.afm -> build/lib.linux-x86_64-cpython-39/matplotlib/mpl-data/fonts/pdfcorefonts\n",
      "  \u001b[31m   \u001b[0m copying lib/matplotlib/mpl-data/sample_data/eeg.dat -> build/lib.linux-x86_64-cpython-39/matplotlib/mpl-data/sample_data\n",
      "  \u001b[31m   \u001b[0m copying lib/matplotlib/mpl-data/fonts/ttf/cmmi10.ttf -> build/lib.linux-x86_64-cpython-39/matplotlib/mpl-data/fonts/ttf\n",
      "  \u001b[31m   \u001b[0m copying lib/matplotlib/mpl-data/stylelib/seaborn-colorblind.mplstyle -> build/lib.linux-x86_64-cpython-39/matplotlib/mpl-data/stylelib\n",
      "  \u001b[31m   \u001b[0m copying lib/matplotlib/mpl-data/fonts/ttf/STIXNonUniIta.ttf -> build/lib.linux-x86_64-cpython-39/matplotlib/mpl-data/fonts/ttf\n",
      "  \u001b[31m   \u001b[0m copying lib/matplotlib/mpl-data/images/zoom_to_rect_large.gif -> build/lib.linux-x86_64-cpython-39/matplotlib/mpl-data/images\n",
      "  \u001b[31m   \u001b[0m copying lib/matplotlib/mpl-data/fonts/ttf/LICENSE_STIX -> build/lib.linux-x86_64-cpython-39/matplotlib/mpl-data/fonts/ttf\n",
      "  \u001b[31m   \u001b[0m copying lib/matplotlib/mpl-data/fonts/ttf/STIXSizTwoSymBol.ttf -> build/lib.linux-x86_64-cpython-39/matplotlib/mpl-data/fonts/ttf\n",
      "  \u001b[31m   \u001b[0m copying lib/matplotlib/mpl-data/fonts/ttf/cmb10.ttf -> build/lib.linux-x86_64-cpython-39/matplotlib/mpl-data/fonts/ttf\n",
      "  \u001b[31m   \u001b[0m copying lib/matplotlib/mpl-data/images/zoom_to_rect.svg -> build/lib.linux-x86_64-cpython-39/matplotlib/mpl-data/images\n",
      "  \u001b[31m   \u001b[0m copying lib/matplotlib/mpl-data/fonts/pdfcorefonts/ZapfDingbats.afm -> build/lib.linux-x86_64-cpython-39/matplotlib/mpl-data/fonts/pdfcorefonts\n",
      "  \u001b[31m   \u001b[0m copying lib/matplotlib/mpl-data/fonts/ttf/DejaVuSansMono.ttf -> build/lib.linux-x86_64-cpython-39/matplotlib/mpl-data/fonts/ttf\n",
      "  \u001b[31m   \u001b[0m copying lib/matplotlib/mpl-data/fonts/afm/phvr8a.afm -> build/lib.linux-x86_64-cpython-39/matplotlib/mpl-data/fonts/afm\n",
      "  \u001b[31m   \u001b[0m copying lib/matplotlib/mpl-data/sample_data/aapl.npz -> build/lib.linux-x86_64-cpython-39/matplotlib/mpl-data/sample_data\n",
      "  \u001b[31m   \u001b[0m copying lib/matplotlib/mpl-data/fonts/ttf/STIXGeneralBolIta.ttf -> build/lib.linux-x86_64-cpython-39/matplotlib/mpl-data/fonts/ttf\n",
      "  \u001b[31m   \u001b[0m copying lib/matplotlib/mpl-data/stylelib/tableau-colorblind10.mplstyle -> build/lib.linux-x86_64-cpython-39/matplotlib/mpl-data/stylelib\n",
      "  \u001b[31m   \u001b[0m copying lib/matplotlib/mpl-data/fonts/afm/ptmb8a.afm -> build/lib.linux-x86_64-cpython-39/matplotlib/mpl-data/fonts/afm\n",
      "  \u001b[31m   \u001b[0m copying lib/matplotlib/mpl-data/fonts/afm/pbkdi8a.afm -> build/lib.linux-x86_64-cpython-39/matplotlib/mpl-data/fonts/afm\n",
      "  \u001b[31m   \u001b[0m copying lib/matplotlib/backends/web_backend/jquery-ui-1.12.1/images/ui-icons_ffffff_256x240.png -> build/lib.linux-x86_64-cpython-39/matplotlib/backends/web_backend/jquery-ui-1.12.1/images\n",
      "  \u001b[31m   \u001b[0m copying lib/matplotlib/mpl-data/fonts/afm/phvro8an.afm -> build/lib.linux-x86_64-cpython-39/matplotlib/mpl-data/fonts/afm\n",
      "  \u001b[31m   \u001b[0m copying lib/matplotlib/mpl-data/images/home.pdf -> build/lib.linux-x86_64-cpython-39/matplotlib/mpl-data/images\n",
      "  \u001b[31m   \u001b[0m copying lib/matplotlib/backends/web_backend/js/nbagg_mpl.js -> build/lib.linux-x86_64-cpython-39/matplotlib/backends/web_backend/js\n",
      "  \u001b[31m   \u001b[0m copying lib/matplotlib/mpl-data/fonts/afm/cmmi10.afm -> build/lib.linux-x86_64-cpython-39/matplotlib/mpl-data/fonts/afm\n",
      "  \u001b[31m   \u001b[0m copying lib/matplotlib/mpl-data/stylelib/seaborn-bright.mplstyle -> build/lib.linux-x86_64-cpython-39/matplotlib/mpl-data/stylelib\n",
      "  \u001b[31m   \u001b[0m copying lib/matplotlib/mpl-data/images/hand.gif -> build/lib.linux-x86_64-cpython-39/matplotlib/mpl-data/images\n",
      "  \u001b[31m   \u001b[0m copying lib/matplotlib/mpl-data/fonts/pdfcorefonts/Helvetica-Bold.afm -> build/lib.linux-x86_64-cpython-39/matplotlib/mpl-data/fonts/pdfcorefonts\n",
      "  \u001b[31m   \u001b[0m copying lib/matplotlib/mpl-data/sample_data/membrane.dat -> build/lib.linux-x86_64-cpython-39/matplotlib/mpl-data/sample_data\n",
      "  \u001b[31m   \u001b[0m copying lib/matplotlib/mpl-data/sample_data/jacksboro_fault_dem.npz -> build/lib.linux-x86_64-cpython-39/matplotlib/mpl-data/sample_data\n",
      "  \u001b[31m   \u001b[0m copying lib/matplotlib/mpl-data/fonts/afm/pagko8a.afm -> build/lib.linux-x86_64-cpython-39/matplotlib/mpl-data/fonts/afm\n",
      "  \u001b[31m   \u001b[0m copying lib/matplotlib/mpl-data/fonts/ttf/STIXSizThreeSymBol.ttf -> build/lib.linux-x86_64-cpython-39/matplotlib/mpl-data/fonts/ttf\n",
      "  \u001b[31m   \u001b[0m copying lib/matplotlib/backends/web_backend/jquery-ui-1.12.1/jquery-ui.theme.min.css -> build/lib.linux-x86_64-cpython-39/matplotlib/backends/web_backend/jquery-ui-1.12.1\n",
      "  \u001b[31m   \u001b[0m copying lib/matplotlib/mpl-data/fonts/afm/cmtt10.afm -> build/lib.linux-x86_64-cpython-39/matplotlib/mpl-data/fonts/afm\n",
      "  \u001b[31m   \u001b[0m copying lib/matplotlib/mpl-data/fonts/pdfcorefonts/Courier-BoldOblique.afm -> build/lib.linux-x86_64-cpython-39/matplotlib/mpl-data/fonts/pdfcorefonts\n",
      "  \u001b[31m   \u001b[0m copying lib/matplotlib/mpl-data/fonts/afm/pncbi8a.afm -> build/lib.linux-x86_64-cpython-39/matplotlib/mpl-data/fonts/afm\n",
      "  \u001b[31m   \u001b[0m copying lib/matplotlib/mpl-data/images/filesave_large.gif -> build/lib.linux-x86_64-cpython-39/matplotlib/mpl-data/images\n",
      "  \u001b[31m   \u001b[0m copying lib/matplotlib/mpl-data/images/home_large.gif -> build/lib.linux-x86_64-cpython-39/matplotlib/mpl-data/images\n",
      "  \u001b[31m   \u001b[0m copying lib/matplotlib/mpl-data/stylelib/seaborn-muted.mplstyle -> build/lib.linux-x86_64-cpython-39/matplotlib/mpl-data/stylelib\n",
      "  \u001b[31m   \u001b[0m copying lib/matplotlib/mpl-data/images/help.pdf -> build/lib.linux-x86_64-cpython-39/matplotlib/mpl-data/images\n",
      "  \u001b[31m   \u001b[0m copying lib/matplotlib/mpl-data/images/forward.pdf -> build/lib.linux-x86_64-cpython-39/matplotlib/mpl-data/images\n",
      "  \u001b[31m   \u001b[0m copying lib/matplotlib/backends/web_backend/jquery-ui-1.12.1/AUTHORS.txt -> build/lib.linux-x86_64-cpython-39/matplotlib/backends/web_backend/jquery-ui-1.12.1\n",
      "  \u001b[31m   \u001b[0m copying lib/matplotlib/mpl-data/fonts/afm/phvl8a.afm -> build/lib.linux-x86_64-cpython-39/matplotlib/mpl-data/fonts/afm\n",
      "  \u001b[31m   \u001b[0m copying lib/matplotlib/mpl-data/images/help.svg -> build/lib.linux-x86_64-cpython-39/matplotlib/mpl-data/images\n",
      "  \u001b[31m   \u001b[0m copying lib/matplotlib/mpl-data/images/hand.png -> build/lib.linux-x86_64-cpython-39/matplotlib/mpl-data/images\n",
      "  \u001b[31m   \u001b[0m copying lib/matplotlib/mpl-data/matplotlibrc -> build/lib.linux-x86_64-cpython-39/matplotlib/mpl-data\n",
      "  \u001b[31m   \u001b[0m copying lib/matplotlib/mpl-data/fonts/afm/putri8a.afm -> build/lib.linux-x86_64-cpython-39/matplotlib/mpl-data/fonts/afm\n",
      "  \u001b[31m   \u001b[0m copying lib/matplotlib/mpl-data/images/back.pdf -> build/lib.linux-x86_64-cpython-39/matplotlib/mpl-data/images\n",
      "  \u001b[31m   \u001b[0m copying lib/matplotlib/mpl-data/fonts/ttf/DejaVuSansMono-Oblique.ttf -> build/lib.linux-x86_64-cpython-39/matplotlib/mpl-data/fonts/ttf\n",
      "  \u001b[31m   \u001b[0m copying lib/matplotlib/mpl-data/fonts/afm/pcrbo8a.afm -> build/lib.linux-x86_64-cpython-39/matplotlib/mpl-data/fonts/afm\n",
      "  \u001b[31m   \u001b[0m copying lib/matplotlib/mpl-data/images/move_large.gif -> build/lib.linux-x86_64-cpython-39/matplotlib/mpl-data/images\n",
      "  \u001b[31m   \u001b[0m copying lib/matplotlib/mpl-data/sample_data/topobathy.npz -> build/lib.linux-x86_64-cpython-39/matplotlib/mpl-data/sample_data\n",
      "  \u001b[31m   \u001b[0m copying lib/matplotlib/mpl-data/sample_data/embedding_in_wx3.xrc -> build/lib.linux-x86_64-cpython-39/matplotlib/mpl-data/sample_data\n",
      "  \u001b[31m   \u001b[0m copying lib/matplotlib/mpl-data/fonts/afm/ptmri8a.afm -> build/lib.linux-x86_64-cpython-39/matplotlib/mpl-data/fonts/afm\n",
      "  \u001b[31m   \u001b[0m copying lib/matplotlib/mpl-data/stylelib/fivethirtyeight.mplstyle -> build/lib.linux-x86_64-cpython-39/matplotlib/mpl-data/stylelib\n",
      "  \u001b[31m   \u001b[0m copying lib/matplotlib/mpl-data/images/home_large.png -> build/lib.linux-x86_64-cpython-39/matplotlib/mpl-data/images\n",
      "  \u001b[31m   \u001b[0m copying lib/matplotlib/mpl-data/fonts/ttf/STIXSizOneSymReg.ttf -> build/lib.linux-x86_64-cpython-39/matplotlib/mpl-data/fonts/ttf\n",
      "  \u001b[31m   \u001b[0m copying lib/matplotlib/mpl-data/fonts/afm/putbi8a.afm -> build/lib.linux-x86_64-cpython-39/matplotlib/mpl-data/fonts/afm\n",
      "  \u001b[31m   \u001b[0m copying lib/matplotlib/mpl-data/images/forward.gif -> build/lib.linux-x86_64-cpython-39/matplotlib/mpl-data/images\n",
      "  \u001b[31m   \u001b[0m copying lib/matplotlib/mpl-data/fonts/ttf/STIXNonUniBolIta.ttf -> build/lib.linux-x86_64-cpython-39/matplotlib/mpl-data/fonts/ttf\n",
      "  \u001b[31m   \u001b[0m copying lib/matplotlib/mpl-data/fonts/ttf/cmr10.ttf -> build/lib.linux-x86_64-cpython-39/matplotlib/mpl-data/fonts/ttf\n",
      "  \u001b[31m   \u001b[0m copying lib/matplotlib/mpl-data/sample_data/grace_hopper.jpg -> build/lib.linux-x86_64-cpython-39/matplotlib/mpl-data/sample_data\n",
      "  \u001b[31m   \u001b[0m copying lib/matplotlib/mpl-data/images/forward_large.png -> build/lib.linux-x86_64-cpython-39/matplotlib/mpl-data/images\n",
      "  \u001b[31m   \u001b[0m copying lib/matplotlib/mpl-data/fonts/ttf/STIXGeneralItalic.ttf -> build/lib.linux-x86_64-cpython-39/matplotlib/mpl-data/fonts/ttf\n",
      "  \u001b[31m   \u001b[0m copying lib/matplotlib/mpl-data/images/qt4_editor_options.png -> build/lib.linux-x86_64-cpython-39/matplotlib/mpl-data/images\n",
      "  \u001b[31m   \u001b[0m creating build/lib.linux-x86_64-cpython-39/matplotlib/mpl-data/sample_data/axes_grid\n",
      "  \u001b[31m   \u001b[0m copying lib/matplotlib/mpl-data/sample_data/axes_grid/bivariate_normal.npy -> build/lib.linux-x86_64-cpython-39/matplotlib/mpl-data/sample_data/axes_grid\n",
      "  \u001b[31m   \u001b[0m copying lib/matplotlib/mpl-data/images/hand.svg -> build/lib.linux-x86_64-cpython-39/matplotlib/mpl-data/images\n",
      "  \u001b[31m   \u001b[0m copying lib/matplotlib/mpl-data/stylelib/seaborn-poster.mplstyle -> build/lib.linux-x86_64-cpython-39/matplotlib/mpl-data/stylelib\n",
      "  \u001b[31m   \u001b[0m copying lib/matplotlib/mpl-data/sample_data/None_vs_nearest-pdf.png -> build/lib.linux-x86_64-cpython-39/matplotlib/mpl-data/sample_data\n",
      "  \u001b[31m   \u001b[0m copying lib/matplotlib/mpl-data/images/qt4_editor_options_large.png -> build/lib.linux-x86_64-cpython-39/matplotlib/mpl-data/images\n",
      "  \u001b[31m   \u001b[0m copying lib/matplotlib/mpl-data/stylelib/seaborn.mplstyle -> build/lib.linux-x86_64-cpython-39/matplotlib/mpl-data/stylelib\n",
      "  \u001b[31m   \u001b[0m copying lib/matplotlib/mpl-data/images/zoom_to_rect.gif -> build/lib.linux-x86_64-cpython-39/matplotlib/mpl-data/images\n",
      "  \u001b[31m   \u001b[0m copying lib/matplotlib/mpl-data/images/back_large.png -> build/lib.linux-x86_64-cpython-39/matplotlib/mpl-data/images\n",
      "  \u001b[31m   \u001b[0m copying lib/matplotlib/backends/web_backend/jquery-ui-1.12.1/images/ui-icons_cc0000_256x240.png -> build/lib.linux-x86_64-cpython-39/matplotlib/backends/web_backend/jquery-ui-1.12.1/images\n",
      "  \u001b[31m   \u001b[0m copying lib/matplotlib/mpl-data/fonts/ttf/STIXSizOneSymBol.ttf -> build/lib.linux-x86_64-cpython-39/matplotlib/mpl-data/fonts/ttf\n",
      "  \u001b[31m   \u001b[0m copying lib/matplotlib/mpl-data/images/hand.pdf -> build/lib.linux-x86_64-cpython-39/matplotlib/mpl-data/images\n",
      "  \u001b[31m   \u001b[0m copying lib/matplotlib/mpl-data/images/filesave.gif -> build/lib.linux-x86_64-cpython-39/matplotlib/mpl-data/images\n",
      "  \u001b[31m   \u001b[0m copying lib/matplotlib/backends/web_backend/jquery-ui-1.12.1/LICENSE.txt -> build/lib.linux-x86_64-cpython-39/matplotlib/backends/web_backend/jquery-ui-1.12.1\n",
      "  \u001b[31m   \u001b[0m copying lib/matplotlib/mpl-data/fonts/ttf/DejaVuSans-Oblique.ttf -> build/lib.linux-x86_64-cpython-39/matplotlib/mpl-data/fonts/ttf\n",
      "  \u001b[31m   \u001b[0m UPDATING build/lib.linux-x86_64-cpython-39/matplotlib/_version.py\n",
      "  \u001b[31m   \u001b[0m set build/lib.linux-x86_64-cpython-39/matplotlib/_version.py to '3.2.2'\n",
      "  \u001b[31m   \u001b[0m running build_ext\n",
      "  \u001b[31m   \u001b[0m IMPORTANT WARNING:\n",
      "  \u001b[31m   \u001b[0m     pkg-config is not installed.\n",
      "  \u001b[31m   \u001b[0m     Matplotlib may not be able to find some of its dependencies.\n",
      "  \u001b[31m   \u001b[0m building 'matplotlib.ft2font' extension\n",
      "  \u001b[31m   \u001b[0m creating build/temp.linux-x86_64-cpython-39\n",
      "  \u001b[31m   \u001b[0m creating build/temp.linux-x86_64-cpython-39/src\n",
      "  \u001b[31m   \u001b[0m gcc -pthread -B /home/studio-lab-user/.conda/envs/default/compiler_compat -Wno-unused-result -Wsign-compare -DNDEBUG -fwrapv -O2 -Wall -fPIC -O2 -isystem /home/studio-lab-user/.conda/envs/default/include -fPIC -O2 -isystem /home/studio-lab-user/.conda/envs/default/include -fPIC -DFREETYPE_BUILD_TYPE=system -DPY_ARRAY_UNIQUE_SYMBOL=MPL_matplotlib_ft2font_ARRAY_API -DNPY_NO_DEPRECATED_API=NPY_1_7_API_VERSION -D__STDC_FORMAT_MACROS=1 -Iextern/agg24-svn/include -I/home/studio-lab-user/.conda/envs/default/lib/python3.9/site-packages/numpy/core/include -I/home/studio-lab-user/.conda/envs/default/include/python3.9 -c src/checkdep_freetype2.c -o build/temp.linux-x86_64-cpython-39/src/checkdep_freetype2.o\n",
      "  \u001b[31m   \u001b[0m src/checkdep_freetype2.c:3:6: error: #error \"FreeType version 2.3 or higher is required. You may set the MPLLOCALFREETYPE environment variable to 1 to let Matplotlib download it.\"\n",
      "  \u001b[31m   \u001b[0m     3 |     #error \"FreeType version 2.3 or higher is required. \\\n",
      "  \u001b[31m   \u001b[0m       |      ^~~~~\n",
      "  \u001b[31m   \u001b[0m src/checkdep_freetype2.c:10:10: error: #include expects \"FILENAME\" or <FILENAME>\n",
      "  \u001b[31m   \u001b[0m    10 | #include FT_FREETYPE_H\n",
      "  \u001b[31m   \u001b[0m       |          ^~~~~~~~~~~~~\n",
      "  \u001b[31m   \u001b[0m src/checkdep_freetype2.c:15:9: note: #pragma message: Compiling with FreeType version FREETYPE_MAJOR.FREETYPE_MINOR.FREETYPE_PATCH.\n",
      "  \u001b[31m   \u001b[0m    15 | #pragma message(\"Compiling with FreeType version \" \\\n",
      "  \u001b[31m   \u001b[0m       |         ^~~~~~~\n",
      "  \u001b[31m   \u001b[0m src/checkdep_freetype2.c:18:4: error: #error \"FreeType version 2.3 or higher is required. You may set the MPLLOCALFREETYPE environment variable to 1 to let Matplotlib download it.\"\n",
      "  \u001b[31m   \u001b[0m    18 |   #error \"FreeType version 2.3 or higher is required. \\\n",
      "  \u001b[31m   \u001b[0m       |    ^~~~~\n",
      "  \u001b[31m   \u001b[0m error: command '/usr/bin/gcc' failed with exit code 1\n",
      "  \u001b[31m   \u001b[0m \u001b[31m[end of output]\u001b[0m\n",
      "  \n",
      "  \u001b[1;35mnote\u001b[0m: This error originates from a subprocess, and is likely not a problem with pip.\n",
      "\u001b[?25h\u001b[33m  WARNING: No metadata found in ./.conda/envs/default/lib/python3.9/site-packages\u001b[0m\u001b[33m\n",
      "\u001b[0m  Rolling back uninstall of matplotlib\n",
      "  Moving to /home/studio-lab-user/.conda/envs/default/lib/python3.9/site-packages/__pycache__/pylab.cpython-39.pyc\n",
      "   from /tmp/pip-uninstall-xa9hsirh/pylab.cpython-39.pyc\n",
      "  Moving to /home/studio-lab-user/.conda/envs/default/lib/python3.9/site-packages/matplotlib-3.5.1-py3.9-nspkg.pth\n",
      "   from /tmp/pip-uninstall-07dkofv7/matplotlib-3.5.1-py3.9-nspkg.pth\n",
      "  Moving to /home/studio-lab-user/.conda/envs/default/lib/python3.9/site-packages/matplotlib-3.5.1.dist-info/\n",
      "   from /home/studio-lab-user/.conda/envs/default/lib/python3.9/site-packages/~atplotlib-3.5.1.dist-info\n",
      "  Moving to /home/studio-lab-user/.conda/envs/default/lib/python3.9/site-packages/matplotlib/\n",
      "   from /home/studio-lab-user/.conda/envs/default/lib/python3.9/site-packages/~atplotlib\n",
      "  Moving to /home/studio-lab-user/.conda/envs/default/lib/python3.9/site-packages/mpl_toolkits/axes_grid/\n",
      "   from /home/studio-lab-user/.conda/envs/default/lib/python3.9/site-packages/mpl_toolkits/~xes_grid\n",
      "  Moving to /home/studio-lab-user/.conda/envs/default/lib/python3.9/site-packages/mpl_toolkits/axes_grid1/\n",
      "   from /home/studio-lab-user/.conda/envs/default/lib/python3.9/site-packages/mpl_toolkits/~xes_grid1\n",
      "  Moving to /home/studio-lab-user/.conda/envs/default/lib/python3.9/site-packages/mpl_toolkits/axisartist/\n",
      "   from /home/studio-lab-user/.conda/envs/default/lib/python3.9/site-packages/mpl_toolkits/~xisartist\n",
      "  Moving to /home/studio-lab-user/.conda/envs/default/lib/python3.9/site-packages/mpl_toolkits/mplot3d/\n",
      "   from /home/studio-lab-user/.conda/envs/default/lib/python3.9/site-packages/mpl_toolkits/~plot3d\n",
      "  Moving to /home/studio-lab-user/.conda/envs/default/lib/python3.9/site-packages/mpl_toolkits/tests/\n",
      "   from /home/studio-lab-user/.conda/envs/default/lib/python3.9/site-packages/mpl_toolkits/~ests\n",
      "  Moving to /home/studio-lab-user/.conda/envs/default/lib/python3.9/site-packages/pylab.py\n",
      "   from /tmp/pip-uninstall-07dkofv7/pylab.py\n",
      "\u001b[1;31merror\u001b[0m: \u001b[1mlegacy-install-failure\u001b[0m\n",
      "\n",
      "\u001b[31m×\u001b[0m Encountered error while trying to install package.\n",
      "\u001b[31m╰─>\u001b[0m matplotlib\n",
      "\n",
      "\u001b[1;35mnote\u001b[0m: This is an issue with the package mentioned above, not pip.\n",
      "\u001b[1;36mhint\u001b[0m: See above for output from the failure.\n",
      "\u001b[33mWARNING: You are using pip version 22.0.4; however, version 22.1.2 is available.\n",
      "You should consider upgrading via the '/home/studio-lab-user/.conda/envs/default/bin/python3.9 -m pip install --upgrade pip' command.\u001b[0m\u001b[33m\n",
      "\u001b[0m"
     ]
    }
   ],
   "source": [
    "!pip install -q tfds-nightly\n",
    "\n",
    "# Pin matplotlib version to 3.2.2 since in the latest version\n",
    "# transformer.ipynb fails with the following error:\n",
    "# https://stackoverflow.com/questions/62953704/valueerror-the-number-of-fixedlocator-locations-5-usually-from-a-call-to-set\n",
    "!pip install matplotlib==3.2.2"
   ]
  },
  {
   "cell_type": "code",
   "execution_count": 4,
   "metadata": {},
   "outputs": [
    {
     "name": "stdout",
     "output_type": "stream",
     "text": [
      "Collecting tensorflow\n",
      "  Downloading tensorflow-2.9.1-cp39-cp39-manylinux_2_17_x86_64.manylinux2014_x86_64.whl (511.7 MB)\n",
      "\u001b[2K     \u001b[90m━━━━━━━━━━━━━━━━━━━━━━━━━━━━━━━━━━━━━━━\u001b[0m \u001b[32m511.7/511.7 MB\u001b[0m \u001b[31m2.7 MB/s\u001b[0m eta \u001b[36m0:00:00\u001b[0m00:01\u001b[0m00:01\u001b[0m\n",
      "\u001b[?25hCollecting libclang>=13.0.0\n",
      "  Downloading libclang-14.0.1-py2.py3-none-manylinux1_x86_64.whl (14.5 MB)\n",
      "\u001b[2K     \u001b[90m━━━━━━━━━━━━━━━━━━━━━━━━━━━━━━━━━━━━━━━━\u001b[0m \u001b[32m14.5/14.5 MB\u001b[0m \u001b[31m94.3 MB/s\u001b[0m eta \u001b[36m0:00:00\u001b[0m00:01\u001b[0m00:01\u001b[0m\n",
      "\u001b[?25hRequirement already satisfied: setuptools in ./.conda/envs/default/lib/python3.9/site-packages (from tensorflow) (62.1.0)\n",
      "Requirement already satisfied: absl-py>=1.0.0 in ./.conda/envs/default/lib/python3.9/site-packages (from tensorflow) (1.1.0)\n",
      "Collecting h5py>=2.9.0\n",
      "  Downloading h5py-3.7.0-cp39-cp39-manylinux_2_12_x86_64.manylinux2010_x86_64.whl (4.5 MB)\n",
      "\u001b[2K     \u001b[90m━━━━━━━━━━━━━━━━━━━━━━━━━━━━━━━━━━━━━━━━\u001b[0m \u001b[32m4.5/4.5 MB\u001b[0m \u001b[31m106.5 MB/s\u001b[0m eta \u001b[36m0:00:00\u001b[0m00:01\u001b[0m\n",
      "\u001b[?25hRequirement already satisfied: typing-extensions>=3.6.6 in ./.conda/envs/default/lib/python3.9/site-packages (from tensorflow) (4.1.1)\n",
      "Collecting keras<2.10.0,>=2.9.0rc0\n",
      "  Downloading keras-2.9.0-py2.py3-none-any.whl (1.6 MB)\n",
      "\u001b[2K     \u001b[90m━━━━━━━━━━━━━━━━━━━━━━━━━━━━━━━━━━━━━━━━\u001b[0m \u001b[32m1.6/1.6 MB\u001b[0m \u001b[31m112.3 MB/s\u001b[0m eta \u001b[36m0:00:00\u001b[0m\n",
      "\u001b[?25hCollecting protobuf<3.20,>=3.9.2\n",
      "  Downloading protobuf-3.19.4-cp39-cp39-manylinux_2_17_x86_64.manylinux2014_x86_64.whl (1.1 MB)\n",
      "\u001b[2K     \u001b[90m━━━━━━━━━━━━━━━━━━━━━━━━━━━━━━━━━━━━━━━━\u001b[0m \u001b[32m1.1/1.1 MB\u001b[0m \u001b[31m101.3 MB/s\u001b[0m eta \u001b[36m0:00:00\u001b[0m\n",
      "\u001b[?25hCollecting tensorflow-estimator<2.10.0,>=2.9.0rc0\n",
      "  Downloading tensorflow_estimator-2.9.0-py2.py3-none-any.whl (438 kB)\n",
      "\u001b[2K     \u001b[90m━━━━━━━━━━━━━━━━━━━━━━━━━━━━━━━━━━━━━━\u001b[0m \u001b[32m438.7/438.7 KB\u001b[0m \u001b[31m72.8 MB/s\u001b[0m eta \u001b[36m0:00:00\u001b[0m\n",
      "\u001b[?25hCollecting flatbuffers<2,>=1.12\n",
      "  Downloading flatbuffers-1.12-py2.py3-none-any.whl (15 kB)\n",
      "Requirement already satisfied: packaging in ./.conda/envs/default/lib/python3.9/site-packages (from tensorflow) (21.3)\n",
      "Collecting wrapt>=1.11.0\n",
      "  Downloading wrapt-1.14.1-cp39-cp39-manylinux_2_5_x86_64.manylinux1_x86_64.manylinux_2_17_x86_64.manylinux2014_x86_64.whl (77 kB)\n",
      "\u001b[2K     \u001b[90m━━━━━━━━━━━━━━━━━━━━━━━━━━━━━━━━━━━━━━━━\u001b[0m \u001b[32m77.8/77.8 KB\u001b[0m \u001b[31m21.8 MB/s\u001b[0m eta \u001b[36m0:00:00\u001b[0m\n",
      "\u001b[?25hCollecting astunparse>=1.6.0\n",
      "  Downloading astunparse-1.6.3-py2.py3-none-any.whl (12 kB)\n",
      "Collecting google-pasta>=0.1.1\n",
      "  Downloading google_pasta-0.2.0-py3-none-any.whl (57 kB)\n",
      "\u001b[2K     \u001b[90m━━━━━━━━━━━━━━━━━━━━━━━━━━━━━━━━━━━━━━━━\u001b[0m \u001b[32m57.5/57.5 KB\u001b[0m \u001b[31m19.2 MB/s\u001b[0m eta \u001b[36m0:00:00\u001b[0m\n",
      "\u001b[?25hCollecting tensorboard<2.10,>=2.9\n",
      "  Downloading tensorboard-2.9.1-py3-none-any.whl (5.8 MB)\n",
      "\u001b[2K     \u001b[90m━━━━━━━━━━━━━━━━━━━━━━━━━━━━━━━━━━━━━━━━\u001b[0m \u001b[32m5.8/5.8 MB\u001b[0m \u001b[31m24.3 MB/s\u001b[0m eta \u001b[36m0:00:00\u001b[0m00:01\u001b[0mm00:01\u001b[0m\n",
      "\u001b[?25hCollecting grpcio<2.0,>=1.24.3\n",
      "  Downloading grpcio-1.46.3-cp39-cp39-manylinux_2_17_x86_64.manylinux2014_x86_64.whl (4.4 MB)\n",
      "\u001b[2K     \u001b[90m━━━━━━━━━━━━━━━━━━━━━━━━━━━━━━━━━━━━━━━━\u001b[0m \u001b[32m4.4/4.4 MB\u001b[0m \u001b[31m85.8 MB/s\u001b[0m eta \u001b[36m0:00:00\u001b[0m:00:01\u001b[0m\n",
      "\u001b[?25hCollecting gast<=0.4.0,>=0.2.1\n",
      "  Downloading gast-0.4.0-py3-none-any.whl (9.8 kB)\n",
      "Requirement already satisfied: termcolor>=1.1.0 in ./.conda/envs/default/lib/python3.9/site-packages (from tensorflow) (1.1.0)\n",
      "Requirement already satisfied: six>=1.12.0 in ./.conda/envs/default/lib/python3.9/site-packages (from tensorflow) (1.16.0)\n",
      "Collecting opt-einsum>=2.3.2\n",
      "  Downloading opt_einsum-3.3.0-py3-none-any.whl (65 kB)\n",
      "\u001b[2K     \u001b[90m━━━━━━━━━━━━━━━━━━━━━━━━━━━━━━━━━━━━━━━━\u001b[0m \u001b[32m65.5/65.5 KB\u001b[0m \u001b[31m19.9 MB/s\u001b[0m eta \u001b[36m0:00:00\u001b[0m\n",
      "\u001b[?25hCollecting keras-preprocessing>=1.1.1\n",
      "  Downloading Keras_Preprocessing-1.1.2-py2.py3-none-any.whl (42 kB)\n",
      "\u001b[2K     \u001b[90m━━━━━━━━━━━━━━━━━━━━━━━━━━━━━━━━━━━━━━━━\u001b[0m \u001b[32m42.6/42.6 KB\u001b[0m \u001b[31m10.1 MB/s\u001b[0m eta \u001b[36m0:00:00\u001b[0m\n",
      "\u001b[?25hCollecting tensorflow-io-gcs-filesystem>=0.23.1\n",
      "  Downloading tensorflow_io_gcs_filesystem-0.26.0-cp39-cp39-manylinux_2_12_x86_64.manylinux2010_x86_64.whl (2.4 MB)\n",
      "\u001b[2K     \u001b[90m━━━━━━━━━━━━━━━━━━━━━━━━━━━━━━━━━━━━━━━━\u001b[0m \u001b[32m2.4/2.4 MB\u001b[0m \u001b[31m129.8 MB/s\u001b[0m eta \u001b[36m0:00:00\u001b[0m\n",
      "\u001b[?25hRequirement already satisfied: numpy>=1.20 in ./.conda/envs/default/lib/python3.9/site-packages (from tensorflow) (1.22.3)\n",
      "Requirement already satisfied: wheel<1.0,>=0.23.0 in ./.conda/envs/default/lib/python3.9/site-packages (from astunparse>=1.6.0->tensorflow) (0.37.1)\n",
      "Collecting tensorboard-data-server<0.7.0,>=0.6.0\n",
      "  Downloading tensorboard_data_server-0.6.1-py3-none-manylinux2010_x86_64.whl (4.9 MB)\n",
      "\u001b[2K     \u001b[90m━━━━━━━━━━━━━━━━━━━━━━━━━━━━━━━━━━━━━━━━\u001b[0m \u001b[32m4.9/4.9 MB\u001b[0m \u001b[31m75.6 MB/s\u001b[0m eta \u001b[36m0:00:00\u001b[0ma \u001b[36m0:00:01\u001b[0m\n",
      "\u001b[?25hCollecting markdown>=2.6.8\n",
      "  Downloading Markdown-3.3.7-py3-none-any.whl (97 kB)\n",
      "\u001b[2K     \u001b[90m━━━━━━━━━━━━━━━━━━━━━━━━━━━━━━━━━━━━━━━━\u001b[0m \u001b[32m97.8/97.8 KB\u001b[0m \u001b[31m27.8 MB/s\u001b[0m eta \u001b[36m0:00:00\u001b[0m\n",
      "\u001b[?25hCollecting google-auth<3,>=1.6.3\n",
      "  Downloading google_auth-2.7.0-py2.py3-none-any.whl (160 kB)\n",
      "\u001b[2K     \u001b[90m━━━━━━━━━━━━━━━━━━━━━━━━━━━━━━━━━━━━━━\u001b[0m \u001b[32m160.7/160.7 KB\u001b[0m \u001b[31m36.6 MB/s\u001b[0m eta \u001b[36m0:00:00\u001b[0m\n",
      "\u001b[?25hCollecting google-auth-oauthlib<0.5,>=0.4.1\n",
      "  Downloading google_auth_oauthlib-0.4.6-py2.py3-none-any.whl (18 kB)\n",
      "Collecting tensorboard-plugin-wit>=1.6.0\n",
      "  Downloading tensorboard_plugin_wit-1.8.1-py3-none-any.whl (781 kB)\n",
      "\u001b[2K     \u001b[90m━━━━━━━━━━━━━━━━━━━━━━━━━━━━━━━━━━━━━━\u001b[0m \u001b[32m781.3/781.3 KB\u001b[0m \u001b[31m84.3 MB/s\u001b[0m eta \u001b[36m0:00:00\u001b[0m\n",
      "\u001b[?25hRequirement already satisfied: requests<3,>=2.21.0 in ./.conda/envs/default/lib/python3.9/site-packages (from tensorboard<2.10,>=2.9->tensorflow) (2.27.1)\n",
      "Collecting werkzeug>=1.0.1\n",
      "  Downloading Werkzeug-2.1.2-py3-none-any.whl (224 kB)\n",
      "\u001b[2K     \u001b[90m━━━━━━━━━━━━━━━━━━━━━━━━━━━━━━━━━━━━━━\u001b[0m \u001b[32m224.9/224.9 KB\u001b[0m \u001b[31m52.8 MB/s\u001b[0m eta \u001b[36m0:00:00\u001b[0m\n",
      "\u001b[?25hRequirement already satisfied: pyparsing!=3.0.5,>=2.0.2 in ./.conda/envs/default/lib/python3.9/site-packages (from packaging->tensorflow) (3.0.7)\n",
      "Collecting cachetools<6.0,>=2.0.0\n",
      "  Downloading cachetools-5.2.0-py3-none-any.whl (9.3 kB)\n",
      "Collecting rsa<5,>=3.1.4\n",
      "  Downloading rsa-4.8-py3-none-any.whl (39 kB)\n",
      "Collecting pyasn1-modules>=0.2.1\n",
      "  Downloading pyasn1_modules-0.2.8-py2.py3-none-any.whl (155 kB)\n",
      "\u001b[2K     \u001b[90m━━━━━━━━━━━━━━━━━━━━━━━━━━━━━━━━━━━━━━\u001b[0m \u001b[32m155.3/155.3 KB\u001b[0m \u001b[31m44.1 MB/s\u001b[0m eta \u001b[36m0:00:00\u001b[0m\n",
      "\u001b[?25hCollecting requests-oauthlib>=0.7.0\n",
      "  Downloading requests_oauthlib-1.3.1-py2.py3-none-any.whl (23 kB)\n",
      "Requirement already satisfied: importlib-metadata>=4.4 in ./.conda/envs/default/lib/python3.9/site-packages (from markdown>=2.6.8->tensorboard<2.10,>=2.9->tensorflow) (4.11.1)\n",
      "Requirement already satisfied: idna<4,>=2.5 in ./.conda/envs/default/lib/python3.9/site-packages (from requests<3,>=2.21.0->tensorboard<2.10,>=2.9->tensorflow) (3.3)\n",
      "Requirement already satisfied: certifi>=2017.4.17 in ./.conda/envs/default/lib/python3.9/site-packages (from requests<3,>=2.21.0->tensorboard<2.10,>=2.9->tensorflow) (2021.10.8)\n",
      "Requirement already satisfied: charset-normalizer~=2.0.0 in ./.conda/envs/default/lib/python3.9/site-packages (from requests<3,>=2.21.0->tensorboard<2.10,>=2.9->tensorflow) (2.0.12)\n",
      "Requirement already satisfied: urllib3<1.27,>=1.21.1 in ./.conda/envs/default/lib/python3.9/site-packages (from requests<3,>=2.21.0->tensorboard<2.10,>=2.9->tensorflow) (1.26.9)\n",
      "Requirement already satisfied: zipp>=0.5 in ./.conda/envs/default/lib/python3.9/site-packages (from importlib-metadata>=4.4->markdown>=2.6.8->tensorboard<2.10,>=2.9->tensorflow) (3.7.0)\n",
      "Collecting pyasn1<0.5.0,>=0.4.6\n",
      "  Downloading pyasn1-0.4.8-py2.py3-none-any.whl (77 kB)\n",
      "\u001b[2K     \u001b[90m━━━━━━━━━━━━━━━━━━━━━━━━━━━━━━━━━━━━━━━━\u001b[0m \u001b[32m77.1/77.1 KB\u001b[0m \u001b[31m25.4 MB/s\u001b[0m eta \u001b[36m0:00:00\u001b[0m\n",
      "\u001b[?25hCollecting oauthlib>=3.0.0\n",
      "  Downloading oauthlib-3.2.0-py3-none-any.whl (151 kB)\n",
      "\u001b[2K     \u001b[90m━━━━━━━━━━━━━━━━━━━━━━━━━━━━━━━━━━━━━━\u001b[0m \u001b[32m151.5/151.5 KB\u001b[0m \u001b[31m42.1 MB/s\u001b[0m eta \u001b[36m0:00:00\u001b[0m\n",
      "\u001b[?25hInstalling collected packages: tensorboard-plugin-wit, pyasn1, libclang, keras, flatbuffers, wrapt, werkzeug, tensorflow-io-gcs-filesystem, tensorflow-estimator, tensorboard-data-server, rsa, pyasn1-modules, protobuf, opt-einsum, oauthlib, keras-preprocessing, h5py, grpcio, google-pasta, gast, cachetools, astunparse, requests-oauthlib, markdown, google-auth, google-auth-oauthlib, tensorboard, tensorflow\n",
      "  Attempting uninstall: protobuf\n",
      "    Found existing installation: protobuf 3.20.0\n",
      "    Uninstalling protobuf-3.20.0:\n",
      "      Successfully uninstalled protobuf-3.20.0\n",
      "Successfully installed astunparse-1.6.3 cachetools-5.2.0 flatbuffers-1.12 gast-0.4.0 google-auth-2.7.0 google-auth-oauthlib-0.4.6 google-pasta-0.2.0 grpcio-1.46.3 h5py-3.7.0 keras-2.9.0 keras-preprocessing-1.1.2 libclang-14.0.1 markdown-3.3.7 oauthlib-3.2.0 opt-einsum-3.3.0 protobuf-3.19.4 pyasn1-0.4.8 pyasn1-modules-0.2.8 requests-oauthlib-1.3.1 rsa-4.8 tensorboard-2.9.1 tensorboard-data-server-0.6.1 tensorboard-plugin-wit-1.8.1 tensorflow-2.9.1 tensorflow-estimator-2.9.0 tensorflow-io-gcs-filesystem-0.26.0 werkzeug-2.1.2 wrapt-1.14.1\n",
      "\u001b[33mWARNING: You are using pip version 22.0.4; however, version 22.1.2 is available.\n",
      "You should consider upgrading via the '/home/studio-lab-user/.conda/envs/default/bin/python3.9 -m pip install --upgrade pip' command.\u001b[0m\u001b[33m\n",
      "\u001b[0m"
     ]
    }
   ],
   "source": [
    "!pip install tensorflow"
   ]
  },
  {
   "cell_type": "code",
   "execution_count": 5,
   "metadata": {
    "id": "JjJJyJTZYebt"
   },
   "outputs": [
    {
     "name": "stderr",
     "output_type": "stream",
     "text": [
      "2022-06-09 02:46:39.260003: W tensorflow/stream_executor/platform/default/dso_loader.cc:64] Could not load dynamic library 'libcudart.so.11.0'; dlerror: libcudart.so.11.0: cannot open shared object file: No such file or directory\n",
      "2022-06-09 02:46:39.260037: I tensorflow/stream_executor/cuda/cudart_stub.cc:29] Ignore above cudart dlerror if you do not have a GPU set up on your machine.\n"
     ]
    }
   ],
   "source": [
    "import tensorflow_datasets as tfds\n",
    "import tensorflow as tf\n",
    "\n",
    "import time\n",
    "import numpy as np\n",
    "import matplotlib.pyplot as plt"
   ]
  },
  {
   "cell_type": "markdown",
   "metadata": {
    "id": "fd1NWMxjfsDd"
   },
   "source": [
    "## Setup input pipeline"
   ]
  },
  {
   "cell_type": "markdown",
   "metadata": {
    "id": "t4_Qt8W1hJE_"
   },
   "source": [
    "Use [TFDS](https://www.tensorflow.org/datasets) to load the [Portugese-English translation dataset](https://github.com/neulab/word-embeddings-for-nmt) from the [TED Talks Open Translation Project](https://www.ted.com/participate/translate).\n",
    "\n",
    "This dataset contains approximately 50000 training examples, 1100 validation examples, and 2000 test examples."
   ]
  },
  {
   "cell_type": "code",
   "execution_count": 6,
   "metadata": {
    "colab": {
     "base_uri": "https://localhost:8080/",
     "height": 416,
     "referenced_widgets": [
      "5058c52cdc8b40caa21d3081d77176ee",
      "f59280e830f245bd91927af8ba8f8bf0",
      "769cc07d86a94ff792a9a276196921c5",
      "239af0c81b7d47b09f91ea24669d1843",
      "32d7e2c9746d4352a6ca769aa830768e",
      "9f009645d00449278ed56b1cd2ff7608",
      "b687fae4a86b47358210cfaf6dcbe536",
      "9e681e21f2074d52b05844f52cc2649a",
      "db417f97c0de47aab8ac1cfd48fc9576",
      "54361fa3a6b84894bce54fa7b5d3562c",
      "9cccc9f5a1154e12b5de3959594a7a66",
      "5a7c300cb05143529b57243bcf71e603",
      "d0eae0f293bb4f1c8b821d6bed3a7f3b",
      "2e24dd755d764a6ca40319c63aeb70f2",
      "8ff5f50dd7f54296b933bf5443e53c29",
      "ca71e505e5e7459ea193066948bbfb3c",
      "7c3f451a781a43dfb87adfb40172ff2f",
      "375ded31dfff40ef9c51cf8802b96e3f",
      "81342d5637cd43c3955b4edc3508e5c8",
      "a9edc1ba96aa44c59fb63938408f24f0",
      "acd45b8c6df744588dce220d0489eab2",
      "966128f4e81145a996eab4e0c40b1b0c",
      "bd0390edf82e4d4a98935bbe6d5f43ff",
      "86860064fac34db3a79344497e4e5fac",
      "977c5b6d1a0048508fc6a28dc2d695ed",
      "623bca253e3f4f6e9caf7b778de0dc11",
      "4ffea20034fa4da5872339618401f78c",
      "0eef81524c1e4208a1b4f9187370f234",
      "d1cb115c99264253b9c12a926098ee62",
      "2cae7eb037a84fef80cb1ab5c8c7351c",
      "57c7a49ae47c4f7fa13fed316cf496a4",
      "cddc3a5f861641e08bed9ee941b28aa9",
      "caa274a1a49343bbb35c139b2fc8cb5e",
      "f93b56aa6db249d192de1dccfd916a30",
      "1aabc83615fc4e0ea7e156667e9afc25",
      "2119f344d51c4819a682e65f1bd591bf",
      "a811b2d73b4647958b4a239f6aef23e0",
      "6c8340cc16c3481482f44085e28652f5",
      "7bc7362d91834b2fbdd2a949fe06b89e",
      "735775ca7551495caeccc87048de3f32",
      "bef4db3a3023455fbb7da6dce721bbe7",
      "226a324440854a2cb0d853ad463110f4",
      "8ba15cf37a0749bf84b4aec781a66d08",
      "1c7658fff0e04310a8404190e3dae445",
      "d48aae7dbc2f4b398ac3638328f40920",
      "babee850fced4c0e940b9c440c99a84b",
      "28888f4390614adb90def588d14b9c4c",
      "996391e003e7494e9dd5ced13a11c3a7",
      "402bf361ef5b4bf19d8bd9ab1a543474",
      "558cd404accf431e8fb8280d7044ff4a",
      "5d0ad421fd674c889b2609aad6cbef85",
      "b0a7e6dd7d864238be71188d0dca7b6e",
      "b0263794eb704182829634566ab2ae4c",
      "b6a8ba49b1eb4ed7b224a197c5b26d4c",
      "011c835949444bd1ab2b476418935e14",
      "51aa8603c75a40cb8c5e73016415fe9a",
      "a86dbe7b8d8d42409a07972bfdc3776d",
      "6f89a629ca7e4657af46c65d79e279e1",
      "80895e03088f48769b4124639ee54616",
      "ecf9466760144f5899f937084da8d570",
      "bf4ec8efbe3145c9906bdac5c3dd41fc",
      "3f69aee503094859a747273e09ad9c6b",
      "b549f49a00af46978dd90e1000191591",
      "8c2aae9b16ed4136aea3209ea4eeba7f",
      "00d965907ea54f548f2cbf7b6d87aafb",
      "46bba18ec1bb4190b048b42018a99b5d",
      "787336543eef407c872c5d773c606d4a",
      "8e4e9f9c4ee74e18b78419f401d93296",
      "6ad704b0cba14c6c9b375460caefad9a",
      "e3db549f28f841c2ba3d0063f6026040",
      "9382c79573ae4ef59be7630608927ea2",
      "f4cf0dbe60444937a4f185ca4dbd1ffd"
     ]
    },
    "id": "8q9t4FmN96eN",
    "outputId": "17887b4b-a09a-487b-e1b3-5f6a59e68619"
   },
   "outputs": [
    {
     "name": "stderr",
     "output_type": "stream",
     "text": [
      "2022-06-09 02:47:10.408366: W tensorflow/core/platform/cloud/google_auth_provider.cc:184] All attempts to get a Google authentication bearer token failed, returning an empty token. Retrieving token from files failed with \"NOT_FOUND: Could not locate the credentials file.\". Retrieving token from GCE failed with \"FAILED_PRECONDITION: Error executing an HTTP request: libcurl code 6 meaning 'Couldn't resolve host name', error details: Could not resolve host: metadata\".\n"
     ]
    },
    {
     "name": "stdout",
     "output_type": "stream",
     "text": [
      "\u001b[1mDownloading and preparing dataset 124.94 MiB (download: 124.94 MiB, generated: Unknown size, total: 124.94 MiB) to ~/tensorflow_datasets/ted_hrlr_translate/pt_to_en/1.0.0...\u001b[0m\n"
     ]
    },
    {
     "data": {
      "application/vnd.jupyter.widget-view+json": {
       "model_id": "60596a1d9cdd49789f873d938f993c59",
       "version_major": 2,
       "version_minor": 0
      },
      "text/plain": [
       "Dl Completed...: 0 url [00:00, ? url/s]"
      ]
     },
     "metadata": {},
     "output_type": "display_data"
    },
    {
     "data": {
      "application/vnd.jupyter.widget-view+json": {
       "model_id": "192e47b4568c4bd383cb6e6263df8b60",
       "version_major": 2,
       "version_minor": 0
      },
      "text/plain": [
       "Dl Size...: 0 MiB [00:00, ? MiB/s]"
      ]
     },
     "metadata": {},
     "output_type": "display_data"
    },
    {
     "data": {
      "application/vnd.jupyter.widget-view+json": {
       "model_id": "4c5005f7e27d4c7ca3b68bee52496ae9",
       "version_major": 2,
       "version_minor": 0
      },
      "text/plain": [
       "Extraction completed...: 0 file [00:00, ? file/s]"
      ]
     },
     "metadata": {},
     "output_type": "display_data"
    },
    {
     "data": {
      "application/vnd.jupyter.widget-view+json": {
       "model_id": "",
       "version_major": 2,
       "version_minor": 0
      },
      "text/plain": [
       "Generating splits...:   0%|          | 0/3 [00:00<?, ? splits/s]"
      ]
     },
     "metadata": {},
     "output_type": "display_data"
    },
    {
     "data": {
      "application/vnd.jupyter.widget-view+json": {
       "model_id": "",
       "version_major": 2,
       "version_minor": 0
      },
      "text/plain": [
       "Generating train examples...:   0%|          | 0/51785 [00:00<?, ? examples/s]"
      ]
     },
     "metadata": {},
     "output_type": "display_data"
    },
    {
     "data": {
      "application/vnd.jupyter.widget-view+json": {
       "model_id": "",
       "version_major": 2,
       "version_minor": 0
      },
      "text/plain": [
       "Shuffling ~/tensorflow_datasets/ted_hrlr_translate/pt_to_en/1.0.0.incompleteJKNA53/ted_hrlr_translate-train.tf…"
      ]
     },
     "metadata": {},
     "output_type": "display_data"
    },
    {
     "data": {
      "application/vnd.jupyter.widget-view+json": {
       "model_id": "",
       "version_major": 2,
       "version_minor": 0
      },
      "text/plain": [
       "Generating validation examples...:   0%|          | 0/1193 [00:00<?, ? examples/s]"
      ]
     },
     "metadata": {},
     "output_type": "display_data"
    },
    {
     "data": {
      "application/vnd.jupyter.widget-view+json": {
       "model_id": "",
       "version_major": 2,
       "version_minor": 0
      },
      "text/plain": [
       "Shuffling ~/tensorflow_datasets/ted_hrlr_translate/pt_to_en/1.0.0.incompleteJKNA53/ted_hrlr_translate-validati…"
      ]
     },
     "metadata": {},
     "output_type": "display_data"
    },
    {
     "data": {
      "application/vnd.jupyter.widget-view+json": {
       "model_id": "",
       "version_major": 2,
       "version_minor": 0
      },
      "text/plain": [
       "Generating test examples...:   0%|          | 0/1803 [00:00<?, ? examples/s]"
      ]
     },
     "metadata": {},
     "output_type": "display_data"
    },
    {
     "data": {
      "application/vnd.jupyter.widget-view+json": {
       "model_id": "",
       "version_major": 2,
       "version_minor": 0
      },
      "text/plain": [
       "Shuffling ~/tensorflow_datasets/ted_hrlr_translate/pt_to_en/1.0.0.incompleteJKNA53/ted_hrlr_translate-test.tfr…"
      ]
     },
     "metadata": {},
     "output_type": "display_data"
    },
    {
     "name": "stdout",
     "output_type": "stream",
     "text": [
      "\u001b[1mDataset ted_hrlr_translate downloaded and prepared to ~/tensorflow_datasets/ted_hrlr_translate/pt_to_en/1.0.0. Subsequent calls will reuse this data.\u001b[0m\n"
     ]
    },
    {
     "name": "stderr",
     "output_type": "stream",
     "text": [
      "2022-06-09 02:47:21.518959: W tensorflow/stream_executor/platform/default/dso_loader.cc:64] Could not load dynamic library 'libcuda.so.1'; dlerror: libcuda.so.1: cannot open shared object file: No such file or directory\n",
      "2022-06-09 02:47:21.519000: W tensorflow/stream_executor/cuda/cuda_driver.cc:269] failed call to cuInit: UNKNOWN ERROR (303)\n",
      "2022-06-09 02:47:21.519029: I tensorflow/stream_executor/cuda/cuda_diagnostics.cc:156] kernel driver does not appear to be running on this host (default): /proc/driver/nvidia/version does not exist\n",
      "2022-06-09 02:47:21.519364: I tensorflow/core/platform/cpu_feature_guard.cc:193] This TensorFlow binary is optimized with oneAPI Deep Neural Network Library (oneDNN) to use the following CPU instructions in performance-critical operations:  AVX2 AVX512F FMA\n",
      "To enable them in other operations, rebuild TensorFlow with the appropriate compiler flags.\n"
     ]
    }
   ],
   "source": [
    "examples, metadata = tfds.load('ted_hrlr_translate/pt_to_en', with_info=True,\n",
    "                               as_supervised=True)\n",
    "train_examples, val_examples = examples['train'], examples['validation']"
   ]
  },
  {
   "cell_type": "markdown",
   "metadata": {
    "id": "RCEKotqosGfq"
   },
   "source": [
    "Create a custom subwords tokenizer from the training dataset. "
   ]
  },
  {
   "cell_type": "code",
   "execution_count": 7,
   "metadata": {
    "id": "KVBg5Q8tBk5z"
   },
   "outputs": [],
   "source": [
    "tokenizer_en = tfds.deprecated.text.SubwordTextEncoder.build_from_corpus(\n",
    "    (en.numpy() for pt, en in train_examples), target_vocab_size=2**13)\n",
    "\n",
    "tokenizer_pt = tfds.deprecated.text.SubwordTextEncoder.build_from_corpus(\n",
    "    (pt.numpy() for pt, en in train_examples), target_vocab_size=2**13)"
   ]
  },
  {
   "cell_type": "code",
   "execution_count": 8,
   "metadata": {
    "colab": {
     "base_uri": "https://localhost:8080/",
     "height": 51
    },
    "id": "4DYWukNFkGQN",
    "outputId": "403c9122-6965-4e1f-db3f-47e89871f583"
   },
   "outputs": [
    {
     "name": "stdout",
     "output_type": "stream",
     "text": [
      "Tokenized string is [7915, 1248, 7946, 7194, 13, 2799, 7877]\n",
      "The original string: Transformer is awesome.\n"
     ]
    }
   ],
   "source": [
    "sample_string = 'Transformer is awesome.'\n",
    "\n",
    "tokenized_string = tokenizer_en.encode(sample_string)\n",
    "print ('Tokenized string is {}'.format(tokenized_string))\n",
    "\n",
    "original_string = tokenizer_en.decode(tokenized_string)\n",
    "print ('The original string: {}'.format(original_string))\n",
    "\n",
    "assert original_string == sample_string"
   ]
  },
  {
   "cell_type": "markdown",
   "metadata": {
    "id": "o9KJWJjrsZ4Y"
   },
   "source": [
    "The tokenizer encodes the string by breaking it into subwords if the word is not in its dictionary."
   ]
  },
  {
   "cell_type": "code",
   "execution_count": 9,
   "metadata": {
    "colab": {
     "base_uri": "https://localhost:8080/",
     "height": 136
    },
    "id": "bf2ntBxjkqK6",
    "outputId": "18c5d209-33e0-4e86-e59b-da9526ff18f1"
   },
   "outputs": [
    {
     "name": "stdout",
     "output_type": "stream",
     "text": [
      "7915 ----> T\n",
      "1248 ----> ran\n",
      "7946 ----> s\n",
      "7194 ----> former \n",
      "13 ----> is \n",
      "2799 ----> awesome\n",
      "7877 ----> .\n"
     ]
    }
   ],
   "source": [
    "for ts in tokenized_string:\n",
    "  print ('{} ----> {}'.format(ts, tokenizer_en.decode([ts])))"
   ]
  },
  {
   "cell_type": "code",
   "execution_count": 10,
   "metadata": {
    "id": "bcRp7VcQ5m6g"
   },
   "outputs": [],
   "source": [
    "BUFFER_SIZE = 20000\n",
    "BATCH_SIZE = 64"
   ]
  },
  {
   "cell_type": "markdown",
   "metadata": {
    "id": "kGi4PoVakxdc"
   },
   "source": [
    "Add a start and end token to the input and target. "
   ]
  },
  {
   "cell_type": "code",
   "execution_count": 11,
   "metadata": {
    "id": "UZwnPr4R055s"
   },
   "outputs": [],
   "source": [
    "def encode(lang1, lang2):\n",
    "  lang1 = [tokenizer_pt.vocab_size] + tokenizer_pt.encode(\n",
    "      lang1.numpy()) + [tokenizer_pt.vocab_size+1]\n",
    "\n",
    "  lang2 = [tokenizer_en.vocab_size] + tokenizer_en.encode(\n",
    "      lang2.numpy()) + [tokenizer_en.vocab_size+1]\n",
    "  \n",
    "  return lang1, lang2"
   ]
  },
  {
   "cell_type": "markdown",
   "metadata": {
    "id": "Tx1sFbR-9fRs"
   },
   "source": [
    "You want to use `Dataset.map` to apply this function to each element of the dataset.  `Dataset.map` runs in graph mode.\n",
    "\n",
    "* Graph tensors do not have a value. \n",
    "* In graph mode you can only use TensorFlow Ops and functions. \n",
    "\n",
    "So you can't `.map` this function directly: You need to wrap it in a `tf.py_function`. The `tf.py_function` will pass regular tensors (with a value and a `.numpy()` method to access it), to the wrapped python function."
   ]
  },
  {
   "cell_type": "code",
   "execution_count": 12,
   "metadata": {
    "id": "Mah1cS-P70Iz"
   },
   "outputs": [],
   "source": [
    "def tf_encode(pt, en):\n",
    "  result_pt, result_en = tf.py_function(encode, [pt, en], [tf.int64, tf.int64])\n",
    "  result_pt.set_shape([None])\n",
    "  result_en.set_shape([None])\n",
    "\n",
    "  return result_pt, result_en"
   ]
  },
  {
   "cell_type": "markdown",
   "metadata": {
    "id": "6JrGp5Gek6Ql"
   },
   "source": [
    "Note: To keep this example small and relatively fast, drop examples with a length of over 40 tokens."
   ]
  },
  {
   "cell_type": "code",
   "execution_count": 13,
   "metadata": {
    "id": "2QEgbjntk6Yf"
   },
   "outputs": [],
   "source": [
    "MAX_LENGTH = 40"
   ]
  },
  {
   "cell_type": "code",
   "execution_count": 14,
   "metadata": {
    "id": "c081xPGv1CPI"
   },
   "outputs": [],
   "source": [
    "def filter_max_length(x, y, max_length=MAX_LENGTH):\n",
    "  return tf.logical_and(tf.size(x) <= max_length,\n",
    "                        tf.size(y) <= max_length)"
   ]
  },
  {
   "cell_type": "code",
   "execution_count": 15,
   "metadata": {
    "id": "9mk9AZdZ5bcS"
   },
   "outputs": [],
   "source": [
    "train_dataset = train_examples.map(tf_encode)\n",
    "train_dataset = train_dataset.filter(filter_max_length)\n",
    "# cache the dataset to memory to get a speedup while reading from it.\n",
    "train_dataset = train_dataset.cache()\n",
    "train_dataset = train_dataset.shuffle(BUFFER_SIZE).padded_batch(BATCH_SIZE)\n",
    "train_dataset = train_dataset.prefetch(tf.data.experimental.AUTOTUNE)\n",
    "\n",
    "\n",
    "val_dataset = val_examples.map(tf_encode)\n",
    "val_dataset = val_dataset.filter(filter_max_length).padded_batch(BATCH_SIZE)"
   ]
  },
  {
   "cell_type": "code",
   "execution_count": 16,
   "metadata": {
    "colab": {
     "base_uri": "https://localhost:8080/",
     "height": 289
    },
    "id": "_fXvfYVfQr2n",
    "outputId": "2677ecde-5e16-4255-82fd-1f11d7255bae"
   },
   "outputs": [
    {
     "name": "stderr",
     "output_type": "stream",
     "text": [
      "2022-06-09 02:51:43.727141: W tensorflow/core/kernels/data/cache_dataset_ops.cc:856] The calling iterator did not fully read the dataset being cached. In order to avoid unexpected truncation of the dataset, the partially cached contents of the dataset  will be discarded. This can happen if you have an input pipeline similar to `dataset.cache().take(k).repeat()`. You should use `dataset.take(k).cache().repeat()` instead.\n"
     ]
    },
    {
     "data": {
      "text/plain": [
       "(<tf.Tensor: shape=(64, 38), dtype=int64, numpy=\n",
       " array([[8214,  342, 3032, ...,    0,    0,    0],\n",
       "        [8214,   95,  198, ...,    0,    0,    0],\n",
       "        [8214, 4479, 7990, ...,    0,    0,    0],\n",
       "        ...,\n",
       "        [8214,  584,   12, ...,    0,    0,    0],\n",
       "        [8214,   59, 1548, ...,    0,    0,    0],\n",
       "        [8214,  118,   34, ...,    0,    0,    0]])>,\n",
       " <tf.Tensor: shape=(64, 40), dtype=int64, numpy=\n",
       " array([[8087,   98,   25, ...,    0,    0,    0],\n",
       "        [8087,   12,   20, ...,    0,    0,    0],\n",
       "        [8087,   12, 5453, ...,    0,    0,    0],\n",
       "        ...,\n",
       "        [8087,   18, 2059, ...,    0,    0,    0],\n",
       "        [8087,   16, 1436, ...,    0,    0,    0],\n",
       "        [8087,   15,   57, ...,    0,    0,    0]])>)"
      ]
     },
     "execution_count": 16,
     "metadata": {},
     "output_type": "execute_result"
    }
   ],
   "source": [
    "pt_batch, en_batch = next(iter(val_dataset))\n",
    "pt_batch, en_batch"
   ]
  },
  {
   "cell_type": "markdown",
   "metadata": {
    "id": "nBQuibYA4n0n"
   },
   "source": [
    "## Positional encoding\n",
    "\n",
    "Since this model doesn't contain any recurrence or convolution, positional encoding is added to give the model some information about the relative position of the words in the sentence. \n",
    "\n",
    "The positional encoding vector is added to the embedding vector. Embeddings represent a token in a d-dimensional space where tokens with similar meaning will be closer to each other. But the embeddings do not encode the relative position of words in a sentence. So after adding the positional encoding, words will be closer to each other based on the *similarity of their meaning and their position in the sentence*, in the d-dimensional space.\n",
    "\n",
    "See the notebook on [positional encoding](https://github.com/tensorflow/examples/blob/master/community/en/position_encoding.ipynb) to learn more about it. The formula for calculating the positional encoding is as follows:\n",
    "\n",
    "$$\\Large{PE_{(pos, 2i)} = sin(pos / 10000^{2i / d_{model}})} $$\n",
    "$$\\Large{PE_{(pos, 2i+1)} = cos(pos / 10000^{2i / d_{model}})} $$"
   ]
  },
  {
   "cell_type": "code",
   "execution_count": 17,
   "metadata": {
    "id": "WhIOZjMNKujn"
   },
   "outputs": [],
   "source": [
    "def get_angles(pos, i, d_model):\n",
    "  angle_rates = 1 / np.power(10000, (2 * (i//2)) / np.float32(d_model))\n",
    "  return pos * angle_rates"
   ]
  },
  {
   "cell_type": "code",
   "execution_count": 18,
   "metadata": {
    "id": "1Rz82wEs5biZ"
   },
   "outputs": [],
   "source": [
    "def positional_encoding(position, d_model):\n",
    "  angle_rads = get_angles(np.arange(position)[:, np.newaxis],\n",
    "                          np.arange(d_model)[np.newaxis, :],\n",
    "                          d_model)\n",
    "  \n",
    "  # apply sin to even indices in the array; 2i\n",
    "  angle_rads[:, 0::2] = np.sin(angle_rads[:, 0::2])\n",
    "  \n",
    "  # apply cos to odd indices in the array; 2i+1\n",
    "  angle_rads[:, 1::2] = np.cos(angle_rads[:, 1::2])\n",
    "    \n",
    "  pos_encoding = angle_rads[np.newaxis, ...]\n",
    "    \n",
    "  return tf.cast(pos_encoding, dtype=tf.float32)"
   ]
  },
  {
   "cell_type": "code",
   "execution_count": 19,
   "metadata": {
    "colab": {
     "base_uri": "https://localhost:8080/",
     "height": 300
    },
    "id": "1kLCla68EloE",
    "outputId": "e26c2478-14bd-4d04-ceba-b5babfa06e50"
   },
   "outputs": [
    {
     "name": "stdout",
     "output_type": "stream",
     "text": [
      "(1, 50, 512)\n"
     ]
    },
    {
     "data": {
      "image/png": "[encoded data removed]",
      "text/plain": [
       "<Figure size 432x288 with 2 Axes>"
      ]
     },
     "metadata": {
      "needs_background": "light"
     },
     "output_type": "display_data"
    }
   ],
   "source": [
    "pos_encoding = positional_encoding(50, 512)\n",
    "print (pos_encoding.shape)\n",
    "\n",
    "plt.pcolormesh(pos_encoding[0], cmap='RdBu')\n",
    "plt.xlabel('Depth')\n",
    "plt.xlim((0, 512))\n",
    "plt.ylabel('Position')\n",
    "plt.colorbar()\n",
    "plt.show()"
   ]
  },
  {
   "cell_type": "markdown",
   "metadata": {
    "id": "a_b4ou4TYqUN"
   },
   "source": [
    "## Masking"
   ]
  },
  {
   "cell_type": "markdown",
   "metadata": {
    "id": "s42Uydjkv0hF"
   },
   "source": [
    "Mask all the pad tokens in the batch of sequence. It ensures that the model does not treat padding as the input. The mask indicates where pad value `0` is present: it outputs a `1` at those locations, and a `0` otherwise."
   ]
  },
  {
   "cell_type": "code",
   "execution_count": 20,
   "metadata": {
    "id": "U2i8-e1s8ti9"
   },
   "outputs": [],
   "source": [
    "def create_padding_mask(seq):\n",
    "  seq = tf.cast(tf.math.equal(seq, 0), tf.float32)\n",
    "  \n",
    "  # add extra dimensions to add the padding\n",
    "  # to the attention logits.\n",
    "  return seq[:, tf.newaxis, tf.newaxis, :]  # (batch_size, 1, 1, seq_len)"
   ]
  },
  {
   "cell_type": "code",
   "execution_count": 21,
   "metadata": {
    "colab": {
     "base_uri": "https://localhost:8080/",
     "height": 153
    },
    "id": "A7BYeBCNvi7n",
    "outputId": "ebe1090a-239c-4910-af75-cf7c51e3653e"
   },
   "outputs": [
    {
     "data": {
      "text/plain": [
       "<tf.Tensor: shape=(3, 1, 1, 5), dtype=float32, numpy=\n",
       "array([[[[0., 0., 1., 1., 0.]]],\n",
       "\n",
       "\n",
       "       [[[0., 0., 0., 1., 1.]]],\n",
       "\n",
       "\n",
       "       [[[1., 1., 1., 0., 0.]]]], dtype=float32)>"
      ]
     },
     "execution_count": 21,
     "metadata": {},
     "output_type": "execute_result"
    }
   ],
   "source": [
    "x = tf.constant([[7, 6, 0, 0, 1], [1, 2, 3, 0, 0], [0, 0, 0, 4, 5]])\n",
    "create_padding_mask(x)"
   ]
  },
  {
   "cell_type": "markdown",
   "metadata": {
    "id": "Z0hzukDBgVom"
   },
   "source": [
    "The look-ahead mask is used to mask the future tokens in a sequence. In other words, the mask indicates which entries should not be used.\n",
    "\n",
    "This means that to predict the third word, only the first and second word will be used. Similarly to predict the fourth word, only the first, second and the third word will be used and so on."
   ]
  },
  {
   "cell_type": "code",
   "execution_count": 22,
   "metadata": {
    "id": "dVxS8OPI9uI0"
   },
   "outputs": [],
   "source": [
    "def create_look_ahead_mask(size):\n",
    "  mask = 1 - tf.linalg.band_part(tf.ones((size, size)), -1, 0)\n",
    "  return mask  # (seq_len, seq_len)"
   ]
  },
  {
   "cell_type": "code",
   "execution_count": 23,
   "metadata": {
    "colab": {
     "base_uri": "https://localhost:8080/",
     "height": 85
    },
    "id": "yxKGuXxaBeeE",
    "outputId": "b65873a4-6826-478c-eb12-64c989760532"
   },
   "outputs": [
    {
     "data": {
      "text/plain": [
       "<tf.Tensor: shape=(3, 3), dtype=float32, numpy=\n",
       "array([[0., 1., 1.],\n",
       "       [0., 0., 1.],\n",
       "       [0., 0., 0.]], dtype=float32)>"
      ]
     },
     "execution_count": 23,
     "metadata": {},
     "output_type": "execute_result"
    }
   ],
   "source": [
    "x = tf.random.uniform((1, 3))\n",
    "temp = create_look_ahead_mask(x.shape[1])\n",
    "temp"
   ]
  },
  {
   "cell_type": "markdown",
   "metadata": {
    "id": "xluDl5cXYy4y"
   },
   "source": [
    "## Scaled dot product attention"
   ]
  },
  {
   "cell_type": "markdown",
   "metadata": {
    "id": "vsxEE_-Wa1gF"
   },
   "source": [
    "<img src=\"https://www.tensorflow.org/images/tutorials/transformer/scaled_attention.png\" width=\"500\" alt=\"scaled_dot_product_attention\">\n",
    "\n",
    "The attention function used by the transformer takes three inputs: Q (query), K (key), V (value). The equation used to calculate the attention weights is:\n",
    "\n",
    "$$\\Large{Attention(Q, K, V) = softmax_k(\\frac{QK^T}{\\sqrt{d_k}}) V} $$\n",
    "\n",
    "The dot-product attention is scaled by a factor of square root of the depth. This is done because for large values of depth, the dot product grows large in magnitude pushing the softmax function where it has small gradients resulting in a very hard softmax. \n",
    "\n",
    "For example, consider that `Q` and `K` have a mean of 0 and variance of 1. Their matrix multiplication will have a mean of 0 and variance of `dk`. Hence, *square root of `dk`* is used for scaling (and not any other number) because the matmul of `Q` and `K` should have a mean of 0 and variance of 1, and you get a gentler softmax.\n",
    "\n",
    "The mask is multiplied with -1e9 (close to negative infinity). This is done because the mask is summed with the scaled matrix multiplication of Q and K and is applied immediately before a softmax. The goal is to zero out these cells, and large negative inputs to softmax are near zero in the output."
   ]
  },
  {
   "cell_type": "code",
   "execution_count": 24,
   "metadata": {
    "id": "LazzUq3bJ5SH"
   },
   "outputs": [],
   "source": [
    "def scaled_dot_product_attention(q, k, v, mask):\n",
    "  \"\"\"Calculate the attention weights.\n",
    "  q, k, v must have matching leading dimensions.\n",
    "  k, v must have matching penultimate dimension, i.e.: seq_len_k = seq_len_v.\n",
    "  The mask has different shapes depending on its type(padding or look ahead) \n",
    "  but it must be broadcastable for addition.\n",
    "  \n",
    "  Args:\n",
    "    q: query shape == (..., seq_len_q, depth)\n",
    "    k: key shape == (..., seq_len_k, depth)\n",
    "    v: value shape == (..., seq_len_v, depth_v)\n",
    "    mask: Float tensor with shape broadcastable \n",
    "          to (..., seq_len_q, seq_len_k). Defaults to None.\n",
    "    \n",
    "  Returns:\n",
    "    output, attention_weights\n",
    "  \"\"\"\n",
    "\n",
    "  matmul_qk = tf.matmul(q, k, transpose_b=True)  # (..., seq_len_q, seq_len_k)\n",
    "  \n",
    "  # scale matmul_qk\n",
    "  dk = tf.cast(tf.shape(k)[-1], tf.float32)\n",
    "  scaled_attention_logits = matmul_qk / tf.math.sqrt(dk)\n",
    "\n",
    "  # add the mask to the scaled tensor.\n",
    "  if mask is not None:\n",
    "    scaled_attention_logits += (mask * -1e9)  \n",
    "\n",
    "  # softmax is normalized on the last axis (seq_len_k) so that the scores\n",
    "  # add up to 1.\n",
    "  attention_weights = tf.nn.softmax(scaled_attention_logits, axis=-1)  # (..., seq_len_q, seq_len_k)\n",
    "\n",
    "  output = tf.matmul(attention_weights, v)  # (..., seq_len_q, depth_v)\n",
    "\n",
    "  return output, attention_weights"
   ]
  },
  {
   "cell_type": "markdown",
   "metadata": {
    "id": "FiqETnhCkoXh"
   },
   "source": [
    "As the softmax normalization is done on K, its values decide the amount of importance given to Q.\n",
    "\n",
    "The output represents the multiplication of the attention weights and the V (value) vector. This ensures that the words you want to focus on are kept as-is and the irrelevant words are flushed out."
   ]
  },
  {
   "cell_type": "code",
   "execution_count": 25,
   "metadata": {
    "id": "n90YjClyInFy"
   },
   "outputs": [],
   "source": [
    "def print_out(q, k, v):\n",
    "  temp_out, temp_attn = scaled_dot_product_attention(\n",
    "      q, k, v, None)\n",
    "  print ('Attention weights are:')\n",
    "  print (temp_attn)\n",
    "  print ('Output is:')\n",
    "  print (temp_out)"
   ]
  },
  {
   "cell_type": "code",
   "execution_count": 26,
   "metadata": {
    "colab": {
     "base_uri": "https://localhost:8080/",
     "height": 85
    },
    "id": "yAzUAf2DPlNt",
    "outputId": "62c871c2-7f39-4464-8264-d19d4ecb2955"
   },
   "outputs": [
    {
     "name": "stdout",
     "output_type": "stream",
     "text": [
      "Attention weights are:\n",
      "tf.Tensor([[0. 1. 0. 0.]], shape=(1, 4), dtype=float32)\n",
      "Output is:\n",
      "tf.Tensor([[10.  0.]], shape=(1, 2), dtype=float32)\n"
     ]
    }
   ],
   "source": [
    "np.set_printoptions(suppress=True)\n",
    "\n",
    "temp_k = tf.constant([[10,0,0],\n",
    "                      [0,10,0],\n",
    "                      [0,0,10],\n",
    "                      [0,0,10]], dtype=tf.float32)  # (4, 3)\n",
    "\n",
    "temp_v = tf.constant([[   1,0],\n",
    "                      [  10,0],\n",
    "                      [ 100,5],\n",
    "                      [1000,6]], dtype=tf.float32)  # (4, 2)\n",
    "\n",
    "# This `query` aligns with the second `key`,\n",
    "# so the second `value` is returned.\n",
    "temp_q = tf.constant([[0, 10, 0]], dtype=tf.float32)  # (1, 3)\n",
    "print_out(temp_q, temp_k, temp_v)"
   ]
  },
  {
   "cell_type": "code",
   "execution_count": 27,
   "metadata": {
    "colab": {
     "base_uri": "https://localhost:8080/",
     "height": 85
    },
    "id": "zg6k-fGhgXra",
    "outputId": "78ed5710-6e68-4d77-8721-4b6c3b67d1b1"
   },
   "outputs": [
    {
     "name": "stdout",
     "output_type": "stream",
     "text": [
      "Attention weights are:\n",
      "tf.Tensor([[0.  0.  0.5 0.5]], shape=(1, 4), dtype=float32)\n",
      "Output is:\n",
      "tf.Tensor([[550.    5.5]], shape=(1, 2), dtype=float32)\n"
     ]
    }
   ],
   "source": [
    "# This query aligns with a repeated key (third and fourth), \n",
    "# so all associated values get averaged.\n",
    "temp_q = tf.constant([[0, 0, 10]], dtype=tf.float32)  # (1, 3)\n",
    "print_out(temp_q, temp_k, temp_v)"
   ]
  },
  {
   "cell_type": "code",
   "execution_count": 28,
   "metadata": {
    "colab": {
     "base_uri": "https://localhost:8080/",
     "height": 85
    },
    "id": "UAq3YOzUgXhb",
    "outputId": "c849889e-f886-4a18-a945-93b98114e582"
   },
   "outputs": [
    {
     "name": "stdout",
     "output_type": "stream",
     "text": [
      "Attention weights are:\n",
      "tf.Tensor([[0.5 0.5 0.  0. ]], shape=(1, 4), dtype=float32)\n",
      "Output is:\n",
      "tf.Tensor([[5.5 0. ]], shape=(1, 2), dtype=float32)\n"
     ]
    }
   ],
   "source": [
    "# This query aligns equally with the first and second key, \n",
    "# so their values get averaged.\n",
    "temp_q = tf.constant([[10, 10, 0]], dtype=tf.float32)  # (1, 3)\n",
    "print_out(temp_q, temp_k, temp_v)"
   ]
  },
  {
   "cell_type": "markdown",
   "metadata": {
    "id": "aOz-4_XIhaTP"
   },
   "source": [
    "Pass all the queries together."
   ]
  },
  {
   "cell_type": "code",
   "execution_count": 29,
   "metadata": {
    "colab": {
     "base_uri": "https://localhost:8080/",
     "height": 187
    },
    "id": "6dlU8Tm-hYrF",
    "outputId": "5ea6c7c3-076c-4fca-da33-b5a6a060811f"
   },
   "outputs": [
    {
     "name": "stdout",
     "output_type": "stream",
     "text": [
      "Attention weights are:\n",
      "tf.Tensor(\n",
      "[[0.  0.  0.5 0.5]\n",
      " [0.  1.  0.  0. ]\n",
      " [0.5 0.5 0.  0. ]], shape=(3, 4), dtype=float32)\n",
      "Output is:\n",
      "tf.Tensor(\n",
      "[[550.    5.5]\n",
      " [ 10.    0. ]\n",
      " [  5.5   0. ]], shape=(3, 2), dtype=float32)\n"
     ]
    }
   ],
   "source": [
    "temp_q = tf.constant([[0, 0, 10], [0, 10, 0], [10, 10, 0]], dtype=tf.float32)  # (3, 3)\n",
    "print_out(temp_q, temp_k, temp_v)"
   ]
  },
  {
   "cell_type": "markdown",
   "metadata": {
    "id": "kmzGPEy64qmA"
   },
   "source": [
    "## Multi-head attention"
   ]
  },
  {
   "cell_type": "markdown",
   "metadata": {
    "id": "fz5BMC8Kaoqo"
   },
   "source": [
    "<img src=\"https://www.tensorflow.org/images/tutorials/transformer/multi_head_attention.png\" width=\"500\" alt=\"multi-head attention\">\n",
    "\n",
    "\n",
    "Multi-head attention consists of four parts:\n",
    "*    Linear layers and split into heads.\n",
    "*    Scaled dot-product attention.\n",
    "*    Concatenation of heads.\n",
    "*    Final linear layer."
   ]
  },
  {
   "cell_type": "markdown",
   "metadata": {
    "id": "JPmbr6F1C-v_"
   },
   "source": [
    "Each multi-head attention block gets three inputs; Q (query), K (key), V (value). These are put through linear (Dense) layers and split up into multiple heads. \n",
    "\n",
    "The `scaled_dot_product_attention` defined above is applied to each head (broadcasted for efficiency). An appropriate mask must be used in the attention step.  The attention output for each head is then concatenated (using `tf.transpose`, and `tf.reshape`) and put through a final `Dense` layer.\n",
    "\n",
    "Instead of one single attention head, Q, K, and V are split into multiple heads because it allows the model to jointly attend to information at different positions from different representational spaces. After the split each head has a reduced dimensionality, so the total computation cost is the same as a single head attention with full dimensionality."
   ]
  },
  {
   "cell_type": "code",
   "execution_count": 30,
   "metadata": {
    "id": "BSV3PPKsYecw"
   },
   "outputs": [],
   "source": [
    "class MultiHeadAttention(tf.keras.layers.Layer):\n",
    "  def __init__(self, d_model, num_heads):\n",
    "    super(MultiHeadAttention, self).__init__()\n",
    "    self.num_heads = num_heads\n",
    "    self.d_model = d_model\n",
    "    \n",
    "    assert d_model % self.num_heads == 0\n",
    "    \n",
    "    self.depth = d_model // self.num_heads\n",
    "    \n",
    "    self.wq = tf.keras.layers.Dense(d_model)\n",
    "    self.wk = tf.keras.layers.Dense(d_model)\n",
    "    self.wv = tf.keras.layers.Dense(d_model)\n",
    "    \n",
    "    self.dense = tf.keras.layers.Dense(d_model)\n",
    "        \n",
    "  def split_heads(self, x, batch_size):\n",
    "    \"\"\"Split the last dimension into (num_heads, depth).\n",
    "    Transpose the result such that the shape is (batch_size, num_heads, seq_len, depth)\n",
    "    \"\"\"\n",
    "    x = tf.reshape(x, (batch_size, -1, self.num_heads, self.depth))\n",
    "    return tf.transpose(x, perm=[0, 2, 1, 3])\n",
    "    \n",
    "  def call(self, v, k, q, mask):\n",
    "    batch_size = tf.shape(q)[0]\n",
    "    \n",
    "    q = self.wq(q)  # (batch_size, seq_len, d_model)\n",
    "    k = self.wk(k)  # (batch_size, seq_len, d_model)\n",
    "    v = self.wv(v)  # (batch_size, seq_len, d_model)\n",
    "    \n",
    "    q = self.split_heads(q, batch_size)  # (batch_size, num_heads, seq_len_q, depth)\n",
    "    k = self.split_heads(k, batch_size)  # (batch_size, num_heads, seq_len_k, depth)\n",
    "    v = self.split_heads(v, batch_size)  # (batch_size, num_heads, seq_len_v, depth)\n",
    "    \n",
    "    # scaled_attention.shape == (batch_size, num_heads, seq_len_q, depth)\n",
    "    # attention_weights.shape == (batch_size, num_heads, seq_len_q, seq_len_k)\n",
    "    scaled_attention, attention_weights = scaled_dot_product_attention(\n",
    "        q, k, v, mask)\n",
    "    \n",
    "    scaled_attention = tf.transpose(scaled_attention, perm=[0, 2, 1, 3])  # (batch_size, seq_len_q, num_heads, depth)\n",
    "\n",
    "    concat_attention = tf.reshape(scaled_attention, \n",
    "                                  (batch_size, -1, self.d_model))  # (batch_size, seq_len_q, d_model)\n",
    "\n",
    "    output = self.dense(concat_attention)  # (batch_size, seq_len_q, d_model)\n",
    "        \n",
    "    return output, attention_weights"
   ]
  },
  {
   "cell_type": "markdown",
   "metadata": {
    "id": "0D8FJue5lDyZ"
   },
   "source": [
    "Create a `MultiHeadAttention` layer to try out. At each location in the sequence, `y`, the `MultiHeadAttention` runs all 8 attention heads across all other locations in the sequence, returning a new vector of the same length at each location."
   ]
  },
  {
   "cell_type": "code",
   "execution_count": 31,
   "metadata": {
    "colab": {
     "base_uri": "https://localhost:8080/",
     "height": 34
    },
    "id": "Hu94p-_-2_BX",
    "outputId": "e3e3629e-1f2d-4641-f474-b2eacc614c9c"
   },
   "outputs": [
    {
     "data": {
      "text/plain": [
       "(TensorShape([1, 60, 512]), TensorShape([1, 8, 60, 60]))"
      ]
     },
     "execution_count": 31,
     "metadata": {},
     "output_type": "execute_result"
    }
   ],
   "source": [
    "temp_mha = MultiHeadAttention(d_model=512, num_heads=8)\n",
    "y = tf.random.uniform((1, 60, 512))  # (batch_size, encoder_sequence, d_model)\n",
    "out, attn = temp_mha(y, k=y, q=y, mask=None)\n",
    "out.shape, attn.shape"
   ]
  },
  {
   "cell_type": "markdown",
   "metadata": {
    "id": "RdDqGayx67vv"
   },
   "source": [
    "## Point wise feed forward network"
   ]
  },
  {
   "cell_type": "markdown",
   "metadata": {
    "id": "gBqzJXGfHK3X"
   },
   "source": [
    "Point wise feed forward network consists of two fully-connected layers with a ReLU activation in between."
   ]
  },
  {
   "cell_type": "code",
   "execution_count": 32,
   "metadata": {
    "id": "ET7xLt0yCT6Z"
   },
   "outputs": [],
   "source": [
    "def point_wise_feed_forward_network(d_model, dff):\n",
    "  return tf.keras.Sequential([\n",
    "      tf.keras.layers.Dense(dff, activation='relu'),  # (batch_size, seq_len, dff)\n",
    "      tf.keras.layers.Dense(d_model)  # (batch_size, seq_len, d_model)\n",
    "  ])"
   ]
  },
  {
   "cell_type": "code",
   "execution_count": 33,
   "metadata": {
    "colab": {
     "base_uri": "https://localhost:8080/",
     "height": 34
    },
    "id": "mytb1lPyOHLB",
    "outputId": "6ae79870-38f5-4678-ab54-c470f9984976"
   },
   "outputs": [
    {
     "data": {
      "text/plain": [
       "TensorShape([64, 50, 512])"
      ]
     },
     "execution_count": 33,
     "metadata": {},
     "output_type": "execute_result"
    }
   ],
   "source": [
    "sample_ffn = point_wise_feed_forward_network(512, 2048)\n",
    "sample_ffn(tf.random.uniform((64, 50, 512))).shape"
   ]
  },
  {
   "cell_type": "markdown",
   "metadata": {
    "id": "7e7hKcxn6-zd"
   },
   "source": [
    "## Encoder and decoder"
   ]
  },
  {
   "cell_type": "markdown",
   "metadata": {
    "id": "yScbC0MUH8dS"
   },
   "source": [
    "<img src=\"https://www.tensorflow.org/images/tutorials/transformer/transformer.png\" width=\"600\" alt=\"transformer\">"
   ]
  },
  {
   "cell_type": "markdown",
   "metadata": {
    "id": "MfYJG-Kvgwy2"
   },
   "source": [
    "The transformer model follows the same general pattern as a standard [sequence to sequence with attention model](nmt_with_attention.ipynb). \n",
    "\n",
    "* The input sentence is passed through `N` encoder layers that generates an output for each word/token in the sequence.\n",
    "* The decoder attends on the encoder's output and its own input (self-attention) to predict the next word. "
   ]
  },
  {
   "cell_type": "markdown",
   "metadata": {
    "id": "QFv-FNYUmvpn"
   },
   "source": [
    "### Encoder layer\n",
    "\n",
    "Each encoder layer consists of sublayers:\n",
    "\n",
    "1.   Multi-head attention (with padding mask) \n",
    "2.    Point wise feed forward networks. \n",
    "\n",
    "Each of these sublayers has a residual connection around it followed by a layer normalization. Residual connections help in avoiding the vanishing gradient problem in deep networks.\n",
    "\n",
    "The output of each sublayer is `LayerNorm(x + Sublayer(x))`. The normalization is done on the `d_model` (last) axis. There are N encoder layers in the transformer."
   ]
  },
  {
   "cell_type": "code",
   "execution_count": 34,
   "metadata": {
    "id": "ncyS-Ms3i2x_"
   },
   "outputs": [],
   "source": [
    "class EncoderLayer(tf.keras.layers.Layer):\n",
    "  def __init__(self, d_model, num_heads, dff, rate=0.1):\n",
    "    super(EncoderLayer, self).__init__()\n",
    "\n",
    "    self.mha = MultiHeadAttention(d_model, num_heads)\n",
    "    self.ffn = point_wise_feed_forward_network(d_model, dff)\n",
    "\n",
    "    self.layernorm1 = tf.keras.layers.LayerNormalization(epsilon=1e-6)\n",
    "    self.layernorm2 = tf.keras.layers.LayerNormalization(epsilon=1e-6)\n",
    "    \n",
    "    self.dropout1 = tf.keras.layers.Dropout(rate)\n",
    "    self.dropout2 = tf.keras.layers.Dropout(rate)\n",
    "    \n",
    "  def call(self, x, training, mask):\n",
    "\n",
    "    attn_output, _ = self.mha(x, x, x, mask)  # (batch_size, input_seq_len, d_model)\n",
    "    attn_output = self.dropout1(attn_output, training=training)\n",
    "    out1 = self.layernorm1(x + attn_output)  # (batch_size, input_seq_len, d_model)\n",
    "    \n",
    "    ffn_output = self.ffn(out1)  # (batch_size, input_seq_len, d_model)\n",
    "    ffn_output = self.dropout2(ffn_output, training=training)\n",
    "    out2 = self.layernorm2(out1 + ffn_output)  # (batch_size, input_seq_len, d_model)\n",
    "    \n",
    "    return out2"
   ]
  },
  {
   "cell_type": "code",
   "execution_count": 35,
   "metadata": {
    "colab": {
     "base_uri": "https://localhost:8080/",
     "height": 34
    },
    "id": "AzZRXdO0mI48",
    "outputId": "8a13d10a-b706-4432-8f90-09e003dc589c"
   },
   "outputs": [
    {
     "data": {
      "text/plain": [
       "TensorShape([64, 43, 512])"
      ]
     },
     "execution_count": 35,
     "metadata": {},
     "output_type": "execute_result"
    }
   ],
   "source": [
    "sample_encoder_layer = EncoderLayer(512, 8, 2048)\n",
    "\n",
    "sample_encoder_layer_output = sample_encoder_layer(\n",
    "    tf.random.uniform((64, 43, 512)), False, None)\n",
    "\n",
    "sample_encoder_layer_output.shape  # (batch_size, input_seq_len, d_model)"
   ]
  },
  {
   "cell_type": "markdown",
   "metadata": {
    "id": "6LO_48Owmx_o"
   },
   "source": [
    "### Decoder layer\n",
    "\n",
    "Each decoder layer consists of sublayers:\n",
    "\n",
    "1.   Masked multi-head attention (with look ahead mask and padding mask)\n",
    "2.   Multi-head attention (with padding mask). V (value) and K (key) receive the *encoder output* as inputs. Q (query) receives the *output from the masked multi-head attention sublayer.*\n",
    "3.   Point wise feed forward networks\n",
    "\n",
    "Each of these sublayers has a residual connection around it followed by a layer normalization. The output of each sublayer is `LayerNorm(x + Sublayer(x))`. The normalization is done on the `d_model` (last) axis.\n",
    "\n",
    "There are N decoder layers in the transformer.\n",
    "\n",
    "As Q receives the output from decoder's first attention block, and K receives the encoder output, the attention weights represent the importance given to the decoder's input based on the encoder's output. In other words, the decoder predicts the next word by looking at the encoder output and self-attending to its own output. See the demonstration above in the scaled dot product attention section."
   ]
  },
  {
   "cell_type": "code",
   "execution_count": 36,
   "metadata": {
    "id": "9SoX0-vd1hue"
   },
   "outputs": [],
   "source": [
    "class DecoderLayer(tf.keras.layers.Layer):\n",
    "  def __init__(self, d_model, num_heads, dff, rate=0.1):\n",
    "    super(DecoderLayer, self).__init__()\n",
    "\n",
    "    self.mha1 = MultiHeadAttention(d_model, num_heads)\n",
    "    self.mha2 = MultiHeadAttention(d_model, num_heads)\n",
    "\n",
    "    self.ffn = point_wise_feed_forward_network(d_model, dff)\n",
    " \n",
    "    self.layernorm1 = tf.keras.layers.LayerNormalization(epsilon=1e-6)\n",
    "    self.layernorm2 = tf.keras.layers.LayerNormalization(epsilon=1e-6)\n",
    "    self.layernorm3 = tf.keras.layers.LayerNormalization(epsilon=1e-6)\n",
    "    \n",
    "    self.dropout1 = tf.keras.layers.Dropout(rate)\n",
    "    self.dropout2 = tf.keras.layers.Dropout(rate)\n",
    "    self.dropout3 = tf.keras.layers.Dropout(rate)\n",
    "    \n",
    "    \n",
    "  def call(self, x, enc_output, training, \n",
    "           look_ahead_mask, padding_mask):\n",
    "    # enc_output.shape == (batch_size, input_seq_len, d_model)\n",
    "\n",
    "    attn1, attn_weights_block1 = self.mha1(x, x, x, look_ahead_mask)  # (batch_size, target_seq_len, d_model)\n",
    "    attn1 = self.dropout1(attn1, training=training)\n",
    "    out1 = self.layernorm1(attn1 + x)\n",
    "    \n",
    "    attn2, attn_weights_block2 = self.mha2(\n",
    "        enc_output, enc_output, out1, padding_mask)  # (batch_size, target_seq_len, d_model)\n",
    "    attn2 = self.dropout2(attn2, training=training)\n",
    "    out2 = self.layernorm2(attn2 + out1)  # (batch_size, target_seq_len, d_model)\n",
    "    \n",
    "    ffn_output = self.ffn(out2)  # (batch_size, target_seq_len, d_model)\n",
    "    ffn_output = self.dropout3(ffn_output, training=training)\n",
    "    out3 = self.layernorm3(ffn_output + out2)  # (batch_size, target_seq_len, d_model)\n",
    "    \n",
    "    return out3, attn_weights_block1, attn_weights_block2"
   ]
  },
  {
   "cell_type": "code",
   "execution_count": 37,
   "metadata": {
    "colab": {
     "base_uri": "https://localhost:8080/",
     "height": 34
    },
    "id": "Ne2Bqx8k71l0",
    "outputId": "e18d9ed8-9070-44d4-c1ab-0134d89ee737"
   },
   "outputs": [
    {
     "data": {
      "text/plain": [
       "TensorShape([64, 50, 512])"
      ]
     },
     "execution_count": 37,
     "metadata": {},
     "output_type": "execute_result"
    }
   ],
   "source": [
    "sample_decoder_layer = DecoderLayer(512, 8, 2048)\n",
    "\n",
    "sample_decoder_layer_output, _, _ = sample_decoder_layer(\n",
    "    tf.random.uniform((64, 50, 512)), sample_encoder_layer_output, \n",
    "    False, None, None)\n",
    "\n",
    "sample_decoder_layer_output.shape  # (batch_size, target_seq_len, d_model)"
   ]
  },
  {
   "cell_type": "markdown",
   "metadata": {
    "id": "SE1H51Ajm0q1"
   },
   "source": [
    "### Encoder\n",
    "\n",
    "The `Encoder` consists of:\n",
    "1.   Input Embedding\n",
    "2.   Positional Encoding\n",
    "3.   N encoder layers\n",
    "\n",
    "The input is put through an embedding which is summed with the positional encoding. The output of this summation is the input to the encoder layers. The output of the encoder is the input to the decoder."
   ]
  },
  {
   "cell_type": "code",
   "execution_count": 38,
   "metadata": {
    "id": "jpEox7gJ8FCI"
   },
   "outputs": [],
   "source": [
    "class Encoder(tf.keras.layers.Layer):\n",
    "  def __init__(self, num_layers, d_model, num_heads, dff, input_vocab_size,\n",
    "               maximum_position_encoding, rate=0.1):\n",
    "    super(Encoder, self).__init__()\n",
    "\n",
    "    self.d_model = d_model\n",
    "    self.num_layers = num_layers\n",
    "    \n",
    "    self.embedding = tf.keras.layers.Embedding(input_vocab_size, d_model)\n",
    "    self.pos_encoding = positional_encoding(maximum_position_encoding, \n",
    "                                            self.d_model)\n",
    "    \n",
    "    \n",
    "    self.enc_layers = [EncoderLayer(d_model, num_heads, dff, rate) \n",
    "                       for _ in range(num_layers)]\n",
    "  \n",
    "    self.dropout = tf.keras.layers.Dropout(rate)\n",
    "        \n",
    "  def call(self, x, training, mask):\n",
    "\n",
    "    seq_len = tf.shape(x)[1]\n",
    "    \n",
    "    # adding embedding and position encoding.\n",
    "    x = self.embedding(x)  # (batch_size, input_seq_len, d_model)\n",
    "    x *= tf.math.sqrt(tf.cast(self.d_model, tf.float32))\n",
    "    x += self.pos_encoding[:, :seq_len, :]\n",
    "\n",
    "    x = self.dropout(x, training=training)\n",
    "    \n",
    "    for i in range(self.num_layers):\n",
    "      x = self.enc_layers[i](x, training, mask)\n",
    "    \n",
    "    return x  # (batch_size, input_seq_len, d_model)"
   ]
  },
  {
   "cell_type": "code",
   "execution_count": 39,
   "metadata": {
    "colab": {
     "base_uri": "https://localhost:8080/",
     "height": 34
    },
    "id": "8QG9nueFQKXx",
    "outputId": "521a7b5d-e59d-4ec6-fabc-efc485cc8cf8"
   },
   "outputs": [
    {
     "name": "stdout",
     "output_type": "stream",
     "text": [
      "(64, 62, 512)\n"
     ]
    }
   ],
   "source": [
    "sample_encoder = Encoder(num_layers=2, d_model=512, num_heads=8, \n",
    "                         dff=2048, input_vocab_size=8500,\n",
    "                         maximum_position_encoding=10000)\n",
    "temp_input = tf.random.uniform((64, 62), dtype=tf.int64, minval=0, maxval=200)\n",
    "\n",
    "sample_encoder_output = sample_encoder(temp_input, training=False, mask=None)\n",
    "\n",
    "print (sample_encoder_output.shape)  # (batch_size, input_seq_len, d_model)"
   ]
  },
  {
   "cell_type": "markdown",
   "metadata": {
    "id": "p-uO6ls8m2O5"
   },
   "source": [
    "### Decoder"
   ]
  },
  {
   "cell_type": "markdown",
   "metadata": {
    "id": "ZtT7PKzrXkNr"
   },
   "source": [
    " The `Decoder` consists of:\n",
    "1.   Output Embedding\n",
    "2.   Positional Encoding\n",
    "3.   N decoder layers\n",
    "\n",
    "The target is put through an embedding which is summed with the positional encoding. The output of this summation is the input to the decoder layers. The output of the decoder is the input to the final linear layer."
   ]
  },
  {
   "cell_type": "code",
   "execution_count": 40,
   "metadata": {
    "id": "d5_d5-PLQXwY"
   },
   "outputs": [],
   "source": [
    "class Decoder(tf.keras.layers.Layer):\n",
    "  def __init__(self, num_layers, d_model, num_heads, dff, target_vocab_size,\n",
    "               maximum_position_encoding, rate=0.1):\n",
    "    super(Decoder, self).__init__()\n",
    "\n",
    "    self.d_model = d_model\n",
    "    self.num_layers = num_layers\n",
    "    \n",
    "    self.embedding = tf.keras.layers.Embedding(target_vocab_size, d_model)\n",
    "    self.pos_encoding = positional_encoding(maximum_position_encoding, d_model)\n",
    "    \n",
    "    self.dec_layers = [DecoderLayer(d_model, num_heads, dff, rate) \n",
    "                       for _ in range(num_layers)]\n",
    "    self.dropout = tf.keras.layers.Dropout(rate)\n",
    "    \n",
    "  def call(self, x, enc_output, training, \n",
    "           look_ahead_mask, padding_mask):\n",
    "\n",
    "    seq_len = tf.shape(x)[1]\n",
    "    attention_weights = {}\n",
    "    \n",
    "    x = self.embedding(x)  # (batch_size, target_seq_len, d_model)\n",
    "    x *= tf.math.sqrt(tf.cast(self.d_model, tf.float32))\n",
    "    x += self.pos_encoding[:, :seq_len, :]\n",
    "    \n",
    "    x = self.dropout(x, training=training)\n",
    "\n",
    "    for i in range(self.num_layers):\n",
    "      x, block1, block2 = self.dec_layers[i](x, enc_output, training,\n",
    "                                             look_ahead_mask, padding_mask)\n",
    "      \n",
    "      attention_weights['decoder_layer{}_block1'.format(i+1)] = block1\n",
    "      attention_weights['decoder_layer{}_block2'.format(i+1)] = block2\n",
    "    \n",
    "    # x.shape == (batch_size, target_seq_len, d_model)\n",
    "    return x, attention_weights"
   ]
  },
  {
   "cell_type": "code",
   "execution_count": 41,
   "metadata": {
    "colab": {
     "base_uri": "https://localhost:8080/",
     "height": 34
    },
    "id": "a1jXoAMRZyvu",
    "outputId": "19923afd-18cd-4dda-ea15-7977eeac04da"
   },
   "outputs": [
    {
     "data": {
      "text/plain": [
       "(TensorShape([64, 26, 512]), TensorShape([64, 8, 26, 62]))"
      ]
     },
     "execution_count": 41,
     "metadata": {},
     "output_type": "execute_result"
    }
   ],
   "source": [
    "sample_decoder = Decoder(num_layers=2, d_model=512, num_heads=8, \n",
    "                         dff=2048, target_vocab_size=8000,\n",
    "                         maximum_position_encoding=5000)\n",
    "temp_input = tf.random.uniform((64, 26), dtype=tf.int64, minval=0, maxval=200)\n",
    "\n",
    "output, attn = sample_decoder(temp_input, \n",
    "                              enc_output=sample_encoder_output, \n",
    "                              training=False,\n",
    "                              look_ahead_mask=None, \n",
    "                              padding_mask=None)\n",
    "\n",
    "output.shape, attn['decoder_layer2_block2'].shape"
   ]
  },
  {
   "cell_type": "markdown",
   "metadata": {
    "id": "y54xnJnuYgJ7"
   },
   "source": [
    "## Create the Transformer"
   ]
  },
  {
   "cell_type": "markdown",
   "metadata": {
    "id": "uERO1y54cOKq"
   },
   "source": [
    "Transformer consists of the encoder, decoder and a final linear layer. The output of the decoder is the input to the linear layer and its output is returned."
   ]
  },
  {
   "cell_type": "code",
   "execution_count": 42,
   "metadata": {
    "id": "PED3bIpOYkBu"
   },
   "outputs": [],
   "source": [
    "class Transformer(tf.keras.Model):\n",
    "  def __init__(self, num_layers, d_model, num_heads, dff, input_vocab_size, \n",
    "               target_vocab_size, pe_input, pe_target, rate=0.1):\n",
    "    super(Transformer, self).__init__()\n",
    "\n",
    "    self.encoder = Encoder(num_layers, d_model, num_heads, dff, \n",
    "                           input_vocab_size, pe_input, rate)\n",
    "\n",
    "    self.decoder = Decoder(num_layers, d_model, num_heads, dff, \n",
    "                           target_vocab_size, pe_target, rate)\n",
    "\n",
    "    self.final_layer = tf.keras.layers.Dense(target_vocab_size)\n",
    "    \n",
    "  def call(self, inp, tar, training, enc_padding_mask, \n",
    "           look_ahead_mask, dec_padding_mask):\n",
    "\n",
    "    enc_output = self.encoder(inp, training, enc_padding_mask)  # (batch_size, inp_seq_len, d_model)\n",
    "    \n",
    "    # dec_output.shape == (batch_size, tar_seq_len, d_model)\n",
    "    dec_output, attention_weights = self.decoder(\n",
    "        tar, enc_output, training, look_ahead_mask, dec_padding_mask)\n",
    "    \n",
    "    final_output = self.final_layer(dec_output)  # (batch_size, tar_seq_len, target_vocab_size)\n",
    "    \n",
    "    return final_output, attention_weights"
   ]
  },
  {
   "cell_type": "code",
   "execution_count": 43,
   "metadata": {
    "colab": {
     "base_uri": "https://localhost:8080/",
     "height": 34
    },
    "id": "tJ4fbQcIkHW1",
    "outputId": "fa6e9744-9829-438c-a71c-de2490a21b1d"
   },
   "outputs": [
    {
     "data": {
      "text/plain": [
       "TensorShape([64, 36, 8000])"
      ]
     },
     "execution_count": 43,
     "metadata": {},
     "output_type": "execute_result"
    }
   ],
   "source": [
    "sample_transformer = Transformer(\n",
    "    num_layers=2, d_model=512, num_heads=8, dff=2048, \n",
    "    input_vocab_size=8500, target_vocab_size=8000, \n",
    "    pe_input=10000, pe_target=6000)\n",
    "\n",
    "temp_input = tf.random.uniform((64, 38), dtype=tf.int64, minval=0, maxval=200)\n",
    "temp_target = tf.random.uniform((64, 36), dtype=tf.int64, minval=0, maxval=200)\n",
    "\n",
    "fn_out, _ = sample_transformer(temp_input, temp_target, training=False, \n",
    "                               enc_padding_mask=None, \n",
    "                               look_ahead_mask=None,\n",
    "                               dec_padding_mask=None)\n",
    "\n",
    "fn_out.shape  # (batch_size, tar_seq_len, target_vocab_size)"
   ]
  },
  {
   "cell_type": "markdown",
   "metadata": {
    "id": "wsINyf1VEQLC"
   },
   "source": [
    "## Set hyperparameters"
   ]
  },
  {
   "cell_type": "markdown",
   "metadata": {
    "id": "zVjWCxFNcgbt"
   },
   "source": [
    "To keep this example small and relatively fast, the values for *num_layers, d_model, and dff* have been reduced. \n",
    "\n",
    "The values used in the base model of transformer were; *num_layers=6*, *d_model = 512*, *dff = 2048*. See the [paper](https://arxiv.org/abs/1706.03762) for all the other versions of the transformer.\n",
    "\n",
    "Note: By changing the values below, you can get the model that achieved state of the art on many tasks."
   ]
  },
  {
   "cell_type": "code",
   "execution_count": 44,
   "metadata": {
    "id": "lnJn5SLA2ahP"
   },
   "outputs": [],
   "source": [
    "num_layers = 4\n",
    "d_model = 128\n",
    "dff = 512\n",
    "num_heads = 8\n",
    "\n",
    "input_vocab_size = tokenizer_pt.vocab_size + 2\n",
    "target_vocab_size = tokenizer_en.vocab_size + 2\n",
    "dropout_rate = 0.1"
   ]
  },
  {
   "cell_type": "markdown",
   "metadata": {
    "id": "xYEGhEOtzn5W"
   },
   "source": [
    "## Optimizer"
   ]
  },
  {
   "cell_type": "markdown",
   "metadata": {
    "id": "GOmWW--yP3zx"
   },
   "source": [
    "Use the Adam optimizer with a custom learning rate scheduler according to the formula in the [paper](https://arxiv.org/abs/1706.03762).\n",
    "\n",
    "$$\\Large{lrate = d_{model}^{-0.5} * min(step{\\_}num^{-0.5}, step{\\_}num * warmup{\\_}steps^{-1.5})}$$\n"
   ]
  },
  {
   "cell_type": "code",
   "execution_count": 45,
   "metadata": {
    "id": "iYQdOO1axwEI"
   },
   "outputs": [],
   "source": [
    "class CustomSchedule(tf.keras.optimizers.schedules.LearningRateSchedule):\n",
    "  def __init__(self, d_model, warmup_steps=4000):\n",
    "    super(CustomSchedule, self).__init__()\n",
    "    \n",
    "    self.d_model = d_model\n",
    "    self.d_model = tf.cast(self.d_model, tf.float32)\n",
    "\n",
    "    self.warmup_steps = warmup_steps\n",
    "    \n",
    "  def __call__(self, step):\n",
    "    arg1 = tf.math.rsqrt(step)\n",
    "    arg2 = step * (self.warmup_steps ** -1.5)\n",
    "    \n",
    "    return tf.math.rsqrt(self.d_model) * tf.math.minimum(arg1, arg2)"
   ]
  },
  {
   "cell_type": "code",
   "execution_count": 46,
   "metadata": {
    "id": "7r4scdulztRx"
   },
   "outputs": [],
   "source": [
    "learning_rate = CustomSchedule(d_model)\n",
    "\n",
    "optimizer = tf.keras.optimizers.Adam(learning_rate, beta_1=0.9, beta_2=0.98, \n",
    "                                     epsilon=1e-9)"
   ]
  },
  {
   "cell_type": "code",
   "execution_count": 47,
   "metadata": {
    "colab": {
     "base_uri": "https://localhost:8080/",
     "height": 296
    },
    "id": "f33ZCgvHpPdG",
    "outputId": "fb08392a-2db1-40ea-df33-6695698367f5"
   },
   "outputs": [
    {
     "data": {
      "text/plain": [
       "Text(0.5, 0, 'Train Step')"
      ]
     },
     "execution_count": 47,
     "metadata": {},
     "output_type": "execute_result"
    },
    {
     "data": {
      "image/png": "[encoded data removed]",
      "text/plain": [
       "<Figure size 432x288 with 1 Axes>"
      ]
     },
     "metadata": {
      "needs_background": "light"
     },
     "output_type": "display_data"
    }
   ],
   "source": [
    "temp_learning_rate_schedule = CustomSchedule(d_model)\n",
    "\n",
    "plt.plot(temp_learning_rate_schedule(tf.range(40000, dtype=tf.float32)))\n",
    "plt.ylabel(\"Learning Rate\")\n",
    "plt.xlabel(\"Train Step\")"
   ]
  },
  {
   "cell_type": "markdown",
   "metadata": {
    "id": "YgkDE7hzo8r5"
   },
   "source": [
    "## Loss and metrics"
   ]
  },
  {
   "cell_type": "markdown",
   "metadata": {
    "id": "oxGJtoDuYIHL"
   },
   "source": [
    "Since the target sequences are padded, it is important to apply a padding mask when calculating the loss."
   ]
  },
  {
   "cell_type": "code",
   "execution_count": 48,
   "metadata": {
    "id": "MlhsJMm0TW_B"
   },
   "outputs": [],
   "source": [
    "loss_object = tf.keras.losses.SparseCategoricalCrossentropy(\n",
    "    from_logits=True, reduction='none')"
   ]
  },
  {
   "cell_type": "code",
   "execution_count": 49,
   "metadata": {
    "id": "67oqVHiT0Eiu"
   },
   "outputs": [],
   "source": [
    "def loss_function(real, pred):\n",
    "  mask = tf.math.logical_not(tf.math.equal(real, 0))\n",
    "  loss_ = loss_object(real, pred)\n",
    "\n",
    "  mask = tf.cast(mask, dtype=loss_.dtype)\n",
    "  loss_ *= mask\n",
    "  \n",
    "  return tf.reduce_sum(loss_)/tf.reduce_sum(mask)"
   ]
  },
  {
   "cell_type": "code",
   "execution_count": 50,
   "metadata": {
    "id": "phlyxMnm-Tpx"
   },
   "outputs": [],
   "source": [
    "train_loss = tf.keras.metrics.Mean(name='train_loss')\n",
    "train_accuracy = tf.keras.metrics.SparseCategoricalAccuracy(\n",
    "    name='train_accuracy')"
   ]
  },
  {
   "cell_type": "markdown",
   "metadata": {
    "id": "aeHumfr7zmMa"
   },
   "source": [
    "## Training and checkpointing"
   ]
  },
  {
   "cell_type": "code",
   "execution_count": 51,
   "metadata": {
    "id": "UiysUa--4tOU"
   },
   "outputs": [],
   "source": [
    "transformer = Transformer(num_layers, d_model, num_heads, dff,\n",
    "                          input_vocab_size, target_vocab_size, \n",
    "                          pe_input=input_vocab_size, \n",
    "                          pe_target=target_vocab_size,\n",
    "                          rate=dropout_rate)"
   ]
  },
  {
   "cell_type": "code",
   "execution_count": 52,
   "metadata": {
    "id": "ZOJUSB1T8GjM"
   },
   "outputs": [],
   "source": [
    "def create_masks(inp, tar):\n",
    "  # Encoder padding mask\n",
    "  enc_padding_mask = create_padding_mask(inp)\n",
    "  \n",
    "  # Used in the 2nd attention block in the decoder.\n",
    "  # This padding mask is used to mask the encoder outputs.\n",
    "  dec_padding_mask = create_padding_mask(inp)\n",
    "  \n",
    "  # Used in the 1st attention block in the decoder.\n",
    "  # It is used to pad and mask future tokens in the input received by \n",
    "  # the decoder.\n",
    "  look_ahead_mask = create_look_ahead_mask(tf.shape(tar)[1])\n",
    "  dec_target_padding_mask = create_padding_mask(tar)\n",
    "  combined_mask = tf.maximum(dec_target_padding_mask, look_ahead_mask)\n",
    "  \n",
    "  return enc_padding_mask, combined_mask, dec_padding_mask"
   ]
  },
  {
   "cell_type": "markdown",
   "metadata": {
    "id": "Fzuf06YZp66w"
   },
   "source": [
    "Create the checkpoint path and the checkpoint manager. This will be used to save checkpoints every `n` epochs."
   ]
  },
  {
   "cell_type": "code",
   "execution_count": 53,
   "metadata": {
    "id": "hNhuYfllndLZ"
   },
   "outputs": [],
   "source": [
    "checkpoint_path = \"./checkpoints/train\"\n",
    "\n",
    "ckpt = tf.train.Checkpoint(transformer=transformer,\n",
    "                           optimizer=optimizer)\n",
    "\n",
    "ckpt_manager = tf.train.CheckpointManager(ckpt, checkpoint_path, max_to_keep=5)\n",
    "\n",
    "# if a checkpoint exists, restore the latest checkpoint.\n",
    "if ckpt_manager.latest_checkpoint:\n",
    "  ckpt.restore(ckpt_manager.latest_checkpoint)\n",
    "  print ('Latest checkpoint restored!!')"
   ]
  },
  {
   "cell_type": "markdown",
   "metadata": {
    "id": "0Di_Yaa1gf9r"
   },
   "source": [
    "The target is divided into tar_inp and tar_real. tar_inp is passed as an input to the decoder. `tar_real` is that same input shifted by 1: At each location in `tar_input`, `tar_real` contains the  next token that should be predicted.\n",
    "\n",
    "For example, `sentence` = \"SOS A lion in the jungle is sleeping EOS\"\n",
    "\n",
    "`tar_inp` =  \"SOS A lion in the jungle is sleeping\"\n",
    "\n",
    "`tar_real` = \"A lion in the jungle is sleeping EOS\"\n",
    "\n",
    "The transformer is an auto-regressive model: it makes predictions one part at a time, and uses its output so far to decide what to do next. \n",
    "\n",
    "During training this example uses teacher-forcing (like in the [text generation tutorial](./text_generation.ipynb)). Teacher forcing is passing the true output to the next time step regardless of what the model predicts at the current time step.\n",
    "\n",
    "As the transformer predicts each word, *self-attention* allows it to look at the previous words in the input sequence to better predict the next word.\n",
    "\n",
    "To prevent the model from peeking at the expected output the model uses a look-ahead mask."
   ]
  },
  {
   "cell_type": "code",
   "execution_count": 54,
   "metadata": {
    "id": "LKpoA6q1sJFj"
   },
   "outputs": [],
   "source": [
    "EPOCHS = 20"
   ]
  },
  {
   "cell_type": "code",
   "execution_count": 55,
   "metadata": {
    "id": "iJwmp9OE29oj"
   },
   "outputs": [],
   "source": [
    "# The @tf.function trace-compiles train_step into a TF graph for faster\n",
    "# execution. The function specializes to the precise shape of the argument\n",
    "# tensors. To avoid re-tracing due to the variable sequence lengths or variable\n",
    "# batch sizes (the last batch is smaller), use input_signature to specify\n",
    "# more generic shapes.\n",
    "\n",
    "train_step_signature = [\n",
    "    tf.TensorSpec(shape=(None, None), dtype=tf.int64),\n",
    "    tf.TensorSpec(shape=(None, None), dtype=tf.int64),\n",
    "]\n",
    "\n",
    "@tf.function(input_signature=train_step_signature)\n",
    "def train_step(inp, tar):\n",
    "  tar_inp = tar[:, :-1]\n",
    "  tar_real = tar[:, 1:]\n",
    "  \n",
    "  enc_padding_mask, combined_mask, dec_padding_mask = create_masks(inp, tar_inp)\n",
    "  \n",
    "  with tf.GradientTape() as tape:\n",
    "    predictions, _ = transformer(inp, tar_inp, \n",
    "                                 True, \n",
    "                                 enc_padding_mask, \n",
    "                                 combined_mask, \n",
    "                                 dec_padding_mask)\n",
    "    loss = loss_function(tar_real, predictions)\n",
    "\n",
    "  gradients = tape.gradient(loss, transformer.trainable_variables)    \n",
    "  optimizer.apply_gradients(zip(gradients, transformer.trainable_variables))\n",
    "  \n",
    "  train_loss(loss)\n",
    "  train_accuracy(tar_real, predictions)"
   ]
  },
  {
   "cell_type": "markdown",
   "metadata": {
    "id": "qM2PDWGDJ_8V"
   },
   "source": [
    "Portuguese is used as the input language and English is the target language."
   ]
  },
  {
   "cell_type": "code",
   "execution_count": 56,
   "metadata": {
    "colab": {
     "base_uri": "https://localhost:8080/",
     "height": 1000
    },
    "id": "bbvmaKNiznHZ",
    "outputId": "97735af3-1f23-4a16-8454-5dd6b3ac603d"
   },
   "outputs": [
    {
     "name": "stderr",
     "output_type": "stream",
     "text": [
      "2022-06-09 02:52:13.061429: I tensorflow/core/kernels/data/shuffle_dataset_op.cc:390] Filling up shuffle buffer (this may take a while): 17759 of 20000\n",
      "2022-06-09 02:52:14.280344: I tensorflow/core/kernels/data/shuffle_dataset_op.cc:415] Shuffle buffer filled.\n"
     ]
    },
    {
     "name": "stdout",
     "output_type": "stream",
     "text": [
      "Epoch 1 Batch 0 Loss 8.9916 Accuracy 0.0000\n",
      "Epoch 1 Batch 50 Loss 8.9315 Accuracy 0.0019\n",
      "Epoch 1 Batch 100 Loss 8.8374 Accuracy 0.0120\n",
      "Epoch 1 Batch 150 Loss 8.7349 Accuracy 0.0170\n",
      "Epoch 1 Batch 200 Loss 8.6074 Accuracy 0.0197\n",
      "Epoch 1 Batch 250 Loss 8.4532 Accuracy 0.0216\n",
      "Epoch 1 Batch 300 Loss 8.2769 Accuracy 0.0252\n",
      "Epoch 1 Batch 350 Loss 8.0924 Accuracy 0.0289\n",
      "Epoch 1 Batch 400 Loss 7.9113 Accuracy 0.0320\n",
      "Epoch 1 Batch 450 Loss 7.7495 Accuracy 0.0348\n",
      "Epoch 1 Batch 500 Loss 7.6044 Accuracy 0.0383\n",
      "Epoch 1 Batch 550 Loss 7.4695 Accuracy 0.0421\n",
      "Epoch 1 Batch 600 Loss 7.3427 Accuracy 0.0458\n",
      "Epoch 1 Batch 650 Loss 7.2218 Accuracy 0.0494\n",
      "Epoch 1 Batch 700 Loss 7.1073 Accuracy 0.0528\n",
      "Epoch 1 Loss 7.1026 Accuracy 0.0529\n",
      "Time taken for 1 epoch: 518.2861211299896 secs\n",
      "\n",
      "Epoch 2 Batch 0 Loss 5.3559 Accuracy 0.1158\n",
      "Epoch 2 Batch 50 Loss 5.4507 Accuracy 0.1042\n",
      "Epoch 2 Batch 100 Loss 5.3979 Accuracy 0.1065\n",
      "Epoch 2 Batch 150 Loss 5.3465 Accuracy 0.1084\n",
      "Epoch 2 Batch 200 Loss 5.2947 Accuracy 0.1109\n",
      "Epoch 2 Batch 250 Loss 5.2579 Accuracy 0.1126\n",
      "Epoch 2 Batch 300 Loss 5.2194 Accuracy 0.1145\n",
      "Epoch 2 Batch 350 Loss 5.1843 Accuracy 0.1161\n",
      "Epoch 2 Batch 400 Loss 5.1498 Accuracy 0.1177\n",
      "Epoch 2 Batch 450 Loss 5.1212 Accuracy 0.1191\n",
      "Epoch 2 Batch 500 Loss 5.0919 Accuracy 0.1205\n",
      "Epoch 2 Batch 550 Loss 5.0619 Accuracy 0.1219\n",
      "Epoch 2 Batch 600 Loss 5.0373 Accuracy 0.1230\n",
      "Epoch 2 Batch 650 Loss 5.0131 Accuracy 0.1243\n",
      "Epoch 2 Batch 700 Loss 4.9893 Accuracy 0.1255\n",
      "Epoch 2 Loss 4.9885 Accuracy 0.1255\n",
      "Time taken for 1 epoch: 492.4595820903778 secs\n",
      "\n",
      "Epoch 3 Batch 0 Loss 4.5238 Accuracy 0.1683\n",
      "Epoch 3 Batch 50 Loss 4.6259 Accuracy 0.1424\n",
      "Epoch 3 Batch 100 Loss 4.5937 Accuracy 0.1449\n",
      "Epoch 3 Batch 150 Loss 4.5790 Accuracy 0.1455\n",
      "Epoch 3 Batch 200 Loss 4.5657 Accuracy 0.1464\n",
      "Epoch 3 Batch 250 Loss 4.5506 Accuracy 0.1469\n",
      "Epoch 3 Batch 300 Loss 4.5388 Accuracy 0.1477\n",
      "Epoch 3 Batch 350 Loss 4.5197 Accuracy 0.1484\n",
      "Epoch 3 Batch 400 Loss 4.5060 Accuracy 0.1490\n",
      "Epoch 3 Batch 450 Loss 4.4888 Accuracy 0.1501\n",
      "Epoch 3 Batch 500 Loss 4.4718 Accuracy 0.1511\n",
      "Epoch 3 Batch 550 Loss 4.4562 Accuracy 0.1519\n",
      "Epoch 3 Batch 600 Loss 4.4397 Accuracy 0.1529\n",
      "Epoch 3 Batch 650 Loss 4.4224 Accuracy 0.1536\n",
      "Epoch 3 Batch 700 Loss 4.4058 Accuracy 0.1547\n",
      "Epoch 3 Loss 4.4050 Accuracy 0.1547\n",
      "Time taken for 1 epoch: 491.43153047561646 secs\n",
      "\n",
      "Epoch 4 Batch 0 Loss 4.1824 Accuracy 0.1836\n",
      "Epoch 4 Batch 50 Loss 4.0582 Accuracy 0.1734\n",
      "Epoch 4 Batch 100 Loss 4.0559 Accuracy 0.1726\n",
      "Epoch 4 Batch 150 Loss 4.0507 Accuracy 0.1733\n",
      "Epoch 4 Batch 200 Loss 4.0316 Accuracy 0.1749\n",
      "Epoch 4 Batch 250 Loss 4.0195 Accuracy 0.1755\n",
      "Epoch 4 Batch 300 Loss 4.0048 Accuracy 0.1768\n",
      "Epoch 4 Batch 350 Loss 3.9870 Accuracy 0.1780\n",
      "Epoch 4 Batch 400 Loss 3.9749 Accuracy 0.1785\n",
      "Epoch 4 Batch 450 Loss 3.9558 Accuracy 0.1794\n",
      "Epoch 4 Batch 500 Loss 3.9423 Accuracy 0.1802\n",
      "Epoch 4 Batch 550 Loss 3.9256 Accuracy 0.1811\n",
      "Epoch 4 Batch 600 Loss 3.9138 Accuracy 0.1819\n",
      "Epoch 4 Batch 650 Loss 3.9021 Accuracy 0.1829\n",
      "Epoch 4 Batch 700 Loss 3.8887 Accuracy 0.1839\n",
      "Epoch 4 Loss 3.8881 Accuracy 0.1840\n",
      "Time taken for 1 epoch: 490.8378882408142 secs\n",
      "\n",
      "Epoch 5 Batch 0 Loss 3.7001 Accuracy 0.1949\n",
      "Epoch 5 Batch 50 Loss 3.5614 Accuracy 0.2008\n",
      "Epoch 5 Batch 100 Loss 3.5530 Accuracy 0.2005\n",
      "Epoch 5 Batch 150 Loss 3.5377 Accuracy 0.2012\n",
      "Epoch 5 Batch 200 Loss 3.5301 Accuracy 0.2020\n",
      "Epoch 5 Batch 250 Loss 3.5192 Accuracy 0.2031\n",
      "Epoch 5 Batch 300 Loss 3.5124 Accuracy 0.2036\n",
      "Epoch 5 Batch 350 Loss 3.5015 Accuracy 0.2050\n",
      "Epoch 5 Batch 400 Loss 3.4897 Accuracy 0.2058\n",
      "Epoch 5 Batch 450 Loss 3.4806 Accuracy 0.2063\n",
      "Epoch 5 Batch 500 Loss 3.4748 Accuracy 0.2065\n",
      "Epoch 5 Batch 550 Loss 3.4622 Accuracy 0.2070\n",
      "Epoch 5 Batch 600 Loss 3.4510 Accuracy 0.2082\n",
      "Epoch 5 Batch 650 Loss 3.4453 Accuracy 0.2087\n",
      "Epoch 5 Batch 700 Loss 3.4373 Accuracy 0.2090\n",
      "Saving checkpoint for epoch 5 at ./checkpoints/train/ckpt-1\n",
      "Epoch 5 Loss 3.4373 Accuracy 0.2091\n",
      "Time taken for 1 epoch: 489.31312704086304 secs\n",
      "\n",
      "Epoch 6 Batch 0 Loss 3.1846 Accuracy 0.2099\n",
      "Epoch 6 Batch 50 Loss 3.0955 Accuracy 0.2224\n",
      "Epoch 6 Batch 100 Loss 3.1106 Accuracy 0.2240\n",
      "Epoch 6 Batch 150 Loss 3.1069 Accuracy 0.2248\n",
      "Epoch 6 Batch 200 Loss 3.1093 Accuracy 0.2241\n",
      "Epoch 6 Batch 250 Loss 3.1056 Accuracy 0.2249\n",
      "Epoch 6 Batch 300 Loss 3.0991 Accuracy 0.2258\n",
      "Epoch 6 Batch 350 Loss 3.0943 Accuracy 0.2262\n",
      "Epoch 6 Batch 400 Loss 3.0831 Accuracy 0.2270\n",
      "Epoch 6 Batch 450 Loss 3.0761 Accuracy 0.2276\n",
      "Epoch 6 Batch 500 Loss 3.0696 Accuracy 0.2279\n",
      "Epoch 6 Batch 550 Loss 3.0637 Accuracy 0.2285\n",
      "Epoch 6 Batch 600 Loss 3.0581 Accuracy 0.2289\n",
      "Epoch 6 Batch 650 Loss 3.0510 Accuracy 0.2293\n",
      "Epoch 6 Batch 700 Loss 3.0443 Accuracy 0.2296\n",
      "Epoch 6 Loss 3.0442 Accuracy 0.2297\n",
      "Time taken for 1 epoch: 511.67659997940063 secs\n",
      "\n",
      "Epoch 7 Batch 0 Loss 2.4876 Accuracy 0.2661\n",
      "Epoch 7 Batch 50 Loss 2.7171 Accuracy 0.2431\n",
      "Epoch 7 Batch 100 Loss 2.7289 Accuracy 0.2443\n",
      "Epoch 7 Batch 150 Loss 2.7334 Accuracy 0.2446\n",
      "Epoch 7 Batch 200 Loss 2.7254 Accuracy 0.2450\n",
      "Epoch 7 Batch 250 Loss 2.7168 Accuracy 0.2461\n",
      "Epoch 7 Batch 300 Loss 2.7088 Accuracy 0.2462\n",
      "Epoch 7 Batch 350 Loss 2.7039 Accuracy 0.2465\n",
      "Epoch 7 Batch 400 Loss 2.6999 Accuracy 0.2470\n",
      "Epoch 7 Batch 450 Loss 2.6934 Accuracy 0.2482\n",
      "Epoch 7 Batch 500 Loss 2.6876 Accuracy 0.2484\n",
      "Epoch 7 Batch 550 Loss 2.6816 Accuracy 0.2492\n",
      "Epoch 7 Batch 600 Loss 2.6777 Accuracy 0.2496\n",
      "Epoch 7 Batch 650 Loss 2.6724 Accuracy 0.2499\n",
      "Epoch 7 Batch 700 Loss 2.6695 Accuracy 0.2500\n",
      "Epoch 7 Loss 2.6690 Accuracy 0.2500\n",
      "Time taken for 1 epoch: 539.678959608078 secs\n",
      "\n",
      "Epoch 8 Batch 0 Loss 2.2584 Accuracy 0.2611\n",
      "Epoch 8 Batch 50 Loss 2.3637 Accuracy 0.2664\n",
      "Epoch 8 Batch 100 Loss 2.3633 Accuracy 0.2662\n",
      "Epoch 8 Batch 150 Loss 2.3631 Accuracy 0.2662\n",
      "Epoch 8 Batch 200 Loss 2.3634 Accuracy 0.2653\n",
      "Epoch 8 Batch 250 Loss 2.3644 Accuracy 0.2651\n",
      "Epoch 8 Batch 300 Loss 2.3664 Accuracy 0.2654\n",
      "Epoch 8 Batch 350 Loss 2.3659 Accuracy 0.2657\n",
      "Epoch 8 Batch 400 Loss 2.3658 Accuracy 0.2664\n",
      "Epoch 8 Batch 450 Loss 2.3650 Accuracy 0.2668\n",
      "Epoch 8 Batch 500 Loss 2.3640 Accuracy 0.2666\n",
      "Epoch 8 Batch 550 Loss 2.3645 Accuracy 0.2667\n",
      "Epoch 8 Batch 600 Loss 2.3641 Accuracy 0.2668\n",
      "Epoch 8 Batch 650 Loss 2.3623 Accuracy 0.2669\n",
      "Epoch 8 Batch 700 Loss 2.3622 Accuracy 0.2669\n",
      "Epoch 8 Loss 2.3621 Accuracy 0.2669\n",
      "Time taken for 1 epoch: 492.3042063713074 secs\n",
      "\n",
      "Epoch 9 Batch 0 Loss 2.0368 Accuracy 0.3248\n",
      "Epoch 9 Batch 50 Loss 2.0933 Accuracy 0.2820\n",
      "Epoch 9 Batch 100 Loss 2.1081 Accuracy 0.2816\n",
      "Epoch 9 Batch 150 Loss 2.1126 Accuracy 0.2793\n",
      "Epoch 9 Batch 200 Loss 2.1173 Accuracy 0.2792\n",
      "Epoch 9 Batch 250 Loss 2.1182 Accuracy 0.2799\n",
      "Epoch 9 Batch 300 Loss 2.1187 Accuracy 0.2801\n",
      "Epoch 9 Batch 350 Loss 2.1244 Accuracy 0.2801\n",
      "Epoch 9 Batch 400 Loss 2.1262 Accuracy 0.2807\n",
      "Epoch 9 Batch 450 Loss 2.1288 Accuracy 0.2811\n",
      "Epoch 9 Batch 500 Loss 2.1337 Accuracy 0.2808\n",
      "Epoch 9 Batch 550 Loss 2.1328 Accuracy 0.2807\n",
      "Epoch 9 Batch 600 Loss 2.1354 Accuracy 0.2810\n",
      "Epoch 9 Batch 650 Loss 2.1372 Accuracy 0.2808\n",
      "Epoch 9 Batch 700 Loss 2.1356 Accuracy 0.2808\n",
      "Epoch 9 Loss 2.1355 Accuracy 0.2809\n",
      "Time taken for 1 epoch: 498.2651798725128 secs\n",
      "\n",
      "Epoch 10 Batch 0 Loss 1.6944 Accuracy 0.3113\n",
      "Epoch 10 Batch 50 Loss 1.9048 Accuracy 0.2932\n",
      "Epoch 10 Batch 100 Loss 1.9154 Accuracy 0.2943\n",
      "Epoch 10 Batch 150 Loss 1.9282 Accuracy 0.2931\n",
      "Epoch 10 Batch 200 Loss 1.9360 Accuracy 0.2925\n",
      "Epoch 10 Batch 250 Loss 1.9401 Accuracy 0.2917\n",
      "Epoch 10 Batch 300 Loss 1.9435 Accuracy 0.2915\n",
      "Epoch 10 Batch 350 Loss 1.9491 Accuracy 0.2909\n",
      "Epoch 10 Batch 400 Loss 1.9514 Accuracy 0.2910\n",
      "Epoch 10 Batch 450 Loss 1.9508 Accuracy 0.2911\n",
      "Epoch 10 Batch 500 Loss 1.9543 Accuracy 0.2908\n",
      "Epoch 10 Batch 550 Loss 1.9562 Accuracy 0.2910\n",
      "Epoch 10 Batch 600 Loss 1.9595 Accuracy 0.2910\n",
      "Epoch 10 Batch 650 Loss 1.9607 Accuracy 0.2913\n",
      "Epoch 10 Batch 700 Loss 1.9609 Accuracy 0.2915\n",
      "Saving checkpoint for epoch 10 at ./checkpoints/train/ckpt-2\n",
      "Epoch 10 Loss 1.9609 Accuracy 0.2914\n",
      "Time taken for 1 epoch: 493.64124369621277 secs\n",
      "\n",
      "Epoch 11 Batch 0 Loss 1.7366 Accuracy 0.2887\n",
      "Epoch 11 Batch 50 Loss 1.7648 Accuracy 0.3028\n",
      "Epoch 11 Batch 100 Loss 1.7532 Accuracy 0.3015\n",
      "Epoch 11 Batch 150 Loss 1.7604 Accuracy 0.3020\n",
      "Epoch 11 Batch 200 Loss 1.7746 Accuracy 0.3018\n",
      "Epoch 11 Batch 250 Loss 1.7834 Accuracy 0.3015\n",
      "Epoch 11 Batch 300 Loss 1.7883 Accuracy 0.3023\n",
      "Epoch 11 Batch 350 Loss 1.7936 Accuracy 0.3020\n",
      "Epoch 11 Batch 400 Loss 1.7966 Accuracy 0.3017\n",
      "Epoch 11 Batch 450 Loss 1.7978 Accuracy 0.3015\n",
      "Epoch 11 Batch 500 Loss 1.8045 Accuracy 0.3008\n",
      "Epoch 11 Batch 550 Loss 1.8089 Accuracy 0.3004\n",
      "Epoch 11 Batch 600 Loss 1.8128 Accuracy 0.3002\n",
      "Epoch 11 Batch 650 Loss 1.8170 Accuracy 0.2997\n",
      "Epoch 11 Batch 700 Loss 1.8213 Accuracy 0.2995\n",
      "Epoch 11 Loss 1.8212 Accuracy 0.2994\n",
      "Time taken for 1 epoch: 491.76254391670227 secs\n",
      "\n",
      "Epoch 12 Batch 0 Loss 1.6197 Accuracy 0.3371\n",
      "Epoch 12 Batch 50 Loss 1.6544 Accuracy 0.3134\n",
      "Epoch 12 Batch 100 Loss 1.6563 Accuracy 0.3111\n",
      "Epoch 12 Batch 150 Loss 1.6581 Accuracy 0.3089\n",
      "Epoch 12 Batch 200 Loss 1.6635 Accuracy 0.3091\n",
      "Epoch 12 Batch 250 Loss 1.6696 Accuracy 0.3087\n",
      "Epoch 12 Batch 300 Loss 1.6770 Accuracy 0.3090\n",
      "Epoch 12 Batch 350 Loss 1.6799 Accuracy 0.3090\n",
      "Epoch 12 Batch 400 Loss 1.6820 Accuracy 0.3086\n",
      "Epoch 12 Batch 450 Loss 1.6837 Accuracy 0.3089\n",
      "Epoch 12 Batch 500 Loss 1.6878 Accuracy 0.3083\n",
      "Epoch 12 Batch 550 Loss 1.6942 Accuracy 0.3081\n",
      "Epoch 12 Batch 600 Loss 1.6998 Accuracy 0.3075\n",
      "Epoch 12 Batch 650 Loss 1.7038 Accuracy 0.3071\n",
      "Epoch 12 Batch 700 Loss 1.7076 Accuracy 0.3070\n",
      "Epoch 12 Loss 1.7075 Accuracy 0.3070\n",
      "Time taken for 1 epoch: 494.6272990703583 secs\n",
      "\n",
      "Epoch 13 Batch 0 Loss 1.5565 Accuracy 0.3225\n",
      "Epoch 13 Batch 50 Loss 1.5403 Accuracy 0.3161\n",
      "Epoch 13 Batch 100 Loss 1.5552 Accuracy 0.3171\n",
      "Epoch 13 Batch 150 Loss 1.5555 Accuracy 0.3193\n",
      "Epoch 13 Batch 200 Loss 1.5580 Accuracy 0.3170\n",
      "Epoch 13 Batch 250 Loss 1.5662 Accuracy 0.3152\n",
      "Epoch 13 Batch 300 Loss 1.5728 Accuracy 0.3149\n",
      "Epoch 13 Batch 350 Loss 1.5775 Accuracy 0.3145\n",
      "Epoch 13 Batch 400 Loss 1.5829 Accuracy 0.3144\n",
      "Epoch 13 Batch 450 Loss 1.5858 Accuracy 0.3137\n",
      "Epoch 13 Batch 500 Loss 1.5897 Accuracy 0.3135\n",
      "Epoch 13 Batch 550 Loss 1.5948 Accuracy 0.3134\n",
      "Epoch 13 Batch 600 Loss 1.5985 Accuracy 0.3131\n",
      "Epoch 13 Batch 650 Loss 1.6037 Accuracy 0.3132\n",
      "Epoch 13 Batch 700 Loss 1.6082 Accuracy 0.3129\n",
      "Epoch 13 Loss 1.6081 Accuracy 0.3129\n",
      "Time taken for 1 epoch: 490.12332820892334 secs\n",
      "\n",
      "Epoch 14 Batch 0 Loss 1.3113 Accuracy 0.3392\n",
      "Epoch 14 Batch 50 Loss 1.4566 Accuracy 0.3245\n",
      "Epoch 14 Batch 100 Loss 1.4557 Accuracy 0.3231\n",
      "Epoch 14 Batch 150 Loss 1.4578 Accuracy 0.3221\n",
      "Epoch 14 Batch 200 Loss 1.4678 Accuracy 0.3205\n",
      "Epoch 14 Batch 250 Loss 1.4721 Accuracy 0.3211\n",
      "Epoch 14 Batch 300 Loss 1.4787 Accuracy 0.3202\n",
      "Epoch 14 Batch 350 Loss 1.4853 Accuracy 0.3201\n",
      "Epoch 14 Batch 400 Loss 1.4913 Accuracy 0.3197\n",
      "Epoch 14 Batch 450 Loss 1.4972 Accuracy 0.3194\n",
      "Epoch 14 Batch 500 Loss 1.5001 Accuracy 0.3193\n",
      "Epoch 14 Batch 550 Loss 1.5049 Accuracy 0.3194\n",
      "Epoch 14 Batch 600 Loss 1.5105 Accuracy 0.3195\n",
      "Epoch 14 Batch 650 Loss 1.5173 Accuracy 0.3193\n",
      "Epoch 14 Batch 700 Loss 1.5227 Accuracy 0.3193\n",
      "Epoch 14 Loss 1.5231 Accuracy 0.3194\n",
      "Time taken for 1 epoch: 492.77263355255127 secs\n",
      "\n",
      "Epoch 15 Batch 0 Loss 1.3475 Accuracy 0.3612\n",
      "Epoch 15 Batch 50 Loss 1.3532 Accuracy 0.3303\n",
      "Epoch 15 Batch 100 Loss 1.3712 Accuracy 0.3273\n",
      "Epoch 15 Batch 150 Loss 1.3840 Accuracy 0.3247\n",
      "Epoch 15 Batch 200 Loss 1.3964 Accuracy 0.3241\n",
      "Epoch 15 Batch 250 Loss 1.4074 Accuracy 0.3242\n",
      "Epoch 15 Batch 300 Loss 1.4105 Accuracy 0.3247\n",
      "Epoch 15 Batch 350 Loss 1.4150 Accuracy 0.3253\n",
      "Epoch 15 Batch 400 Loss 1.4203 Accuracy 0.3255\n",
      "Epoch 15 Batch 450 Loss 1.4245 Accuracy 0.3259\n",
      "Epoch 15 Batch 500 Loss 1.4290 Accuracy 0.3248\n",
      "Epoch 15 Batch 550 Loss 1.4342 Accuracy 0.3250\n",
      "Epoch 15 Batch 600 Loss 1.4386 Accuracy 0.3245\n",
      "Epoch 15 Batch 650 Loss 1.4428 Accuracy 0.3242\n",
      "Epoch 15 Batch 700 Loss 1.4462 Accuracy 0.3240\n",
      "Saving checkpoint for epoch 15 at ./checkpoints/train/ckpt-3\n",
      "Epoch 15 Loss 1.4463 Accuracy 0.3240\n",
      "Time taken for 1 epoch: 491.0513415336609 secs\n",
      "\n",
      "Epoch 16 Batch 0 Loss 1.2405 Accuracy 0.3129\n",
      "Epoch 16 Batch 50 Loss 1.3212 Accuracy 0.3319\n",
      "Epoch 16 Batch 100 Loss 1.3126 Accuracy 0.3305\n",
      "Epoch 16 Batch 150 Loss 1.3212 Accuracy 0.3324\n",
      "Epoch 16 Batch 200 Loss 1.3249 Accuracy 0.3327\n",
      "Epoch 16 Batch 250 Loss 1.3335 Accuracy 0.3322\n",
      "Epoch 16 Batch 300 Loss 1.3406 Accuracy 0.3310\n",
      "Epoch 16 Batch 350 Loss 1.3473 Accuracy 0.3312\n",
      "Epoch 16 Batch 400 Loss 1.3535 Accuracy 0.3312\n",
      "Epoch 16 Batch 450 Loss 1.3571 Accuracy 0.3304\n",
      "Epoch 16 Batch 500 Loss 1.3628 Accuracy 0.3302\n",
      "Epoch 16 Batch 550 Loss 1.3665 Accuracy 0.3300\n",
      "Epoch 16 Batch 600 Loss 1.3717 Accuracy 0.3298\n",
      "Epoch 16 Batch 650 Loss 1.3750 Accuracy 0.3296\n",
      "Epoch 16 Batch 700 Loss 1.3804 Accuracy 0.3291\n",
      "Epoch 16 Loss 1.3805 Accuracy 0.3292\n",
      "Time taken for 1 epoch: 492.4188401699066 secs\n",
      "\n",
      "Epoch 17 Batch 0 Loss 1.3453 Accuracy 0.3015\n",
      "Epoch 17 Batch 50 Loss 1.2542 Accuracy 0.3398\n",
      "Epoch 17 Batch 100 Loss 1.2580 Accuracy 0.3359\n",
      "Epoch 17 Batch 150 Loss 1.2614 Accuracy 0.3367\n",
      "Epoch 17 Batch 200 Loss 1.2651 Accuracy 0.3368\n",
      "Epoch 17 Batch 250 Loss 1.2714 Accuracy 0.3361\n",
      "Epoch 17 Batch 300 Loss 1.2776 Accuracy 0.3352\n",
      "Epoch 17 Batch 350 Loss 1.2816 Accuracy 0.3353\n",
      "Epoch 17 Batch 400 Loss 1.2856 Accuracy 0.3348\n",
      "Epoch 17 Batch 450 Loss 1.2919 Accuracy 0.3343\n",
      "Epoch 17 Batch 500 Loss 1.2967 Accuracy 0.3342\n",
      "Epoch 17 Batch 550 Loss 1.3010 Accuracy 0.3343\n",
      "Epoch 17 Batch 600 Loss 1.3076 Accuracy 0.3343\n",
      "Epoch 17 Batch 650 Loss 1.3136 Accuracy 0.3339\n",
      "Epoch 17 Batch 700 Loss 1.3206 Accuracy 0.3332\n",
      "Epoch 17 Loss 1.3206 Accuracy 0.3332\n",
      "Time taken for 1 epoch: 489.45504212379456 secs\n",
      "\n",
      "Epoch 18 Batch 0 Loss 1.1286 Accuracy 0.3361\n",
      "Epoch 18 Batch 50 Loss 1.1952 Accuracy 0.3394\n",
      "Epoch 18 Batch 100 Loss 1.1987 Accuracy 0.3385\n",
      "Epoch 18 Batch 150 Loss 1.2053 Accuracy 0.3388\n",
      "Epoch 18 Batch 200 Loss 1.2098 Accuracy 0.3385\n",
      "Epoch 18 Batch 250 Loss 1.2176 Accuracy 0.3383\n",
      "Epoch 18 Batch 300 Loss 1.2244 Accuracy 0.3379\n",
      "Epoch 18 Batch 350 Loss 1.2313 Accuracy 0.3382\n",
      "Epoch 18 Batch 400 Loss 1.2345 Accuracy 0.3385\n",
      "Epoch 18 Batch 450 Loss 1.2409 Accuracy 0.3386\n",
      "Epoch 18 Batch 500 Loss 1.2436 Accuracy 0.3382\n",
      "Epoch 18 Batch 550 Loss 1.2501 Accuracy 0.3380\n",
      "Epoch 18 Batch 600 Loss 1.2561 Accuracy 0.3377\n",
      "Epoch 18 Batch 650 Loss 1.2616 Accuracy 0.3373\n",
      "Epoch 18 Batch 700 Loss 1.2673 Accuracy 0.3368\n",
      "Epoch 18 Loss 1.2675 Accuracy 0.3369\n",
      "Time taken for 1 epoch: 489.4435086250305 secs\n",
      "\n",
      "Epoch 19 Batch 0 Loss 1.1115 Accuracy 0.3249\n",
      "Epoch 19 Batch 50 Loss 1.1419 Accuracy 0.3481\n",
      "Epoch 19 Batch 100 Loss 1.1581 Accuracy 0.3453\n",
      "Epoch 19 Batch 150 Loss 1.1650 Accuracy 0.3455\n",
      "Epoch 19 Batch 200 Loss 1.1673 Accuracy 0.3449\n",
      "Epoch 19 Batch 250 Loss 1.1684 Accuracy 0.3448\n",
      "Epoch 19 Batch 300 Loss 1.1749 Accuracy 0.3436\n",
      "Epoch 19 Batch 350 Loss 1.1816 Accuracy 0.3434\n",
      "Epoch 19 Batch 400 Loss 1.1858 Accuracy 0.3434\n",
      "Epoch 19 Batch 450 Loss 1.1896 Accuracy 0.3432\n",
      "Epoch 19 Batch 500 Loss 1.1955 Accuracy 0.3424\n",
      "Epoch 19 Batch 550 Loss 1.2007 Accuracy 0.3421\n",
      "Epoch 19 Batch 600 Loss 1.2071 Accuracy 0.3416\n",
      "Epoch 19 Batch 650 Loss 1.2125 Accuracy 0.3410\n",
      "Epoch 19 Batch 700 Loss 1.2181 Accuracy 0.3401\n",
      "Epoch 19 Loss 1.2184 Accuracy 0.3402\n",
      "Time taken for 1 epoch: 489.25808906555176 secs\n",
      "\n",
      "Epoch 20 Batch 0 Loss 1.1533 Accuracy 0.3537\n",
      "Epoch 20 Batch 50 Loss 1.0855 Accuracy 0.3480\n",
      "Epoch 20 Batch 100 Loss 1.0959 Accuracy 0.3471\n",
      "Epoch 20 Batch 150 Loss 1.1050 Accuracy 0.3472\n",
      "Epoch 20 Batch 200 Loss 1.1160 Accuracy 0.3471\n",
      "Epoch 20 Batch 250 Loss 1.1220 Accuracy 0.3477\n",
      "Epoch 20 Batch 300 Loss 1.1277 Accuracy 0.3465\n",
      "Epoch 20 Batch 350 Loss 1.1335 Accuracy 0.3457\n",
      "Epoch 20 Batch 400 Loss 1.1398 Accuracy 0.3456\n",
      "Epoch 20 Batch 450 Loss 1.1456 Accuracy 0.3461\n",
      "Epoch 20 Batch 500 Loss 1.1510 Accuracy 0.3460\n",
      "Epoch 20 Batch 550 Loss 1.1582 Accuracy 0.3457\n",
      "Epoch 20 Batch 600 Loss 1.1619 Accuracy 0.3453\n",
      "Epoch 20 Batch 650 Loss 1.1673 Accuracy 0.3447\n",
      "Epoch 20 Batch 700 Loss 1.1724 Accuracy 0.3442\n",
      "Saving checkpoint for epoch 20 at ./checkpoints/train/ckpt-4\n",
      "Epoch 20 Loss 1.1724 Accuracy 0.3443\n",
      "Time taken for 1 epoch: 490.72425055503845 secs\n",
      "\n"
     ]
    }
   ],
   "source": [
    "for epoch in range(EPOCHS):\n",
    "  start = time.time()\n",
    "  \n",
    "  train_loss.reset_states()\n",
    "  train_accuracy.reset_states()\n",
    "  \n",
    "  # inp -> portuguese, tar -> english\n",
    "  for (batch, (inp, tar)) in enumerate(train_dataset):\n",
    "    train_step(inp, tar)\n",
    "    \n",
    "    if batch % 50 == 0:\n",
    "      print ('Epoch {} Batch {} Loss {:.4f} Accuracy {:.4f}'.format(\n",
    "          epoch + 1, batch, train_loss.result(), train_accuracy.result()))\n",
    "      \n",
    "  if (epoch + 1) % 5 == 0:\n",
    "    ckpt_save_path = ckpt_manager.save()\n",
    "    print ('Saving checkpoint for epoch {} at {}'.format(epoch+1,\n",
    "                                                         ckpt_save_path))\n",
    "    \n",
    "  print ('Epoch {} Loss {:.4f} Accuracy {:.4f}'.format(epoch + 1, \n",
    "                                                train_loss.result(), \n",
    "                                                train_accuracy.result()))\n",
    "\n",
    "  print ('Time taken for 1 epoch: {} secs\\n'.format(time.time() - start))"
   ]
  },
  {
   "cell_type": "markdown",
   "metadata": {
    "id": "QfcsSWswSdGV"
   },
   "source": [
    "## Evaluate"
   ]
  },
  {
   "cell_type": "markdown",
   "metadata": {
    "id": "y6APsFrgImLW"
   },
   "source": [
    "The following steps are used for evaluation:\n",
    "\n",
    "* Encode the input sentence using the Portuguese tokenizer (`tokenizer_pt`). Moreover, add the start and end token so the input is equivalent to what the model is trained with. This is the encoder input.\n",
    "* The decoder input is the `start token == tokenizer_en.vocab_size`.\n",
    "* Calculate the padding masks and the look ahead masks.\n",
    "* The `decoder` then outputs the predictions by looking at the `encoder output` and its own output (self-attention).\n",
    "* Select the last word and calculate the argmax of that.\n",
    "* Concatentate the predicted word to the decoder input as pass it to the decoder.\n",
    "* In this approach, the decoder predicts the next word based on the previous words it predicted.\n",
    "\n",
    "Note: The model used here has less capacity to keep the example relatively faster so the predictions maybe less right. To reproduce the results in the paper, use the entire dataset and base transformer model or transformer XL, by changing the hyperparameters above."
   ]
  },
  {
   "cell_type": "code",
   "execution_count": 57,
   "metadata": {
    "id": "5buvMlnvyrFm"
   },
   "outputs": [],
   "source": [
    "def evaluate(inp_sentence):\n",
    "  start_token = [tokenizer_pt.vocab_size]\n",
    "  end_token = [tokenizer_pt.vocab_size + 1]\n",
    "  \n",
    "  # inp sentence is portuguese, hence adding the start and end token\n",
    "  inp_sentence = start_token + tokenizer_pt.encode(inp_sentence) + end_token\n",
    "  encoder_input = tf.expand_dims(inp_sentence, 0)\n",
    "  \n",
    "  # as the target is english, the first word to the transformer should be the\n",
    "  # english start token.\n",
    "  decoder_input = [tokenizer_en.vocab_size]\n",
    "  output = tf.expand_dims(decoder_input, 0)\n",
    "    \n",
    "  for i in range(MAX_LENGTH):\n",
    "    enc_padding_mask, combined_mask, dec_padding_mask = create_masks(\n",
    "        encoder_input, output)\n",
    "  \n",
    "    # predictions.shape == (batch_size, seq_len, vocab_size)\n",
    "    predictions, attention_weights = transformer(encoder_input, \n",
    "                                                 output,\n",
    "                                                 False,\n",
    "                                                 enc_padding_mask,\n",
    "                                                 combined_mask,\n",
    "                                                 dec_padding_mask)\n",
    "    \n",
    "    # select the last word from the seq_len dimension\n",
    "    predictions = predictions[: ,-1:, :]  # (batch_size, 1, vocab_size)\n",
    "\n",
    "    predicted_id = tf.cast(tf.argmax(predictions, axis=-1), tf.int32)\n",
    "    \n",
    "    # return the result if the predicted_id is equal to the end token\n",
    "    if predicted_id == tokenizer_en.vocab_size+1:\n",
    "      return tf.squeeze(output, axis=0), attention_weights\n",
    "    \n",
    "    # concatentate the predicted_id to the output which is given to the decoder\n",
    "    # as its input.\n",
    "    output = tf.concat([output, predicted_id], axis=-1)\n",
    "\n",
    "  return tf.squeeze(output, axis=0), attention_weights"
   ]
  },
  {
   "cell_type": "code",
   "execution_count": 58,
   "metadata": {
    "id": "CN-BV43FMBej"
   },
   "outputs": [],
   "source": [
    "def plot_attention_weights(attention, sentence, result, layer):\n",
    "  fig = plt.figure(figsize=(16, 8))\n",
    "  \n",
    "  sentence = tokenizer_pt.encode(sentence)\n",
    "  \n",
    "  attention = tf.squeeze(attention[layer], axis=0)\n",
    "  \n",
    "  for head in range(attention.shape[0]):\n",
    "    ax = fig.add_subplot(2, 4, head+1)\n",
    "    \n",
    "    # plot the attention weights\n",
    "    ax.matshow(attention[head][:-1, :], cmap='viridis')\n",
    "\n",
    "    fontdict = {'fontsize': 10}\n",
    "    \n",
    "    ax.set_xticks(range(len(sentence)+2))\n",
    "    ax.set_yticks(range(len(result)))\n",
    "    \n",
    "    ax.set_ylim(len(result)-1.5, -0.5)\n",
    "        \n",
    "    ax.set_xticklabels(\n",
    "        ['<start>']+[tokenizer_pt.decode([i]) for i in sentence]+['<end>'], \n",
    "        fontdict=fontdict, rotation=90)\n",
    "    \n",
    "    ax.set_yticklabels([tokenizer_en.decode([i]) for i in result \n",
    "                        if i < tokenizer_en.vocab_size], \n",
    "                       fontdict=fontdict)\n",
    "    \n",
    "    ax.set_xlabel('Head {}'.format(head+1))\n",
    "  \n",
    "  plt.tight_layout()\n",
    "  plt.show()"
   ]
  },
  {
   "cell_type": "code",
   "execution_count": 59,
   "metadata": {
    "id": "lU2_yG_vBGza"
   },
   "outputs": [],
   "source": [
    "def translate(sentence, plot=''):\n",
    "  result, attention_weights = evaluate(sentence)\n",
    "  \n",
    "  predicted_sentence = tokenizer_en.decode([i for i in result \n",
    "                                            if i < tokenizer_en.vocab_size])  \n",
    "\n",
    "  print('Input: {}'.format(sentence))\n",
    "  print('Predicted translation: {}'.format(predicted_sentence))\n",
    "  \n",
    "  if plot:\n",
    "    plot_attention_weights(attention_weights, sentence, result, plot)"
   ]
  },
  {
   "cell_type": "code",
   "execution_count": 60,
   "metadata": {
    "colab": {
     "base_uri": "https://localhost:8080/",
     "height": 68
    },
    "id": "YsxrAlvFG8SZ",
    "outputId": "aef5a4f6-81b0-4f13-e125-8b2cef11039b"
   },
   "outputs": [
    {
     "name": "stdout",
     "output_type": "stream",
     "text": [
      "Input: este é um problema que temos que resolver.\n",
      "Predicted translation: this is a problem that we have to solve is that we have to solve with us .\n",
      "Real translation: this is a problem we have to solve .\n"
     ]
    }
   ],
   "source": [
    "translate(\"este é um problema que temos que resolver.\")\n",
    "print (\"Real translation: this is a problem we have to solve .\")"
   ]
  },
  {
   "cell_type": "code",
   "execution_count": 61,
   "metadata": {
    "colab": {
     "base_uri": "https://localhost:8080/",
     "height": 68
    },
    "id": "7EH5y_aqI4t1",
    "outputId": "ab2f5ed1-3de1-4dff-8234-288f242706a7"
   },
   "outputs": [
    {
     "name": "stdout",
     "output_type": "stream",
     "text": [
      "Input: os meus vizinhos ouviram sobre esta ideia.\n",
      "Predicted translation: my neighbors heard about this idea .\n",
      "Real translation: and my neighboring homes heard about this idea .\n"
     ]
    }
   ],
   "source": [
    "translate(\"os meus vizinhos ouviram sobre esta ideia.\")\n",
    "print (\"Real translation: and my neighboring homes heard about this idea .\")"
   ]
  },
  {
   "cell_type": "code",
   "execution_count": 62,
   "metadata": {
    "colab": {
     "base_uri": "https://localhost:8080/",
     "height": 68
    },
    "id": "J-hVCTSUMlkb",
    "outputId": "c64aea2d-876b-4e2a-aca3-2203c9ae3a2a"
   },
   "outputs": [
    {
     "name": "stdout",
     "output_type": "stream",
     "text": [
      "Input: vou então muito rapidamente partilhar convosco algumas histórias de algumas coisas mágicas que aconteceram.\n",
      "Predicted translation: so i 'll quickly share a few key stories that happened with you some magic things that happened to .\n",
      "Real translation: so i 'll just share with you some stories very quickly of some magical things that have happened .\n"
     ]
    }
   ],
   "source": [
    "translate(\"vou então muito rapidamente partilhar convosco algumas histórias de algumas coisas mágicas que aconteceram.\")\n",
    "print (\"Real translation: so i 'll just share with you some stories very quickly of some magical things that have happened .\")"
   ]
  },
  {
   "cell_type": "markdown",
   "metadata": {
    "id": "_1MxkSZvz0jX"
   },
   "source": [
    "You can pass different layers and attention blocks of the decoder to the `plot` parameter."
   ]
  },
  {
   "cell_type": "code",
   "execution_count": 63,
   "metadata": {
    "colab": {
     "base_uri": "https://localhost:8080/",
     "height": 597
    },
    "id": "t-kFyiOLH0xg",
    "outputId": "19d690fe-6574-466a-951d-b8e339dedae0"
   },
   "outputs": [
    {
     "name": "stdout",
     "output_type": "stream",
     "text": [
      "Input: este é o primeiro livro que eu fiz.\n",
      "Predicted translation: this is the first book i did that .\n"
     ]
    },
    {
     "ename": "ValueError",
     "evalue": "The number of FixedLocator locations (10), usually from a call to set_ticks, does not match the number of ticklabels (9).",
     "output_type": "error",
     "traceback": [
      "\u001b[0;31m---------------------------------------------------------------------------\u001b[0m",
      "\u001b[0;31mValueError\u001b[0m                                Traceback (most recent call last)",
      "\u001b[0;32m/tmp/ipykernel_1432/224384108.py\u001b[0m in \u001b[0;36m<module>\u001b[0;34m\u001b[0m\n\u001b[0;32m----> 1\u001b[0;31m \u001b[0mtranslate\u001b[0m\u001b[0;34m(\u001b[0m\u001b[0;34m\"este é o primeiro livro que eu fiz.\"\u001b[0m\u001b[0;34m,\u001b[0m \u001b[0mplot\u001b[0m\u001b[0;34m=\u001b[0m\u001b[0;34m'decoder_layer4_block2'\u001b[0m\u001b[0;34m)\u001b[0m\u001b[0;34m\u001b[0m\u001b[0;34m\u001b[0m\u001b[0m\n\u001b[0m\u001b[1;32m      2\u001b[0m \u001b[0mprint\u001b[0m \u001b[0;34m(\u001b[0m\u001b[0;34m\"Real translation: this is the first book i've ever done.\"\u001b[0m\u001b[0;34m)\u001b[0m\u001b[0;34m\u001b[0m\u001b[0;34m\u001b[0m\u001b[0m\n",
      "\u001b[0;32m/tmp/ipykernel_1432/3205341418.py\u001b[0m in \u001b[0;36mtranslate\u001b[0;34m(sentence, plot)\u001b[0m\n\u001b[1;32m      9\u001b[0m \u001b[0;34m\u001b[0m\u001b[0m\n\u001b[1;32m     10\u001b[0m   \u001b[0;32mif\u001b[0m \u001b[0mplot\u001b[0m\u001b[0;34m:\u001b[0m\u001b[0;34m\u001b[0m\u001b[0;34m\u001b[0m\u001b[0m\n\u001b[0;32m---> 11\u001b[0;31m     \u001b[0mplot_attention_weights\u001b[0m\u001b[0;34m(\u001b[0m\u001b[0mattention_weights\u001b[0m\u001b[0;34m,\u001b[0m \u001b[0msentence\u001b[0m\u001b[0;34m,\u001b[0m \u001b[0mresult\u001b[0m\u001b[0;34m,\u001b[0m \u001b[0mplot\u001b[0m\u001b[0;34m)\u001b[0m\u001b[0;34m\u001b[0m\u001b[0;34m\u001b[0m\u001b[0m\n\u001b[0m",
      "\u001b[0;32m/tmp/ipykernel_1432/3892284352.py\u001b[0m in \u001b[0;36mplot_attention_weights\u001b[0;34m(attention, sentence, result, layer)\u001b[0m\n\u001b[1;32m     23\u001b[0m         fontdict=fontdict, rotation=90)\n\u001b[1;32m     24\u001b[0m \u001b[0;34m\u001b[0m\u001b[0m\n\u001b[0;32m---> 25\u001b[0;31m     ax.set_yticklabels([tokenizer_en.decode([i]) for i in result \n\u001b[0m\u001b[1;32m     26\u001b[0m                         if i < tokenizer_en.vocab_size], \n\u001b[1;32m     27\u001b[0m                        fontdict=fontdict)\n",
      "\u001b[0;32m~/.conda/envs/default/lib/python3.9/site-packages/matplotlib/axes/_base.py\u001b[0m in \u001b[0;36mwrapper\u001b[0;34m(self, *args, **kwargs)\u001b[0m\n\u001b[1;32m     73\u001b[0m \u001b[0;34m\u001b[0m\u001b[0m\n\u001b[1;32m     74\u001b[0m         \u001b[0;32mdef\u001b[0m \u001b[0mwrapper\u001b[0m\u001b[0;34m(\u001b[0m\u001b[0mself\u001b[0m\u001b[0;34m,\u001b[0m \u001b[0;34m*\u001b[0m\u001b[0margs\u001b[0m\u001b[0;34m,\u001b[0m \u001b[0;34m**\u001b[0m\u001b[0mkwargs\u001b[0m\u001b[0;34m)\u001b[0m\u001b[0;34m:\u001b[0m\u001b[0;34m\u001b[0m\u001b[0;34m\u001b[0m\u001b[0m\n\u001b[0;32m---> 75\u001b[0;31m             \u001b[0;32mreturn\u001b[0m \u001b[0mget_method\u001b[0m\u001b[0;34m(\u001b[0m\u001b[0mself\u001b[0m\u001b[0;34m)\u001b[0m\u001b[0;34m(\u001b[0m\u001b[0;34m*\u001b[0m\u001b[0margs\u001b[0m\u001b[0;34m,\u001b[0m \u001b[0;34m**\u001b[0m\u001b[0mkwargs\u001b[0m\u001b[0;34m)\u001b[0m\u001b[0;34m\u001b[0m\u001b[0;34m\u001b[0m\u001b[0m\n\u001b[0m\u001b[1;32m     76\u001b[0m \u001b[0;34m\u001b[0m\u001b[0m\n\u001b[1;32m     77\u001b[0m         \u001b[0mwrapper\u001b[0m\u001b[0;34m.\u001b[0m\u001b[0m__module__\u001b[0m \u001b[0;34m=\u001b[0m \u001b[0mowner\u001b[0m\u001b[0;34m.\u001b[0m\u001b[0m__module__\u001b[0m\u001b[0;34m\u001b[0m\u001b[0;34m\u001b[0m\u001b[0m\n",
      "\u001b[0;32m~/.conda/envs/default/lib/python3.9/site-packages/matplotlib/axis.py\u001b[0m in \u001b[0;36m_set_ticklabels\u001b[0;34m(self, labels, fontdict, minor, **kwargs)\u001b[0m\n\u001b[1;32m   1796\u001b[0m         \u001b[0;32mif\u001b[0m \u001b[0mfontdict\u001b[0m \u001b[0;32mis\u001b[0m \u001b[0;32mnot\u001b[0m \u001b[0;32mNone\u001b[0m\u001b[0;34m:\u001b[0m\u001b[0;34m\u001b[0m\u001b[0;34m\u001b[0m\u001b[0m\n\u001b[1;32m   1797\u001b[0m             \u001b[0mkwargs\u001b[0m\u001b[0;34m.\u001b[0m\u001b[0mupdate\u001b[0m\u001b[0;34m(\u001b[0m\u001b[0mfontdict\u001b[0m\u001b[0;34m)\u001b[0m\u001b[0;34m\u001b[0m\u001b[0;34m\u001b[0m\u001b[0m\n\u001b[0;32m-> 1798\u001b[0;31m         \u001b[0;32mreturn\u001b[0m \u001b[0mself\u001b[0m\u001b[0;34m.\u001b[0m\u001b[0mset_ticklabels\u001b[0m\u001b[0;34m(\u001b[0m\u001b[0mlabels\u001b[0m\u001b[0;34m,\u001b[0m \u001b[0mminor\u001b[0m\u001b[0;34m=\u001b[0m\u001b[0mminor\u001b[0m\u001b[0;34m,\u001b[0m \u001b[0;34m**\u001b[0m\u001b[0mkwargs\u001b[0m\u001b[0;34m)\u001b[0m\u001b[0;34m\u001b[0m\u001b[0;34m\u001b[0m\u001b[0m\n\u001b[0m\u001b[1;32m   1799\u001b[0m \u001b[0;34m\u001b[0m\u001b[0m\n\u001b[1;32m   1800\u001b[0m     \u001b[0;32mdef\u001b[0m \u001b[0m_set_tick_locations\u001b[0m\u001b[0;34m(\u001b[0m\u001b[0mself\u001b[0m\u001b[0;34m,\u001b[0m \u001b[0mticks\u001b[0m\u001b[0;34m,\u001b[0m \u001b[0;34m*\u001b[0m\u001b[0;34m,\u001b[0m \u001b[0mminor\u001b[0m\u001b[0;34m=\u001b[0m\u001b[0;32mFalse\u001b[0m\u001b[0;34m)\u001b[0m\u001b[0;34m:\u001b[0m\u001b[0;34m\u001b[0m\u001b[0;34m\u001b[0m\u001b[0m\n",
      "\u001b[0;32m~/.conda/envs/default/lib/python3.9/site-packages/matplotlib/axis.py\u001b[0m in \u001b[0;36mset_ticklabels\u001b[0;34m(self, ticklabels, minor, **kwargs)\u001b[0m\n\u001b[1;32m   1718\u001b[0m             \u001b[0;31m# remove all tick labels, so only error for > 0 ticklabels\u001b[0m\u001b[0;34m\u001b[0m\u001b[0;34m\u001b[0m\u001b[0m\n\u001b[1;32m   1719\u001b[0m             \u001b[0;32mif\u001b[0m \u001b[0mlen\u001b[0m\u001b[0;34m(\u001b[0m\u001b[0mlocator\u001b[0m\u001b[0;34m.\u001b[0m\u001b[0mlocs\u001b[0m\u001b[0;34m)\u001b[0m \u001b[0;34m!=\u001b[0m \u001b[0mlen\u001b[0m\u001b[0;34m(\u001b[0m\u001b[0mticklabels\u001b[0m\u001b[0;34m)\u001b[0m \u001b[0;32mand\u001b[0m \u001b[0mlen\u001b[0m\u001b[0;34m(\u001b[0m\u001b[0mticklabels\u001b[0m\u001b[0;34m)\u001b[0m \u001b[0;34m!=\u001b[0m \u001b[0;36m0\u001b[0m\u001b[0;34m:\u001b[0m\u001b[0;34m\u001b[0m\u001b[0;34m\u001b[0m\u001b[0m\n\u001b[0;32m-> 1720\u001b[0;31m                 raise ValueError(\n\u001b[0m\u001b[1;32m   1721\u001b[0m                     \u001b[0;34m\"The number of FixedLocator locations\"\u001b[0m\u001b[0;34m\u001b[0m\u001b[0;34m\u001b[0m\u001b[0m\n\u001b[1;32m   1722\u001b[0m                     \u001b[0;34mf\" ({len(locator.locs)}), usually from a call to\"\u001b[0m\u001b[0;34m\u001b[0m\u001b[0;34m\u001b[0m\u001b[0m\n",
      "\u001b[0;31mValueError\u001b[0m: The number of FixedLocator locations (10), usually from a call to set_ticks, does not match the number of ticklabels (9)."
     ]
    },
    {
     "data": {
      "image/png": "[encoded data removed]",
      "text/plain": [
       "<Figure size 1152x576 with 1 Axes>"
      ]
     },
     "metadata": {
      "needs_background": "light"
     },
     "output_type": "display_data"
    }
   ],
   "source": [
    "translate(\"este é o primeiro livro que eu fiz.\", plot='decoder_layer4_block2')\n",
    "print (\"Real translation: this is the first book i've ever done.\")"
   ]
  },
  {
   "cell_type": "markdown",
   "metadata": {
    "id": "RqQ1fIsLwkGE"
   },
   "source": [
    "## Summary\n",
    "\n",
    "In this tutorial, you learned about positional encoding, multi-head attention, the importance of masking and how to create a transformer.\n",
    "\n",
    "Try using a different dataset to train the transformer. You can also create the base transformer or transformer XL by changing the hyperparameters above. You can also use the layers defined here to create [BERT](https://arxiv.org/abs/1810.04805) and train state of the art models. Futhermore, you can implement beam search to get better predictions."
   ]
  },
  {
   "cell_type": "code",
   "execution_count": null,
   "metadata": {},
   "outputs": [],
   "source": []
  },
  {
   "cell_type": "code",
   "execution_count": null,
   "metadata": {},
   "outputs": [],
   "source": []
  }
 ],
 "metadata": {
  "accelerator": "GPU",
  "colab": {
   "collapsed_sections": [
    "s_qNSzzyaCbD"
   ],
   "name": "transformer.ipynb",
   "provenance": []
  },
  "kernelspec": {
   "display_name": "default:Python",
   "language": "python",
   "name": "conda-env-default-py"
  },
  "language_info": {
   "codemirror_mode": {
    "name": "ipython",
    "version": 3
   },
   "file_extension": ".py",
   "mimetype": "text/x-python",
   "name": "python",
   "nbconvert_exporter": "python",
   "pygments_lexer": "ipython3",
   "version": "3.9.10"
  },
  "widgets": {
   "application/vnd.jupyter.widget-state+json": {
    "00d965907ea54f548f2cbf7b6d87aafb": {
     "model_module": "@jupyter-widgets/controls",
     "model_module_version": "1.5.0",
     "model_name": "HBoxModel",
     "state": {
      "_dom_classes": [],
      "_model_module": "@jupyter-widgets/controls",
      "_model_module_version": "1.5.0",
      "_model_name": "HBoxModel",
      "_view_count": null,
      "_view_module": "@jupyter-widgets/controls",
      "_view_module_version": "1.5.0",
      "_view_name": "HBoxView",
      "box_style": "",
      "children": [
       "IPY_MODEL_787336543eef407c872c5d773c606d4a",
       "IPY_MODEL_8e4e9f9c4ee74e18b78419f401d93296"
      ],
      "layout": "IPY_MODEL_46bba18ec1bb4190b048b42018a99b5d"
     }
    },
    "011c835949444bd1ab2b476418935e14": {
     "model_module": "@jupyter-widgets/controls",
     "model_module_version": "1.5.0",
     "model_name": "DescriptionStyleModel",
     "state": {
      "_model_module": "@jupyter-widgets/controls",
      "_model_module_version": "1.5.0",
      "_model_name": "DescriptionStyleModel",
      "_view_count": null,
      "_view_module": "@jupyter-widgets/base",
      "_view_module_version": "1.2.0",
      "_view_name": "StyleView",
      "description_width": ""
     }
    },
    "0eef81524c1e4208a1b4f9187370f234": {
     "model_module": "@jupyter-widgets/controls",
     "model_module_version": "1.5.0",
     "model_name": "HTMLModel",
     "state": {
      "_dom_classes": [],
      "_model_module": "@jupyter-widgets/controls",
      "_model_module_version": "1.5.0",
      "_model_name": "HTMLModel",
      "_view_count": null,
      "_view_module": "@jupyter-widgets/controls",
      "_view_module_version": "1.5.0",
      "_view_name": "HTMLView",
      "description": "",
      "description_tooltip": null,
      "layout": "IPY_MODEL_cddc3a5f861641e08bed9ee941b28aa9",
      "placeholder": "​",
      "style": "IPY_MODEL_57c7a49ae47c4f7fa13fed316cf496a4",
      "value": " 51785/0 [00:08&lt;00:00, 6140.75 examples/s]"
     }
    },
    "1aabc83615fc4e0ea7e156667e9afc25": {
     "model_module": "@jupyter-widgets/controls",
     "model_module_version": "1.5.0",
     "model_name": "FloatProgressModel",
     "state": {
      "_dom_classes": [],
      "_model_module": "@jupyter-widgets/controls",
      "_model_module_version": "1.5.0",
      "_model_name": "FloatProgressModel",
      "_view_count": null,
      "_view_module": "@jupyter-widgets/controls",
      "_view_module_version": "1.5.0",
      "_view_name": "ProgressView",
      "bar_style": "danger",
      "description": " 99%",
      "description_tooltip": null,
      "layout": "IPY_MODEL_6c8340cc16c3481482f44085e28652f5",
      "max": 51785,
      "min": 0,
      "orientation": "horizontal",
      "style": "IPY_MODEL_a811b2d73b4647958b4a239f6aef23e0",
      "value": 51307
     }
    },
    "1c7658fff0e04310a8404190e3dae445": {
     "model_module": "@jupyter-widgets/controls",
     "model_module_version": "1.5.0",
     "model_name": "HTMLModel",
     "state": {
      "_dom_classes": [],
      "_model_module": "@jupyter-widgets/controls",
      "_model_module_version": "1.5.0",
      "_model_name": "HTMLModel",
      "_view_count": null,
      "_view_module": "@jupyter-widgets/controls",
      "_view_module_version": "1.5.0",
      "_view_name": "HTMLView",
      "description": "",
      "description_tooltip": null,
      "layout": "IPY_MODEL_996391e003e7494e9dd5ced13a11c3a7",
      "placeholder": "​",
      "style": "IPY_MODEL_28888f4390614adb90def588d14b9c4c",
      "value": " 1193/0 [00:00&lt;00:00, 3330.59 examples/s]"
     }
    },
    "2119f344d51c4819a682e65f1bd591bf": {
     "model_module": "@jupyter-widgets/controls",
     "model_module_version": "1.5.0",
     "model_name": "HTMLModel",
     "state": {
      "_dom_classes": [],
      "_model_module": "@jupyter-widgets/controls",
      "_model_module_version": "1.5.0",
      "_model_name": "HTMLModel",
      "_view_count": null,
      "_view_module": "@jupyter-widgets/controls",
      "_view_module_version": "1.5.0",
      "_view_name": "HTMLView",
      "description": "",
      "description_tooltip": null,
      "layout": "IPY_MODEL_735775ca7551495caeccc87048de3f32",
      "placeholder": "​",
      "style": "IPY_MODEL_7bc7362d91834b2fbdd2a949fe06b89e",
      "value": " 51307/51785 [00:00&lt;00:00, 82947.36 examples/s]"
     }
    },
    "226a324440854a2cb0d853ad463110f4": {
     "model_module": "@jupyter-widgets/base",
     "model_module_version": "1.2.0",
     "model_name": "LayoutModel",
     "state": {
      "_model_module": "@jupyter-widgets/base",
      "_model_module_version": "1.2.0",
      "_model_name": "LayoutModel",
      "_view_count": null,
      "_view_module": "@jupyter-widgets/base",
      "_view_module_version": "1.2.0",
      "_view_name": "LayoutView",
      "align_content": null,
      "align_items": null,
      "align_self": null,
      "border": null,
      "bottom": null,
      "display": null,
      "flex": null,
      "flex_flow": null,
      "grid_area": null,
      "grid_auto_columns": null,
      "grid_auto_flow": null,
      "grid_auto_rows": null,
      "grid_column": null,
      "grid_gap": null,
      "grid_row": null,
      "grid_template_areas": null,
      "grid_template_columns": null,
      "grid_template_rows": null,
      "height": null,
      "justify_content": null,
      "justify_items": null,
      "left": null,
      "margin": null,
      "max_height": null,
      "max_width": null,
      "min_height": null,
      "min_width": null,
      "object_fit": null,
      "object_position": null,
      "order": null,
      "overflow": null,
      "overflow_x": null,
      "overflow_y": null,
      "padding": null,
      "right": null,
      "top": null,
      "visibility": null,
      "width": null
     }
    },
    "239af0c81b7d47b09f91ea24669d1843": {
     "model_module": "@jupyter-widgets/controls",
     "model_module_version": "1.5.0",
     "model_name": "HTMLModel",
     "state": {
      "_dom_classes": [],
      "_model_module": "@jupyter-widgets/controls",
      "_model_module_version": "1.5.0",
      "_model_name": "HTMLModel",
      "_view_count": null,
      "_view_module": "@jupyter-widgets/controls",
      "_view_module_version": "1.5.0",
      "_view_name": "HTMLView",
      "description": "",
      "description_tooltip": null,
      "layout": "IPY_MODEL_9e681e21f2074d52b05844f52cc2649a",
      "placeholder": "​",
      "style": "IPY_MODEL_b687fae4a86b47358210cfaf6dcbe536",
      "value": " 1/1 [00:08&lt;00:00,  8.59s/ url]"
     }
    },
    "28888f4390614adb90def588d14b9c4c": {
     "model_module": "@jupyter-widgets/controls",
     "model_module_version": "1.5.0",
     "model_name": "DescriptionStyleModel",
     "state": {
      "_model_module": "@jupyter-widgets/controls",
      "_model_module_version": "1.5.0",
      "_model_name": "DescriptionStyleModel",
      "_view_count": null,
      "_view_module": "@jupyter-widgets/base",
      "_view_module_version": "1.2.0",
      "_view_name": "StyleView",
      "description_width": ""
     }
    },
    "2cae7eb037a84fef80cb1ab5c8c7351c": {
     "model_module": "@jupyter-widgets/base",
     "model_module_version": "1.2.0",
     "model_name": "LayoutModel",
     "state": {
      "_model_module": "@jupyter-widgets/base",
      "_model_module_version": "1.2.0",
      "_model_name": "LayoutModel",
      "_view_count": null,
      "_view_module": "@jupyter-widgets/base",
      "_view_module_version": "1.2.0",
      "_view_name": "LayoutView",
      "align_content": null,
      "align_items": null,
      "align_self": null,
      "border": null,
      "bottom": null,
      "display": null,
      "flex": null,
      "flex_flow": null,
      "grid_area": null,
      "grid_auto_columns": null,
      "grid_auto_flow": null,
      "grid_auto_rows": null,
      "grid_column": null,
      "grid_gap": null,
      "grid_row": null,
      "grid_template_areas": null,
      "grid_template_columns": null,
      "grid_template_rows": null,
      "height": null,
      "justify_content": null,
      "justify_items": null,
      "left": null,
      "margin": null,
      "max_height": null,
      "max_width": null,
      "min_height": null,
      "min_width": null,
      "object_fit": null,
      "object_position": null,
      "order": null,
      "overflow": null,
      "overflow_x": null,
      "overflow_y": null,
      "padding": null,
      "right": null,
      "top": null,
      "visibility": null,
      "width": null
     }
    },
    "2e24dd755d764a6ca40319c63aeb70f2": {
     "model_module": "@jupyter-widgets/base",
     "model_module_version": "1.2.0",
     "model_name": "LayoutModel",
     "state": {
      "_model_module": "@jupyter-widgets/base",
      "_model_module_version": "1.2.0",
      "_model_name": "LayoutModel",
      "_view_count": null,
      "_view_module": "@jupyter-widgets/base",
      "_view_module_version": "1.2.0",
      "_view_name": "LayoutView",
      "align_content": null,
      "align_items": null,
      "align_self": null,
      "border": null,
      "bottom": null,
      "display": null,
      "flex": null,
      "flex_flow": null,
      "grid_area": null,
      "grid_auto_columns": null,
      "grid_auto_flow": null,
      "grid_auto_rows": null,
      "grid_column": null,
      "grid_gap": null,
      "grid_row": null,
      "grid_template_areas": null,
      "grid_template_columns": null,
      "grid_template_rows": null,
      "height": null,
      "justify_content": null,
      "justify_items": null,
      "left": null,
      "margin": null,
      "max_height": null,
      "max_width": null,
      "min_height": null,
      "min_width": null,
      "object_fit": null,
      "object_position": null,
      "order": null,
      "overflow": null,
      "overflow_x": null,
      "overflow_y": null,
      "padding": null,
      "right": null,
      "top": null,
      "visibility": null,
      "width": null
     }
    },
    "32d7e2c9746d4352a6ca769aa830768e": {
     "model_module": "@jupyter-widgets/controls",
     "model_module_version": "1.5.0",
     "model_name": "ProgressStyleModel",
     "state": {
      "_model_module": "@jupyter-widgets/controls",
      "_model_module_version": "1.5.0",
      "_model_name": "ProgressStyleModel",
      "_view_count": null,
      "_view_module": "@jupyter-widgets/base",
      "_view_module_version": "1.2.0",
      "_view_name": "StyleView",
      "bar_color": null,
      "description_width": "initial"
     }
    },
    "375ded31dfff40ef9c51cf8802b96e3f": {
     "model_module": "@jupyter-widgets/base",
     "model_module_version": "1.2.0",
     "model_name": "LayoutModel",
     "state": {
      "_model_module": "@jupyter-widgets/base",
      "_model_module_version": "1.2.0",
      "_model_name": "LayoutModel",
      "_view_count": null,
      "_view_module": "@jupyter-widgets/base",
      "_view_module_version": "1.2.0",
      "_view_name": "LayoutView",
      "align_content": null,
      "align_items": null,
      "align_self": null,
      "border": null,
      "bottom": null,
      "display": null,
      "flex": null,
      "flex_flow": null,
      "grid_area": null,
      "grid_auto_columns": null,
      "grid_auto_flow": null,
      "grid_auto_rows": null,
      "grid_column": null,
      "grid_gap": null,
      "grid_row": null,
      "grid_template_areas": null,
      "grid_template_columns": null,
      "grid_template_rows": null,
      "height": null,
      "justify_content": null,
      "justify_items": null,
      "left": null,
      "margin": null,
      "max_height": null,
      "max_width": null,
      "min_height": null,
      "min_width": null,
      "object_fit": null,
      "object_position": null,
      "order": null,
      "overflow": null,
      "overflow_x": null,
      "overflow_y": null,
      "padding": null,
      "right": null,
      "top": null,
      "visibility": null,
      "width": null
     }
    },
    "3f69aee503094859a747273e09ad9c6b": {
     "model_module": "@jupyter-widgets/base",
     "model_module_version": "1.2.0",
     "model_name": "LayoutModel",
     "state": {
      "_model_module": "@jupyter-widgets/base",
      "_model_module_version": "1.2.0",
      "_model_name": "LayoutModel",
      "_view_count": null,
      "_view_module": "@jupyter-widgets/base",
      "_view_module_version": "1.2.0",
      "_view_name": "LayoutView",
      "align_content": null,
      "align_items": null,
      "align_self": null,
      "border": null,
      "bottom": null,
      "display": null,
      "flex": null,
      "flex_flow": null,
      "grid_area": null,
      "grid_auto_columns": null,
      "grid_auto_flow": null,
      "grid_auto_rows": null,
      "grid_column": null,
      "grid_gap": null,
      "grid_row": null,
      "grid_template_areas": null,
      "grid_template_columns": null,
      "grid_template_rows": null,
      "height": null,
      "justify_content": null,
      "justify_items": null,
      "left": null,
      "margin": null,
      "max_height": null,
      "max_width": null,
      "min_height": null,
      "min_width": null,
      "object_fit": null,
      "object_position": null,
      "order": null,
      "overflow": null,
      "overflow_x": null,
      "overflow_y": null,
      "padding": null,
      "right": null,
      "top": null,
      "visibility": null,
      "width": null
     }
    },
    "402bf361ef5b4bf19d8bd9ab1a543474": {
     "model_module": "@jupyter-widgets/controls",
     "model_module_version": "1.5.0",
     "model_name": "HBoxModel",
     "state": {
      "_dom_classes": [],
      "_model_module": "@jupyter-widgets/controls",
      "_model_module_version": "1.5.0",
      "_model_name": "HBoxModel",
      "_view_count": null,
      "_view_module": "@jupyter-widgets/controls",
      "_view_module_version": "1.5.0",
      "_view_name": "HBoxView",
      "box_style": "",
      "children": [
       "IPY_MODEL_5d0ad421fd674c889b2609aad6cbef85",
       "IPY_MODEL_b0a7e6dd7d864238be71188d0dca7b6e"
      ],
      "layout": "IPY_MODEL_558cd404accf431e8fb8280d7044ff4a"
     }
    },
    "46bba18ec1bb4190b048b42018a99b5d": {
     "model_module": "@jupyter-widgets/base",
     "model_module_version": "1.2.0",
     "model_name": "LayoutModel",
     "state": {
      "_model_module": "@jupyter-widgets/base",
      "_model_module_version": "1.2.0",
      "_model_name": "LayoutModel",
      "_view_count": null,
      "_view_module": "@jupyter-widgets/base",
      "_view_module_version": "1.2.0",
      "_view_name": "LayoutView",
      "align_content": null,
      "align_items": null,
      "align_self": null,
      "border": null,
      "bottom": null,
      "display": null,
      "flex": null,
      "flex_flow": null,
      "grid_area": null,
      "grid_auto_columns": null,
      "grid_auto_flow": null,
      "grid_auto_rows": null,
      "grid_column": null,
      "grid_gap": null,
      "grid_row": null,
      "grid_template_areas": null,
      "grid_template_columns": null,
      "grid_template_rows": null,
      "height": null,
      "justify_content": null,
      "justify_items": null,
      "left": null,
      "margin": null,
      "max_height": null,
      "max_width": null,
      "min_height": null,
      "min_width": null,
      "object_fit": null,
      "object_position": null,
      "order": null,
      "overflow": null,
      "overflow_x": null,
      "overflow_y": null,
      "padding": null,
      "right": null,
      "top": null,
      "visibility": null,
      "width": null
     }
    },
    "4ffea20034fa4da5872339618401f78c": {
     "model_module": "@jupyter-widgets/controls",
     "model_module_version": "1.5.0",
     "model_name": "FloatProgressModel",
     "state": {
      "_dom_classes": [],
      "_model_module": "@jupyter-widgets/controls",
      "_model_module_version": "1.5.0",
      "_model_name": "FloatProgressModel",
      "_view_count": null,
      "_view_module": "@jupyter-widgets/controls",
      "_view_module_version": "1.5.0",
      "_view_name": "ProgressView",
      "bar_style": "info",
      "description": "",
      "description_tooltip": null,
      "layout": "IPY_MODEL_2cae7eb037a84fef80cb1ab5c8c7351c",
      "max": 1,
      "min": 0,
      "orientation": "horizontal",
      "style": "IPY_MODEL_d1cb115c99264253b9c12a926098ee62",
      "value": 1
     }
    },
    "5058c52cdc8b40caa21d3081d77176ee": {
     "model_module": "@jupyter-widgets/controls",
     "model_module_version": "1.5.0",
     "model_name": "HBoxModel",
     "state": {
      "_dom_classes": [],
      "_model_module": "@jupyter-widgets/controls",
      "_model_module_version": "1.5.0",
      "_model_name": "HBoxModel",
      "_view_count": null,
      "_view_module": "@jupyter-widgets/controls",
      "_view_module_version": "1.5.0",
      "_view_name": "HBoxView",
      "box_style": "",
      "children": [
       "IPY_MODEL_769cc07d86a94ff792a9a276196921c5",
       "IPY_MODEL_239af0c81b7d47b09f91ea24669d1843"
      ],
      "layout": "IPY_MODEL_f59280e830f245bd91927af8ba8f8bf0"
     }
    },
    "51aa8603c75a40cb8c5e73016415fe9a": {
     "model_module": "@jupyter-widgets/base",
     "model_module_version": "1.2.0",
     "model_name": "LayoutModel",
     "state": {
      "_model_module": "@jupyter-widgets/base",
      "_model_module_version": "1.2.0",
      "_model_name": "LayoutModel",
      "_view_count": null,
      "_view_module": "@jupyter-widgets/base",
      "_view_module_version": "1.2.0",
      "_view_name": "LayoutView",
      "align_content": null,
      "align_items": null,
      "align_self": null,
      "border": null,
      "bottom": null,
      "display": null,
      "flex": null,
      "flex_flow": null,
      "grid_area": null,
      "grid_auto_columns": null,
      "grid_auto_flow": null,
      "grid_auto_rows": null,
      "grid_column": null,
      "grid_gap": null,
      "grid_row": null,
      "grid_template_areas": null,
      "grid_template_columns": null,
      "grid_template_rows": null,
      "height": null,
      "justify_content": null,
      "justify_items": null,
      "left": null,
      "margin": null,
      "max_height": null,
      "max_width": null,
      "min_height": null,
      "min_width": null,
      "object_fit": null,
      "object_position": null,
      "order": null,
      "overflow": null,
      "overflow_x": null,
      "overflow_y": null,
      "padding": null,
      "right": null,
      "top": null,
      "visibility": null,
      "width": null
     }
    },
    "54361fa3a6b84894bce54fa7b5d3562c": {
     "model_module": "@jupyter-widgets/base",
     "model_module_version": "1.2.0",
     "model_name": "LayoutModel",
     "state": {
      "_model_module": "@jupyter-widgets/base",
      "_model_module_version": "1.2.0",
      "_model_name": "LayoutModel",
      "_view_count": null,
      "_view_module": "@jupyter-widgets/base",
      "_view_module_version": "1.2.0",
      "_view_name": "LayoutView",
      "align_content": null,
      "align_items": null,
      "align_self": null,
      "border": null,
      "bottom": null,
      "display": null,
      "flex": null,
      "flex_flow": null,
      "grid_area": null,
      "grid_auto_columns": null,
      "grid_auto_flow": null,
      "grid_auto_rows": null,
      "grid_column": null,
      "grid_gap": null,
      "grid_row": null,
      "grid_template_areas": null,
      "grid_template_columns": null,
      "grid_template_rows": null,
      "height": null,
      "justify_content": null,
      "justify_items": null,
      "left": null,
      "margin": null,
      "max_height": null,
      "max_width": null,
      "min_height": null,
      "min_width": null,
      "object_fit": null,
      "object_position": null,
      "order": null,
      "overflow": null,
      "overflow_x": null,
      "overflow_y": null,
      "padding": null,
      "right": null,
      "top": null,
      "visibility": null,
      "width": null
     }
    },
    "558cd404accf431e8fb8280d7044ff4a": {
     "model_module": "@jupyter-widgets/base",
     "model_module_version": "1.2.0",
     "model_name": "LayoutModel",
     "state": {
      "_model_module": "@jupyter-widgets/base",
      "_model_module_version": "1.2.0",
      "_model_name": "LayoutModel",
      "_view_count": null,
      "_view_module": "@jupyter-widgets/base",
      "_view_module_version": "1.2.0",
      "_view_name": "LayoutView",
      "align_content": null,
      "align_items": null,
      "align_self": null,
      "border": null,
      "bottom": null,
      "display": null,
      "flex": null,
      "flex_flow": null,
      "grid_area": null,
      "grid_auto_columns": null,
      "grid_auto_flow": null,
      "grid_auto_rows": null,
      "grid_column": null,
      "grid_gap": null,
      "grid_row": null,
      "grid_template_areas": null,
      "grid_template_columns": null,
      "grid_template_rows": null,
      "height": null,
      "justify_content": null,
      "justify_items": null,
      "left": null,
      "margin": null,
      "max_height": null,
      "max_width": null,
      "min_height": null,
      "min_width": null,
      "object_fit": null,
      "object_position": null,
      "order": null,
      "overflow": null,
      "overflow_x": null,
      "overflow_y": null,
      "padding": null,
      "right": null,
      "top": null,
      "visibility": null,
      "width": null
     }
    },
    "57c7a49ae47c4f7fa13fed316cf496a4": {
     "model_module": "@jupyter-widgets/controls",
     "model_module_version": "1.5.0",
     "model_name": "DescriptionStyleModel",
     "state": {
      "_model_module": "@jupyter-widgets/controls",
      "_model_module_version": "1.5.0",
      "_model_name": "DescriptionStyleModel",
      "_view_count": null,
      "_view_module": "@jupyter-widgets/base",
      "_view_module_version": "1.2.0",
      "_view_name": "StyleView",
      "description_width": ""
     }
    },
    "5a7c300cb05143529b57243bcf71e603": {
     "model_module": "@jupyter-widgets/controls",
     "model_module_version": "1.5.0",
     "model_name": "HTMLModel",
     "state": {
      "_dom_classes": [],
      "_model_module": "@jupyter-widgets/controls",
      "_model_module_version": "1.5.0",
      "_model_name": "HTMLModel",
      "_view_count": null,
      "_view_module": "@jupyter-widgets/controls",
      "_view_module_version": "1.5.0",
      "_view_name": "HTMLView",
      "description": "",
      "description_tooltip": null,
      "layout": "IPY_MODEL_ca71e505e5e7459ea193066948bbfb3c",
      "placeholder": "​",
      "style": "IPY_MODEL_8ff5f50dd7f54296b933bf5443e53c29",
      "value": " 124/124 [00:08&lt;00:00, 14.48 MiB/s]"
     }
    },
    "5d0ad421fd674c889b2609aad6cbef85": {
     "model_module": "@jupyter-widgets/controls",
     "model_module_version": "1.5.0",
     "model_name": "FloatProgressModel",
     "state": {
      "_dom_classes": [],
      "_model_module": "@jupyter-widgets/controls",
      "_model_module_version": "1.5.0",
      "_model_name": "FloatProgressModel",
      "_view_count": null,
      "_view_module": "@jupyter-widgets/controls",
      "_view_module_version": "1.5.0",
      "_view_name": "ProgressView",
      "bar_style": "danger",
      "description": "  0%",
      "description_tooltip": null,
      "layout": "IPY_MODEL_b6a8ba49b1eb4ed7b224a197c5b26d4c",
      "max": 1193,
      "min": 0,
      "orientation": "horizontal",
      "style": "IPY_MODEL_b0263794eb704182829634566ab2ae4c",
      "value": 0
     }
    },
    "623bca253e3f4f6e9caf7b778de0dc11": {
     "model_module": "@jupyter-widgets/base",
     "model_module_version": "1.2.0",
     "model_name": "LayoutModel",
     "state": {
      "_model_module": "@jupyter-widgets/base",
      "_model_module_version": "1.2.0",
      "_model_name": "LayoutModel",
      "_view_count": null,
      "_view_module": "@jupyter-widgets/base",
      "_view_module_version": "1.2.0",
      "_view_name": "LayoutView",
      "align_content": null,
      "align_items": null,
      "align_self": null,
      "border": null,
      "bottom": null,
      "display": null,
      "flex": null,
      "flex_flow": null,
      "grid_area": null,
      "grid_auto_columns": null,
      "grid_auto_flow": null,
      "grid_auto_rows": null,
      "grid_column": null,
      "grid_gap": null,
      "grid_row": null,
      "grid_template_areas": null,
      "grid_template_columns": null,
      "grid_template_rows": null,
      "height": null,
      "justify_content": null,
      "justify_items": null,
      "left": null,
      "margin": null,
      "max_height": null,
      "max_width": null,
      "min_height": null,
      "min_width": null,
      "object_fit": null,
      "object_position": null,
      "order": null,
      "overflow": null,
      "overflow_x": null,
      "overflow_y": null,
      "padding": null,
      "right": null,
      "top": null,
      "visibility": null,
      "width": null
     }
    },
    "6ad704b0cba14c6c9b375460caefad9a": {
     "model_module": "@jupyter-widgets/controls",
     "model_module_version": "1.5.0",
     "model_name": "ProgressStyleModel",
     "state": {
      "_model_module": "@jupyter-widgets/controls",
      "_model_module_version": "1.5.0",
      "_model_name": "ProgressStyleModel",
      "_view_count": null,
      "_view_module": "@jupyter-widgets/base",
      "_view_module_version": "1.2.0",
      "_view_name": "StyleView",
      "bar_color": null,
      "description_width": "initial"
     }
    },
    "6c8340cc16c3481482f44085e28652f5": {
     "model_module": "@jupyter-widgets/base",
     "model_module_version": "1.2.0",
     "model_name": "LayoutModel",
     "state": {
      "_model_module": "@jupyter-widgets/base",
      "_model_module_version": "1.2.0",
      "_model_name": "LayoutModel",
      "_view_count": null,
      "_view_module": "@jupyter-widgets/base",
      "_view_module_version": "1.2.0",
      "_view_name": "LayoutView",
      "align_content": null,
      "align_items": null,
      "align_self": null,
      "border": null,
      "bottom": null,
      "display": null,
      "flex": null,
      "flex_flow": null,
      "grid_area": null,
      "grid_auto_columns": null,
      "grid_auto_flow": null,
      "grid_auto_rows": null,
      "grid_column": null,
      "grid_gap": null,
      "grid_row": null,
      "grid_template_areas": null,
      "grid_template_columns": null,
      "grid_template_rows": null,
      "height": null,
      "justify_content": null,
      "justify_items": null,
      "left": null,
      "margin": null,
      "max_height": null,
      "max_width": null,
      "min_height": null,
      "min_width": null,
      "object_fit": null,
      "object_position": null,
      "order": null,
      "overflow": null,
      "overflow_x": null,
      "overflow_y": null,
      "padding": null,
      "right": null,
      "top": null,
      "visibility": null,
      "width": null
     }
    },
    "6f89a629ca7e4657af46c65d79e279e1": {
     "model_module": "@jupyter-widgets/base",
     "model_module_version": "1.2.0",
     "model_name": "LayoutModel",
     "state": {
      "_model_module": "@jupyter-widgets/base",
      "_model_module_version": "1.2.0",
      "_model_name": "LayoutModel",
      "_view_count": null,
      "_view_module": "@jupyter-widgets/base",
      "_view_module_version": "1.2.0",
      "_view_name": "LayoutView",
      "align_content": null,
      "align_items": null,
      "align_self": null,
      "border": null,
      "bottom": null,
      "display": null,
      "flex": null,
      "flex_flow": null,
      "grid_area": null,
      "grid_auto_columns": null,
      "grid_auto_flow": null,
      "grid_auto_rows": null,
      "grid_column": null,
      "grid_gap": null,
      "grid_row": null,
      "grid_template_areas": null,
      "grid_template_columns": null,
      "grid_template_rows": null,
      "height": null,
      "justify_content": null,
      "justify_items": null,
      "left": null,
      "margin": null,
      "max_height": null,
      "max_width": null,
      "min_height": null,
      "min_width": null,
      "object_fit": null,
      "object_position": null,
      "order": null,
      "overflow": null,
      "overflow_x": null,
      "overflow_y": null,
      "padding": null,
      "right": null,
      "top": null,
      "visibility": null,
      "width": null
     }
    },
    "735775ca7551495caeccc87048de3f32": {
     "model_module": "@jupyter-widgets/base",
     "model_module_version": "1.2.0",
     "model_name": "LayoutModel",
     "state": {
      "_model_module": "@jupyter-widgets/base",
      "_model_module_version": "1.2.0",
      "_model_name": "LayoutModel",
      "_view_count": null,
      "_view_module": "@jupyter-widgets/base",
      "_view_module_version": "1.2.0",
      "_view_name": "LayoutView",
      "align_content": null,
      "align_items": null,
      "align_self": null,
      "border": null,
      "bottom": null,
      "display": null,
      "flex": null,
      "flex_flow": null,
      "grid_area": null,
      "grid_auto_columns": null,
      "grid_auto_flow": null,
      "grid_auto_rows": null,
      "grid_column": null,
      "grid_gap": null,
      "grid_row": null,
      "grid_template_areas": null,
      "grid_template_columns": null,
      "grid_template_rows": null,
      "height": null,
      "justify_content": null,
      "justify_items": null,
      "left": null,
      "margin": null,
      "max_height": null,
      "max_width": null,
      "min_height": null,
      "min_width": null,
      "object_fit": null,
      "object_position": null,
      "order": null,
      "overflow": null,
      "overflow_x": null,
      "overflow_y": null,
      "padding": null,
      "right": null,
      "top": null,
      "visibility": null,
      "width": null
     }
    },
    "769cc07d86a94ff792a9a276196921c5": {
     "model_module": "@jupyter-widgets/controls",
     "model_module_version": "1.5.0",
     "model_name": "FloatProgressModel",
     "state": {
      "_dom_classes": [],
      "_model_module": "@jupyter-widgets/controls",
      "_model_module_version": "1.5.0",
      "_model_name": "FloatProgressModel",
      "_view_count": null,
      "_view_module": "@jupyter-widgets/controls",
      "_view_module_version": "1.5.0",
      "_view_name": "ProgressView",
      "bar_style": "success",
      "description": "Dl Completed...: 100%",
      "description_tooltip": null,
      "layout": "IPY_MODEL_9f009645d00449278ed56b1cd2ff7608",
      "max": 1,
      "min": 0,
      "orientation": "horizontal",
      "style": "IPY_MODEL_32d7e2c9746d4352a6ca769aa830768e",
      "value": 1
     }
    },
    "787336543eef407c872c5d773c606d4a": {
     "model_module": "@jupyter-widgets/controls",
     "model_module_version": "1.5.0",
     "model_name": "FloatProgressModel",
     "state": {
      "_dom_classes": [],
      "_model_module": "@jupyter-widgets/controls",
      "_model_module_version": "1.5.0",
      "_model_name": "FloatProgressModel",
      "_view_count": null,
      "_view_module": "@jupyter-widgets/controls",
      "_view_module_version": "1.5.0",
      "_view_name": "ProgressView",
      "bar_style": "danger",
      "description": "  0%",
      "description_tooltip": null,
      "layout": "IPY_MODEL_e3db549f28f841c2ba3d0063f6026040",
      "max": 1803,
      "min": 0,
      "orientation": "horizontal",
      "style": "IPY_MODEL_6ad704b0cba14c6c9b375460caefad9a",
      "value": 0
     }
    },
    "7bc7362d91834b2fbdd2a949fe06b89e": {
     "model_module": "@jupyter-widgets/controls",
     "model_module_version": "1.5.0",
     "model_name": "DescriptionStyleModel",
     "state": {
      "_model_module": "@jupyter-widgets/controls",
      "_model_module_version": "1.5.0",
      "_model_name": "DescriptionStyleModel",
      "_view_count": null,
      "_view_module": "@jupyter-widgets/base",
      "_view_module_version": "1.2.0",
      "_view_name": "StyleView",
      "description_width": ""
     }
    },
    "7c3f451a781a43dfb87adfb40172ff2f": {
     "model_module": "@jupyter-widgets/controls",
     "model_module_version": "1.5.0",
     "model_name": "HBoxModel",
     "state": {
      "_dom_classes": [],
      "_model_module": "@jupyter-widgets/controls",
      "_model_module_version": "1.5.0",
      "_model_name": "HBoxModel",
      "_view_count": null,
      "_view_module": "@jupyter-widgets/controls",
      "_view_module_version": "1.5.0",
      "_view_name": "HBoxView",
      "box_style": "",
      "children": [
       "IPY_MODEL_81342d5637cd43c3955b4edc3508e5c8",
       "IPY_MODEL_a9edc1ba96aa44c59fb63938408f24f0"
      ],
      "layout": "IPY_MODEL_375ded31dfff40ef9c51cf8802b96e3f"
     }
    },
    "80895e03088f48769b4124639ee54616": {
     "model_module": "@jupyter-widgets/controls",
     "model_module_version": "1.5.0",
     "model_name": "FloatProgressModel",
     "state": {
      "_dom_classes": [],
      "_model_module": "@jupyter-widgets/controls",
      "_model_module_version": "1.5.0",
      "_model_name": "FloatProgressModel",
      "_view_count": null,
      "_view_module": "@jupyter-widgets/controls",
      "_view_module_version": "1.5.0",
      "_view_name": "ProgressView",
      "bar_style": "info",
      "description": "",
      "description_tooltip": null,
      "layout": "IPY_MODEL_3f69aee503094859a747273e09ad9c6b",
      "max": 1,
      "min": 0,
      "orientation": "horizontal",
      "style": "IPY_MODEL_bf4ec8efbe3145c9906bdac5c3dd41fc",
      "value": 1
     }
    },
    "81342d5637cd43c3955b4edc3508e5c8": {
     "model_module": "@jupyter-widgets/controls",
     "model_module_version": "1.5.0",
     "model_name": "FloatProgressModel",
     "state": {
      "_dom_classes": [],
      "_model_module": "@jupyter-widgets/controls",
      "_model_module_version": "1.5.0",
      "_model_name": "FloatProgressModel",
      "_view_count": null,
      "_view_module": "@jupyter-widgets/controls",
      "_view_module_version": "1.5.0",
      "_view_name": "ProgressView",
      "bar_style": "success",
      "description": "Extraction completed...: 100%",
      "description_tooltip": null,
      "layout": "IPY_MODEL_966128f4e81145a996eab4e0c40b1b0c",
      "max": 1,
      "min": 0,
      "orientation": "horizontal",
      "style": "IPY_MODEL_acd45b8c6df744588dce220d0489eab2",
      "value": 1
     }
    },
    "86860064fac34db3a79344497e4e5fac": {
     "model_module": "@jupyter-widgets/base",
     "model_module_version": "1.2.0",
     "model_name": "LayoutModel",
     "state": {
      "_model_module": "@jupyter-widgets/base",
      "_model_module_version": "1.2.0",
      "_model_name": "LayoutModel",
      "_view_count": null,
      "_view_module": "@jupyter-widgets/base",
      "_view_module_version": "1.2.0",
      "_view_name": "LayoutView",
      "align_content": null,
      "align_items": null,
      "align_self": null,
      "border": null,
      "bottom": null,
      "display": null,
      "flex": null,
      "flex_flow": null,
      "grid_area": null,
      "grid_auto_columns": null,
      "grid_auto_flow": null,
      "grid_auto_rows": null,
      "grid_column": null,
      "grid_gap": null,
      "grid_row": null,
      "grid_template_areas": null,
      "grid_template_columns": null,
      "grid_template_rows": null,
      "height": null,
      "justify_content": null,
      "justify_items": null,
      "left": null,
      "margin": null,
      "max_height": null,
      "max_width": null,
      "min_height": null,
      "min_width": null,
      "object_fit": null,
      "object_position": null,
      "order": null,
      "overflow": null,
      "overflow_x": null,
      "overflow_y": null,
      "padding": null,
      "right": null,
      "top": null,
      "visibility": null,
      "width": null
     }
    },
    "8ba15cf37a0749bf84b4aec781a66d08": {
     "model_module": "@jupyter-widgets/controls",
     "model_module_version": "1.5.0",
     "model_name": "FloatProgressModel",
     "state": {
      "_dom_classes": [],
      "_model_module": "@jupyter-widgets/controls",
      "_model_module_version": "1.5.0",
      "_model_name": "FloatProgressModel",
      "_view_count": null,
      "_view_module": "@jupyter-widgets/controls",
      "_view_module_version": "1.5.0",
      "_view_name": "ProgressView",
      "bar_style": "info",
      "description": "",
      "description_tooltip": null,
      "layout": "IPY_MODEL_babee850fced4c0e940b9c440c99a84b",
      "max": 1,
      "min": 0,
      "orientation": "horizontal",
      "style": "IPY_MODEL_d48aae7dbc2f4b398ac3638328f40920",
      "value": 1
     }
    },
    "8c2aae9b16ed4136aea3209ea4eeba7f": {
     "model_module": "@jupyter-widgets/base",
     "model_module_version": "1.2.0",
     "model_name": "LayoutModel",
     "state": {
      "_model_module": "@jupyter-widgets/base",
      "_model_module_version": "1.2.0",
      "_model_name": "LayoutModel",
      "_view_count": null,
      "_view_module": "@jupyter-widgets/base",
      "_view_module_version": "1.2.0",
      "_view_name": "LayoutView",
      "align_content": null,
      "align_items": null,
      "align_self": null,
      "border": null,
      "bottom": null,
      "display": null,
      "flex": null,
      "flex_flow": null,
      "grid_area": null,
      "grid_auto_columns": null,
      "grid_auto_flow": null,
      "grid_auto_rows": null,
      "grid_column": null,
      "grid_gap": null,
      "grid_row": null,
      "grid_template_areas": null,
      "grid_template_columns": null,
      "grid_template_rows": null,
      "height": null,
      "justify_content": null,
      "justify_items": null,
      "left": null,
      "margin": null,
      "max_height": null,
      "max_width": null,
      "min_height": null,
      "min_width": null,
      "object_fit": null,
      "object_position": null,
      "order": null,
      "overflow": null,
      "overflow_x": null,
      "overflow_y": null,
      "padding": null,
      "right": null,
      "top": null,
      "visibility": null,
      "width": null
     }
    },
    "8e4e9f9c4ee74e18b78419f401d93296": {
     "model_module": "@jupyter-widgets/controls",
     "model_module_version": "1.5.0",
     "model_name": "HTMLModel",
     "state": {
      "_dom_classes": [],
      "_model_module": "@jupyter-widgets/controls",
      "_model_module_version": "1.5.0",
      "_model_name": "HTMLModel",
      "_view_count": null,
      "_view_module": "@jupyter-widgets/controls",
      "_view_module_version": "1.5.0",
      "_view_name": "HTMLView",
      "description": "",
      "description_tooltip": null,
      "layout": "IPY_MODEL_f4cf0dbe60444937a4f185ca4dbd1ffd",
      "placeholder": "​",
      "style": "IPY_MODEL_9382c79573ae4ef59be7630608927ea2",
      "value": " 0/1803 [00:05&lt;?, ? examples/s]"
     }
    },
    "8ff5f50dd7f54296b933bf5443e53c29": {
     "model_module": "@jupyter-widgets/controls",
     "model_module_version": "1.5.0",
     "model_name": "DescriptionStyleModel",
     "state": {
      "_model_module": "@jupyter-widgets/controls",
      "_model_module_version": "1.5.0",
      "_model_name": "DescriptionStyleModel",
      "_view_count": null,
      "_view_module": "@jupyter-widgets/base",
      "_view_module_version": "1.2.0",
      "_view_name": "StyleView",
      "description_width": ""
     }
    },
    "9382c79573ae4ef59be7630608927ea2": {
     "model_module": "@jupyter-widgets/controls",
     "model_module_version": "1.5.0",
     "model_name": "DescriptionStyleModel",
     "state": {
      "_model_module": "@jupyter-widgets/controls",
      "_model_module_version": "1.5.0",
      "_model_name": "DescriptionStyleModel",
      "_view_count": null,
      "_view_module": "@jupyter-widgets/base",
      "_view_module_version": "1.2.0",
      "_view_name": "StyleView",
      "description_width": ""
     }
    },
    "966128f4e81145a996eab4e0c40b1b0c": {
     "model_module": "@jupyter-widgets/base",
     "model_module_version": "1.2.0",
     "model_name": "LayoutModel",
     "state": {
      "_model_module": "@jupyter-widgets/base",
      "_model_module_version": "1.2.0",
      "_model_name": "LayoutModel",
      "_view_count": null,
      "_view_module": "@jupyter-widgets/base",
      "_view_module_version": "1.2.0",
      "_view_name": "LayoutView",
      "align_content": null,
      "align_items": null,
      "align_self": null,
      "border": null,
      "bottom": null,
      "display": null,
      "flex": null,
      "flex_flow": null,
      "grid_area": null,
      "grid_auto_columns": null,
      "grid_auto_flow": null,
      "grid_auto_rows": null,
      "grid_column": null,
      "grid_gap": null,
      "grid_row": null,
      "grid_template_areas": null,
      "grid_template_columns": null,
      "grid_template_rows": null,
      "height": null,
      "justify_content": null,
      "justify_items": null,
      "left": null,
      "margin": null,
      "max_height": null,
      "max_width": null,
      "min_height": null,
      "min_width": null,
      "object_fit": null,
      "object_position": null,
      "order": null,
      "overflow": null,
      "overflow_x": null,
      "overflow_y": null,
      "padding": null,
      "right": null,
      "top": null,
      "visibility": null,
      "width": null
     }
    },
    "977c5b6d1a0048508fc6a28dc2d695ed": {
     "model_module": "@jupyter-widgets/controls",
     "model_module_version": "1.5.0",
     "model_name": "HBoxModel",
     "state": {
      "_dom_classes": [],
      "_model_module": "@jupyter-widgets/controls",
      "_model_module_version": "1.5.0",
      "_model_name": "HBoxModel",
      "_view_count": null,
      "_view_module": "@jupyter-widgets/controls",
      "_view_module_version": "1.5.0",
      "_view_name": "HBoxView",
      "box_style": "",
      "children": [
       "IPY_MODEL_4ffea20034fa4da5872339618401f78c",
       "IPY_MODEL_0eef81524c1e4208a1b4f9187370f234"
      ],
      "layout": "IPY_MODEL_623bca253e3f4f6e9caf7b778de0dc11"
     }
    },
    "996391e003e7494e9dd5ced13a11c3a7": {
     "model_module": "@jupyter-widgets/base",
     "model_module_version": "1.2.0",
     "model_name": "LayoutModel",
     "state": {
      "_model_module": "@jupyter-widgets/base",
      "_model_module_version": "1.2.0",
      "_model_name": "LayoutModel",
      "_view_count": null,
      "_view_module": "@jupyter-widgets/base",
      "_view_module_version": "1.2.0",
      "_view_name": "LayoutView",
      "align_content": null,
      "align_items": null,
      "align_self": null,
      "border": null,
      "bottom": null,
      "display": null,
      "flex": null,
      "flex_flow": null,
      "grid_area": null,
      "grid_auto_columns": null,
      "grid_auto_flow": null,
      "grid_auto_rows": null,
      "grid_column": null,
      "grid_gap": null,
      "grid_row": null,
      "grid_template_areas": null,
      "grid_template_columns": null,
      "grid_template_rows": null,
      "height": null,
      "justify_content": null,
      "justify_items": null,
      "left": null,
      "margin": null,
      "max_height": null,
      "max_width": null,
      "min_height": null,
      "min_width": null,
      "object_fit": null,
      "object_position": null,
      "order": null,
      "overflow": null,
      "overflow_x": null,
      "overflow_y": null,
      "padding": null,
      "right": null,
      "top": null,
      "visibility": null,
      "width": null
     }
    },
    "9cccc9f5a1154e12b5de3959594a7a66": {
     "model_module": "@jupyter-widgets/controls",
     "model_module_version": "1.5.0",
     "model_name": "FloatProgressModel",
     "state": {
      "_dom_classes": [],
      "_model_module": "@jupyter-widgets/controls",
      "_model_module_version": "1.5.0",
      "_model_name": "FloatProgressModel",
      "_view_count": null,
      "_view_module": "@jupyter-widgets/controls",
      "_view_module_version": "1.5.0",
      "_view_name": "ProgressView",
      "bar_style": "success",
      "description": "Dl Size...: 100%",
      "description_tooltip": null,
      "layout": "IPY_MODEL_2e24dd755d764a6ca40319c63aeb70f2",
      "max": 1,
      "min": 0,
      "orientation": "horizontal",
      "style": "IPY_MODEL_d0eae0f293bb4f1c8b821d6bed3a7f3b",
      "value": 1
     }
    },
    "9e681e21f2074d52b05844f52cc2649a": {
     "model_module": "@jupyter-widgets/base",
     "model_module_version": "1.2.0",
     "model_name": "LayoutModel",
     "state": {
      "_model_module": "@jupyter-widgets/base",
      "_model_module_version": "1.2.0",
      "_model_name": "LayoutModel",
      "_view_count": null,
      "_view_module": "@jupyter-widgets/base",
      "_view_module_version": "1.2.0",
      "_view_name": "LayoutView",
      "align_content": null,
      "align_items": null,
      "align_self": null,
      "border": null,
      "bottom": null,
      "display": null,
      "flex": null,
      "flex_flow": null,
      "grid_area": null,
      "grid_auto_columns": null,
      "grid_auto_flow": null,
      "grid_auto_rows": null,
      "grid_column": null,
      "grid_gap": null,
      "grid_row": null,
      "grid_template_areas": null,
      "grid_template_columns": null,
      "grid_template_rows": null,
      "height": null,
      "justify_content": null,
      "justify_items": null,
      "left": null,
      "margin": null,
      "max_height": null,
      "max_width": null,
      "min_height": null,
      "min_width": null,
      "object_fit": null,
      "object_position": null,
      "order": null,
      "overflow": null,
      "overflow_x": null,
      "overflow_y": null,
      "padding": null,
      "right": null,
      "top": null,
      "visibility": null,
      "width": null
     }
    },
    "9f009645d00449278ed56b1cd2ff7608": {
     "model_module": "@jupyter-widgets/base",
     "model_module_version": "1.2.0",
     "model_name": "LayoutModel",
     "state": {
      "_model_module": "@jupyter-widgets/base",
      "_model_module_version": "1.2.0",
      "_model_name": "LayoutModel",
      "_view_count": null,
      "_view_module": "@jupyter-widgets/base",
      "_view_module_version": "1.2.0",
      "_view_name": "LayoutView",
      "align_content": null,
      "align_items": null,
      "align_self": null,
      "border": null,
      "bottom": null,
      "display": null,
      "flex": null,
      "flex_flow": null,
      "grid_area": null,
      "grid_auto_columns": null,
      "grid_auto_flow": null,
      "grid_auto_rows": null,
      "grid_column": null,
      "grid_gap": null,
      "grid_row": null,
      "grid_template_areas": null,
      "grid_template_columns": null,
      "grid_template_rows": null,
      "height": null,
      "justify_content": null,
      "justify_items": null,
      "left": null,
      "margin": null,
      "max_height": null,
      "max_width": null,
      "min_height": null,
      "min_width": null,
      "object_fit": null,
      "object_position": null,
      "order": null,
      "overflow": null,
      "overflow_x": null,
      "overflow_y": null,
      "padding": null,
      "right": null,
      "top": null,
      "visibility": null,
      "width": null
     }
    },
    "a811b2d73b4647958b4a239f6aef23e0": {
     "model_module": "@jupyter-widgets/controls",
     "model_module_version": "1.5.0",
     "model_name": "ProgressStyleModel",
     "state": {
      "_model_module": "@jupyter-widgets/controls",
      "_model_module_version": "1.5.0",
      "_model_name": "ProgressStyleModel",
      "_view_count": null,
      "_view_module": "@jupyter-widgets/base",
      "_view_module_version": "1.2.0",
      "_view_name": "StyleView",
      "bar_color": null,
      "description_width": "initial"
     }
    },
    "a86dbe7b8d8d42409a07972bfdc3776d": {
     "model_module": "@jupyter-widgets/controls",
     "model_module_version": "1.5.0",
     "model_name": "HBoxModel",
     "state": {
      "_dom_classes": [],
      "_model_module": "@jupyter-widgets/controls",
      "_model_module_version": "1.5.0",
      "_model_name": "HBoxModel",
      "_view_count": null,
      "_view_module": "@jupyter-widgets/controls",
      "_view_module_version": "1.5.0",
      "_view_name": "HBoxView",
      "box_style": "",
      "children": [
       "IPY_MODEL_80895e03088f48769b4124639ee54616",
       "IPY_MODEL_ecf9466760144f5899f937084da8d570"
      ],
      "layout": "IPY_MODEL_6f89a629ca7e4657af46c65d79e279e1"
     }
    },
    "a9edc1ba96aa44c59fb63938408f24f0": {
     "model_module": "@jupyter-widgets/controls",
     "model_module_version": "1.5.0",
     "model_name": "HTMLModel",
     "state": {
      "_dom_classes": [],
      "_model_module": "@jupyter-widgets/controls",
      "_model_module_version": "1.5.0",
      "_model_name": "HTMLModel",
      "_view_count": null,
      "_view_module": "@jupyter-widgets/controls",
      "_view_module_version": "1.5.0",
      "_view_name": "HTMLView",
      "description": "",
      "description_tooltip": null,
      "layout": "IPY_MODEL_86860064fac34db3a79344497e4e5fac",
      "placeholder": "​",
      "style": "IPY_MODEL_bd0390edf82e4d4a98935bbe6d5f43ff",
      "value": " 1/1 [00:08&lt;00:00,  8.52s/ file]"
     }
    },
    "acd45b8c6df744588dce220d0489eab2": {
     "model_module": "@jupyter-widgets/controls",
     "model_module_version": "1.5.0",
     "model_name": "ProgressStyleModel",
     "state": {
      "_model_module": "@jupyter-widgets/controls",
      "_model_module_version": "1.5.0",
      "_model_name": "ProgressStyleModel",
      "_view_count": null,
      "_view_module": "@jupyter-widgets/base",
      "_view_module_version": "1.2.0",
      "_view_name": "StyleView",
      "bar_color": null,
      "description_width": "initial"
     }
    },
    "b0263794eb704182829634566ab2ae4c": {
     "model_module": "@jupyter-widgets/controls",
     "model_module_version": "1.5.0",
     "model_name": "ProgressStyleModel",
     "state": {
      "_model_module": "@jupyter-widgets/controls",
      "_model_module_version": "1.5.0",
      "_model_name": "ProgressStyleModel",
      "_view_count": null,
      "_view_module": "@jupyter-widgets/base",
      "_view_module_version": "1.2.0",
      "_view_name": "StyleView",
      "bar_color": null,
      "description_width": "initial"
     }
    },
    "b0a7e6dd7d864238be71188d0dca7b6e": {
     "model_module": "@jupyter-widgets/controls",
     "model_module_version": "1.5.0",
     "model_name": "HTMLModel",
     "state": {
      "_dom_classes": [],
      "_model_module": "@jupyter-widgets/controls",
      "_model_module_version": "1.5.0",
      "_model_name": "HTMLModel",
      "_view_count": null,
      "_view_module": "@jupyter-widgets/controls",
      "_view_module_version": "1.5.0",
      "_view_name": "HTMLView",
      "description": "",
      "description_tooltip": null,
      "layout": "IPY_MODEL_51aa8603c75a40cb8c5e73016415fe9a",
      "placeholder": "​",
      "style": "IPY_MODEL_011c835949444bd1ab2b476418935e14",
      "value": " 0/1193 [00:05&lt;?, ? examples/s]"
     }
    },
    "b549f49a00af46978dd90e1000191591": {
     "model_module": "@jupyter-widgets/controls",
     "model_module_version": "1.5.0",
     "model_name": "DescriptionStyleModel",
     "state": {
      "_model_module": "@jupyter-widgets/controls",
      "_model_module_version": "1.5.0",
      "_model_name": "DescriptionStyleModel",
      "_view_count": null,
      "_view_module": "@jupyter-widgets/base",
      "_view_module_version": "1.2.0",
      "_view_name": "StyleView",
      "description_width": ""
     }
    },
    "b687fae4a86b47358210cfaf6dcbe536": {
     "model_module": "@jupyter-widgets/controls",
     "model_module_version": "1.5.0",
     "model_name": "DescriptionStyleModel",
     "state": {
      "_model_module": "@jupyter-widgets/controls",
      "_model_module_version": "1.5.0",
      "_model_name": "DescriptionStyleModel",
      "_view_count": null,
      "_view_module": "@jupyter-widgets/base",
      "_view_module_version": "1.2.0",
      "_view_name": "StyleView",
      "description_width": ""
     }
    },
    "b6a8ba49b1eb4ed7b224a197c5b26d4c": {
     "model_module": "@jupyter-widgets/base",
     "model_module_version": "1.2.0",
     "model_name": "LayoutModel",
     "state": {
      "_model_module": "@jupyter-widgets/base",
      "_model_module_version": "1.2.0",
      "_model_name": "LayoutModel",
      "_view_count": null,
      "_view_module": "@jupyter-widgets/base",
      "_view_module_version": "1.2.0",
      "_view_name": "LayoutView",
      "align_content": null,
      "align_items": null,
      "align_self": null,
      "border": null,
      "bottom": null,
      "display": null,
      "flex": null,
      "flex_flow": null,
      "grid_area": null,
      "grid_auto_columns": null,
      "grid_auto_flow": null,
      "grid_auto_rows": null,
      "grid_column": null,
      "grid_gap": null,
      "grid_row": null,
      "grid_template_areas": null,
      "grid_template_columns": null,
      "grid_template_rows": null,
      "height": null,
      "justify_content": null,
      "justify_items": null,
      "left": null,
      "margin": null,
      "max_height": null,
      "max_width": null,
      "min_height": null,
      "min_width": null,
      "object_fit": null,
      "object_position": null,
      "order": null,
      "overflow": null,
      "overflow_x": null,
      "overflow_y": null,
      "padding": null,
      "right": null,
      "top": null,
      "visibility": null,
      "width": null
     }
    },
    "babee850fced4c0e940b9c440c99a84b": {
     "model_module": "@jupyter-widgets/base",
     "model_module_version": "1.2.0",
     "model_name": "LayoutModel",
     "state": {
      "_model_module": "@jupyter-widgets/base",
      "_model_module_version": "1.2.0",
      "_model_name": "LayoutModel",
      "_view_count": null,
      "_view_module": "@jupyter-widgets/base",
      "_view_module_version": "1.2.0",
      "_view_name": "LayoutView",
      "align_content": null,
      "align_items": null,
      "align_self": null,
      "border": null,
      "bottom": null,
      "display": null,
      "flex": null,
      "flex_flow": null,
      "grid_area": null,
      "grid_auto_columns": null,
      "grid_auto_flow": null,
      "grid_auto_rows": null,
      "grid_column": null,
      "grid_gap": null,
      "grid_row": null,
      "grid_template_areas": null,
      "grid_template_columns": null,
      "grid_template_rows": null,
      "height": null,
      "justify_content": null,
      "justify_items": null,
      "left": null,
      "margin": null,
      "max_height": null,
      "max_width": null,
      "min_height": null,
      "min_width": null,
      "object_fit": null,
      "object_position": null,
      "order": null,
      "overflow": null,
      "overflow_x": null,
      "overflow_y": null,
      "padding": null,
      "right": null,
      "top": null,
      "visibility": null,
      "width": null
     }
    },
    "bd0390edf82e4d4a98935bbe6d5f43ff": {
     "model_module": "@jupyter-widgets/controls",
     "model_module_version": "1.5.0",
     "model_name": "DescriptionStyleModel",
     "state": {
      "_model_module": "@jupyter-widgets/controls",
      "_model_module_version": "1.5.0",
      "_model_name": "DescriptionStyleModel",
      "_view_count": null,
      "_view_module": "@jupyter-widgets/base",
      "_view_module_version": "1.2.0",
      "_view_name": "StyleView",
      "description_width": ""
     }
    },
    "bef4db3a3023455fbb7da6dce721bbe7": {
     "model_module": "@jupyter-widgets/controls",
     "model_module_version": "1.5.0",
     "model_name": "HBoxModel",
     "state": {
      "_dom_classes": [],
      "_model_module": "@jupyter-widgets/controls",
      "_model_module_version": "1.5.0",
      "_model_name": "HBoxModel",
      "_view_count": null,
      "_view_module": "@jupyter-widgets/controls",
      "_view_module_version": "1.5.0",
      "_view_name": "HBoxView",
      "box_style": "",
      "children": [
       "IPY_MODEL_8ba15cf37a0749bf84b4aec781a66d08",
       "IPY_MODEL_1c7658fff0e04310a8404190e3dae445"
      ],
      "layout": "IPY_MODEL_226a324440854a2cb0d853ad463110f4"
     }
    },
    "bf4ec8efbe3145c9906bdac5c3dd41fc": {
     "model_module": "@jupyter-widgets/controls",
     "model_module_version": "1.5.0",
     "model_name": "ProgressStyleModel",
     "state": {
      "_model_module": "@jupyter-widgets/controls",
      "_model_module_version": "1.5.0",
      "_model_name": "ProgressStyleModel",
      "_view_count": null,
      "_view_module": "@jupyter-widgets/base",
      "_view_module_version": "1.2.0",
      "_view_name": "StyleView",
      "bar_color": null,
      "description_width": "initial"
     }
    },
    "ca71e505e5e7459ea193066948bbfb3c": {
     "model_module": "@jupyter-widgets/base",
     "model_module_version": "1.2.0",
     "model_name": "LayoutModel",
     "state": {
      "_model_module": "@jupyter-widgets/base",
      "_model_module_version": "1.2.0",
      "_model_name": "LayoutModel",
      "_view_count": null,
      "_view_module": "@jupyter-widgets/base",
      "_view_module_version": "1.2.0",
      "_view_name": "LayoutView",
      "align_content": null,
      "align_items": null,
      "align_self": null,
      "border": null,
      "bottom": null,
      "display": null,
      "flex": null,
      "flex_flow": null,
      "grid_area": null,
      "grid_auto_columns": null,
      "grid_auto_flow": null,
      "grid_auto_rows": null,
      "grid_column": null,
      "grid_gap": null,
      "grid_row": null,
      "grid_template_areas": null,
      "grid_template_columns": null,
      "grid_template_rows": null,
      "height": null,
      "justify_content": null,
      "justify_items": null,
      "left": null,
      "margin": null,
      "max_height": null,
      "max_width": null,
      "min_height": null,
      "min_width": null,
      "object_fit": null,
      "object_position": null,
      "order": null,
      "overflow": null,
      "overflow_x": null,
      "overflow_y": null,
      "padding": null,
      "right": null,
      "top": null,
      "visibility": null,
      "width": null
     }
    },
    "caa274a1a49343bbb35c139b2fc8cb5e": {
     "model_module": "@jupyter-widgets/controls",
     "model_module_version": "1.5.0",
     "model_name": "HBoxModel",
     "state": {
      "_dom_classes": [],
      "_model_module": "@jupyter-widgets/controls",
      "_model_module_version": "1.5.0",
      "_model_name": "HBoxModel",
      "_view_count": null,
      "_view_module": "@jupyter-widgets/controls",
      "_view_module_version": "1.5.0",
      "_view_name": "HBoxView",
      "box_style": "",
      "children": [
       "IPY_MODEL_1aabc83615fc4e0ea7e156667e9afc25",
       "IPY_MODEL_2119f344d51c4819a682e65f1bd591bf"
      ],
      "layout": "IPY_MODEL_f93b56aa6db249d192de1dccfd916a30"
     }
    },
    "cddc3a5f861641e08bed9ee941b28aa9": {
     "model_module": "@jupyter-widgets/base",
     "model_module_version": "1.2.0",
     "model_name": "LayoutModel",
     "state": {
      "_model_module": "@jupyter-widgets/base",
      "_model_module_version": "1.2.0",
      "_model_name": "LayoutModel",
      "_view_count": null,
      "_view_module": "@jupyter-widgets/base",
      "_view_module_version": "1.2.0",
      "_view_name": "LayoutView",
      "align_content": null,
      "align_items": null,
      "align_self": null,
      "border": null,
      "bottom": null,
      "display": null,
      "flex": null,
      "flex_flow": null,
      "grid_area": null,
      "grid_auto_columns": null,
      "grid_auto_flow": null,
      "grid_auto_rows": null,
      "grid_column": null,
      "grid_gap": null,
      "grid_row": null,
      "grid_template_areas": null,
      "grid_template_columns": null,
      "grid_template_rows": null,
      "height": null,
      "justify_content": null,
      "justify_items": null,
      "left": null,
      "margin": null,
      "max_height": null,
      "max_width": null,
      "min_height": null,
      "min_width": null,
      "object_fit": null,
      "object_position": null,
      "order": null,
      "overflow": null,
      "overflow_x": null,
      "overflow_y": null,
      "padding": null,
      "right": null,
      "top": null,
      "visibility": null,
      "width": null
     }
    },
    "d0eae0f293bb4f1c8b821d6bed3a7f3b": {
     "model_module": "@jupyter-widgets/controls",
     "model_module_version": "1.5.0",
     "model_name": "ProgressStyleModel",
     "state": {
      "_model_module": "@jupyter-widgets/controls",
      "_model_module_version": "1.5.0",
      "_model_name": "ProgressStyleModel",
      "_view_count": null,
      "_view_module": "@jupyter-widgets/base",
      "_view_module_version": "1.2.0",
      "_view_name": "StyleView",
      "bar_color": null,
      "description_width": "initial"
     }
    },
    "d1cb115c99264253b9c12a926098ee62": {
     "model_module": "@jupyter-widgets/controls",
     "model_module_version": "1.5.0",
     "model_name": "ProgressStyleModel",
     "state": {
      "_model_module": "@jupyter-widgets/controls",
      "_model_module_version": "1.5.0",
      "_model_name": "ProgressStyleModel",
      "_view_count": null,
      "_view_module": "@jupyter-widgets/base",
      "_view_module_version": "1.2.0",
      "_view_name": "StyleView",
      "bar_color": null,
      "description_width": "initial"
     }
    },
    "d48aae7dbc2f4b398ac3638328f40920": {
     "model_module": "@jupyter-widgets/controls",
     "model_module_version": "1.5.0",
     "model_name": "ProgressStyleModel",
     "state": {
      "_model_module": "@jupyter-widgets/controls",
      "_model_module_version": "1.5.0",
      "_model_name": "ProgressStyleModel",
      "_view_count": null,
      "_view_module": "@jupyter-widgets/base",
      "_view_module_version": "1.2.0",
      "_view_name": "StyleView",
      "bar_color": null,
      "description_width": "initial"
     }
    },
    "db417f97c0de47aab8ac1cfd48fc9576": {
     "model_module": "@jupyter-widgets/controls",
     "model_module_version": "1.5.0",
     "model_name": "HBoxModel",
     "state": {
      "_dom_classes": [],
      "_model_module": "@jupyter-widgets/controls",
      "_model_module_version": "1.5.0",
      "_model_name": "HBoxModel",
      "_view_count": null,
      "_view_module": "@jupyter-widgets/controls",
      "_view_module_version": "1.5.0",
      "_view_name": "HBoxView",
      "box_style": "",
      "children": [
       "IPY_MODEL_9cccc9f5a1154e12b5de3959594a7a66",
       "IPY_MODEL_5a7c300cb05143529b57243bcf71e603"
      ],
      "layout": "IPY_MODEL_54361fa3a6b84894bce54fa7b5d3562c"
     }
    },
    "e3db549f28f841c2ba3d0063f6026040": {
     "model_module": "@jupyter-widgets/base",
     "model_module_version": "1.2.0",
     "model_name": "LayoutModel",
     "state": {
      "_model_module": "@jupyter-widgets/base",
      "_model_module_version": "1.2.0",
      "_model_name": "LayoutModel",
      "_view_count": null,
      "_view_module": "@jupyter-widgets/base",
      "_view_module_version": "1.2.0",
      "_view_name": "LayoutView",
      "align_content": null,
      "align_items": null,
      "align_self": null,
      "border": null,
      "bottom": null,
      "display": null,
      "flex": null,
      "flex_flow": null,
      "grid_area": null,
      "grid_auto_columns": null,
      "grid_auto_flow": null,
      "grid_auto_rows": null,
      "grid_column": null,
      "grid_gap": null,
      "grid_row": null,
      "grid_template_areas": null,
      "grid_template_columns": null,
      "grid_template_rows": null,
      "height": null,
      "justify_content": null,
      "justify_items": null,
      "left": null,
      "margin": null,
      "max_height": null,
      "max_width": null,
      "min_height": null,
      "min_width": null,
      "object_fit": null,
      "object_position": null,
      "order": null,
      "overflow": null,
      "overflow_x": null,
      "overflow_y": null,
      "padding": null,
      "right": null,
      "top": null,
      "visibility": null,
      "width": null
     }
    },
    "ecf9466760144f5899f937084da8d570": {
     "model_module": "@jupyter-widgets/controls",
     "model_module_version": "1.5.0",
     "model_name": "HTMLModel",
     "state": {
      "_dom_classes": [],
      "_model_module": "@jupyter-widgets/controls",
      "_model_module_version": "1.5.0",
      "_model_name": "HTMLModel",
      "_view_count": null,
      "_view_module": "@jupyter-widgets/controls",
      "_view_module_version": "1.5.0",
      "_view_name": "HTMLView",
      "description": "",
      "description_tooltip": null,
      "layout": "IPY_MODEL_8c2aae9b16ed4136aea3209ea4eeba7f",
      "placeholder": "​",
      "style": "IPY_MODEL_b549f49a00af46978dd90e1000191591",
      "value": " 1803/0 [00:00&lt;00:00, 3112.86 examples/s]"
     }
    },
    "f4cf0dbe60444937a4f185ca4dbd1ffd": {
     "model_module": "@jupyter-widgets/base",
     "model_module_version": "1.2.0",
     "model_name": "LayoutModel",
     "state": {
      "_model_module": "@jupyter-widgets/base",
      "_model_module_version": "1.2.0",
      "_model_name": "LayoutModel",
      "_view_count": null,
      "_view_module": "@jupyter-widgets/base",
      "_view_module_version": "1.2.0",
      "_view_name": "LayoutView",
      "align_content": null,
      "align_items": null,
      "align_self": null,
      "border": null,
      "bottom": null,
      "display": null,
      "flex": null,
      "flex_flow": null,
      "grid_area": null,
      "grid_auto_columns": null,
      "grid_auto_flow": null,
      "grid_auto_rows": null,
      "grid_column": null,
      "grid_gap": null,
      "grid_row": null,
      "grid_template_areas": null,
      "grid_template_columns": null,
      "grid_template_rows": null,
      "height": null,
      "justify_content": null,
      "justify_items": null,
      "left": null,
      "margin": null,
      "max_height": null,
      "max_width": null,
      "min_height": null,
      "min_width": null,
      "object_fit": null,
      "object_position": null,
      "order": null,
      "overflow": null,
      "overflow_x": null,
      "overflow_y": null,
      "padding": null,
      "right": null,
      "top": null,
      "visibility": null,
      "width": null
     }
    },
    "f59280e830f245bd91927af8ba8f8bf0": {
     "model_module": "@jupyter-widgets/base",
     "model_module_version": "1.2.0",
     "model_name": "LayoutModel",
     "state": {
      "_model_module": "@jupyter-widgets/base",
      "_model_module_version": "1.2.0",
      "_model_name": "LayoutModel",
      "_view_count": null,
      "_view_module": "@jupyter-widgets/base",
      "_view_module_version": "1.2.0",
      "_view_name": "LayoutView",
      "align_content": null,
      "align_items": null,
      "align_self": null,
      "border": null,
      "bottom": null,
      "display": null,
      "flex": null,
      "flex_flow": null,
      "grid_area": null,
      "grid_auto_columns": null,
      "grid_auto_flow": null,
      "grid_auto_rows": null,
      "grid_column": null,
      "grid_gap": null,
      "grid_row": null,
      "grid_template_areas": null,
      "grid_template_columns": null,
      "grid_template_rows": null,
      "height": null,
      "justify_content": null,
      "justify_items": null,
      "left": null,
      "margin": null,
      "max_height": null,
      "max_width": null,
      "min_height": null,
      "min_width": null,
      "object_fit": null,
      "object_position": null,
      "order": null,
      "overflow": null,
      "overflow_x": null,
      "overflow_y": null,
      "padding": null,
      "right": null,
      "top": null,
      "visibility": null,
      "width": null
     }
    },
    "f93b56aa6db249d192de1dccfd916a30": {
     "model_module": "@jupyter-widgets/base",
     "model_module_version": "1.2.0",
     "model_name": "LayoutModel",
     "state": {
      "_model_module": "@jupyter-widgets/base",
      "_model_module_version": "1.2.0",
      "_model_name": "LayoutModel",
      "_view_count": null,
      "_view_module": "@jupyter-widgets/base",
      "_view_module_version": "1.2.0",
      "_view_name": "LayoutView",
      "align_content": null,
      "align_items": null,
      "align_self": null,
      "border": null,
      "bottom": null,
      "display": null,
      "flex": null,
      "flex_flow": null,
      "grid_area": null,
      "grid_auto_columns": null,
      "grid_auto_flow": null,
      "grid_auto_rows": null,
      "grid_column": null,
      "grid_gap": null,
      "grid_row": null,
      "grid_template_areas": null,
      "grid_template_columns": null,
      "grid_template_rows": null,
      "height": null,
      "justify_content": null,
      "justify_items": null,
      "left": null,
      "margin": null,
      "max_height": null,
      "max_width": null,
      "min_height": null,
      "min_width": null,
      "object_fit": null,
      "object_position": null,
      "order": null,
      "overflow": null,
      "overflow_x": null,
      "overflow_y": null,
      "padding": null,
      "right": null,
      "top": null,
      "visibility": null,
      "width": null
     }
    }
   }
  }
 },
 "nbformat": 4,
 "nbformat_minor": 4
}
