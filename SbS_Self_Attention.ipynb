{
 "cells": [
  {
   "cell_type": "markdown",
   "metadata": {
    "id": "cdXdt1fRs52A"
   },
   "source": [
    "# Exemplo de self attention"
   ]
  },
  {
   "cell_type": "code",
   "execution_count": 2,
   "metadata": {},
   "outputs": [
    {
     "name": "stdout",
     "output_type": "stream",
     "text": [
      "Collecting torch\n",
      "  Downloading torch-1.11.0-cp39-cp39-manylinux1_x86_64.whl (750.6 MB)\n",
      "\u001b[2K     \u001b[90m━━━━━━━━━━━━━━━━━━━━━━━━━━━━━━━━━━━━━━━\u001b[0m \u001b[32m750.6/750.6 MB\u001b[0m \u001b[31m1.5 MB/s\u001b[0m eta \u001b[36m0:00:00\u001b[0m00:01\u001b[0m00:01\u001b[0m\n",
      "\u001b[?25hRequirement already satisfied: typing-extensions in ./.conda/envs/default/lib/python3.9/site-packages (from torch) (4.1.1)\n",
      "Installing collected packages: torch\n",
      "Successfully installed torch-1.11.0\n",
      "\u001b[33mWARNING: You are using pip version 22.0.4; however, version 22.1.2 is available.\n",
      "You should consider upgrading via the '/home/studio-lab-user/.conda/envs/default/bin/python3.9 -m pip install --upgrade pip' command.\u001b[0m\u001b[33m\n",
      "\u001b[0m"
     ]
    }
   ],
   "source": [
    "!pip install torch"
   ]
  },
  {
   "cell_type": "code",
   "execution_count": 3,
   "metadata": {
    "id": "a8tpHOAtMz-W"
   },
   "outputs": [],
   "source": [
    "import torch \n",
    "import numpy as np\n",
    "import seaborn as sns\n",
    "import matplotlib.pyplot as plt"
   ]
  },
  {
   "cell_type": "code",
   "execution_count": 4,
   "metadata": {
    "colab": {
     "base_uri": "https://localhost:8080/"
    },
    "id": "YcqorrQEROvS",
    "outputId": "0c8cd076-d422-4e9d-f202-dac27d77be0a"
   },
   "outputs": [
    {
     "name": "stdout",
     "output_type": "stream",
     "text": [
      "Shape da matriz de embeddings: torch.Size([3, 8])\n",
      "\n",
      "Matriz de embeddings\n",
      "\n"
     ]
    },
    {
     "data": {
      "text/plain": [
       "tensor([[-1.1465,  0.7226, -0.3987, -1.8349, -0.0414,  0.2804, -1.6433,  0.2331],\n",
       "        [ 0.6462,  0.0602, -0.0701, -0.0455, -0.2459, -1.4918, -0.2091, -2.2546],\n",
       "        [ 0.3551, -1.1194,  1.0270,  0.6847,  0.5966, -1.1471,  0.7120, -1.0607]],\n",
       "       grad_fn=<AsStridedBackward0>)"
      ]
     },
     "execution_count": 4,
     "metadata": {},
     "output_type": "execute_result"
    }
   ],
   "source": [
    "# ====\n",
    "# 0\n",
    "# ====\n",
    "\n",
    "# -- ENTRADA:\n",
    "text = 'Quero um sorvete'\n",
    "text_tokens = ['Quero', 'um', 'sorvete']\n",
    "\n",
    "# -- IDs:\n",
    "text_ids = [27,11,83] # tokens sintéticos\n",
    "VOCAB = 100 # Quantidade de palavras - no BERT ~30k\n",
    "\n",
    "# -- DIMENSÃO DOS EMBEDDINGS:\n",
    "D = 8\n",
    "\n",
    "# -- COMPRIMENTO DA SEQUÊNCIA:\n",
    "L = 3\n",
    "\n",
    "# -- NÚMERO DE CABEÇAS:\n",
    "H = 2\n",
    "\n",
    "# -- MATRIZ DE EMBEDDINGS LxD:\n",
    "embs  = torch.nn.Embedding(VOCAB, D)\n",
    "\n",
    "# tensor com zeros_like\n",
    "embeddings = torch.zeros(L * D).reshape(L, D)\n",
    "print(f'Shape da matriz de embeddings: {embeddings.shape}\\n')\n",
    "\n",
    "print('Matriz de embeddings\\n')\n",
    "for i , token in enumerate(text_ids):\n",
    "    embeddings[i] = embs(torch.tensor(token))\n",
    "embeddings"
   ]
  },
  {
   "cell_type": "code",
   "execution_count": 5,
   "metadata": {
    "colab": {
     "base_uri": "https://localhost:8080/"
    },
    "id": "JicNHcgzRrjw",
    "outputId": "bb7c518e-6541-40d3-9faf-a78f7f3353d5"
   },
   "outputs": [
    {
     "name": "stdout",
     "output_type": "stream",
     "text": [
      "Qw shape: torch.Size([3, 8])\n",
      "Kw shape: torch.Size([3, 8])\n",
      "Vw shape: torch.Size([3, 8])\n"
     ]
    }
   ],
   "source": [
    "# ====\n",
    "# 1\n",
    "# ====\n",
    "\n",
    "# -- MATRIZ DE PESOS, Q, K, V --> DxD (INICIADOS ARBITRARIAMENTE):\n",
    "Qw = torch.nn.Linear(D, D)\n",
    "Kw = torch.nn.Linear(D, D)\n",
    "Vw = torch.nn.Linear(D, D)\n",
    "\n",
    "print(f'Qw shape: {Qw(embeddings).shape}')\n",
    "print(f'Kw shape: {Kw(embeddings).shape}')\n",
    "print(f'Vw shape: {Vw(embeddings).shape}')"
   ]
  },
  {
   "cell_type": "code",
   "execution_count": 6,
   "metadata": {
    "colab": {
     "base_uri": "https://localhost:8080/"
    },
    "id": "OS5NVaPXMItv",
    "outputId": "ff03af30-1ed4-4cf8-a926-eb8144dc7a1b"
   },
   "outputs": [
    {
     "name": "stdout",
     "output_type": "stream",
     "text": [
      "Shape da entrada: torch.Size([3, 8]) -- Shape das Matrizes de pesos Qw, Kw e Vw: torch.Size([8, 8])\n",
      "Q torch.Size([3, 8])\n",
      "K torch.Size([3, 8])\n",
      "V torch.Size([3, 8])\n"
     ]
    }
   ],
   "source": [
    "# ====\n",
    "# 2\n",
    "# ====\n",
    "\n",
    "# -- OBTER Q, K e V:\n",
    "print(f'Shape da entrada: {embeddings.size()} -- Shape das Matrizes de pesos Qw, Kw e Vw: {Qw.weight.size()}')\n",
    "\n",
    "Q =  Qw(embeddings)\n",
    "K =  Kw(embeddings)\n",
    "V =  Vw(embeddings)\n",
    "\n",
    "print('Q', Q.size())\n",
    "print('K', K.size())\n",
    "print('V', V.size())"
   ]
  },
  {
   "cell_type": "code",
   "execution_count": 7,
   "metadata": {
    "colab": {
     "base_uri": "https://localhost:8080/"
    },
    "id": "Vr-wHeQmvzCp",
    "outputId": "1cc1fe82-f361-4a76-f526-06b75ca84361"
   },
   "outputs": [
    {
     "name": "stdout",
     "output_type": "stream",
     "text": [
      "Q torch.Size([3, 2, 4])\n",
      "K torch.Size([3, 2, 4])\n",
      "V torch.Size([3, 2, 4])\n"
     ]
    }
   ],
   "source": [
    "# ====\n",
    "# 3\n",
    "# ====\n",
    "\n",
    "dk = D//H\n",
    "Q = Q.reshape(L, H, dk)\n",
    "K = K.reshape(L, H, dk)\n",
    "V = V.reshape(L, H, dk)\n",
    "\n",
    "print('Q', Q.size())\n",
    "print('K', K.size())\n",
    "print('V', V.size())"
   ]
  },
  {
   "cell_type": "code",
   "execution_count": 8,
   "metadata": {
    "colab": {
     "base_uri": "https://localhost:8080/"
    },
    "id": "HavK3iCTYfW7",
    "outputId": "c378adf4-1439-4148-f436-813143eb35d5"
   },
   "outputs": [
    {
     "name": "stdout",
     "output_type": "stream",
     "text": [
      "Q torch.Size([2, 3, 4])\n",
      "K torch.Size([2, 3, 4])\n",
      "V torch.Size([2, 3, 4])\n"
     ]
    }
   ],
   "source": [
    "# ====\n",
    "# 4\n",
    "# ====\n",
    "\n",
    "Q = Q.transpose(0,1) # (H, L, dk)\n",
    "K = K.transpose(0,1) # (H, L, dk)\n",
    "V = V.transpose(0,1) # (H, L, dk)\n",
    "\n",
    "print('Q', Q.size())\n",
    "print('K', K.size())\n",
    "print('V', V.size())"
   ]
  },
  {
   "cell_type": "code",
   "execution_count": 9,
   "metadata": {
    "colab": {
     "base_uri": "https://localhost:8080/"
    },
    "id": "Ss7IYIZFMIgq",
    "outputId": "1414a3a6-b293-4410-b618-f3ed740a9a07"
   },
   "outputs": [
    {
     "name": "stdout",
     "output_type": "stream",
     "text": [
      "SCORE torch.Size([2, 3, 3])\n"
     ]
    }
   ],
   "source": [
    "# ====\n",
    "# 5\n",
    "# ====\n",
    "\n",
    "# -- CALCULAR O SCORE:    \n",
    "QKT = torch.einsum('hld, hcd -> hlc', Q, K) # K.transpose(-2,-1)=(H, dk, L) := (H, L, dk)x(H, dk, L) = (H, L, L)\n",
    "print('SCORE', QKT.size())\n",
    "\n",
    "# -- DIVIDIR POR SQRT(D)\n",
    "\n",
    "# -- SOFTMAX:\n",
    "Softmax = torch.nn.Softmax(dim=-1)\n",
    "Softmax = Softmax(QKT.float())\n",
    "SCORE = QKT/torch.sqrt(torch.tensor(D)) # (H, L, L) "
   ]
  },
  {
   "cell_type": "code",
   "execution_count": 10,
   "metadata": {
    "colab": {
     "base_uri": "https://localhost:8080/"
    },
    "id": "ZyFL9sryMIeR",
    "outputId": "5949641a-1b6a-4375-8848-c2be746284d9"
   },
   "outputs": [
    {
     "name": "stdout",
     "output_type": "stream",
     "text": [
      "SV torch.Size([2, 3, 4])\n"
     ]
    }
   ],
   "source": [
    "# ====\n",
    "# 6\n",
    "# ====\n",
    "\n",
    "SV = torch.einsum('hlc, hck -> hlk', SCORE, V) # (H, L, L)x(H, L, D//H)=(H, L, D//H)\n",
    "print('SV', SV.size()) "
   ]
  },
  {
   "cell_type": "code",
   "execution_count": 11,
   "metadata": {
    "colab": {
     "base_uri": "https://localhost:8080/"
    },
    "id": "hjbUXARcYveN",
    "outputId": "abe646db-1a2a-40dd-9520-ccde3ee871a1"
   },
   "outputs": [
    {
     "name": "stdout",
     "output_type": "stream",
     "text": [
      "SV torch.Size([3, 2, 4])\n"
     ]
    }
   ],
   "source": [
    "# ====\n",
    "# 7\n",
    "# ====\n",
    "\n",
    "SV = SV.transpose(0,1) # (L, H, dk)\n",
    "print('SV', SV.size())"
   ]
  },
  {
   "cell_type": "code",
   "execution_count": 12,
   "metadata": {
    "colab": {
     "base_uri": "https://localhost:8080/"
    },
    "id": "EjxQz4s8Yvbh",
    "outputId": "dac94065-45ec-4d4e-e8dd-4f33f173c797"
   },
   "outputs": [
    {
     "name": "stdout",
     "output_type": "stream",
     "text": [
      "SV torch.Size([3, 8])\n"
     ]
    }
   ],
   "source": [
    "# ====\n",
    "# 8\n",
    "# ====\n",
    "\n",
    "SV = SV.reshape(L, -1) # (L, H*dk)\n",
    "print('SV', SV.size())\n",
    "\n",
    "# -- MULTIPLICAR PELA MATRIZ DE PROJEÇÃO Wo\n",
    "Wow = torch.nn.Linear(D, D)"
   ]
  },
  {
   "cell_type": "code",
   "execution_count": 13,
   "metadata": {
    "colab": {
     "base_uri": "https://localhost:8080/"
    },
    "id": "JkXnSgXwb29Z",
    "outputId": "fe61150c-9238-4ae5-86ce-74b5f5566f4b"
   },
   "outputs": [
    {
     "name": "stdout",
     "output_type": "stream",
     "text": [
      "ATT torch.Size([3, 8])\n"
     ]
    },
    {
     "data": {
      "text/plain": [
       "tensor([[ 0.3308,  0.0150,  0.0054,  0.1729,  0.1888, -0.4226, -0.0555, -0.0771],\n",
       "        [ 0.1703,  0.1780, -0.3654,  0.1712, -0.1720, -0.3826, -0.0529, -0.0676],\n",
       "        [ 0.0985,  0.1599, -0.3937,  0.1501, -0.2126, -0.4708, -0.0764,  0.0123]],\n",
       "       grad_fn=<AddmmBackward0>)"
      ]
     },
     "execution_count": 13,
     "metadata": {},
     "output_type": "execute_result"
    }
   ],
   "source": [
    "# ====\n",
    "# 9\n",
    "# ====\n",
    "\n",
    "ATT = Wow(SV) # (L, D)x(DxD)\n",
    "print('ATT', ATT.size())\n",
    "ATT"
   ]
  },
  {
   "cell_type": "code",
   "execution_count": 14,
   "metadata": {
    "colab": {
     "base_uri": "https://localhost:8080/",
     "height": 483
    },
    "id": "WdjObeR-5GUC",
    "outputId": "8fcfed24-ca60-4b2e-cacc-55f078d18362"
   },
   "outputs": [
    {
     "data": {
      "image/png": "[encoded data removed]",
      "text/plain": [
       "<Figure size 720x576 with 2 Axes>"
      ]
     },
     "metadata": {
      "needs_background": "light"
     },
     "output_type": "display_data"
    }
   ],
   "source": [
    "# Embs sem ATT\n",
    "plt.figure(figsize=(10,8))\n",
    "sns.heatmap(embeddings.detach().numpy())\n",
    "plt.savefig('semAtt.png')"
   ]
  },
  {
   "cell_type": "code",
   "execution_count": 15,
   "metadata": {
    "colab": {
     "base_uri": "https://localhost:8080/",
     "height": 483
    },
    "id": "UccmwfhU48pn",
    "outputId": "334c6577-12a0-49d9-bf71-80d168f223eb"
   },
   "outputs": [
    {
     "data": {
      "image/png": "[encoded data removed]",
      "text/plain": [
       "<Figure size 720x576 with 2 Axes>"
      ]
     },
     "metadata": {
      "needs_background": "light"
     },
     "output_type": "display_data"
    }
   ],
   "source": [
    "# ATT Embs\n",
    "plt.figure(figsize=(10,8))\n",
    "sns.heatmap(ATT.detach().numpy())\n",
    "plt.savefig('comAtt.png')"
   ]
  },
  {
   "cell_type": "markdown",
   "metadata": {
    "id": "z5EI8ia0gLJK"
   },
   "source": [
    "# Fim do Notebook"
   ]
  },
  {
   "cell_type": "code",
   "execution_count": null,
   "metadata": {
    "id": "9JwDNk_ARQG1"
   },
   "outputs": [],
   "source": []
  }
 ],
 "metadata": {
  "colab": {
   "name": "SbS Self Attention.ipynb",
   "provenance": [],
   "toc_visible": true
  },
  "kernelspec": {
   "display_name": "default:Python",
   "language": "python",
   "name": "conda-env-default-py"
  },
  "language_info": {
   "codemirror_mode": {
    "name": "ipython",
    "version": 3
   },
   "file_extension": ".py",
   "mimetype": "text/x-python",
   "name": "python",
   "nbconvert_exporter": "python",
   "pygments_lexer": "ipython3",
   "version": "3.9.10"
  }
 },
 "nbformat": 4,
 "nbformat_minor": 4
}
